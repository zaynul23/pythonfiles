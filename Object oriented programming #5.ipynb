{
 "cells": [
  {
   "cell_type": "code",
   "execution_count": null,
   "id": "70e0c5f9",
   "metadata": {},
   "outputs": [],
   "source": [
    "#raise can be used to raise an error"
   ]
  },
  {
   "cell_type": "code",
   "execution_count": null,
   "id": "62e2b89a",
   "metadata": {},
   "outputs": [],
   "source": [
    "'''\n",
    "class:it has camel casing so the first letter of each word has to be uppercase \n",
    "syntax:\n",
    "        class NameOfClass():\n",
    "            def __init__(self,parameter1,parameter2):\n",
    "                self.param1=parameter1\n",
    "                self.param2=parameter2\n",
    "            \n",
    "            def some_method(self):\n",
    "                #perform some action\n",
    "                print(self.param1)\n",
    "'''\n",
    "pass"
   ]
  },
  {
   "cell_type": "code",
   "execution_count": 1,
   "id": "f42ac2d6",
   "metadata": {},
   "outputs": [],
   "source": [
    "#simple class example\n",
    "#function inside a class is known as a method\n",
    "#using __init__ method  it is called upon whenever u make an instance of the class\n",
    "#inint is used to add attreibutes\n",
    "class Dog():\n",
    "    #CLASS OBJECT ATTRIBUTE \n",
    "    #same for any instance of a class\n",
    "    kind='mammal'\n",
    "    def __init__(self,mybreed,age,spots):\n",
    "        #This is taking attributes\n",
    "        #WE take in an argument\n",
    "        #then we assign it using self.atrribute\n",
    "        #for breed expecting a string\n",
    "        self.mybreed=mybreed\n",
    "        #for age expecting an integer\n",
    "        self.age=age\n",
    "        #for spots expetcting a boolean\n",
    "        self.spots=spots\n",
    "    "
   ]
  },
  {
   "cell_type": "code",
   "execution_count": 3,
   "id": "d5717661",
   "metadata": {},
   "outputs": [
    {
     "name": "stdout",
     "output_type": "stream",
     "text": [
      "<class '__main__.Dog'>\n"
     ]
    },
    {
     "data": {
      "text/plain": [
       "'mammal'"
      ]
     },
     "execution_count": 3,
     "metadata": {},
     "output_type": "execute_result"
    }
   ],
   "source": [
    "my_Dog=Dog(mybreed='golden retriever',age=10,spots=True)\n",
    "print(type(my_Dog))\n",
    "my_Dog.kind\n",
    "\n",
    "\n"
   ]
  },
  {
   "cell_type": "code",
   "execution_count": 4,
   "id": "8ae62c7b",
   "metadata": {},
   "outputs": [],
   "source": [
    "'''\n",
    "methods are functions in a class that \n",
    "take in the object itself into account\n",
    "throgh the use of the self argument \n",
    "'''\n",
    "class Dog():\n",
    "    #CLASS OBJECT ATTRIBUTE \n",
    "    #same for any instance of a class\n",
    "    kind='mammal'\n",
    "    def __init__(self,mybreed,age,spots):\n",
    "        #This is taking attributes\n",
    "        #WE take in an argument\n",
    "        #then we assign it using self.atrribute\n",
    "        #for breed expecting a string\n",
    "        self.mybreed=mybreed\n",
    "        #for age expecting an integer\n",
    "        self.age=age\n",
    "        #for spots expetcting a boolean\n",
    "        self.spots=spots\n",
    "    def bark(self,mybreed):\n",
    "        print(f'WOOF. my age is {self.age}, my breed is {mybreed}')\n"
   ]
  },
  {
   "cell_type": "code",
   "execution_count": 6,
   "id": "728eded9",
   "metadata": {},
   "outputs": [
    {
     "name": "stdout",
     "output_type": "stream",
     "text": [
      "WOOF. my age is 10, my breed is golden retriever\n"
     ]
    },
    {
     "data": {
      "text/plain": [
       "'golden retriever'"
      ]
     },
     "execution_count": 6,
     "metadata": {},
     "output_type": "execute_result"
    }
   ],
   "source": [
    "my_dog=Dog('golden retriever',10,True)\n",
    "my_dog.bark('golden retriever')\n",
    "my_dog.mybreed\n"
   ]
  },
  {
   "cell_type": "code",
   "execution_count": 7,
   "id": "a8344fdf",
   "metadata": {},
   "outputs": [],
   "source": [
    "class Circle():\n",
    "    #area and pi and class object attributes\n",
    "    area='π*r^2'\n",
    "    pi=22/7\n",
    "    def __init__(self,radius=1):\n",
    "        self.radius=radius\n",
    "        self.area=(radius**2)*Circle.pi\n",
    "    def get_circumference(self):\n",
    "        print( Circle.pi*self.radius*2)\n",
    "    "
   ]
  },
  {
   "cell_type": "code",
   "execution_count": 8,
   "id": "e3866f47",
   "metadata": {},
   "outputs": [
    {
     "name": "stdout",
     "output_type": "stream",
     "text": [
      "188.57142857142856\n",
      "None\n"
     ]
    },
    {
     "data": {
      "text/plain": [
       "2828.5714285714284"
      ]
     },
     "execution_count": 8,
     "metadata": {},
     "output_type": "execute_result"
    }
   ],
   "source": [
    "my_circle=Circle(30)\n",
    "print(my_circle.get_circumference())\n",
    "my_circle.area\n"
   ]
  },
  {
   "cell_type": "code",
   "execution_count": null,
   "id": "c98af911",
   "metadata": {},
   "outputs": [],
   "source": [
    "                                             #inheritance"
   ]
  },
  {
   "cell_type": "code",
   "execution_count": null,
   "id": "32c60ea8",
   "metadata": {},
   "outputs": [],
   "source": [
    "class Animal():\n",
    "    spots='i have spots'\n",
    "    \n",
    "    def __init__(self):\n",
    "        print('animal created')\n",
    "    def who_am_i(self):\n",
    "        print('i am an animal')\n",
    "    def eat(self):\n",
    "        print('i am eating')\n",
    "        \n",
    "    # def deprivate(self):\n",
    "    #     print(f\"{self._spots}\")"
   ]
  },
  {
   "cell_type": "code",
   "execution_count": 26,
   "id": "a8f705cf",
   "metadata": {},
   "outputs": [
    {
     "name": "stdout",
     "output_type": "stream",
     "text": [
      "animal created\n",
      "i am an animal\n",
      "i have spots\n",
      "i have spots\n"
     ]
    }
   ],
   "source": [
    "animal=Animal()\n",
    "animal.who_am_i()\n",
    "# animal.spots\n",
    "\n",
    "animal.deprivate()\n",
    "\n",
    "def func1():\n",
    "    return animal._spots\n",
    "\n",
    "print(animal._spots)"
   ]
  },
  {
   "cell_type": "code",
   "execution_count": 4,
   "id": "d3d9626b",
   "metadata": {},
   "outputs": [],
   "source": [
    "#this is now  derived class it is deriving a few feature from the animal class\n",
    "class Dog1(Animal):\n",
    "    \n",
    "    def __init__(self):\n",
    "        Animal.__init__(self)\n",
    "        print('Dog created')\n",
    "    def who_am_i(self):\n",
    "        print('i am a dog')\n",
    "        \n",
    "\n",
    "\n",
    "    def bark(self):\n",
    "        print(f'woof, {Animal.spots}')"
   ]
  },
  {
   "cell_type": "code",
   "execution_count": 5,
   "id": "1b9e92ec",
   "metadata": {},
   "outputs": [
    {
     "name": "stdout",
     "output_type": "stream",
     "text": [
      "animal created\n",
      "Dog created\n",
      "i am eating\n",
      "i am a dog\n",
      "i have spots\n",
      "woof, i have spots\n"
     ]
    }
   ],
   "source": [
    "my_doggy=Dog1()\n",
    "my_doggy.eat()\n",
    "my_doggy.who_am_i()\n",
    "print(my_doggy.spots)\n",
    "my_doggy.bark()"
   ]
  },
  {
   "cell_type": "code",
   "execution_count": null,
   "id": "2b67bce4",
   "metadata": {},
   "outputs": [],
   "source": [
    "                                                            #Polymorphism"
   ]
  },
  {
   "cell_type": "code",
   "execution_count": 44,
   "id": "1a46d571",
   "metadata": {},
   "outputs": [],
   "source": [
    "class Book(): \n",
    "    def __init__(self,author,bookname,pages):\n",
    "        self.author=author\n",
    "        self.bookname=bookname\n",
    "        self.pages=pages\n",
    "    #__str__ is used to reprsent if asked in string format\n",
    "    def __str__(self):\n",
    "        return f'{self.bookname}, by {self.author}'\n",
    "    #__len__ used when they ask in len format\n",
    "    def __len__(self):\n",
    "        return self.pages\n",
    "    def __del__(self):\n",
    "        print('a book has been deleted')"
   ]
  },
  {
   "cell_type": "code",
   "execution_count": 45,
   "id": "ad00b914",
   "metadata": {},
   "outputs": [
    {
     "name": "stdout",
     "output_type": "stream",
     "text": [
      "book name, by zaynul\n"
     ]
    }
   ],
   "source": [
    "b=Book('zaynul','book name',200)\n",
    "print(b)"
   ]
  },
  {
   "cell_type": "code",
   "execution_count": 46,
   "id": "17ed827e",
   "metadata": {},
   "outputs": [
    {
     "data": {
      "text/plain": [
       "200"
      ]
     },
     "execution_count": 46,
     "metadata": {},
     "output_type": "execute_result"
    }
   ],
   "source": [
    "len(b)"
   ]
  },
  {
   "cell_type": "code",
   "execution_count": 47,
   "id": "93894256",
   "metadata": {},
   "outputs": [
    {
     "name": "stdout",
     "output_type": "stream",
     "text": [
      "a book has been deleted\n"
     ]
    }
   ],
   "source": [
    "#del can be used to delete variable from memory of compuer\n",
    "del (b)"
   ]
  },
  {
   "cell_type": "code",
   "execution_count": 48,
   "id": "56281cc7",
   "metadata": {},
   "outputs": [
    {
     "ename": "NameError",
     "evalue": "name 'b' is not defined",
     "output_type": "error",
     "traceback": [
      "\u001b[1;31m---------------------------------------------------------------------------\u001b[0m",
      "\u001b[1;31mNameError\u001b[0m                                 Traceback (most recent call last)",
      "Input \u001b[1;32mIn [48]\u001b[0m, in \u001b[0;36m<cell line: 1>\u001b[1;34m()\u001b[0m\n\u001b[1;32m----> 1\u001b[0m \u001b[43mb\u001b[49m\n",
      "\u001b[1;31mNameError\u001b[0m: name 'b' is not defined"
     ]
    }
   ],
   "source": [
    "b"
   ]
  },
  {
   "cell_type": "code",
   "execution_count": null,
   "id": "09837031",
   "metadata": {},
   "outputs": [],
   "source": [
    "                                        #object oriented programming homwork"
   ]
  },
  {
   "cell_type": "code",
   "execution_count": 55,
   "id": "9fd80b14",
   "metadata": {},
   "outputs": [],
   "source": [
    "class Line:\n",
    "    \n",
    "    def __init__(self,coor1,coor2):\n",
    "        self.coor1=coor1\n",
    "        self.coor2=coor2\n",
    "    \n",
    "    def distance(self):\n",
    "        print ((((self.coor2[1]-self.coor1[1])**2) + ((self.coor2[0]-self.coor1[0])**2))**(1/2))\n",
    "    \n",
    "    def slope(self):\n",
    "        print((self.coor2[1]-self.coor1[1])/(self.coor2[0]-self.coor1[0]))"
   ]
  },
  {
   "cell_type": "code",
   "execution_count": 56,
   "id": "a64a00f4",
   "metadata": {},
   "outputs": [
    {
     "name": "stdout",
     "output_type": "stream",
     "text": [
      "1.6\n"
     ]
    }
   ],
   "source": [
    "coordinate1 = (3,2)\n",
    "coordinate2 = (8,10)\n",
    "\n",
    "li = Line(coordinate1,coordinate2)\n",
    "li.slope()\n"
   ]
  },
  {
   "cell_type": "code",
   "execution_count": null,
   "id": "9556333b",
   "metadata": {},
   "outputs": [],
   "source": [
    "class Cylinder:\n",
    "    pi=(22/7)\n",
    "    def __init__(self,height=1,radius=1):\n",
    "        self.height=height\n",
    "        self.radius=radius\n",
    "        \n",
    "    def volume(self):\n",
    "        print( f\"{Cylinder.pi*(self.radius**2)*self.height:.3f}\" )\n",
    "    def surface_area(self):\n",
    "        print(f'{(Cylinder.pi*(self.radius**2)*2)+(2*Cylinder.pi*(self.radius)*self.height):.3f}')"
   ]
  },
  {
   "cell_type": "code",
   "execution_count": null,
   "id": "e4d8b470",
   "metadata": {},
   "outputs": [],
   "source": [
    "c = Cylinder(2,3)\n",
    "c.volume()\n",
    "c.surface_area()"
   ]
  },
  {
   "cell_type": "code",
   "execution_count": 57,
   "id": "0771d536",
   "metadata": {},
   "outputs": [],
   "source": [
    "class Account:\n",
    "    def __init__(self,owner,balance):\n",
    "        self.owner=owner\n",
    "        self.balance=balance\n",
    "    def __str__(self):\n",
    "        return (f'Account owner: {self.owner}' + f'\\nAccount balance: {self.balance}')\n",
    "    def withdraw(self,withdrawamnt):\n",
    "        if withdrawamnt>self.balance:\n",
    "            return (f'you do not have enough balance\\nCurrent balance: {self.balance}')\n",
    "        self.balance-=withdrawamnt\n",
    "        return (f'your current balance is {self.balance}')\n",
    "    def deposit(self,depoamount):\n",
    "        self.balance+=depoamount\n",
    "        return  (f'Deposit Accepted\\nyour current balance is {self.balance}')\n",
    "        \n",
    "               \n",
    "                   \n",
    "                   "
   ]
  },
  {
   "cell_type": "code",
   "execution_count": 58,
   "id": "b7f73911",
   "metadata": {},
   "outputs": [
    {
     "name": "stdout",
     "output_type": "stream",
     "text": [
      "Account owner: Jose\n",
      "Account balance: 100\n",
      "Jose\n",
      "100\n",
      "Deposit Accepted\n",
      "your current balance is 150\n",
      "your current balance is 75\n",
      "you do not have enough balance\n",
      "Current balance: 75\n"
     ]
    }
   ],
   "source": [
    "acct1 = Account('Jose',100)\n",
    "print(acct1)\n",
    "print(acct1.owner)\n",
    "print(acct1.balance)\n",
    "print(acct1.deposit(50))\n",
    "print(acct1.withdraw(75))\n",
    "print(acct1.withdraw(500))\n"
   ]
  },
  {
   "cell_type": "code",
   "execution_count": 38,
   "id": "e50aa592",
   "metadata": {},
   "outputs": [
    {
     "data": {
      "text/plain": [
       "75"
      ]
     },
     "execution_count": 38,
     "metadata": {},
     "output_type": "execute_result"
    }
   ],
   "source": [
    "acct1.balance"
   ]
  },
  {
   "cell_type": "code",
   "execution_count": null,
   "id": "78c4899c",
   "metadata": {},
   "outputs": [
    {
     "name": "stdout",
     "output_type": "stream",
     "text": [
      "zayn\n",
      "1000\n",
      "None\n",
      "990\n"
     ]
    }
   ],
   "source": [
    "class Bank:\n",
    "    def __init__(self, name,bal,age):\n",
    "        self.name=name\n",
    "        self.__bal=bal\n",
    "        self.age=age\n",
    "        self.__accnum=f\"{self.name[:2]}\"  +   f\"{age}\"[:1]  + f\"{name[:-3:-1]}\"\n",
    "    \n",
    "    def incre(self,inc):\n",
    "        self.__bal+=inc\n",
    "        \n",
    "    def decre(self,inc):\n",
    "        self.__bal-=inc\n",
    "    def displaypriv(self):\n",
    "        return self.__bal\n",
    "    \n",
    "class ICICI(Bank):\n",
    "    def __init__(self, name, bal, age,bal2):\n",
    "        super().__init__(name, bal, age)\n",
    "        self.bal=bal2\n",
    "        \n",
    "    def decree(self):\n",
    "        print(Bank.decre(self,10))#inherited classes may access/change inherited priavte attributes via inhertited methodds\n",
    "    \n",
    "p2=ICICI(\"zayn\",1000,18,150)\n",
    "p1=Bank(\"zaynul\",10000,18)\n",
    "\n",
    "# p2.__init__()\n",
    "print(p2.name)\n",
    "\n",
    "print(p2.displaypriv())\n",
    "# print(p2.bal)\n",
    "p2.decree()\n",
    "print(p2.displaypriv())\n"
   ]
  },
  {
   "cell_type": "code",
   "execution_count": null,
   "id": "4d505c6a",
   "metadata": {},
   "outputs": [],
   "source": []
  }
 ],
 "metadata": {
  "kernelspec": {
   "display_name": "Python 3",
   "language": "python",
   "name": "python3"
  },
  "language_info": {
   "codemirror_mode": {
    "name": "ipython",
    "version": 3
   },
   "file_extension": ".py",
   "mimetype": "text/x-python",
   "name": "python",
   "nbconvert_exporter": "python",
   "pygments_lexer": "ipython3",
   "version": "3.11.9"
  }
 },
 "nbformat": 4,
 "nbformat_minor": 5
}
