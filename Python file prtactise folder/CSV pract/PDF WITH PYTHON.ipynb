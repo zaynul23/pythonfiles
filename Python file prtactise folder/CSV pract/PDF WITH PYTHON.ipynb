{
 "cells": [
  {
   "cell_type": "code",
   "execution_count": 1,
   "id": "c2cacf6d",
   "metadata": {},
   "outputs": [],
   "source": [
    "import PyPDF2     \n"
   ]
  },
  {
   "cell_type": "code",
   "execution_count": 2,
   "id": "8c2bbe25",
   "metadata": {},
   "outputs": [],
   "source": [
    "f=open('Working_Business_Proposal.pdf','rb')       "
   ]
  },
  {
   "cell_type": "code",
   "execution_count": 3,
   "id": "66fd7d54",
   "metadata": {},
   "outputs": [],
   "source": [
    "pdf_reader=PyPDF2.PdfReader(f)"
   ]
  },
  {
   "cell_type": "code",
   "execution_count": 4,
   "id": "09256123",
   "metadata": {},
   "outputs": [
    {
     "data": {
      "text/plain": [
       "5"
      ]
     },
     "execution_count": 4,
     "metadata": {},
     "output_type": "execute_result"
    }
   ],
   "source": [
    "pdf_reader.numPages"
   ]
  },
  {
   "cell_type": "code",
   "execution_count": 5,
   "id": "c58f7793",
   "metadata": {},
   "outputs": [],
   "source": [
    "pageone=pdf_reader.getPage(0)"
   ]
  },
  {
   "cell_type": "code",
   "execution_count": 6,
   "id": "2bdf1a1b",
   "metadata": {},
   "outputs": [],
   "source": [
    "pageonetext=pageone.extract_text()"
   ]
  },
  {
   "cell_type": "code",
   "execution_count": 8,
   "id": "a241ac1e",
   "metadata": {},
   "outputs": [],
   "source": [
    "f.close()"
   ]
  },
  {
   "cell_type": "code",
   "execution_count": 2,
   "id": "157627c2",
   "metadata": {},
   "outputs": [],
   "source": [
    "f=open('Working_Business_Proposal.pdf','rb')       \n",
    "pdf_reader=PyPDF2.PdfReader(f)"
   ]
  },
  {
   "cell_type": "code",
   "execution_count": 3,
   "id": "5b12d361",
   "metadata": {},
   "outputs": [],
   "source": [
    "pdf_writer=PyPDF2.PdfFileWriter()"
   ]
  },
  {
   "cell_type": "code",
   "execution_count": 6,
   "id": "3a1f4047",
   "metadata": {},
   "outputs": [],
   "source": [
    "pdf_writer.addPage(pageone)"
   ]
  },
  {
   "cell_type": "code",
   "execution_count": 9,
   "id": "840f1f9f",
   "metadata": {},
   "outputs": [],
   "source": [
    "pdfcontent=open('Some_new_file.pdf','wb')"
   ]
  },
  {
   "cell_type": "code",
   "execution_count": 10,
   "id": "ce161640",
   "metadata": {},
   "outputs": [
    {
     "data": {
      "text/plain": [
       "(False, <_io.BufferedWriter name='Some_new_file.pdf'>)"
      ]
     },
     "execution_count": 10,
     "metadata": {},
     "output_type": "execute_result"
    }
   ],
   "source": [
    "pdf_writer.write(pdfcontent)"
   ]
  },
  {
   "cell_type": "code",
   "execution_count": 11,
   "id": "ef9905bc",
   "metadata": {},
   "outputs": [],
   "source": [
    "f.close()"
   ]
  },
  {
   "cell_type": "code",
   "execution_count": 12,
   "id": "984452a7",
   "metadata": {},
   "outputs": [],
   "source": [
    "pdfcontent.close()"
   ]
  },
  {
   "cell_type": "code",
   "execution_count": null,
   "id": "4733ce53",
   "metadata": {},
   "outputs": [],
   "source": []
  }
 ],
 "metadata": {
  "kernelspec": {
   "display_name": "Python 3 (ipykernel)",
   "language": "python",
   "name": "python3"
  },
  "language_info": {
   "codemirror_mode": {
    "name": "ipython",
    "version": 3
   },
   "file_extension": ".py",
   "mimetype": "text/x-python",
   "name": "python",
   "nbconvert_exporter": "python",
   "pygments_lexer": "ipython3",
   "version": "3.9.12"
  }
 },
 "nbformat": 4,
 "nbformat_minor": 5
}
