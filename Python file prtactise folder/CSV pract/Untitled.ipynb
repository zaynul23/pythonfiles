{
 "cells": [
  {
   "cell_type": "markdown",
   "id": "8159b4e0",
   "metadata": {},
   "source": [
    "                                                CSV homwework"
   ]
  },
  {
   "cell_type": "code",
   "execution_count": 1,
   "id": "cc5c1685",
   "metadata": {},
   "outputs": [],
   "source": [
    "import csv"
   ]
  },
  {
   "cell_type": "code",
   "execution_count": 30,
   "id": "8a4446f7",
   "metadata": {},
   "outputs": [],
   "source": [
    "file=open('homework.csv',encoding='utf-8')"
   ]
  },
  {
   "cell_type": "code",
   "execution_count": 29,
   "id": "8fda8179",
   "metadata": {},
   "outputs": [],
   "source": [
    "file.close()"
   ]
  },
  {
   "cell_type": "code",
   "execution_count": 31,
   "id": "a425daa9",
   "metadata": {},
   "outputs": [],
   "source": [
    "csvdata=csv.reader(file)"
   ]
  },
  {
   "cell_type": "code",
   "execution_count": 32,
   "id": "431d6045",
   "metadata": {},
   "outputs": [],
   "source": [
    "datalines=list(csvdata)"
   ]
  },
  {
   "cell_type": "code",
   "execution_count": 35,
   "id": "43cc96a7",
   "metadata": {},
   "outputs": [],
   "source": [
    "link=''\n",
    "x=0\n",
    "for j in datalines:\n",
    "    link+=j[x]\n",
    "    x+=1"
   ]
  },
  {
   "cell_type": "code",
   "execution_count": 36,
   "id": "feb6e44c",
   "metadata": {},
   "outputs": [
    {
     "data": {
      "text/plain": [
       "'https://drive.google.com/open?id=1G6SEgg018UB4_4xsAJJ5TdzrhmXipr4Q'"
      ]
     },
     "execution_count": 36,
     "metadata": {},
     "output_type": "execute_result"
    }
   ],
   "source": [
    "link"
   ]
  },
  {
   "cell_type": "code",
   "execution_count": 44,
   "id": "ee551f33",
   "metadata": {},
   "outputs": [],
   "source": [
    "f=open('Find_the_Phone_Number.pdf','rb')"
   ]
  },
  {
   "cell_type": "code",
   "execution_count": 63,
   "id": "9b0a09bd",
   "metadata": {},
   "outputs": [],
   "source": [
    "import PyPDF2\n",
    "import re\n",
    "import pdb"
   ]
  },
  {
   "cell_type": "code",
   "execution_count": 46,
   "id": "5bbd3661",
   "metadata": {},
   "outputs": [],
   "source": [
    "pdfreader=PyPDF2.PdfReader(f)"
   ]
  },
  {
   "cell_type": "code",
   "execution_count": 80,
   "id": "d37a6a93",
   "metadata": {},
   "outputs": [
    {
     "name": "stdout",
     "output_type": "stream",
     "text": [
      "505.503.4455\n"
     ]
    }
   ],
   "source": [
    "for i in range(pdfreader.numPages):\n",
    "    page=pdfreader.getPage(i)\n",
    "    text=page.extract_text()\n",
    "    result=re.search(r'(\\d{3})\\S(\\d{3})\\S(\\d{4})',text)\n",
    "    if result != None:\n",
    "        print(result.group())\n",
    "        break"
   ]
  },
  {
   "cell_type": "code",
   "execution_count": 56,
   "id": "8177a72e",
   "metadata": {},
   "outputs": [
    {
     "ename": "AttributeError",
     "evalue": "'NoneType' object has no attribute 'group'",
     "output_type": "error",
     "traceback": [
      "\u001b[1;31m---------------------------------------------------------------------------\u001b[0m",
      "\u001b[1;31mAttributeError\u001b[0m                            Traceback (most recent call last)",
      "Input \u001b[1;32mIn [56]\u001b[0m, in \u001b[0;36m<cell line: 1>\u001b[1;34m()\u001b[0m\n\u001b[1;32m----> 1\u001b[0m \u001b[43mresult\u001b[49m\u001b[38;5;241;43m.\u001b[39;49m\u001b[43mgroup\u001b[49m()\n",
      "\u001b[1;31mAttributeError\u001b[0m: 'NoneType' object has no attribute 'group'"
     ]
    }
   ],
   "source": []
  },
  {
   "cell_type": "code",
   "execution_count": 61,
   "id": "c34b0f21",
   "metadata": {},
   "outputs": [
    {
     "ename": "TypeError",
     "evalue": "object of type 'NoneType' has no len()",
     "output_type": "error",
     "traceback": [
      "\u001b[1;31m---------------------------------------------------------------------------\u001b[0m",
      "\u001b[1;31mTypeError\u001b[0m                                 Traceback (most recent call last)",
      "Input \u001b[1;32mIn [61]\u001b[0m, in \u001b[0;36m<cell line: 1>\u001b[1;34m()\u001b[0m\n\u001b[1;32m----> 1\u001b[0m \u001b[38;5;28;43mlen\u001b[39;49m\u001b[43m(\u001b[49m\u001b[38;5;28;43;01mNone\u001b[39;49;00m\u001b[43m)\u001b[49m\n",
      "\u001b[1;31mTypeError\u001b[0m: object of type 'NoneType' has no len()"
     ]
    }
   ],
   "source": []
  },
  {
   "cell_type": "code",
   "execution_count": null,
   "id": "3caf0fed",
   "metadata": {},
   "outputs": [],
   "source": []
  }
 ],
 "metadata": {
  "kernelspec": {
   "display_name": "Python 3 (ipykernel)",
   "language": "python",
   "name": "python3"
  },
  "language_info": {
   "codemirror_mode": {
    "name": "ipython",
    "version": 3
   },
   "file_extension": ".py",
   "mimetype": "text/x-python",
   "name": "python",
   "nbconvert_exporter": "python",
   "pygments_lexer": "ipython3",
   "version": "3.9.12"
  }
 },
 "nbformat": 4,
 "nbformat_minor": 5
}
