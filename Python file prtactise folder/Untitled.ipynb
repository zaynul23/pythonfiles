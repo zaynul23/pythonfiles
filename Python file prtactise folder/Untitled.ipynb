{
 "cells": [
  {
   "cell_type": "code",
   "execution_count": 2,
   "id": "fbdf5040",
   "metadata": {},
   "outputs": [],
   "source": [
    "import shutil\n",
    "import csv"
   ]
  },
  {
   "cell_type": "code",
   "execution_count": 3,
   "id": "73e85267",
   "metadata": {},
   "outputs": [],
   "source": [
    "import os"
   ]
  },
  {
   "cell_type": "code",
   "execution_count": 5,
   "id": "ba40a7cc",
   "metadata": {},
   "outputs": [
    {
     "data": {
      "text/plain": [
       "'C:\\\\Users\\\\91830\\\\Python file prtactise folder'"
      ]
     },
     "execution_count": 5,
     "metadata": {},
     "output_type": "execute_result"
    }
   ],
   "source": [
    "os.getcwd()"
   ]
  },
  {
   "cell_type": "code",
   "execution_count": null,
   "id": "38249104",
   "metadata": {},
   "outputs": [],
   "source": [
    "shutil.move('reading,writing files and folders,  Python OS module.ipynb','C:\\\\Users\\\\91830\\\\Python file prtactise folder\\\\homeworkunzip'\n",
    ")"
   ]
  },
  {
   "cell_type": "code",
   "execution_count": 9,
   "id": "77e5c033",
   "metadata": {},
   "outputs": [
    {
     "name": "stdout",
     "output_type": "stream",
     "text": [
      "[['1', '2', '3', '4', '5'], ['1', '2', '3', '4', '5']]\n"
     ]
    }
   ],
   "source": [
    "with open(\"some.csv\",\"a+\",newline='\\n') as f:\n",
    "    wobj=csv.writer(f)\n",
    "    wobj.writerow([1,2,3,4,5])\n",
    "    f.seek(0)\n",
    "    robj=csv.reader(f)\n",
    "    dat=list(robj)\n",
    "    print(dat)"
   ]
  },
  {
   "cell_type": "code",
   "execution_count": null,
   "id": "c1c7ce28",
   "metadata": {},
   "outputs": [],
   "source": []
  }
 ],
 "metadata": {
  "kernelspec": {
   "display_name": "Python 3",
   "language": "python",
   "name": "python3"
  },
  "language_info": {
   "codemirror_mode": {
    "name": "ipython",
    "version": 3
   },
   "file_extension": ".py",
   "mimetype": "text/x-python",
   "name": "python",
   "nbconvert_exporter": "python",
   "pygments_lexer": "ipython3",
   "version": "3.11.9"
  }
 },
 "nbformat": 4,
 "nbformat_minor": 5
}
