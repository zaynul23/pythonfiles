{
 "cells": [
  {
   "cell_type": "code",
   "execution_count": 3,
   "id": "a070e6fd",
   "metadata": {},
   "outputs": [
    {
     "ename": "NameError",
     "evalue": "name 'pwd' is not defined",
     "output_type": "error",
     "traceback": [
      "\u001b[1;31m---------------------------------------------------------------------------\u001b[0m",
      "\u001b[1;31mNameError\u001b[0m                                 Traceback (most recent call last)",
      "Input \u001b[1;32mIn [3]\u001b[0m, in \u001b[0;36m<cell line: 2>\u001b[1;34m()\u001b[0m\n\u001b[0;32m      1\u001b[0m \u001b[38;5;66;03m#pwd only works in jupyter\u001b[39;00m\n\u001b[1;32m----> 2\u001b[0m \u001b[43mpwd\u001b[49m\n",
      "\u001b[1;31mNameError\u001b[0m: name 'pwd' is not defined"
     ]
    }
   ],
   "source": [
    "#pwd only works in jupyter\n",
    "pwd"
   ]
  },
  {
   "cell_type": "code",
   "execution_count": 2,
   "id": "55b2b2b5",
   "metadata": {},
   "outputs": [],
   "source": [
    "f= open('practice_text.txt','w+')"
   ]
  },
  {
   "cell_type": "code",
   "execution_count": null,
   "id": "0239e69c",
   "metadata": {},
   "outputs": [],
   "source": [
    "f.write('this is a test string ')"
   ]
  },
  {
   "cell_type": "code",
   "execution_count": null,
   "id": "df3e27d2",
   "metadata": {},
   "outputs": [],
   "source": [
    "f.close()"
   ]
  },
  {
   "cell_type": "code",
   "execution_count": 1,
   "id": "a0d3a838",
   "metadata": {},
   "outputs": [],
   "source": [
    "import os"
   ]
  },
  {
   "cell_type": "code",
   "execution_count": 2,
   "id": "40ad7522",
   "metadata": {},
   "outputs": [
    {
     "data": {
      "text/plain": [
       "'d:\\\\zaynu\\\\Documents\\\\pythonfiles\\\\Python file prtactise folder'"
      ]
     },
     "execution_count": 2,
     "metadata": {},
     "output_type": "execute_result"
    }
   ],
   "source": [
    "os.getcwd()"
   ]
  },
  {
   "cell_type": "code",
   "execution_count": 3,
   "id": "c46fc849",
   "metadata": {},
   "outputs": [
    {
     "data": {
      "text/plain": [
       "['.ipynb_checkpoints',\n",
       " 'AEITMYIRQLP.txt',\n",
       " 'APJKSRITGGX.txt',\n",
       " 'comped_file.zip',\n",
       " 'CSV pract',\n",
       " 'example_OS.zip',\n",
       " 'Example_Top_level',\n",
       " 'experiment_file.txt',\n",
       " 'extracted_content',\n",
       " 'file writing  practice #1.5.ipynb',\n",
       " 'homeworkunzip',\n",
       " 'jsonhandling',\n",
       " 'reading,writing files and folders,  Python OS module.ipynb',\n",
       " 'shut_unzip',\n",
       " 'some.csv',\n",
       " 'Untitled.ipynb',\n",
       " 'unzip_me_for_instructions.zip']"
      ]
     },
     "execution_count": 3,
     "metadata": {},
     "output_type": "execute_result"
    }
   ],
   "source": [
    "\n",
    "#combinging this with a for lopp allows u to open every file in a directory \n",
    "os.listdir()"
   ]
  },
  {
   "cell_type": "code",
   "execution_count": 5,
   "id": "f666e012",
   "metadata": {},
   "outputs": [
    {
     "data": {
      "text/plain": [
       "True"
      ]
     },
     "execution_count": 5,
     "metadata": {},
     "output_type": "execute_result"
    }
   ],
   "source": [
    "#can also check to seee if a file is in that directory \n",
    "'practice_text.txt' in os.listdir('d:\\\\zaynu\\\\Documents\\\\pythonfiles')"
   ]
  },
  {
   "cell_type": "code",
   "execution_count": 6,
   "id": "25c1e84b",
   "metadata": {},
   "outputs": [],
   "source": [
    "import shutil"
   ]
  },
  {
   "cell_type": "code",
   "execution_count": 8,
   "id": "4349cf1b",
   "metadata": {},
   "outputs": [
    {
     "data": {
      "text/plain": [
       "'D:\\\\zaynu\\\\Documents\\\\Python file prtactise folder\\\\test.py'"
      ]
     },
     "execution_count": 8,
     "metadata": {},
     "output_type": "execute_result"
    }
   ],
   "source": [
    "#used to move files around\n",
    "\n",
    "shutil.move(r'D:\\zaynu\\Documents\\college\\college_python\\test.py',r'D:\\zaynu\\Documents\\Python file prtactise folder')"
   ]
  },
  {
   "cell_type": "code",
   "execution_count": null,
   "id": "073a4037",
   "metadata": {},
   "outputs": [],
   "source": [
    "'''\n",
    "#DELETING FILES\n",
    "#the OS module givest hree ways to do this\n",
    "#os.unlink(path) deletes file at the path provided\n",
    "#os.rmdir(path) dels a folder at provided path (folder must be empty)\n",
    "#os.rmtree(path) DO NOT USE DELETES ALL FILES AND FOLDERS IN THE DIRECTORY\n",
    "#NONE OF THESE CAN BE REVERSED \n",
    "#INSETAD OF USING THE LAST ONE U CAN USE THE send2yrash module\n",
    "you can do pip install send2trash at CMD\n",
    "'''\n",
    "pass"
   ]
  },
  {
   "cell_type": "code",
   "execution_count": 7,
   "id": "6d7c0d61",
   "metadata": {},
   "outputs": [],
   "source": [
    "import send2trash"
   ]
  },
  {
   "cell_type": "code",
   "execution_count": 4,
   "id": "435c6cf0",
   "metadata": {},
   "outputs": [
    {
     "data": {
      "text/plain": [
       "6"
      ]
     },
     "execution_count": 4,
     "metadata": {},
     "output_type": "execute_result"
    }
   ],
   "source": [
    "g= open('removal.txt','w+')\n",
    "g.write('delete')"
   ]
  },
  {
   "cell_type": "code",
   "execution_count": 5,
   "id": "5cf167d9",
   "metadata": {},
   "outputs": [],
   "source": [
    "g.close()"
   ]
  },
  {
   "cell_type": "code",
   "execution_count": 8,
   "id": "1ea4d9b4",
   "metadata": {},
   "outputs": [],
   "source": [
    "send2trash.send2trash('removal.txt')"
   ]
  },
  {
   "cell_type": "code",
   "execution_count": null,
   "id": "6737bfd2",
   "metadata": {},
   "outputs": [],
   "source": [
    "a=open('Mid-Level-doc.txt','w+')"
   ]
  },
  {
   "cell_type": "code",
   "execution_count": null,
   "id": "41f1b9de",
   "metadata": {},
   "outputs": [],
   "source": [
    "a.write('hello')\n",
    "a.close()"
   ]
  },
  {
   "cell_type": "code",
   "execution_count": null,
   "id": "6ac811d3",
   "metadata": {},
   "outputs": [],
   "source": [
    "os.makedirs()"
   ]
  },
  {
   "cell_type": "code",
   "execution_count": 9,
   "id": "8bc44cc6",
   "metadata": {},
   "outputs": [
    {
     "name": "stdout",
     "output_type": "stream",
     "text": [
      "the folder you are looking at rn is D:\\zaynu\\Documents\\pythonfiles\\Python file prtactise folder\\Example_Top_level \n",
      "\n",
      "subfolder: Mid_example_one\n",
      "subfolder: Mid_example_two\n",
      "the files are:\n",
      "file: Mid example.txt \n",
      "\n",
      "the folder you are looking at rn is D:\\zaynu\\Documents\\pythonfiles\\Python file prtactise folder\\Example_Top_level\\Mid_example_one \n",
      "\n",
      "subfolder: bottom-level-one\n",
      "subfolder: bottom-level-two\n",
      "the files are:\n",
      "file: Mid-Level-doc.txt \n",
      "\n",
      "the folder you are looking at rn is D:\\zaynu\\Documents\\pythonfiles\\Python file prtactise folder\\Example_Top_level\\Mid_example_one\\bottom-level-one \n",
      "\n",
      "the files are:\n",
      "file: botom-text-1.txt \n",
      "\n",
      "the folder you are looking at rn is D:\\zaynu\\Documents\\pythonfiles\\Python file prtactise folder\\Example_Top_level\\Mid_example_one\\bottom-level-two \n",
      "\n",
      "the files are:\n",
      "file: botom-text-2.txt \n",
      "\n",
      "the folder you are looking at rn is D:\\zaynu\\Documents\\pythonfiles\\Python file prtactise folder\\Example_Top_level\\Mid_example_two \n",
      "\n",
      "the files are:\n"
     ]
    }
   ],
   "source": [
    "for folders,subfolders,files in os.walk(r'D:\\zaynu\\Documents\\pythonfiles\\Python file prtactise folder\\Example_Top_level'):\n",
    "\n",
    "    print(f'the folder you are looking at rn is {folders} \\n')\n",
    "    \n",
    "    # print(folders)\n",
    "    # print(subfolders)\n",
    "    # print(files)\n",
    "    for i in subfolders:\n",
    "        print(f'subfolder: {i}')\n",
    "              \n",
    "    print('the files are:')\n",
    "    for f in files:\n",
    "        print('file:',f,'\\n')\n",
    "              "
   ]
  },
  {
   "cell_type": "code",
   "execution_count": null,
   "id": "653274de",
   "metadata": {},
   "outputs": [],
   "source": [
    "                                                    #python  datetime module"
   ]
  },
  {
   "cell_type": "code",
   "execution_count": 3,
   "id": "ffa71bdb",
   "metadata": {},
   "outputs": [],
   "source": [
    "import datetime"
   ]
  },
  {
   "cell_type": "code",
   "execution_count": 3,
   "id": "6acaae45",
   "metadata": {},
   "outputs": [],
   "source": [
    "my_time=datetime.time(16,10)\n",
    "my_time2=datetime.time(17,10)"
   ]
  },
  {
   "cell_type": "code",
   "execution_count": 5,
   "id": "b8cffd2f",
   "metadata": {},
   "outputs": [
    {
     "name": "stdout",
     "output_type": "stream",
     "text": [
      "<class 'datetime.time'>\n",
      "10\n",
      "0\n",
      "16:10:00\n",
      "True\n"
     ]
    }
   ],
   "source": [
    "print(type(my_time))\n",
    "print(my_time.minute)\n",
    "print(my_time.second)\n",
    "print(my_time)\n",
    "print(type(my_time)==type(my_time2))"
   ]
  },
  {
   "cell_type": "code",
   "execution_count": null,
   "id": "3c68ae5d",
   "metadata": {},
   "outputs": [
    {
     "ename": "TypeError",
     "evalue": "unbound method date.ctime() needs an argument",
     "output_type": "error",
     "traceback": [
      "\u001b[31m---------------------------------------------------------------------------\u001b[39m",
      "\u001b[31mTypeError\u001b[39m                                 Traceback (most recent call last)",
      "\u001b[36mCell\u001b[39m\u001b[36m \u001b[39m\u001b[32mIn[25]\u001b[39m\u001b[32m, line 2\u001b[39m\n\u001b[32m      1\u001b[39m \u001b[38;5;28;01mimport\u001b[39;00m\u001b[38;5;250m \u001b[39m\u001b[34;01mdatetime\u001b[39;00m\n\u001b[32m----> \u001b[39m\u001b[32m2\u001b[39m today=\u001b[43mdatetime\u001b[49m\u001b[43m.\u001b[49m\u001b[43mdate\u001b[49m\u001b[43m.\u001b[49m\u001b[43mctime\u001b[49m\u001b[43m(\u001b[49m\u001b[43m)\u001b[49m\n",
      "\u001b[31mTypeError\u001b[39m: unbound method date.ctime() needs an argument"
     ]
    }
   ],
   "source": [
    "import datetime\n",
    "today=datetime.date."
   ]
  },
  {
   "cell_type": "code",
   "execution_count": 23,
   "id": "820a43bc",
   "metadata": {},
   "outputs": [
    {
     "data": {
      "text/plain": [
       "'2025-03-25'"
      ]
     },
     "execution_count": 23,
     "metadata": {},
     "output_type": "execute_result"
    }
   ],
   "source": [
    "str(today)"
   ]
  },
  {
   "cell_type": "code",
   "execution_count": null,
   "id": "0826f048",
   "metadata": {},
   "outputs": [
    {
     "data": {
      "text/plain": [
       "'Tue Mar 25 00:00:00 2025'"
      ]
     },
     "execution_count": 24,
     "metadata": {},
     "output_type": "execute_result"
    }
   ],
   "source": [
    "today."
   ]
  },
  {
   "cell_type": "code",
   "execution_count": 16,
   "id": "20d9013d",
   "metadata": {},
   "outputs": [],
   "source": [
    "from datetime import datetime"
   ]
  },
  {
   "cell_type": "code",
   "execution_count": 18,
   "id": "fb450a3d",
   "metadata": {},
   "outputs": [],
   "source": [
    "dayandtime=datetime(2023,4,19,16,17,20)"
   ]
  },
  {
   "cell_type": "code",
   "execution_count": 21,
   "id": "7e1e4332",
   "metadata": {},
   "outputs": [
    {
     "name": "stdout",
     "output_type": "stream",
     "text": [
      "16:58:20\n"
     ]
    }
   ],
   "source": [
    "print(dayandtime.time())"
   ]
  },
  {
   "cell_type": "code",
   "execution_count": 25,
   "id": "d793ea94",
   "metadata": {},
   "outputs": [],
   "source": [
    "dayandtime=dayandtime.replace(minute=58)"
   ]
  },
  {
   "cell_type": "code",
   "execution_count": 26,
   "id": "b9a92b71",
   "metadata": {},
   "outputs": [],
   "source": [
    "from datetime import date"
   ]
  },
  {
   "cell_type": "code",
   "execution_count": null,
   "id": "7bc0f1f0",
   "metadata": {},
   "outputs": [
    {
     "data": {
      "text/plain": [
       "3"
      ]
     },
     "execution_count": 28,
     "metadata": {},
     "output_type": "execute_result"
    }
   ],
   "source": [
    "m=(datetime.date.today().month)+1\n",
    "m\n"
   ]
  },
  {
   "cell_type": "code",
   "execution_count": 29,
   "id": "5f4cef02",
   "metadata": {},
   "outputs": [],
   "source": [
    "date1=date(2021,11,3)\n",
    "date2=date(2020,11,3)"
   ]
  },
  {
   "cell_type": "code",
   "execution_count": 30,
   "id": "2e8e6a51",
   "metadata": {},
   "outputs": [
    {
     "name": "stdout",
     "output_type": "stream",
     "text": [
      "365 days, 0:00:00\n"
     ]
    }
   ],
   "source": [
    "result=date1 - date2\n",
    "print(result)"
   ]
  },
  {
   "cell_type": "code",
   "execution_count": 21,
   "id": "7cc71617",
   "metadata": {},
   "outputs": [
    {
     "data": {
      "text/plain": [
       "0"
      ]
     },
     "execution_count": 21,
     "metadata": {},
     "output_type": "execute_result"
    }
   ],
   "source": [
    "result.seconds"
   ]
  },
  {
   "cell_type": "code",
   "execution_count": 3,
   "id": "29465879",
   "metadata": {},
   "outputs": [],
   "source": [
    "datetime1=datetime(2022,11,3,22,30,5)"
   ]
  },
  {
   "cell_type": "code",
   "execution_count": 4,
   "id": "ceb3ff63",
   "metadata": {},
   "outputs": [],
   "source": [
    "datetime2=datetime(2021,11,3,12,30,5)"
   ]
  },
  {
   "cell_type": "code",
   "execution_count": 5,
   "id": "ee40c303",
   "metadata": {},
   "outputs": [],
   "source": [
    "mydiff=datetime1-datetime2"
   ]
  },
  {
   "cell_type": "code",
   "execution_count": 6,
   "id": "e4633acd",
   "metadata": {},
   "outputs": [
    {
     "data": {
      "text/plain": [
       "36000"
      ]
     },
     "execution_count": 6,
     "metadata": {},
     "output_type": "execute_result"
    }
   ],
   "source": [
    "mydiff.seconds"
   ]
  },
  {
   "cell_type": "code",
   "execution_count": 7,
   "id": "5423ecb2",
   "metadata": {},
   "outputs": [
    {
     "data": {
      "text/plain": [
       "31572000.0"
      ]
     },
     "execution_count": 7,
     "metadata": {},
     "output_type": "execute_result"
    }
   ],
   "source": [
    "mydiff.total_seconds()"
   ]
  },
  {
   "cell_type": "code",
   "execution_count": null,
   "id": "47cc7e09",
   "metadata": {},
   "outputs": [],
   "source": [
    "                                            \n",
    "    \n",
    "    \n",
    "    \n",
    "    \n",
    "    \n",
    "    \n",
    "    \n",
    "    \n",
    "    \n",
    "    \n",
    "    \n",
    "    \n",
    "    \n",
    "    \n",
    "    \n",
    "    \n",
    "    \n",
    "    \n",
    "    \n",
    "    \n",
    "    \n",
    "    \n",
    "    \n",
    "    \n",
    "    \n",
    "                                                #math and random modules"
   ]
  },
  {
   "cell_type": "code",
   "execution_count": null,
   "id": "d6a5bfbf",
   "metadata": {},
   "outputs": [],
   "source": [
    "import math\n",
    "#you can use help(math) to see ll the functions available to you "
   ]
  },
  {
   "cell_type": "code",
   "execution_count": null,
   "id": "a4267ece",
   "metadata": {},
   "outputs": [],
   "source": [
    "value=4.9\n",
    "    "
   ]
  },
  {
   "cell_type": "code",
   "execution_count": null,
   "id": "4cfe7312",
   "metadata": {},
   "outputs": [],
   "source": [
    "#round isa function of python it self\n",
    "print(math.floor(value),\n",
    "math.ceil(value),\n",
    "round(value))"
   ]
  },
  {
   "cell_type": "code",
   "execution_count": null,
   "id": "22cf23fb",
   "metadata": {},
   "outputs": [],
   "source": [
    "pi=math.pi"
   ]
  },
  {
   "cell_type": "code",
   "execution_count": null,
   "id": "c7005965",
   "metadata": {},
   "outputs": [],
   "source": [
    "math.log(math.e)"
   ]
  },
  {
   "cell_type": "code",
   "execution_count": null,
   "id": "86cb6398",
   "metadata": {},
   "outputs": [],
   "source": [
    "math.log(100,10)\n",
    "#100 base 10\n",
    "#this means base to the power of what is needed to result in number so 10**2=100"
   ]
  },
  {
   "cell_type": "code",
   "execution_count": null,
   "id": "919ff55d",
   "metadata": {},
   "outputs": [],
   "source": [
    "math.sin(1)\n",
    "#takes in degrees"
   ]
  },
  {
   "cell_type": "code",
   "execution_count": null,
   "id": "a570ebcd",
   "metadata": {},
   "outputs": [],
   "source": [
    "math.degrees(pi/2)"
   ]
  },
  {
   "cell_type": "code",
   "execution_count": null,
   "id": "5c08d64c",
   "metadata": {},
   "outputs": [],
   "source": [
    "math.radians(180)"
   ]
  },
  {
   "cell_type": "markdown",
   "id": "040f7cd7",
   "metadata": {},
   "source": [
    "                                                random module"
   ]
  },
  {
   "cell_type": "code",
   "execution_count": null,
   "id": "6e4a185f",
   "metadata": {},
   "outputs": [],
   "source": [
    "import random"
   ]
  },
  {
   "cell_type": "code",
   "execution_count": null,
   "id": "01df74da",
   "metadata": {},
   "outputs": [],
   "source": [
    "random.randint(1,5)\n",
    "#both nums are part of the random pool example 1 or 5 can aalso be the answer in random.randint(1,5) \n",
    "#random num is returned betweem two set parameters"
   ]
  },
  {
   "cell_type": "code",
   "execution_count": null,
   "id": "61f1481b",
   "metadata": {},
   "outputs": [],
   "source": [
    "random.seed(110)\n",
    "random.randint(0,100)\n",
    "#seed is used to start the series of randoms and can restart it"
   ]
  },
  {
   "cell_type": "code",
   "execution_count": null,
   "id": "a2e4a0fa",
   "metadata": {},
   "outputs": [],
   "source": [
    "random.seed(110)\n",
    "print(random.randint(0,100))\n",
    "print(random.randint(0,100))\n",
    "print(random.randint(0,100))\n",
    "print(random.randint(0,100))"
   ]
  },
  {
   "cell_type": "code",
   "execution_count": null,
   "id": "e66a311b",
   "metadata": {},
   "outputs": [],
   "source": [
    "my_list=list(range(1,21))"
   ]
  },
  {
   "cell_type": "code",
   "execution_count": null,
   "id": "414f79c9",
   "metadata": {},
   "outputs": [],
   "source": [
    "my_list"
   ]
  },
  {
   "cell_type": "code",
   "execution_count": null,
   "id": "bc61d9a9",
   "metadata": {},
   "outputs": [],
   "source": [
    "random.choice(my_list)"
   ]
  },
  {
   "cell_type": "code",
   "execution_count": null,
   "id": "0a999b59",
   "metadata": {},
   "outputs": [],
   "source": [
    "#sample with replacement\n",
    "#population is mylist and number of items being pulled is 10\n",
    "random.choices(my_list,k=5)"
   ]
  },
  {
   "cell_type": "code",
   "execution_count": null,
   "id": "8ca79713",
   "metadata": {},
   "outputs": [],
   "source": [
    "#sample without replacement\n",
    "random.sample(population=my_list,k=5)"
   ]
  },
  {
   "cell_type": "code",
   "execution_count": null,
   "id": "cd21300d",
   "metadata": {},
   "outputs": [],
   "source": [
    "random.shuffle(my_list)\n"
   ]
  },
  {
   "cell_type": "code",
   "execution_count": null,
   "id": "72e121d2",
   "metadata": {},
   "outputs": [],
   "source": [
    "my_list"
   ]
  },
  {
   "cell_type": "code",
   "execution_count": null,
   "id": "0fa30321",
   "metadata": {},
   "outputs": [],
   "source": [
    "random.uniform(a=0,b=100)\n",
    "#choses rqndom number with floating point accuracy"
   ]
  },
  {
   "cell_type": "code",
   "execution_count": null,
   "id": "642beee7",
   "metadata": {},
   "outputs": [],
   "source": [
    "#if you are doing advanced math u should look into the numpy dict"
   ]
  },
  {
   "cell_type": "code",
   "execution_count": null,
   "id": "def2bd50",
   "metadata": {},
   "outputs": [],
   "source": [
    "                                                        #python debugger"
   ]
  },
  {
   "cell_type": "code",
   "execution_count": null,
   "id": "8bd87714",
   "metadata": {},
   "outputs": [],
   "source": [
    "x=[1,2,3]\n",
    "y=2\n",
    "z=3\n"
   ]
  },
  {
   "cell_type": "code",
   "execution_count": null,
   "id": "490ab35d",
   "metadata": {},
   "outputs": [],
   "source": [
    "import pdb"
   ]
  },
  {
   "cell_type": "code",
   "execution_count": null,
   "id": "42c64db4",
   "metadata": {},
   "outputs": [],
   "source": [
    "x=[1,2,3]\n",
    "y=2\n",
    "z=3\n",
    "\n",
    "\n",
    "result1=y+z\n",
    "#setting a trace using pdb\n",
    "pdb.set_trace()\n",
    "result2=y+x\n",
    "#set trace works as a pause pointto explore what could have gone wrong. enter q in the input to quit\n"
   ]
  },
  {
   "cell_type": "code",
   "execution_count": null,
   "id": "5a33529f",
   "metadata": {},
   "outputs": [],
   "source": [
    "                                            #python regular expressions \n",
    "'''\n",
    "regular expressions help look for generral patterns in text data\n",
    "example: we know an email format is in the form of \"user @ gmail .com\"\n",
    "hence we can look for things like text @ text .com\n",
    "'''\n",
    "pass"
   ]
  },
  {
   "cell_type": "code",
   "execution_count": null,
   "id": "1923eef6",
   "metadata": {},
   "outputs": [],
   "source": [
    "'''\n",
    "regex pattern can look like\n",
    "for example one for a phone number can look like\n",
    "r is a signifier that this is a special string\n",
    "\\d stands for digit\n",
    "r'(\\d\\d\\d)-\\d\\d\\d-\\d\\d\\d\\d'\n",
    "this can also be written as \n",
    "r'(\\d{3})-\\d{3}-\\d{4}'\n",
    "'''\n",
    "pass"
   ]
  },
  {
   "cell_type": "code",
   "execution_count": null,
   "id": "3dcd39fa",
   "metadata": {},
   "outputs": [],
   "source": [
    "#example\n",
    "text=\"The agents phone number is 830-951-4587. Call the phone soon. phone\"\n",
    "#we can do\n",
    "'phone' in text\n",
    "#or we can do"
   ]
  },
  {
   "cell_type": "code",
   "execution_count": 1,
   "id": "8cdc4617",
   "metadata": {},
   "outputs": [],
   "source": [
    "import re"
   ]
  },
  {
   "cell_type": "code",
   "execution_count": 2,
   "id": "96e16117",
   "metadata": {},
   "outputs": [],
   "source": [
    "text='phone phone phone '"
   ]
  },
  {
   "cell_type": "code",
   "execution_count": 3,
   "id": "3dc157ff",
   "metadata": {},
   "outputs": [
    {
     "ename": "NameError",
     "evalue": "name 'pattern' is not defined",
     "output_type": "error",
     "traceback": [
      "\u001b[1;31m---------------------------------------------------------------------------\u001b[0m",
      "\u001b[1;31mNameError\u001b[0m                                 Traceback (most recent call last)",
      "Input \u001b[1;32mIn [3]\u001b[0m, in \u001b[0;36m<cell line: 1>\u001b[1;34m()\u001b[0m\n\u001b[1;32m----> 1\u001b[0m re\u001b[38;5;241m.\u001b[39msearch(\u001b[43mpattern\u001b[49m,text)\n",
      "\u001b[1;31mNameError\u001b[0m: name 'pattern' is not defined"
     ]
    }
   ],
   "source": [
    "re.search(pattern,text)\n",
    "#thee span is also mentioned\n",
    "#if there is no pattern nothing will be returned "
   ]
  },
  {
   "cell_type": "code",
   "execution_count": null,
   "id": "92b27fe1",
   "metadata": {},
   "outputs": [],
   "source": [
    "text[11:16]"
   ]
  },
  {
   "cell_type": "code",
   "execution_count": 9,
   "id": "610c7c3d",
   "metadata": {},
   "outputs": [
    {
     "ename": "NameError",
     "evalue": "name 'pattern' is not defined",
     "output_type": "error",
     "traceback": [
      "\u001b[1;31m---------------------------------------------------------------------------\u001b[0m",
      "\u001b[1;31mNameError\u001b[0m                                 Traceback (most recent call last)",
      "Input \u001b[1;32mIn [9]\u001b[0m, in \u001b[0;36m<cell line: 2>\u001b[1;34m()\u001b[0m\n\u001b[0;32m      1\u001b[0m \u001b[38;5;66;03m#when we find a match we can get info out of it by assigning a variable to it\u001b[39;00m\n\u001b[1;32m----> 2\u001b[0m match\u001b[38;5;241m=\u001b[39mre\u001b[38;5;241m.\u001b[39msearch(\u001b[43mpattern\u001b[49m,text)\n",
      "\u001b[1;31mNameError\u001b[0m: name 'pattern' is not defined"
     ]
    }
   ],
   "source": [
    "#when we find a match we can get info out of it by assigning a variable to it\n",
    "match=re.search(pattern,text)\n"
   ]
  },
  {
   "cell_type": "code",
   "execution_count": null,
   "id": "41583ac6",
   "metadata": {},
   "outputs": [],
   "source": [
    "print(match.span(),\n",
    "     match.start(),\n",
    "     match.end())"
   ]
  },
  {
   "cell_type": "code",
   "execution_count": null,
   "id": "0ce54f93",
   "metadata": {},
   "outputs": [],
   "source": [
    "#researcgh will only tell you the first instance of it finding a match in the string. Instead we can use\n",
    "matches=re.findall('phone',text)\n",
    "matches\n",
    "#to find number of matches we can use len on matches"
   ]
  },
  {
   "cell_type": "code",
   "execution_count": null,
   "id": "326049e0",
   "metadata": {},
   "outputs": [],
   "source": [
    "#for each instance's detail you can use a for loop\n",
    "for i in re.finditer('phone',text):\n",
    "    print(i.span())"
   ]
  },
  {
   "cell_type": "code",
   "execution_count": null,
   "id": "5b7ad5d3",
   "metadata": {},
   "outputs": [],
   "source": [
    "'''\n",
    "\\d  |A digit          |      file_\\d\\d     |file_25\n",
    "\\w  |Alphanumeric     |      \\w-\\w\\w\\w     |A-b_1\n",
    "\\s  |White space      |      a\\sb\\sc       |a b c\n",
    "\\D  |A non digit      |      \\D\\D\\D        |ABC\n",
    "\\W  |Non-alphanumeric |      \\W\\W\\W\\W\\W    |*-+=)\n",
    "\\S  |Non-whitespace   |      \\S\\S\\S\\S      | Yoyo\n",
    "'''\n",
    "pass"
   ]
  },
  {
   "cell_type": "code",
   "execution_count": 8,
   "id": "c751c813",
   "metadata": {},
   "outputs": [],
   "source": [
    "text='The agents phone number is 830-951-2342 '\n",
    "phone=re.search(r'\\d{3}-\\d{3}-\\d{4}',text)\n",
    "\n"
   ]
  },
  {
   "cell_type": "code",
   "execution_count": 37,
   "id": "f6a65509",
   "metadata": {},
   "outputs": [
    {
     "name": "stdout",
     "output_type": "stream",
     "text": [
      "no number found\n"
     ]
    }
   ],
   "source": [
    "try:\n",
    "    print(phone.group())\n",
    "    print(os.getcwd())\n",
    "except:\n",
    "    print('no number found')"
   ]
  },
  {
   "cell_type": "code",
   "execution_count": 32,
   "id": "b809d328",
   "metadata": {},
   "outputs": [],
   "source": [
    "'''\n",
    "+     |Occurs one or more times |      Version \\w-\\w+|   Version A-b1_1\n",
    "{3}   |Occurs exactly 3 times   |      \\D{3}         |   abc  \n",
    "{2,4} |Occurs 2 to 4 times      |      \\d{2,4}       |   123\n",
    "{3,}  |Occurs 3 or more         |      \\w{3,}        |anycharacters\n",
    "*     |Occurs zero or more times|      ABC*          |AAACC\n",
    "?     |Once or none             |      plurals?      |plural\n",
    "'''\n",
    "pass"
   ]
  },
  {
   "cell_type": "code",
   "execution_count": null,
   "id": "e820c5bf",
   "metadata": {},
   "outputs": [],
   "source": [
    "'''\n",
    "the plus signifies taht it can be 1 or more times\n",
    "for exact ammount u pu the amount in {} right after the identifier \n",
    "add a , after the amount to show taht or more \n",
    "example: {3,} means 3 or more\n",
    "? means one or none  ' * ' means occurs 0 or more times\n",
    "'''\n",
    "pass"
   ]
  },
  {
   "cell_type": "code",
   "execution_count": 12,
   "id": "c2d1a26b",
   "metadata": {},
   "outputs": [],
   "source": [
    "text='The agents phone number is 830 951 4587'\n",
    "phone=re.search(r'\\d{3} \\d{3} \\d{4}',text)"
   ]
  },
  {
   "cell_type": "code",
   "execution_count": 13,
   "id": "09f2d569",
   "metadata": {},
   "outputs": [
    {
     "data": {
      "text/plain": [
       "<re.Match object; span=(27, 39), match='830 951 4587'>"
      ]
     },
     "execution_count": 13,
     "metadata": {},
     "output_type": "execute_result"
    }
   ],
   "source": [
    "phone"
   ]
  },
  {
   "cell_type": "code",
   "execution_count": 30,
   "id": "be5d094e",
   "metadata": {},
   "outputs": [],
   "source": [
    "phonepattern=re.compile(r'(\\d{3}) (\\d{3}) (\\d{4})')"
   ]
  },
  {
   "cell_type": "code",
   "execution_count": 31,
   "id": "4ffc9aa0",
   "metadata": {},
   "outputs": [],
   "source": [
    "text='The agents phone number is 830 951 4587'\n"
   ]
  },
  {
   "cell_type": "code",
   "execution_count": 32,
   "id": "2d773da0",
   "metadata": {},
   "outputs": [],
   "source": [
    "result=re.search(phonepattern,text)"
   ]
  },
  {
   "cell_type": "code",
   "execution_count": 35,
   "id": "e11b20ef",
   "metadata": {},
   "outputs": [
    {
     "data": {
      "text/plain": [
       "'830 951 4587'"
      ]
     },
     "execution_count": 35,
     "metadata": {},
     "output_type": "execute_result"
    }
   ],
   "source": [
    "#u can use this to call their grp positions\n",
    "result.group()"
   ]
  },
  {
   "cell_type": "code",
   "execution_count": null,
   "id": "4f7c4842",
   "metadata": {},
   "outputs": [],
   "source": [
    "#the | is used to show it can be this or that\n",
    "re.search(r'cat|dog|mule','the mule is here')"
   ]
  },
  {
   "cell_type": "code",
   "execution_count": null,
   "id": "0c9a6d59",
   "metadata": {},
   "outputs": [],
   "source": [
    "# the . stands foer wild card so in this case any letter infront of at is added\n",
    "re.findall(r'.at',\"the cat in teh hat sat there\")\n"
   ]
  },
  {
   "cell_type": "code",
   "execution_count": null,
   "id": "0a7b465b",
   "metadata": {},
   "outputs": [],
   "source": [
    "#the ^ signifies that anything taht starts with a digit matches it\n",
    "#it searches teh entire text starts with it\n",
    "re.findall(r'^\\d',\"1 is the number\")\n",
    "#similiarly for ends with you can put $ at the end of the code \n"
   ]
  },
  {
   "cell_type": "code",
   "execution_count": null,
   "id": "4bdd9f68",
   "metadata": {},
   "outputs": [],
   "source": [
    "#to grab every thing inside text except certain things you can do\\\n",
    "phrase='there are 3 numbers 32 inside this 4 sentence'"
   ]
  },
  {
   "cell_type": "code",
   "execution_count": null,
   "id": "790a5dd5",
   "metadata": {},
   "outputs": [],
   "source": [
    "exception=r'[^\\d]'"
   ]
  },
  {
   "cell_type": "code",
   "execution_count": null,
   "id": "8c0e6404",
   "metadata": {},
   "outputs": [],
   "source": [
    "#makeas a list of everything in the phrase except numbers\n",
    "re.findall(exception,phrase)"
   ]
  },
  {
   "cell_type": "code",
   "execution_count": null,
   "id": "af512188",
   "metadata": {},
   "outputs": [],
   "source": [
    "                                                    #timing python code \n",
    "#using timeit moddule "
   ]
  },
  {
   "cell_type": "code",
   "execution_count": 28,
   "id": "595cf2cd",
   "metadata": {},
   "outputs": [],
   "source": [
    "def func_1(n):\n",
    "    return [str(i) for i in range(n)]"
   ]
  },
  {
   "cell_type": "code",
   "execution_count": 29,
   "id": "e3e2e267",
   "metadata": {},
   "outputs": [
    {
     "ename": "NameError",
     "evalue": "name 'a' is not defined",
     "output_type": "error",
     "traceback": [
      "\u001b[31m---------------------------------------------------------------------------\u001b[39m",
      "\u001b[31mNameError\u001b[39m                                 Traceback (most recent call last)",
      "\u001b[36mCell\u001b[39m\u001b[36m \u001b[39m\u001b[32mIn[29]\u001b[39m\u001b[32m, line 1\u001b[39m\n\u001b[32m----> \u001b[39m\u001b[32m1\u001b[39m \u001b[43ma\u001b[49m\n",
      "\u001b[31mNameError\u001b[39m: name 'a' is not defined"
     ]
    }
   ],
   "source": [
    "a"
   ]
  },
  {
   "cell_type": "code",
   "execution_count": 30,
   "id": "756231db",
   "metadata": {},
   "outputs": [],
   "source": [
    "def func_2(n):\n",
    "    return list(map(str,range(n)))"
   ]
  },
  {
   "cell_type": "code",
   "execution_count": null,
   "id": "7d0aafb4",
   "metadata": {},
   "outputs": [],
   "source": [
    "b"
   ]
  },
  {
   "cell_type": "code",
   "execution_count": 31,
   "id": "93544aaf",
   "metadata": {},
   "outputs": [],
   "source": [
    "import time"
   ]
  },
  {
   "cell_type": "code",
   "execution_count": 36,
   "id": "96513bfe",
   "metadata": {},
   "outputs": [],
   "source": [
    "#the starting time\n",
    "start_time=time.time()\n",
    "#the code u want to check \n",
    "func_1(1000000)\n",
    "#the end time\n",
    "a=input(\"\")\n",
    "end_time=time.time()\n",
    "timetaken=end_time - start_time"
   ]
  },
  {
   "cell_type": "code",
   "execution_count": 38,
   "id": "1c2b24eb",
   "metadata": {},
   "outputs": [
    {
     "data": {
      "text/plain": [
       "float"
      ]
     },
     "execution_count": 38,
     "metadata": {},
     "output_type": "execute_result"
    }
   ],
   "source": [
    "type(timetaken)"
   ]
  },
  {
   "cell_type": "code",
   "execution_count": null,
   "id": "fc757f7e",
   "metadata": {},
   "outputs": [],
   "source": [
    "#the starting time\n",
    "start_time=time.time()\n",
    "#the code u want to check \n",
    "func_2()#the starting time\n",
    "start_time=time.time()\n",
    "#the code u want to check \n",
    "func_1(1000000)\n",
    "#the end time\n",
    "end_time=time.time()\n",
    "timetaken=end_time - start_time)\n",
    "#the end time\n",
    "end_time=time.time()\n",
    "timetaken=end_time - start_time"
   ]
  },
  {
   "cell_type": "code",
   "execution_count": 1,
   "id": "57a30ca7",
   "metadata": {},
   "outputs": [],
   "source": [
    "import timeit"
   ]
  },
  {
   "cell_type": "code",
   "execution_count": 2,
   "id": "6009a9fa",
   "metadata": {},
   "outputs": [],
   "source": [
    "stmnt='''\n",
    "func_1(100)\n",
    "'''\n"
   ]
  },
  {
   "cell_type": "code",
   "execution_count": 3,
   "id": "60a683fd",
   "metadata": {},
   "outputs": [],
   "source": [
    "setup='''\n",
    "def func_1(n):\n",
    "    return [str(i) for i in range(n)]\n",
    "'''"
   ]
  },
  {
   "cell_type": "code",
   "execution_count": 4,
   "id": "0ec61ffb",
   "metadata": {},
   "outputs": [
    {
     "data": {
      "text/plain": [
       "10.3299895"
      ]
     },
     "execution_count": 4,
     "metadata": {},
     "output_type": "execute_result"
    }
   ],
   "source": [
    "timeit.timeit(stmnt,setup,number=1000000)"
   ]
  },
  {
   "cell_type": "code",
   "execution_count": 49,
   "id": "0a3525c5",
   "metadata": {},
   "outputs": [
    {
     "data": {
      "text/plain": [
       "9.849384799999996"
      ]
     },
     "execution_count": 49,
     "metadata": {},
     "output_type": "execute_result"
    }
   ],
   "source": [
    "timeit.timeit(stmnt2,setup2,number=1000000)"
   ]
  },
  {
   "cell_type": "code",
   "execution_count": 43,
   "id": "d2345b67",
   "metadata": {},
   "outputs": [],
   "source": [
    "stmnt2='''\n",
    "func_2(100)\n",
    "'''"
   ]
  },
  {
   "cell_type": "code",
   "execution_count": 44,
   "id": "b5d97fc4",
   "metadata": {},
   "outputs": [],
   "source": [
    "setup2='''\n",
    "def func_2(n):\n",
    "    return [str(i) for i in range(n)]\n",
    "'''"
   ]
  },
  {
   "cell_type": "code",
   "execution_count": 5,
   "id": "264f3c20",
   "metadata": {},
   "outputs": [],
   "source": [
    "                                            #zipping and unzipping files with python"
   ]
  },
  {
   "cell_type": "code",
   "execution_count": 6,
   "id": "282302dc",
   "metadata": {},
   "outputs": [],
   "source": [
    "f=open('fileone.txt','w+')\n",
    "f.write('FILEONE IS MADE')\n",
    "f.close()"
   ]
  },
  {
   "cell_type": "code",
   "execution_count": 7,
   "id": "042ea968",
   "metadata": {},
   "outputs": [],
   "source": [
    "f=open('filetwo.txt','w+')\n",
    "f.write('FILETWO IS MADE')\n",
    "f.close()"
   ]
  },
  {
   "cell_type": "code",
   "execution_count": 8,
   "id": "501682b3",
   "metadata": {},
   "outputs": [],
   "source": [
    "import zipfile"
   ]
  },
  {
   "cell_type": "code",
   "execution_count": 15,
   "id": "aafa4b84",
   "metadata": {},
   "outputs": [],
   "source": [
    "compressed=zipfile.ZipFile('comped_file.zip','w')"
   ]
  },
  {
   "cell_type": "code",
   "execution_count": 16,
   "id": "6655e02a",
   "metadata": {},
   "outputs": [],
   "source": [
    "compressed.write('fileone.txt',compress_type=zipfile.ZIP_DEFLATED)"
   ]
  },
  {
   "cell_type": "code",
   "execution_count": 17,
   "id": "520b7563",
   "metadata": {},
   "outputs": [],
   "source": [
    "compressed.write('filetwo.txt',compress_type=zipfile.ZIP_DEFLATED)"
   ]
  },
  {
   "cell_type": "code",
   "execution_count": 18,
   "id": "bf603e38",
   "metadata": {},
   "outputs": [],
   "source": [
    "compressed.close()"
   ]
  },
  {
   "cell_type": "code",
   "execution_count": 19,
   "id": "d25e9021",
   "metadata": {},
   "outputs": [],
   "source": [
    "zipobject=zipfile.ZipFile('comped_file.zip','r')"
   ]
  },
  {
   "cell_type": "code",
   "execution_count": 21,
   "id": "6430e53c",
   "metadata": {},
   "outputs": [],
   "source": [
    "zipobject.extractall('extracted_content')"
   ]
  },
  {
   "cell_type": "code",
   "execution_count": 32,
   "id": "976a70a7",
   "metadata": {},
   "outputs": [],
   "source": [
    "import shutil"
   ]
  },
  {
   "cell_type": "code",
   "execution_count": 33,
   "id": "a764e6a4",
   "metadata": {},
   "outputs": [
    {
     "data": {
      "text/plain": [
       "'C:\\\\Users\\\\91830\\\\Python file prtactise folder'"
      ]
     },
     "execution_count": 33,
     "metadata": {},
     "output_type": "execute_result"
    }
   ],
   "source": [
    "os.getcwd()"
   ]
  },
  {
   "cell_type": "code",
   "execution_count": 34,
   "id": "490b90f4",
   "metadata": {},
   "outputs": [],
   "source": [
    "dirzip='C:\\\\Users\\\\91830\\\\Python file prtactise folder\\\\extracted_content'\n"
   ]
  },
  {
   "cell_type": "code",
   "execution_count": 35,
   "id": "0a094b3e",
   "metadata": {},
   "outputs": [],
   "source": [
    "outputfile='example_OS'"
   ]
  },
  {
   "cell_type": "code",
   "execution_count": 36,
   "id": "32e0c3bc",
   "metadata": {},
   "outputs": [
    {
     "data": {
      "text/plain": [
       "'C:\\\\Users\\\\91830\\\\Python file prtactise folder\\\\example_OS.zip'"
      ]
     },
     "execution_count": 36,
     "metadata": {},
     "output_type": "execute_result"
    }
   ],
   "source": [
    "shutil.make_archive(outputfile,'zip',dirzip)"
   ]
  },
  {
   "cell_type": "code",
   "execution_count": 37,
   "id": "33e7646e",
   "metadata": {},
   "outputs": [],
   "source": [
    "#here we are providing the file name because we are already in the same directory as the file we dont have to\n",
    "shutil.unpack_archive('example_OS.zip','finalunzip','zip')"
   ]
  },
  {
   "cell_type": "code",
   "execution_count": 38,
   "id": "69b117dd",
   "metadata": {},
   "outputs": [],
   "source": [
    "                                                     #HOEMWORK"
   ]
  },
  {
   "cell_type": "code",
   "execution_count": 39,
   "id": "58436680",
   "metadata": {},
   "outputs": [],
   "source": [
    "shutil.unpack_archive('unzip_me_for_instructions.zip','homeworkunzip','zip')"
   ]
  },
  {
   "cell_type": "code",
   "execution_count": 8,
   "id": "928f6c0b",
   "metadata": {},
   "outputs": [],
   "source": [
    "import shutil\n",
    "import os\n",
    "import re"
   ]
  },
  {
   "cell_type": "code",
   "execution_count": 20,
   "id": "7f6a2b86",
   "metadata": {
    "scrolled": false
   },
   "outputs": [
    {
     "name": "stdout",
     "output_type": "stream",
     "text": [
      "the folder you are looking at rn is C:\\Users\\91830\\Python file prtactise folder\\homeworkunzip\\extracted_content \n",
      "\n",
      "subfolder: Five\n",
      "subfolder: Four\n",
      "subfolder: One\n",
      "subfolder: Three\n",
      "subfolder: Two\n",
      "the folder you are looking at rn is C:\\Users\\91830\\Python file prtactise folder\\homeworkunzip\\extracted_content\\Five \n",
      "\n",
      "subfolder: .ipynb_checkpoints\n",
      "the folder you are looking at rn is C:\\Users\\91830\\Python file prtactise folder\\homeworkunzip\\extracted_content\\Five\\.ipynb_checkpoints \n",
      "\n",
      "the folder you are looking at rn is C:\\Users\\91830\\Python file prtactise folder\\homeworkunzip\\extracted_content\\Four \n",
      "\n",
      "719-266-2837\n",
      "the number is in file EMTGPSXQEJX.txt\n"
     ]
    }
   ],
   "source": [
    "x=True\n",
    "while x:\n",
    "    for folders,subfolders,files in os.walk('C:\\\\Users\\\\91830\\\\Python file prtactise folder\\\\homeworkunzip\\\\extracted_content'):\n",
    "        print(f'the folder you are looking at rn is {folders} \\n')\n",
    "        for i in subfolders:\n",
    "            print(f'subfolder: {i}')\n",
    "              \n",
    "    \n",
    "        for f in files:\n",
    "            full_path=folders+'\\\\'+f\n",
    "            with open(full_path,mode='r') as j:\n",
    "                text=(f'{j.read()}')\n",
    "            phone=re.search(r'\\d{3}-\\d{3}-\\d{4}',text)\n",
    "            try:\n",
    "            \n",
    "                print(phone.group())\n",
    "                print(f'the number is in file {f}')\n",
    "                x=False\n",
    "                break\n",
    "            except:\n",
    "                pass\n",
    "        if not x:\n",
    "            break\n",
    "        \n",
    "        \n",
    "        \n",
    "        \n"
   ]
  },
  {
   "cell_type": "code",
   "execution_count": 45,
   "id": "01c2f170",
   "metadata": {},
   "outputs": [
    {
     "ename": "NameError",
     "evalue": "name 'mynewfile' is not defined",
     "output_type": "error",
     "traceback": [
      "\u001b[1;31m---------------------------------------------------------------------------\u001b[0m",
      "\u001b[1;31mNameError\u001b[0m                                 Traceback (most recent call last)",
      "Input \u001b[1;32mIn [45]\u001b[0m, in \u001b[0;36m<cell line: 1>\u001b[1;34m()\u001b[0m\n\u001b[0;32m      1\u001b[0m \u001b[38;5;28;01mwith\u001b[39;00m \u001b[38;5;28mopen\u001b[39m(f,mode\u001b[38;5;241m=\u001b[39m\u001b[38;5;124m'\u001b[39m\u001b[38;5;124mr\u001b[39m\u001b[38;5;124m'\u001b[39m) \u001b[38;5;28;01mas\u001b[39;00m j:\n\u001b[1;32m----> 2\u001b[0m     text\u001b[38;5;241m=\u001b[39m(\u001b[38;5;124mf\u001b[39m\u001b[38;5;124m'\u001b[39m\u001b[38;5;132;01m{\u001b[39;00mmynewfile\u001b[38;5;241m.\u001b[39mread()\u001b[38;5;132;01m}\u001b[39;00m\u001b[38;5;124m'\u001b[39m)\n",
      "\u001b[1;31mNameError\u001b[0m: name 'mynewfile' is not defined"
     ]
    }
   ],
   "source": [
    "with open(f,mode='r') as j:\n",
    "    text=(f'{mynewfile.read()}')"
   ]
  },
  {
   "cell_type": "code",
   "execution_count": 4,
   "id": "4c03d4e0",
   "metadata": {},
   "outputs": [],
   "source": [
    "import re"
   ]
  },
  {
   "cell_type": "code",
   "execution_count": 10,
   "id": "07e3a1a3",
   "metadata": {},
   "outputs": [
    {
     "name": "stdout",
     "output_type": "stream",
     "text": [
      "False\n",
      "True\n"
     ]
    }
   ],
   "source": [
    "import os\n",
    "os.getcwd()\n",
    "if \"syntheticfolder\" not in os.listdir():\n",
    "    os.mkdir(\"syntheticfolder\")  #makes directory\n",
    "    \n",
    "print(\"syntheticfolder\" not in os.listdir())\n",
    "os.rmdir(r\"syntheticfolder\")\n",
    "print(\"syntheticfolder\" not in os.listdir())\n",
    "    "
   ]
  },
  {
   "cell_type": "code",
   "execution_count": null,
   "id": "d4cf43d7",
   "metadata": {},
   "outputs": [],
   "source": []
  }
 ],
 "metadata": {
  "kernelspec": {
   "display_name": "Python 3",
   "language": "python",
   "name": "python3"
  },
  "language_info": {
   "codemirror_mode": {
    "name": "ipython",
    "version": 3
   },
   "file_extension": ".py",
   "mimetype": "text/x-python",
   "name": "python",
   "nbconvert_exporter": "python",
   "pygments_lexer": "ipython3",
   "version": "3.11.9"
  }
 },
 "nbformat": 4,
 "nbformat_minor": 5
}
