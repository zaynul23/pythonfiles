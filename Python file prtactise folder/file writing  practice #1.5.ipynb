{
 "cells": [
  {
   "cell_type": "code",
   "execution_count": 3,
   "id": "1531750c",
   "metadata": {},
   "outputs": [
    {
     "name": "stdout",
     "output_type": "stream",
     "text": [
      "Overwriting experiment_file.txt\n"
     ]
    }
   ],
   "source": [
    "%%writefile experiment_file.txt\n",
    "this is a file made for testing file\n",
    "features of python "
   ]
  },
  {
   "cell_type": "code",
   "execution_count": 5,
   "id": "ee71663a",
   "metadata": {},
   "outputs": [],
   "source": [
    "myfile=open('experiment_file.txt')"
   ]
  },
  {
   "cell_type": "code",
   "execution_count": 39,
   "id": "e5641fae",
   "metadata": {},
   "outputs": [
    {
     "data": {
      "text/plain": [
       "'this is a file made for testing file\\nfeatures of python \\n'"
      ]
     },
     "execution_count": 39,
     "metadata": {},
     "output_type": "execute_result"
    }
   ],
   "source": [
    "myfile.read()"
   ]
  },
  {
   "cell_type": "code",
   "execution_count": 46,
   "id": "7e040d09",
   "metadata": {},
   "outputs": [
    {
     "data": {
      "text/plain": [
       "0"
      ]
     },
     "execution_count": 46,
     "metadata": {},
     "output_type": "execute_result"
    }
   ],
   "source": [
    "myfile.seek(0)"
   ]
  },
  {
   "cell_type": "code",
   "execution_count": 44,
   "id": "dfb00803",
   "metadata": {},
   "outputs": [
    {
     "data": {
      "text/plain": [
       "'this is a file made for testing file\\n'"
      ]
     },
     "execution_count": 44,
     "metadata": {},
     "output_type": "execute_result"
    }
   ],
   "source": [
    "myfile.readline()"
   ]
  },
  {
   "cell_type": "code",
   "execution_count": 47,
   "id": "2ea1ae76",
   "metadata": {},
   "outputs": [
    {
     "data": {
      "text/plain": [
       "['this is a file made for testing file\\n', 'features of python \\n']"
      ]
     },
     "execution_count": 47,
     "metadata": {},
     "output_type": "execute_result"
    }
   ],
   "source": [
    "myfile.readlines()"
   ]
  },
  {
   "cell_type": "code",
   "execution_count": 48,
   "id": "754eba6e",
   "metadata": {},
   "outputs": [],
   "source": [
    "myfile.close()"
   ]
  },
  {
   "cell_type": "code",
   "execution_count": 3,
   "id": "1ba3ecf7",
   "metadata": {},
   "outputs": [],
   "source": [
    "with open('experiment_file.txt','w') as mynewfile:\n",
    "    mynewfile.write('hey')"
   ]
  },
  {
   "cell_type": "code",
   "execution_count": 50,
   "id": "51cd552a",
   "metadata": {},
   "outputs": [
    {
     "data": {
      "text/plain": [
       "['this is a file made for testing file\\n', 'features of python \\n']"
      ]
     },
     "execution_count": 50,
     "metadata": {},
     "output_type": "execute_result"
    }
   ],
   "source": [
    "contents\n"
   ]
  },
  {
   "cell_type": "code",
   "execution_count": 1,
   "id": "42335a71",
   "metadata": {},
   "outputs": [
    {
     "name": "stdout",
     "output_type": "stream",
     "text": [
      "1 is one \n",
      "2 is two\n",
      "3 is three\n"
     ]
    }
   ],
   "source": [
    "with open('experiment_file.txt',mode='r') as mynewfile:\n",
    "    text=(f'{mynewfile.read()}')\n",
    "print(text)\n",
    "#reading"
   ]
  },
  {
   "cell_type": "code",
   "execution_count": 7,
   "id": "48b49943",
   "metadata": {},
   "outputs": [],
   "source": [
    "with open('experiment_file.txt',mode='w') as mynewfile:\n",
    "    mynewfile.write('1 is one \\n2 is two\\n3 is three')\n",
    "    \n",
    "    #writing"
   ]
  },
  {
   "cell_type": "code",
   "execution_count": null,
   "id": "dbb13e62",
   "metadata": {},
   "outputs": [],
   "source": [
    "with open('experiment_file.txt',mode='a') as mynewfile:\n",
    "    contents=mynewfile.read()\n",
    "    \n",
    "    #appending lines\n",
    "    #'r+' is reading and writng\n",
    "    #'w+' is reading and writing (overwrites existing files or makes new ones)"
   ]
  },
  {
   "cell_type": "code",
   "execution_count": 3,
   "id": "08c358f7",
   "metadata": {},
   "outputs": [],
   "source": [
    "with  open('untitled.txt',mode='w+') as s:\n",
    "    s.write('hello my name is \\nZaynul')"
   ]
  },
  {
   "cell_type": "code",
   "execution_count": null,
   "id": "e14ab5d6",
   "metadata": {},
   "outputs": [],
   "source": []
  }
 ],
 "metadata": {
  "kernelspec": {
   "display_name": "Python 3",
   "language": "python",
   "name": "python3"
  },
  "language_info": {
   "codemirror_mode": {
    "name": "ipython",
    "version": 3
   },
   "file_extension": ".py",
   "mimetype": "text/x-python",
   "name": "python",
   "nbconvert_exporter": "python",
   "pygments_lexer": "ipython3",
   "version": "3.12.9"
  }
 },
 "nbformat": 4,
 "nbformat_minor": 5
}
