{
 "cells": [
  {
   "cell_type": "code",
   "execution_count": 9,
   "id": "9d891e5c",
   "metadata": {},
   "outputs": [
    {
     "name": "stdout",
     "output_type": "stream",
     "text": [
      "{\n",
      "    \"students\" =[\n",
      "        {\n",
      "            \"name\" =\"n1\".\n",
      "            \"age\" =\"age1\"\n",
      "        }.\n",
      "        {\n",
      "            \"name\" =\"n2\".\n",
      "            \"age\" =\"age2\"\n",
      "        }\n",
      "    ].\n",
      "    \"faculty\" =[\n",
      "        {\n",
      "            \"name\" =\"fn1\".\n",
      "            \"fac_age\" =\"50\".\n",
      "            \"salary\" =20000\n",
      "        }.\n",
      "        {\n",
      "            \"name\" =\"fn2\".\n",
      "            \"fac_age\" =\"32\"\n",
      "        }\n",
      "    ]\n",
      "}\n",
      "<class 'str'>\n"
     ]
    }
   ],
   "source": [
    "import json , os\n",
    "with open(r\"D:\\zaynu\\Documents\\pythonfiles\\Python file prtactise folder\\jsonhandling\\somefile.json\",\"r+\") as f:\n",
    "    dat=json.load(f)\n",
    "    d1=json.dumps(dat,indent=4,separators=(\".\",\" =\"))\n",
    "    print(d1)\n",
    "    print(type(d1))\n",
    "    # dat=json.loads(d1)\n",
    "    # print(dat)\n",
    "    # print(type(dat))"
   ]
  },
  {
   "cell_type": "code",
   "execution_count": null,
   "id": "3a6cd0cf",
   "metadata": {},
   "outputs": [],
   "source": []
  }
 ],
 "metadata": {
  "kernelspec": {
   "display_name": "Python 3",
   "language": "python",
   "name": "python3"
  },
  "language_info": {
   "codemirror_mode": {
    "name": "ipython",
    "version": 3
   },
   "file_extension": ".py",
   "mimetype": "text/x-python",
   "name": "python",
   "nbconvert_exporter": "python",
   "pygments_lexer": "ipython3",
   "version": "3.11.9"
  }
 },
 "nbformat": 4,
 "nbformat_minor": 5
}
