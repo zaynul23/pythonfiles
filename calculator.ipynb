{
 "cells": [
  {
   "cell_type": "code",
   "execution_count": 1,
   "id": "2d9a7ffc",
   "metadata": {},
   "outputs": [
    {
     "name": "stdout",
     "output_type": "stream",
     "text": [
      "81.0\n",
      "3.333333333333333\n"
     ]
    }
   ],
   "source": [
    "\n",
    "def decoder(text):\n",
    "    decoded_list=[]\n",
    "    script=''\n",
    "    for i in text:\n",
    "        if i.isnumeric():\n",
    "            script+=i\n",
    "        elif i in ['*','^','/','+',\"-\"]:\n",
    "            decoded_list.append(script)\n",
    "            decoded_list.append(i)\n",
    "            script=''\n",
    "    if len(script)!=0:\n",
    "        decoded_list.append(script)\n",
    "    return decoded_list\n",
    "\n",
    "def mathenator(a,b,symbol):\n",
    "    if symbol=='/':\n",
    "        return a/b\n",
    "    elif symbol=='*':\n",
    "        return a*b\n",
    "    elif symbol=='+':\n",
    "        return a+b\n",
    "    elif symbol=='-':\n",
    "        return a-b\n",
    "    if symbol=='^':\n",
    "        return a**b\n",
    "\n",
    "\n",
    "\n",
    "class Calculator:\n",
    "    def __init__(self):\n",
    "        self.value=0\n",
    "        self.acceptables=['^','/','*','+','-']\n",
    "    \n",
    "    def evaluator(self,script):\n",
    "        #print(script)\n",
    "        \n",
    "        while len(script)!=1:\n",
    "             \n",
    "            for i in self.acceptables:\n",
    "                \n",
    "                for J in range(script.count(i)):\n",
    "                    \n",
    "                    _=script.index(i)\n",
    "                    script[_-1]=mathenator(float(script[_-1]),float(script[_+1]),i)\n",
    "                    for i in range(2):\n",
    "                        script.pop(_)\n",
    "            #print(type(script[0]))\n",
    "            #poppy=input('pause')\n",
    "        self.value=float(script[0])\n",
    "        return (self.value)  \n",
    "On=True\n",
    "On_Off='ddwd'\n",
    "calc=Calculator()\n",
    "while On:\n",
    "    question=input('ask your question: ')\n",
    "    print(calc.evaluator(decoder(question)))\n",
    "    while On or On_Off.lower() not in ['y','n'] :\n",
    "\n",
    "        On_Off=input(\"would you like to keep asking (Y/N)\")\n",
    "        if On_Off.lower()=='n':\n",
    "            On=False\n",
    "        break\n",
    "        "
   ]
  },
  {
   "cell_type": "code",
   "execution_count": 2,
   "id": "55aa673e",
   "metadata": {},
   "outputs": [],
   "source": [
    "a='hello'"
   ]
  },
  {
   "cell_type": "code",
   "execution_count": 3,
   "id": "e7cfbb04",
   "metadata": {},
   "outputs": [
    {
     "data": {
      "text/plain": [
       "str"
      ]
     },
     "execution_count": 3,
     "metadata": {},
     "output_type": "execute_result"
    }
   ],
   "source": [
    "type(a)"
   ]
  },
  {
   "cell_type": "code",
   "execution_count": 4,
   "id": "4150a9f9",
   "metadata": {},
   "outputs": [
    {
     "data": {
      "text/plain": [
       "0"
      ]
     },
     "execution_count": 4,
     "metadata": {},
     "output_type": "execute_result"
    }
   ],
   "source": []
  },
  {
   "cell_type": "code",
   "execution_count": 2,
   "id": "1e5db9ee",
   "metadata": {},
   "outputs": [],
   "source": []
  },
  {
   "cell_type": "code",
   "execution_count": null,
   "id": "f5dfee4e",
   "metadata": {},
   "outputs": [],
   "source": []
  }
 ],
 "metadata": {
  "kernelspec": {
   "display_name": "Python 3",
   "language": "python",
   "name": "python3"
  },
  "language_info": {
   "codemirror_mode": {
    "name": "ipython",
    "version": 3
   },
   "file_extension": ".py",
   "mimetype": "text/x-python",
   "name": "python",
   "nbconvert_exporter": "python",
   "pygments_lexer": "ipython3",
   "version": "3.12.9"
  }
 },
 "nbformat": 4,
 "nbformat_minor": 5
}
