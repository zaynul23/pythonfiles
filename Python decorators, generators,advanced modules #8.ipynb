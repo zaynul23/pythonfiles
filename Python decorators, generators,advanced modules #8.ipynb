{
 "cells": [
  {
   "cell_type": "code",
   "execution_count": null,
   "id": "5edad27b",
   "metadata": {},
   "outputs": [],
   "source": [
    "'''\n",
    "python decorators allow you to turn on and off extra functionallity added to ur function\n",
    "they use \"@\" operator on top of original function\n",
    "'''\n",
    "print(' ')"
   ]
  },
  {
   "cell_type": "code",
   "execution_count": 1,
   "id": "5ea66e3b",
   "metadata": {},
   "outputs": [],
   "source": [
    "def myfunc():\n",
    "    return 'hello'"
   ]
  },
  {
   "cell_type": "code",
   "execution_count": 2,
   "id": "7089ff4e",
   "metadata": {},
   "outputs": [
    {
     "data": {
      "text/plain": [
       "'hello'"
      ]
     },
     "execution_count": 2,
     "metadata": {},
     "output_type": "execute_result"
    }
   ],
   "source": [
    "myfunc()"
   ]
  },
  {
   "cell_type": "code",
   "execution_count": 3,
   "id": "a30826d4",
   "metadata": {},
   "outputs": [
    {
     "data": {
      "text/plain": [
       "'hello'"
      ]
     },
     "execution_count": 3,
     "metadata": {},
     "output_type": "execute_result"
    }
   ],
   "source": [
    "greet =myfunc\n",
    "#works with or without braces\n",
    "greet()"
   ]
  },
  {
   "cell_type": "code",
   "execution_count": 4,
   "id": "ee5a7bba",
   "metadata": {},
   "outputs": [],
   "source": [
    "del myfunc"
   ]
  },
  {
   "cell_type": "code",
   "execution_count": 5,
   "id": "b06df9c4",
   "metadata": {},
   "outputs": [
    {
     "ename": "NameError",
     "evalue": "name 'myfunc' is not defined",
     "output_type": "error",
     "traceback": [
      "\u001b[1;31m---------------------------------------------------------------------------\u001b[0m",
      "\u001b[1;31mNameError\u001b[0m                                 Traceback (most recent call last)",
      "Input \u001b[1;32mIn [5]\u001b[0m, in \u001b[0;36m<cell line: 1>\u001b[1;34m()\u001b[0m\n\u001b[1;32m----> 1\u001b[0m \u001b[43mmyfunc\u001b[49m()\n",
      "\u001b[1;31mNameError\u001b[0m: name 'myfunc' is not defined"
     ]
    }
   ],
   "source": [
    "myfunc()"
   ]
  },
  {
   "cell_type": "code",
   "execution_count": 7,
   "id": "d8f4e1b8",
   "metadata": {},
   "outputs": [
    {
     "data": {
      "text/plain": [
       "'hello'"
      ]
     },
     "execution_count": 7,
     "metadata": {},
     "output_type": "execute_result"
    }
   ],
   "source": [
    "greet()"
   ]
  },
  {
   "cell_type": "code",
   "execution_count": null,
   "id": "6e49eda7",
   "metadata": {},
   "outputs": [],
   "source": [
    "\n",
    "\n",
    "    \n",
    "    \n",
    "    \n",
    "    \n",
    "    \n",
    "    \n",
    "    \n",
    "    \n",
    "    \n",
    "    \n",
    "    \n",
    "    \n",
    "    \n",
    "    \n",
    "    \n",
    "    \n",
    "    \n",
    "    \n",
    "    \n",
    "    \n",
    "    \n",
    "    \n",
    "    \n",
    "    \n",
    "    \n",
    "    \n",
    "    \n",
    "    \n",
    "    "
   ]
  },
  {
   "cell_type": "code",
   "execution_count": 1,
   "id": "673ef9a3",
   "metadata": {},
   "outputs": [],
   "source": [
    "def hello(name='Zaynul'):\n",
    "    print('the hello() function has been executed ')\n",
    "    \n",
    "    def greet():\n",
    "        return (' \\t this is the greet fucntion inside hello ')\n",
    "    def welcome():\n",
    "        return('\\t this is the welcome function inside hello')\n",
    "    #greet and welcome can only be executed inside the hello function \n",
    "    \n",
    "    #imma return a function \n",
    "    print('i am returning a fucntion')\n",
    "    if name=='Zaynul':\n",
    "        return greet\n",
    "    else:\n",
    "        return welcome\n",
    "    "
   ]
  },
  {
   "cell_type": "code",
   "execution_count": 3,
   "id": "047eab65",
   "metadata": {},
   "outputs": [
    {
     "name": "stdout",
     "output_type": "stream",
     "text": [
      "the hello() function has been executed \n",
      "i am returning a fucntion\n"
     ]
    },
    {
     "data": {
      "text/plain": [
       "<function __main__.hello.<locals>.greet()>"
      ]
     },
     "execution_count": 3,
     "metadata": {},
     "output_type": "execute_result"
    }
   ],
   "source": [
    "hello()"
   ]
  },
  {
   "cell_type": "code",
   "execution_count": 4,
   "id": "fe30c633",
   "metadata": {},
   "outputs": [
    {
     "name": "stdout",
     "output_type": "stream",
     "text": [
      "the hello() function has been executed \n",
      "i am returning a fucntion\n"
     ]
    }
   ],
   "source": [
    "newfucn=hello('Zaynul')"
   ]
  },
  {
   "cell_type": "code",
   "execution_count": 5,
   "id": "56e7aef7",
   "metadata": {},
   "outputs": [
    {
     "name": "stdout",
     "output_type": "stream",
     "text": [
      " \t this is the greet fucntion inside hello \n"
     ]
    }
   ],
   "source": [
    "print(newfucn())"
   ]
  },
  {
   "cell_type": "code",
   "execution_count": 6,
   "id": "6e5aad72",
   "metadata": {},
   "outputs": [],
   "source": [
    "def cool():\n",
    "    \n",
    "    def supercool():\n",
    "        return 'i am very cool'\n",
    "    return supercool\n"
   ]
  },
  {
   "cell_type": "code",
   "execution_count": 7,
   "id": "d16042f8",
   "metadata": {},
   "outputs": [],
   "source": [
    "somefunc=cool()"
   ]
  },
  {
   "cell_type": "code",
   "execution_count": 8,
   "id": "9159e245",
   "metadata": {},
   "outputs": [
    {
     "data": {
      "text/plain": [
       "'i am very cool'"
      ]
     },
     "execution_count": 8,
     "metadata": {},
     "output_type": "execute_result"
    }
   ],
   "source": [
    "somefunc()"
   ]
  },
  {
   "cell_type": "code",
   "execution_count": null,
   "id": "3ac0e41e",
   "metadata": {},
   "outputs": [],
   "source": [
    "\n",
    "\n",
    "\n",
    "\n",
    "\n",
    "\n",
    "\n",
    "\n",
    "\n",
    "\n",
    "\n",
    "\n",
    "\n",
    "\n",
    "\n",
    "\n",
    "\n",
    "\n",
    "\n",
    "\n",
    "\n",
    "\n",
    "\n",
    "\n",
    "\n",
    "\n",
    "\n",
    "\n",
    "\n",
    "\n",
    "\n",
    "\n",
    "\n",
    "\n",
    "\n"
   ]
  },
  {
   "cell_type": "code",
   "execution_count": 9,
   "id": "19def22e",
   "metadata": {},
   "outputs": [],
   "source": [
    "def Hello():\n",
    "    return 'this is zaynul'"
   ]
  },
  {
   "cell_type": "code",
   "execution_count": 11,
   "id": "a23655c1",
   "metadata": {},
   "outputs": [],
   "source": [
    "def other(somefunc):\n",
    "    print('someother codes running here')\n",
    "    print(somefunc())"
   ]
  },
  {
   "cell_type": "code",
   "execution_count": 12,
   "id": "269b01ea",
   "metadata": {},
   "outputs": [
    {
     "name": "stdout",
     "output_type": "stream",
     "text": [
      "someother codes running here\n",
      "this is zaynul\n"
     ]
    }
   ],
   "source": [
    "other(Hello)"
   ]
  },
  {
   "cell_type": "code",
   "execution_count": null,
   "id": "b0e978a6",
   "metadata": {},
   "outputs": [],
   "source": [
    "                                                    #creating decorator"
   ]
  },
  {
   "cell_type": "code",
   "execution_count": 1,
   "id": "e55777f6",
   "metadata": {},
   "outputs": [],
   "source": [
    "def newdec(originalfunc):\n",
    "    def wrapfunc():\n",
    "        print('someotehr code before the original func\\n')\n",
    "        \n",
    "        originalfunc()\n",
    "        \n",
    "        print('\\nsome other extra code after original func')\n",
    "    \n",
    "    return wrapfunc"
   ]
  },
  {
   "cell_type": "code",
   "execution_count": 2,
   "id": "f8e240f6",
   "metadata": {},
   "outputs": [],
   "source": [
    "def funcneeds_decorator():\n",
    "    print('i wanna be decorated i am an origial code u wanna add to')"
   ]
  },
  {
   "cell_type": "code",
   "execution_count": 3,
   "id": "09ca37c3",
   "metadata": {},
   "outputs": [
    {
     "data": {
      "text/plain": [
       "<function __main__.newdec.<locals>.wrapfunc()>"
      ]
     },
     "execution_count": 3,
     "metadata": {},
     "output_type": "execute_result"
    }
   ],
   "source": [
    "newdec(funcneeds_decorator)"
   ]
  },
  {
   "cell_type": "code",
   "execution_count": 4,
   "id": "441f3625",
   "metadata": {},
   "outputs": [
    {
     "name": "stdout",
     "output_type": "stream",
     "text": [
      "someotehr code before the original func\n",
      "\n",
      "i wanna be decorated i am an origial code u wanna add to\n",
      "\n",
      "some other extra code after original func\n"
     ]
    }
   ],
   "source": [
    "decoratedfunc=newdec(funcneeds_decorator)\n",
    "decoratedfunc()"
   ]
  },
  {
   "cell_type": "code",
   "execution_count": null,
   "id": "c6945896",
   "metadata": {},
   "outputs": [],
   "source": [
    "                                #there is an operator for all of this THE @ OPERATOR"
   ]
  },
  {
   "cell_type": "code",
   "execution_count": 17,
   "id": "47c8130f",
   "metadata": {},
   "outputs": [],
   "source": [
    "#u can turn @newdec on and off using #\n",
    "@newdec()\n",
    "def funcneeds_decorator():\n",
    "    print('i wanna be decorated i am an origial code u wanna add to')"
   ]
  },
  {
   "cell_type": "code",
   "execution_count": 18,
   "id": "be82e781",
   "metadata": {},
   "outputs": [
    {
     "name": "stdout",
     "output_type": "stream",
     "text": [
      "someotehr code before the original func\n",
      "\n",
      "i wanna be decorated i am an origial code u wanna add to\n",
      "\n",
      "some other extra code after original func\n"
     ]
    }
   ],
   "source": [
    "funcneeds_decorator()"
   ]
  },
  {
   "cell_type": "code",
   "execution_count": null,
   "id": "01f8a0df",
   "metadata": {},
   "outputs": [
    {
     "name": "stdout",
     "output_type": "stream",
     "text": [
      "Inside decorator\n",
      "Inside inner function :a*b= 12\n",
      "I like a-b = -1\n"
     ]
    },
    {
     "data": {
      "text/plain": [
       "'a+b is 7'"
      ]
     },
     "execution_count": 6,
     "metadata": {},
     "output_type": "execute_result"
    }
   ],
   "source": [
    "# Python code to illustrate \n",
    "# Decorators with parameters in Python \n",
    "def decorator(func):\n",
    "    print(\"Inside decorator\")\n",
    "    \n",
    "    def inner(c,b):\n",
    "        # code functionality here\n",
    "        print(f\"Inside inner function :a*b= {c*b}\")\n",
    "        print( f\"I like a-b = {c-b}\" ) \n",
    "        \n",
    "        return func(c,b)\n",
    "\n",
    "        \n",
    "    \n",
    "    \n",
    "    \n",
    "    return inner\n",
    "        \n",
    "        \n",
    "        \n",
    "    \n",
    "    # returning inner function \n",
    "\n",
    "# @decorator\n",
    "def my_func(a,b):\n",
    "    return (f\"a+b is {a+b}\")\n",
    "\n",
    "decorated1=decorator(my_func)\n",
    "# Call the decorated function\n",
    "decorated1(3,4)\n"
   ]
  },
  {
   "cell_type": "code",
   "execution_count": null,
   "id": "31fe4d93",
   "metadata": {},
   "outputs": [],
   "source": [
    "                                                    #python generators "
   ]
  },
  {
   "cell_type": "code",
   "execution_count": 30,
   "id": "a77554aa",
   "metadata": {},
   "outputs": [],
   "source": [
    "def cubing(n):\n",
    "    result=[x**3 for x in range(1,n+1)]\n",
    "    return result"
   ]
  },
  {
   "cell_type": "code",
   "execution_count": 31,
   "id": "a7005286",
   "metadata": {},
   "outputs": [
    {
     "data": {
      "text/plain": [
       "[1, 8, 27, 64, 125, 216, 343, 512, 729, 1000, 1331, 1728]"
      ]
     },
     "execution_count": 31,
     "metadata": {},
     "output_type": "execute_result"
    }
   ],
   "source": [
    "cubing(12)\n"
   ]
  },
  {
   "cell_type": "code",
   "execution_count": 20,
   "id": "f18c7f61",
   "metadata": {},
   "outputs": [],
   "source": [
    "#instead of doing what is above and storing all the values in memory u can use the yield key word\n",
    "def cubing1(m):\n",
    "    for x in range(1,m):\n",
    "        yield x**3\n",
    "        "
   ]
  },
  {
   "cell_type": "code",
   "execution_count": 21,
   "id": "35f13e48",
   "metadata": {},
   "outputs": [
    {
     "name": "stdout",
     "output_type": "stream",
     "text": [
      "1\n",
      "8\n",
      "27\n",
      "64\n",
      "125\n",
      "216\n",
      "343\n",
      "512\n",
      "729\n"
     ]
    }
   ],
   "source": [
    "for i in cubing1(10):\n",
    "    print(i)\n"
   ]
  },
  {
   "cell_type": "code",
   "execution_count": 23,
   "id": "5c417c43",
   "metadata": {},
   "outputs": [
    {
     "name": "stdout",
     "output_type": "stream",
     "text": [
      "[1, 8, 27, 64, 125, 216, 343, 512, 729]\n"
     ]
    }
   ],
   "source": [
    "print(list(cubing1(10)))"
   ]
  },
  {
   "cell_type": "code",
   "execution_count": 34,
   "id": "70251371",
   "metadata": {},
   "outputs": [],
   "source": [
    "#lets make a fibonaci series\n",
    "def fibo_gene(n):\n",
    "    a=1\n",
    "    b=1\n",
    "    for i in range(n):\n",
    "        yield a\n",
    "        a,b=b,a+b"
   ]
  },
  {
   "cell_type": "code",
   "execution_count": 35,
   "id": "32a116bc",
   "metadata": {},
   "outputs": [
    {
     "name": "stdout",
     "output_type": "stream",
     "text": [
      "1\n",
      "1\n",
      "2\n",
      "3\n",
      "5\n",
      "8\n",
      "13\n",
      "21\n",
      "34\n",
      "55\n"
     ]
    }
   ],
   "source": [
    "for i in fibo_gene(10):\n",
    "    print(i)"
   ]
  },
  {
   "cell_type": "code",
   "execution_count": 24,
   "id": "aa3b970b",
   "metadata": {},
   "outputs": [],
   "source": [
    "def simple_generator():\n",
    "    for x in range (3):\n",
    "        yield x"
   ]
  },
  {
   "cell_type": "code",
   "execution_count": 25,
   "id": "806eaa90",
   "metadata": {},
   "outputs": [],
   "source": [
    "g=simple_generator()"
   ]
  },
  {
   "cell_type": "code",
   "execution_count": 27,
   "id": "2db2f81d",
   "metadata": {},
   "outputs": [
    {
     "data": {
      "text/plain": [
       "1"
      ]
     },
     "execution_count": 27,
     "metadata": {},
     "output_type": "execute_result"
    }
   ],
   "source": [
    "next(g)"
   ]
  },
  {
   "cell_type": "code",
   "execution_count": 29,
   "id": "854293bd",
   "metadata": {},
   "outputs": [
    {
     "ename": "StopIteration",
     "evalue": "",
     "output_type": "error",
     "traceback": [
      "\u001b[1;31m---------------------------------------------------------------------------\u001b[0m",
      "\u001b[1;31mStopIteration\u001b[0m                             Traceback (most recent call last)",
      "Cell \u001b[1;32mIn[29], line 1\u001b[0m\n\u001b[1;32m----> 1\u001b[0m (\u001b[38;5;28;43mnext\u001b[39;49m\u001b[43m(\u001b[49m\u001b[43mg\u001b[49m\u001b[43m)\u001b[49m)\n",
      "\u001b[1;31mStopIteration\u001b[0m: "
     ]
    }
   ],
   "source": [
    "(next(g))"
   ]
  },
  {
   "cell_type": "code",
   "execution_count": 44,
   "id": "69feba0b",
   "metadata": {},
   "outputs": [
    {
     "name": "stdout",
     "output_type": "stream",
     "text": [
      "string is itereable through but is not a iterator \n"
     ]
    }
   ],
   "source": [
    "try:\n",
    "    s='HELLO'\n",
    "    next(s)\n",
    "except:\n",
    "    print('string is itereable through but is not a iterator ')"
   ]
  },
  {
   "cell_type": "code",
   "execution_count": 45,
   "id": "d766475b",
   "metadata": {},
   "outputs": [],
   "source": [
    "#instead you can do\n",
    "iter_s=iter(s)"
   ]
  },
  {
   "cell_type": "code",
   "execution_count": 46,
   "id": "7aed8589",
   "metadata": {},
   "outputs": [
    {
     "data": {
      "text/plain": [
       "'H'"
      ]
     },
     "execution_count": 46,
     "metadata": {},
     "output_type": "execute_result"
    }
   ],
   "source": [
    "next(iter_s)"
   ]
  },
  {
   "cell_type": "code",
   "execution_count": 48,
   "id": "a4d527dd",
   "metadata": {},
   "outputs": [
    {
     "data": {
      "text/plain": [
       "'H'"
      ]
     },
     "execution_count": 48,
     "metadata": {},
     "output_type": "execute_result"
    }
   ],
   "source": [
    "#iter_s[0]\n",
    "s[0]"
   ]
  },
  {
   "cell_type": "code",
   "execution_count": null,
   "id": "7a9ae224",
   "metadata": {},
   "outputs": [],
   "source": [
    "                                                            #HOMEWORK"
   ]
  },
  {
   "cell_type": "code",
   "execution_count": 49,
   "id": "77f22f5b",
   "metadata": {},
   "outputs": [],
   "source": [
    "def gensquares(N):\n",
    "    for i in range(N):\n",
    "        yield i**2\n",
    "        "
   ]
  },
  {
   "cell_type": "code",
   "execution_count": 50,
   "id": "782c5927",
   "metadata": {},
   "outputs": [
    {
     "name": "stdout",
     "output_type": "stream",
     "text": [
      "0\n",
      "1\n",
      "4\n",
      "9\n",
      "16\n",
      "25\n",
      "36\n",
      "49\n",
      "64\n",
      "81\n"
     ]
    }
   ],
   "source": [
    "for x in gensquares(10):\n",
    "    print(x)"
   ]
  },
  {
   "cell_type": "code",
   "execution_count": 64,
   "id": "8d924067",
   "metadata": {},
   "outputs": [],
   "source": [
    "import random\n",
    "\n",
    "def rand_num(low,high,n):\n",
    "    for i in range(n):\n",
    "        yield random.randint(low,high)\n",
    "\n",
    "    "
   ]
  },
  {
   "cell_type": "code",
   "execution_count": 65,
   "id": "0d409e22",
   "metadata": {},
   "outputs": [
    {
     "name": "stdout",
     "output_type": "stream",
     "text": [
      "3\n",
      "1\n",
      "2\n",
      "5\n",
      "8\n",
      "3\n",
      "2\n",
      "5\n",
      "5\n",
      "6\n",
      "7\n",
      "10\n"
     ]
    }
   ],
   "source": [
    "for num in rand_num(1,10,12):\n",
    "    print(num)"
   ]
  },
  {
   "cell_type": "code",
   "execution_count": null,
   "id": "142af7e2",
   "metadata": {},
   "outputs": [],
   "source": [
    "s = 'hello'\n",
    "itered_s=iter(s)\n"
   ]
  },
  {
   "cell_type": "code",
   "execution_count": null,
   "id": "a3542f4c",
   "metadata": {},
   "outputs": [],
   "source": [
    "next(itered_s)"
   ]
  },
  {
   "cell_type": "code",
   "execution_count": 67,
   "id": "135fe72b",
   "metadata": {},
   "outputs": [
    {
     "name": "stdout",
     "output_type": "stream",
     "text": [
      "4\n",
      "5\n"
     ]
    }
   ],
   "source": [
    "#here comprehention is being done usually we add [] around it to make a list using it or else it works like a generator\n",
    "my_list = [1,2,3,4,5]\n",
    "\n",
    "gencomp = (item for item in my_list if item > 3)\n",
    "\n",
    "for item in gencomp:\n",
    "    print(item)\n",
    "#gencomp[-1]\n",
    "#does no work"
   ]
  },
  {
   "cell_type": "code",
   "execution_count": 68,
   "id": "5522aa48",
   "metadata": {},
   "outputs": [],
   "source": [
    "#this is another type of generator tha tcan also be made int oa list\n",
    "#((i, i**2, i**3) for i in range(10))\n",
    "d=[(i, i**2, i**3) for i in range(10)]\n"
   ]
  },
  {
   "cell_type": "code",
   "execution_count": 69,
   "id": "8a31123c",
   "metadata": {},
   "outputs": [
    {
     "data": {
      "text/plain": [
       "[(0, 0, 0),\n",
       " (1, 1, 1),\n",
       " (2, 4, 8),\n",
       " (3, 9, 27),\n",
       " (4, 16, 64),\n",
       " (5, 25, 125),\n",
       " (6, 36, 216),\n",
       " (7, 49, 343),\n",
       " (8, 64, 512),\n",
       " (9, 81, 729)]"
      ]
     },
     "execution_count": 69,
     "metadata": {},
     "output_type": "execute_result"
    }
   ],
   "source": [
    "d"
   ]
  },
  {
   "cell_type": "code",
   "execution_count": 65,
   "id": "60e65cd9",
   "metadata": {},
   "outputs": [
    {
     "name": "stdout",
     "output_type": "stream",
     "text": [
      "0\n",
      "1\n",
      "8\n",
      "27\n",
      "64\n",
      "125\n",
      "216\n",
      "343\n",
      "512\n",
      "729\n"
     ]
    }
   ],
   "source": [
    "for i in d:\n",
    "    a,b,c=i\n",
    "    print(c)\n",
    "        \n",
    "        "
   ]
  },
  {
   "cell_type": "code",
   "execution_count": 71,
   "id": "c0362dcd",
   "metadata": {},
   "outputs": [
    {
     "name": "stdout",
     "output_type": "stream",
     "text": [
      "apple\n",
      "apple\n",
      "apple\n",
      "pie\n",
      "pie\n",
      "pie\n"
     ]
    }
   ],
   "source": [
    "#if else statmenst also possible in generators\n",
    "for  i in ((\"apple\" if i < 3 else \"pie\") for i in range(6)):\n",
    "    print(i)\n"
   ]
  },
  {
   "cell_type": "code",
   "execution_count": 74,
   "id": "403d7167",
   "metadata": {},
   "outputs": [],
   "source": [
    "#generator comsumption \n",
    "gen = (i**2 for i in range(100))\n",
    "  # computes the sum 0 + 1 + 4 + 9 + 25 + ... + 9801\n",
    "#328350"
   ]
  },
  {
   "cell_type": "code",
   "execution_count": 75,
   "id": "29a85a88",
   "metadata": {},
   "outputs": [
    {
     "data": {
      "text/plain": [
       "328350"
      ]
     },
     "execution_count": 75,
     "metadata": {},
     "output_type": "execute_result"
    }
   ],
   "source": [
    "#upon second use of the sum functobn it has nothing left cause it has itered thru it already on the first sum \n",
    "#this is as it does not store values \n",
    "sum(gen)"
   ]
  },
  {
   "cell_type": "code",
   "execution_count": 26,
   "id": "065809f1",
   "metadata": {},
   "outputs": [
    {
     "ename": "StopIteration",
     "evalue": "",
     "output_type": "error",
     "traceback": [
      "\u001b[1;31m---------------------------------------------------------------------------\u001b[0m",
      "\u001b[1;31mStopIteration\u001b[0m                             Traceback (most recent call last)",
      "Input \u001b[1;32mIn [26]\u001b[0m, in \u001b[0;36m<cell line: 14>\u001b[1;34m()\u001b[0m\n\u001b[0;32m     11\u001b[0m \u001b[38;5;241m5\u001b[39m \u001b[38;5;129;01min\u001b[39;00m gen\n\u001b[0;32m     12\u001b[0m \u001b[38;5;66;03m#False\u001b[39;00m\n\u001b[1;32m---> 14\u001b[0m \u001b[38;5;28;43mnext\u001b[39;49m\u001b[43m(\u001b[49m\u001b[43mgen\u001b[49m\u001b[43m)\u001b[49m\n",
      "\u001b[1;31mStopIteration\u001b[0m: "
     ]
    }
   ],
   "source": [
    "\n",
    "#it genorates untill the membership asked \n",
    "# checking for membership consumes a generator until\n",
    "# it finds that item (consuming the entire generator\n",
    "# if the item is not contained within it)\n",
    "gen = (i for i in range(1, 11))\n",
    "5 in gen  # first 5 elements are consumed\n",
    "#True\n",
    "\n",
    "# 1-5 are no longer contained in gen\n",
    "# this check consumes the entire generator!\n",
    "5 in gen\n",
    "#False\n",
    "\n",
    "next(gen)\n"
   ]
  },
  {
   "cell_type": "code",
   "execution_count": 28,
   "id": "d53c1087",
   "metadata": {},
   "outputs": [
    {
     "data": {
      "text/plain": [
       "True"
      ]
     },
     "execution_count": 28,
     "metadata": {},
     "output_type": "execute_result"
    }
   ],
   "source": [
    "#all returns true if all bools(x) for x in the iterable are true\n",
    "#the iterable here is the generator\n",
    "all(i < 10 for i in [1, 3, 5, 7])"
   ]
  },
  {
   "cell_type": "code",
   "execution_count": 29,
   "id": "b5cfd5f2",
   "metadata": {},
   "outputs": [],
   "source": [
    "x = [1, 2, 3]\n",
    "x_it = iter(x)\n",
    "#gives 0 the second time u sum it as it is an iterator now "
   ]
  },
  {
   "cell_type": "code",
   "execution_count": 33,
   "id": "3e02f0f2",
   "metadata": {},
   "outputs": [
    {
     "data": {
      "text/plain": [
       "list"
      ]
     },
     "execution_count": 33,
     "metadata": {},
     "output_type": "execute_result"
    }
   ],
   "source": [
    "sum(x_it)\n",
    "type(x)"
   ]
  },
  {
   "cell_type": "code",
   "execution_count": 31,
   "id": "9c0a74ca",
   "metadata": {},
   "outputs": [
    {
     "data": {
      "text/plain": [
       "<list_iterator at 0x170f338dbe0>"
      ]
     },
     "execution_count": 31,
     "metadata": {},
     "output_type": "execute_result"
    }
   ],
   "source": []
  },
  {
   "cell_type": "code",
   "execution_count": 7,
   "id": "7e32a9f3",
   "metadata": {},
   "outputs": [],
   "source": [
    "'''\n",
    "advanced python modules\n",
    "modules used are \n",
    "collections\n",
    "osmodules and datetime\n",
    "math and random\n",
    "python debugger\n",
    "timeit\n",
    "regular expressions\n",
    "unzipping,zipping modules\n",
    "'''\n",
    "pass"
   ]
  },
  {
   "cell_type": "code",
   "execution_count": 8,
   "id": "6f6b7538",
   "metadata": {},
   "outputs": [],
   "source": [
    "                                            #Collections module"
   ]
  },
  {
   "cell_type": "code",
   "execution_count": 2,
   "id": "b0229c78",
   "metadata": {},
   "outputs": [],
   "source": [
    "from collections import Counter"
   ]
  },
  {
   "cell_type": "code",
   "execution_count": 10,
   "id": "0fee368f",
   "metadata": {},
   "outputs": [],
   "source": [
    "mylist=[1,1,1,2,2,2,2,2,3,3,3,3,3]"
   ]
  },
  {
   "cell_type": "code",
   "execution_count": 15,
   "id": "319a5451",
   "metadata": {},
   "outputs": [
    {
     "data": {
      "text/plain": [
       "Counter({1: 3, 2: 5, 3: 5})"
      ]
     },
     "execution_count": 15,
     "metadata": {},
     "output_type": "execute_result"
    }
   ],
   "source": [
    "#creates a dictionary with the item as the key and the value as the number of times it is present in the given parameter\n",
    "Counter(mylist)\n",
    "#works with tuples,list,strings\n",
    "#u can count the repetition of a word by spliting the string"
   ]
  },
  {
   "cell_type": "code",
   "execution_count": 16,
   "id": "9e02f05c",
   "metadata": {},
   "outputs": [],
   "source": [
    "letters='aaaaaaaabbbbbbbbbbccccdddddddddddd'"
   ]
  },
  {
   "cell_type": "code",
   "execution_count": 17,
   "id": "e28bcc32",
   "metadata": {},
   "outputs": [],
   "source": [
    "c=Counter(letters)"
   ]
  },
  {
   "cell_type": "code",
   "execution_count": 18,
   "id": "26e2cdea",
   "metadata": {},
   "outputs": [
    {
     "data": {
      "text/plain": [
       "Counter({'a': 8, 'b': 10, 'c': 4, 'd': 12})"
      ]
     },
     "execution_count": 18,
     "metadata": {},
     "output_type": "execute_result"
    }
   ],
   "source": [
    "c"
   ]
  },
  {
   "cell_type": "code",
   "execution_count": 19,
   "id": "a0832b64",
   "metadata": {},
   "outputs": [
    {
     "data": {
      "text/plain": [
       "[('d', 12), ('b', 10), ('a', 8), ('c', 4)]"
      ]
     },
     "execution_count": 19,
     "metadata": {},
     "output_type": "execute_result"
    }
   ],
   "source": [
    "c.most_common()\n",
    "#the parameter passed will determine how of the most common are showed\n"
   ]
  },
  {
   "cell_type": "code",
   "execution_count": 20,
   "id": "824c2293",
   "metadata": {},
   "outputs": [
    {
     "data": {
      "text/plain": [
       "[('d', 12), ('b', 10)]"
      ]
     },
     "execution_count": 20,
     "metadata": {},
     "output_type": "execute_result"
    }
   ],
   "source": [
    "c.most_common(2)\n"
   ]
  },
  {
   "cell_type": "code",
   "execution_count": 21,
   "id": "4be8a3f4",
   "metadata": {},
   "outputs": [],
   "source": [
    "'''\n",
    "sum(c.values())                 # total of all counts\n",
    "c.clear()                       # reset all counts\n",
    "list(c)                         # list unique elements\n",
    "set(c)                          # convert to a set\n",
    "dict(c)                         # convert to a regular dictionary\n",
    "c.items()                       # convert to a list of (elem, cnt) pairs\n",
    "Counter(dict(list_of_pairs))    # convert from a list of (elem, cnt) pairs\n",
    "c.most_common()[:-n-1:-1]       # n least common elements\n",
    "c += Counter()                  # remove zero and negative counts\n",
    "'''\n",
    "pass"
   ]
  },
  {
   "cell_type": "code",
   "execution_count": 3,
   "id": "a23d23c3",
   "metadata": {},
   "outputs": [
    {
     "data": {
      "text/plain": [
       "Counter({'How': 1,\n",
       "         'many': 1,\n",
       "         'times': 2,\n",
       "         'does': 1,\n",
       "         'each': 3,\n",
       "         'word': 3,\n",
       "         'show': 1,\n",
       "         'up': 1,\n",
       "         'in': 1,\n",
       "         'this': 1,\n",
       "         'sentence': 1})"
      ]
     },
     "execution_count": 3,
     "metadata": {},
     "output_type": "execute_result"
    }
   ],
   "source": [
    "s = 'How many times does each word show up in this sentence word times each each word'\n",
    "\n",
    "words = s.split()\n",
    "\n",
    "Counter(words)"
   ]
  },
  {
   "cell_type": "code",
   "execution_count": 4,
   "id": "3e82ec1b",
   "metadata": {},
   "outputs": [
    {
     "data": {
      "text/plain": [
       "[('each', 3), ('word', 3)]"
      ]
     },
     "execution_count": 4,
     "metadata": {},
     "output_type": "execute_result"
    }
   ],
   "source": [
    "c = Counter(words)\n",
    "\n",
    "c.most_common(2)"
   ]
  },
  {
   "cell_type": "code",
   "execution_count": 25,
   "id": "7f7d4aef",
   "metadata": {},
   "outputs": [
    {
     "data": {
      "text/plain": [
       "16"
      ]
     },
     "execution_count": 25,
     "metadata": {},
     "output_type": "execute_result"
    }
   ],
   "source": [
    "sum(c.values())"
   ]
  },
  {
   "cell_type": "code",
   "execution_count": 26,
   "id": "8ecb26f3",
   "metadata": {},
   "outputs": [
    {
     "data": {
      "text/plain": [
       "16"
      ]
     },
     "execution_count": 26,
     "metadata": {},
     "output_type": "execute_result"
    }
   ],
   "source": [
    "len(s.split())"
   ]
  },
  {
   "cell_type": "code",
   "execution_count": 7,
   "id": "64c104c5",
   "metadata": {},
   "outputs": [
    {
     "data": {
      "text/plain": [
       "['How',\n",
       " 'many',\n",
       " 'times',\n",
       " 'does',\n",
       " 'each',\n",
       " 'word',\n",
       " 'show',\n",
       " 'up',\n",
       " 'in',\n",
       " 'this',\n",
       " 'sentence']"
      ]
     },
     "execution_count": 7,
     "metadata": {},
     "output_type": "execute_result"
    }
   ],
   "source": [
    "list(c)"
   ]
  },
  {
   "cell_type": "code",
   "execution_count": 11,
   "id": "1506d03b",
   "metadata": {},
   "outputs": [
    {
     "data": {
      "text/plain": [
       "dict_items([('How', 1), ('many', 1), ('times', 2), ('does', 1), ('each', 3), ('word', 3), ('show', 1), ('up', 1), ('in', 1), ('this', 1), ('sentence', 1)])"
      ]
     },
     "execution_count": 11,
     "metadata": {},
     "output_type": "execute_result"
    }
   ],
   "source": [
    "c.items()"
   ]
  },
  {
   "cell_type": "code",
   "execution_count": 12,
   "id": "a1095392",
   "metadata": {},
   "outputs": [],
   "source": [
    "from collections import defaultdict"
   ]
  },
  {
   "cell_type": "code",
   "execution_count": 13,
   "id": "fd9dec01",
   "metadata": {},
   "outputs": [],
   "source": [
    "#when u call fro a key that doesnt exist ina dict it raises an error\n",
    "#what u can do is create a defalt value so whenever a key that doesnt exist is asked it givesa default value \n",
    "d=defaultdict(lambda: 21)\n",
    "#defaulty value is 21"
   ]
  },
  {
   "cell_type": "code",
   "execution_count": 14,
   "id": "35c636a2",
   "metadata": {},
   "outputs": [],
   "source": [
    "d['adding']=100"
   ]
  },
  {
   "cell_type": "code",
   "execution_count": 16,
   "id": "6099f928",
   "metadata": {},
   "outputs": [
    {
     "data": {
      "text/plain": [
       "100"
      ]
     },
     "execution_count": 16,
     "metadata": {},
     "output_type": "execute_result"
    }
   ],
   "source": [
    "d['adding']"
   ]
  },
  {
   "cell_type": "code",
   "execution_count": 18,
   "id": "935620c6",
   "metadata": {},
   "outputs": [
    {
     "data": {
      "text/plain": [
       "21"
      ]
     },
     "execution_count": 18,
     "metadata": {},
     "output_type": "execute_result"
    }
   ],
   "source": [
    "d[\"wrong\"]\n"
   ]
  },
  {
   "cell_type": "code",
   "execution_count": 19,
   "id": "413a5d7e",
   "metadata": {},
   "outputs": [
    {
     "data": {
      "text/plain": [
       "1"
      ]
     },
     "execution_count": 19,
     "metadata": {},
     "output_type": "execute_result"
    }
   ],
   "source": [
    "#another container is named tuples\n",
    "tuple1=(1,2,3,4)\n",
    "tuple1[0]"
   ]
  },
  {
   "cell_type": "code",
   "execution_count": 20,
   "id": "b637c492",
   "metadata": {},
   "outputs": [],
   "source": [
    "from collections import namedtuple"
   ]
  },
  {
   "cell_type": "code",
   "execution_count": 24,
   "id": "ee688fe3",
   "metadata": {},
   "outputs": [],
   "source": [
    "dog=namedtuple('DOG',['age','name','breed'])\n",
    "oscar=dog(age=5,name='oscar',breed='golden')"
   ]
  },
  {
   "cell_type": "code",
   "execution_count": 27,
   "id": "756abdf5",
   "metadata": {},
   "outputs": [
    {
     "data": {
      "text/plain": [
       "'golden'"
      ]
     },
     "execution_count": 27,
     "metadata": {},
     "output_type": "execute_result"
    }
   ],
   "source": [
    "oscar.breed"
   ]
  },
  {
   "cell_type": "code",
   "execution_count": 28,
   "id": "8f25ce44",
   "metadata": {},
   "outputs": [],
   "source": [
    "#reading,writing files and folders.\n",
    "#Python OS module\n"
   ]
  },
  {
   "cell_type": "code",
   "execution_count": null,
   "id": "ed40433c",
   "metadata": {},
   "outputs": [],
   "source": []
  }
 ],
 "metadata": {
  "kernelspec": {
   "display_name": "Python 3",
   "language": "python",
   "name": "python3"
  },
  "language_info": {
   "codemirror_mode": {
    "name": "ipython",
    "version": 3
   },
   "file_extension": ".py",
   "mimetype": "text/x-python",
   "name": "python",
   "nbconvert_exporter": "python",
   "pygments_lexer": "ipython3",
   "version": "3.11.9"
  }
 },
 "nbformat": 4,
 "nbformat_minor": 5
}
