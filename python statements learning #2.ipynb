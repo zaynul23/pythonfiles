{
 "cells": [
  {
   "cell_type": "code",
   "execution_count": null,
   "id": "cba2e278",
   "metadata": {},
   "outputs": [],
   "source": [
    "#if some cindition is true \n",
    "#  it does action and elif for a anither case in case the original condition isnt met\n",
    "#if none of the other conditions are execute this"
   ]
  },
  {
   "cell_type": "code",
   "execution_count": null,
   "id": "d009baf4",
   "metadata": {},
   "outputs": [],
   "source": [
    "   \n",
    "    \n",
    "    \n",
    "    \n",
    "                        #if statement\n",
    "    \n",
    "    \n",
    "    "
   ]
  },
  {
   "cell_type": "code",
   "execution_count": null,
   "id": "6cb8d5b3",
   "metadata": {},
   "outputs": [],
   "source": [
    "if True:\n",
    "    print('true')\n",
    "if 3>2:\n",
    "    print('its true')"
   ]
  },
  {
   "cell_type": "code",
   "execution_count": null,
   "id": "752bfc33",
   "metadata": {},
   "outputs": [],
   "source": [
    "hungry=True\n",
    "if not hungry:\n",
    "    print('feed me')\n",
    "else:\n",
    "    print('not hungry')"
   ]
  },
  {
   "cell_type": "code",
   "execution_count": null,
   "id": "6bdb0a18",
   "metadata": {},
   "outputs": [],
   "source": [
    "status='will take time'\n",
    "if status=='OMW':\n",
    "    print('coming')\n",
    "elif status=='will take time':\n",
    "    print('will be late')\n",
    "else:\n",
    "    print('not coming')"
   ]
  },
  {
   "cell_type": "code",
   "execution_count": null,
   "id": "669bb01a",
   "metadata": {},
   "outputs": [],
   "source": [
    "\n",
    "\n",
    "\n",
    "\n",
    "\n",
    "\n",
    "                             #for loops\n",
    "\n",
    "\n",
    "\n",
    "#key words: break,continue,pass"
   ]
  },
  {
   "cell_type": "code",
   "execution_count": null,
   "id": "c1b3b008",
   "metadata": {},
   "outputs": [],
   "source": [
    "a=[1,2,3,4,5,6,7,8,9]\n",
    "listsum=0\n",
    "for i in a:\n",
    "    listsum=listsum+i\n",
    "print(listsum)"
   ]
  },
  {
   "cell_type": "code",
   "execution_count": null,
   "id": "0f78f2be",
   "metadata": {},
   "outputs": [],
   "source": [
    "b='hello there'"
   ]
  },
  {
   "cell_type": "code",
   "execution_count": null,
   "id": "0568bec5",
   "metadata": {},
   "outputs": [],
   "source": [
    "for _ in b:\n",
    "    print(_)"
   ]
  },
  {
   "cell_type": "code",
   "execution_count": null,
   "id": "1c6b6bc0",
   "metadata": {},
   "outputs": [],
   "source": [
    "tup1=(1,2,3,4,5)\n",
    "for _ in tup1:\n",
    "    print(_)"
   ]
  },
  {
   "cell_type": "code",
   "execution_count": 1,
   "id": "2c9c3ff3",
   "metadata": {},
   "outputs": [
    {
     "name": "stdout",
     "output_type": "stream",
     "text": [
      "1\n",
      "3\n",
      "5\n",
      "\n",
      "\n",
      "2\n",
      "4\n",
      "6\n"
     ]
    }
   ],
   "source": [
    "mylist=[(1,2),(3,4),(5,6)]\n",
    "len(mylist)\n",
    "for (a,b) in mylist:\n",
    "    print(a)\n",
    "print('\\n')\n",
    "for a,b in mylist:\n",
    "    print(b)"
   ]
  },
  {
   "cell_type": "code",
   "execution_count": 3,
   "id": "c1937b69",
   "metadata": {},
   "outputs": [
    {
     "name": "stdout",
     "output_type": "stream",
     "text": [
      "('k1', 1)\n",
      "('k2', 2)\n",
      "('k3', 3)\n",
      "\n",
      "1\n",
      "2\n",
      "3\n",
      "k1\n",
      "k2\n",
      "k3\n",
      "\n",
      "1\n",
      "2\n",
      "3\n",
      "k1\n",
      "k2\n",
      "k3\n"
     ]
    }
   ],
   "source": [
    "dic1={'k1':1,'k2':2,'k3':3}\n",
    "for v in dic1.items():\n",
    "    print(v)\n",
    "print('')\n",
    "for key,value in dic1.items():\n",
    "    print(value)\n",
    "for key,value in dic1.items():\n",
    "    print(key)\n",
    "print('')\n",
    "for v in dic1.values():\n",
    "    print(v)\n",
    "for v in dic1.keys():\n",
    "    print(v)"
   ]
  },
  {
   "cell_type": "code",
   "execution_count": null,
   "id": "c0fa0e0d",
   "metadata": {},
   "outputs": [],
   "source": [
    "\n",
    "\n",
    "\n",
    "\n",
    "\n",
    "\n",
    "\n",
    "\n",
    "\n",
    "\n",
    "                            #while loops\n",
    "\n",
    "\n",
    "\n",
    "\n",
    "\n",
    "\n",
    "\n"
   ]
  },
  {
   "cell_type": "code",
   "execution_count": null,
   "id": "51d27b19",
   "metadata": {},
   "outputs": [],
   "source": [
    "a=1\n",
    "while a<10:\n",
    "    a+=1\n",
    "    print(a)\n",
    "else:\n",
    "    print('a is more than 10')\n"
   ]
  },
  {
   "cell_type": "code",
   "execution_count": null,
   "id": "598aff3a",
   "metadata": {},
   "outputs": [],
   "source": [
    "#PASS works as a place holder to stop errors "
   ]
  },
  {
   "cell_type": "code",
   "execution_count": 1,
   "id": "2fa26778",
   "metadata": {},
   "outputs": [],
   "source": [
    "x='zaynul'\n",
    "for i in x:\n",
    "    pass"
   ]
  },
  {
   "cell_type": "code",
   "execution_count": null,
   "id": "d2193268",
   "metadata": {},
   "outputs": [],
   "source": [
    "#continue: goes to the top of the closest enclosing loop"
   ]
  },
  {
   "cell_type": "code",
   "execution_count": 3,
   "id": "fd42b8b5",
   "metadata": {},
   "outputs": [
    {
     "name": "stdout",
     "output_type": "stream",
     "text": [
      "z\n",
      "a\n",
      "y\n",
      "n\n",
      "u\n"
     ]
    }
   ],
   "source": [
    "x='zaynul'\n",
    "for i in x:\n",
    "    if i=='l':\n",
    "        continue\n",
    "    print(i)"
   ]
  },
  {
   "cell_type": "code",
   "execution_count": null,
   "id": "e4a8cc70",
   "metadata": {},
   "outputs": [],
   "source": [
    "#break:breaks out of the current closest enclsing loop"
   ]
  },
  {
   "cell_type": "code",
   "execution_count": 3,
   "id": "2c93547e",
   "metadata": {},
   "outputs": [
    {
     "name": "stdout",
     "output_type": "stream",
     "text": [
      "1\n",
      "2\n",
      "3\n",
      "4\n",
      "5\n",
      "6\n"
     ]
    }
   ],
   "source": [
    "a=0\n",
    "while a<10:\n",
    "    a+=1\n",
    "    print(a)\n",
    "    if a==6:\n",
    "        break"
   ]
  },
  {
   "cell_type": "code",
   "execution_count": 1,
   "id": "566da823",
   "metadata": {},
   "outputs": [],
   "source": [
    "\n",
    "\n",
    "                        #operators\n",
    "\n"
   ]
  },
  {
   "cell_type": "code",
   "execution_count": 1,
   "id": "aceef5c0",
   "metadata": {},
   "outputs": [
    {
     "data": {
      "text/plain": [
       "True"
      ]
     },
     "execution_count": 1,
     "metadata": {},
     "output_type": "execute_result"
    }
   ],
   "source": [
    "#all returns true if all bools(x) for x in the iterable are true\n",
    "all(i < 10 for i in [1, 3, 5, 7])\n"
   ]
  },
  {
   "cell_type": "code",
   "execution_count": 2,
   "id": "68f3c597",
   "metadata": {},
   "outputs": [
    {
     "name": "stdout",
     "output_type": "stream",
     "text": [
      "20\n"
     ]
    }
   ],
   "source": [
    "#gives abseloute value\n",
    "print(abs(-20))"
   ]
  },
  {
   "cell_type": "code",
   "execution_count": 4,
   "id": "a1792dce",
   "metadata": {},
   "outputs": [
    {
     "name": "stdout",
     "output_type": "stream",
     "text": [
      "2\n",
      "4\n",
      "6\n",
      "8\n",
      "10\n",
      "12\n",
      "14\n"
     ]
    }
   ],
   "source": [
    "#range operator\n",
    "\n",
    "for num in range(2,15,2):\n",
    "    print(num)"
   ]
  },
  {
   "cell_type": "code",
   "execution_count": 4,
   "id": "66344ac3",
   "metadata": {},
   "outputs": [
    {
     "data": {
      "text/plain": [
       "[1, 2, 3, 4, 5, 6, 7, 8, 9, 10]"
      ]
     },
     "execution_count": 4,
     "metadata": {},
     "output_type": "execute_result"
    }
   ],
   "source": [
    "c=list(range(1,11))\n",
    "c"
   ]
  },
  {
   "cell_type": "code",
   "execution_count": 12,
   "id": "a7b6a780",
   "metadata": {},
   "outputs": [
    {
     "name": "stdout",
     "output_type": "stream",
     "text": [
      "the letter at index 0 the letter is a\n",
      "the letter at index 1 the letter is b\n",
      "the letter at index 2 the letter is c\n",
      "the letter at index 3 the letter is d\n",
      "the letter at index 4 the letter is e\n"
     ]
    }
   ],
   "source": [
    "index_count=0\n",
    "for letter in 'abcde':\n",
    "    print(f'the letter at index {index_count} the letter is {letter}')\n",
    "    index_count+=1\n",
    "     "
   ]
  },
  {
   "cell_type": "code",
   "execution_count": 13,
   "id": "cd7f4c6b",
   "metadata": {},
   "outputs": [
    {
     "name": "stdout",
     "output_type": "stream",
     "text": [
      "a\n",
      "b\n",
      "c\n",
      "d\n",
      "e\n"
     ]
    }
   ],
   "source": [
    "index=0\n",
    "word='abcde'\n",
    "for l in word:\n",
    "    print(word[index])\n",
    "    index+=1"
   ]
  },
  {
   "cell_type": "code",
   "execution_count": 1,
   "id": "b9d9f4cd",
   "metadata": {},
   "outputs": [
    {
     "name": "stdout",
     "output_type": "stream",
     "text": [
      "the letter at index (0, 'a') is x  \n",
      "the letter at index (1, 'b') is x  \n",
      "the letter at index (2, 'c') is x  \n",
      "the letter at index (3, 'd') is x  \n",
      "the letter at index (4, 'e') is x  \n"
     ]
    }
   ],
   "source": []
  },
  {
   "cell_type": "code",
   "execution_count": 15,
   "id": "c125a376",
   "metadata": {},
   "outputs": [
    {
     "name": "stdout",
     "output_type": "stream",
     "text": [
      "the letter at index 0 is a\n",
      "the letter at index 1 is b\n",
      "the letter at index 2 is c\n",
      "the letter at index 3 is d\n",
      "the letter at index 4 is e\n"
     ]
    }
   ],
   "source": [
    "#instead of above we can use enumerate operator\n",
    "word='abcde'\n",
    "for index,letter in enumerate(word):\n",
    "    print(f'the letter at index {index} is {letter}')"
   ]
  },
  {
   "cell_type": "code",
   "execution_count": 8,
   "id": "25ce7fe1",
   "metadata": {},
   "outputs": [
    {
     "data": {
      "text/plain": [
       "<enumerate at 0x29f73425700>"
      ]
     },
     "execution_count": 8,
     "metadata": {},
     "output_type": "execute_result"
    }
   ],
   "source": [
    "a=enumerate(word)\n",
    "a"
   ]
  },
  {
   "cell_type": "code",
   "execution_count": 9,
   "id": "53eb766d",
   "metadata": {},
   "outputs": [
    {
     "name": "stdout",
     "output_type": "stream",
     "text": [
      "1 4 7\n",
      "2 5 8\n",
      "3 6 9\n"
     ]
    }
   ],
   "source": [
    "#zip function\n",
    "L1=['1',\"2\",'3']\n",
    "L2=[\"4\",'5','6']\n",
    "L3=['7','8','9']\n",
    "L4=zip(L1,L2,L3)\n",
    "for a,b,c in L4:\n",
    "    print(a,b,c)\n"
   ]
  },
  {
   "cell_type": "code",
   "execution_count": 3,
   "id": "ff77a411",
   "metadata": {},
   "outputs": [
    {
     "data": {
      "text/plain": [
       "[('1', '4', '7'), ('2', '5', '8'), ('3', '6', '9')]"
      ]
     },
     "execution_count": 3,
     "metadata": {},
     "output_type": "execute_result"
    }
   ],
   "source": [
    "list(zip(L1,L2,L3))"
   ]
  },
  {
   "cell_type": "code",
   "execution_count": 23,
   "id": "28bd69f2",
   "metadata": {},
   "outputs": [
    {
     "data": {
      "text/plain": [
       "False"
      ]
     },
     "execution_count": 23,
     "metadata": {},
     "output_type": "execute_result"
    }
   ],
   "source": [
    "'12' in L3"
   ]
  },
  {
   "cell_type": "code",
   "execution_count": 11,
   "id": "49da3764",
   "metadata": {},
   "outputs": [
    {
     "data": {
      "text/plain": [
       "True"
      ]
     },
     "execution_count": 11,
     "metadata": {},
     "output_type": "execute_result"
    }
   ],
   "source": [
    "L3=[12, 13, 14, 15, 16]\n",
    "12 in L3"
   ]
  },
  {
   "cell_type": "code",
   "execution_count": 26,
   "id": "d203e60c",
   "metadata": {},
   "outputs": [
    {
     "data": {
      "text/plain": [
       "False"
      ]
     },
     "execution_count": 26,
     "metadata": {},
     "output_type": "execute_result"
    }
   ],
   "source": [
    "'a' in 'hello world'"
   ]
  },
  {
   "cell_type": "code",
   "execution_count": 1,
   "id": "10988519",
   "metadata": {},
   "outputs": [
    {
     "name": "stdout",
     "output_type": "stream",
     "text": [
      "[1, 2, 3, 4, 5, 6, 7, 8, 9, 10]\n"
     ]
    }
   ],
   "source": [
    "mylist=list(range(1,11))\n",
    "print(mylist)"
   ]
  },
  {
   "cell_type": "code",
   "execution_count": 24,
   "id": "dc1bd781",
   "metadata": {},
   "outputs": [
    {
     "data": {
      "text/plain": [
       "[12, 33, 66, 86, 3245]"
      ]
     },
     "execution_count": 24,
     "metadata": {},
     "output_type": "execute_result"
    }
   ],
   "source": [
    "mylist5=[12,3245,66,33,86]\n",
    "sorted(mylist5)"
   ]
  },
  {
   "cell_type": "code",
   "execution_count": 25,
   "id": "b4e7e082",
   "metadata": {},
   "outputs": [],
   "source": [
    "from random import shuffle"
   ]
  },
  {
   "cell_type": "code",
   "execution_count": 26,
   "id": "f69ce978",
   "metadata": {},
   "outputs": [],
   "source": [
    "shuffle(mylist)"
   ]
  },
  {
   "cell_type": "code",
   "execution_count": 28,
   "id": "4f58281e",
   "metadata": {},
   "outputs": [],
   "source": [
    "from random import randint\n"
   ]
  },
  {
   "cell_type": "code",
   "execution_count": 36,
   "id": "8c8ffe95",
   "metadata": {},
   "outputs": [],
   "source": [
    "mynum2=randint(0,100)"
   ]
  },
  {
   "cell_type": "code",
   "execution_count": 39,
   "id": "9abd1bba",
   "metadata": {},
   "outputs": [
    {
     "data": {
      "text/plain": [
       "32"
      ]
     },
     "execution_count": 39,
     "metadata": {},
     "output_type": "execute_result"
    }
   ],
   "source": [
    "mynum2"
   ]
  },
  {
   "cell_type": "code",
   "execution_count": 40,
   "id": "9f0fb56c",
   "metadata": {},
   "outputs": [
    {
     "name": "stdout",
     "output_type": "stream",
     "text": [
      "enter ur num here23\n"
     ]
    },
    {
     "data": {
      "text/plain": [
       "'23'"
      ]
     },
     "execution_count": 40,
     "metadata": {},
     "output_type": "execute_result"
    }
   ],
   "source": [
    "input('enter ur num here')"
   ]
  },
  {
   "cell_type": "markdown",
   "id": "5b9ab9c7",
   "metadata": {},
   "source": [
    "                      \n",
    "                      \n",
    "                      \n",
    "                      \n",
    "                      \n",
    "                      \n",
    "                      \n",
    "                      \n",
    "                        List Comprehnsions  \n",
    "                      \n",
    "                      \n",
    "                      \n",
    "                      \n",
    "                      \n",
    "                      "
   ]
  },
  {
   "cell_type": "code",
   "execution_count": 42,
   "id": "ddcd231b",
   "metadata": {},
   "outputs": [
    {
     "data": {
      "text/plain": [
       "['h', 'e', 'l', 'l', 'o']"
      ]
     },
     "execution_count": 42,
     "metadata": {},
     "output_type": "execute_result"
    }
   ],
   "source": [
    "#strlist=[]\n",
    "#mystring='hello'\n",
    "#for l in mystring:\n",
    "#    strlist.append(l)\n",
    "#strlist   \n",
    "\n",
    "#instead of this u can do\n",
    "\n",
    "strlist=[l for l in 'hello']\n",
    "strlist"
   ]
  },
  {
   "cell_type": "code",
   "execution_count": 48,
   "id": "c947d7ae",
   "metadata": {},
   "outputs": [
    {
     "data": {
      "text/plain": [
       "[0, 1, 2, 3, 4, 5, 6, 7, 8, 9, 10]"
      ]
     },
     "execution_count": 48,
     "metadata": {},
     "output_type": "execute_result"
    }
   ],
   "source": [
    "mylist=[n for n in range(0,11)]\n",
    "mylist"
   ]
  },
  {
   "cell_type": "code",
   "execution_count": 44,
   "id": "4771903a",
   "metadata": {},
   "outputs": [
    {
     "data": {
      "text/plain": [
       "[0, 2, 4, 6, 8, 10, 12, 14, 16, 18, 20, 22, 24]"
      ]
     },
     "execution_count": 44,
     "metadata": {},
     "output_type": "execute_result"
    }
   ],
   "source": [
    "mylist=[n for n in range(0,25) if n%2==0]\n",
    "mylist"
   ]
  },
  {
   "cell_type": "code",
   "execution_count": 47,
   "id": "4d1cb5fc",
   "metadata": {},
   "outputs": [
    {
     "data": {
      "text/plain": [
       "[33.8, 37.4, 44.6, 53.6, 86.0]"
      ]
     },
     "execution_count": 47,
     "metadata": {},
     "output_type": "execute_result"
    }
   ],
   "source": [
    "celcius=[1,3,7,12,30]\n",
    "farenhite=[((9/5)*l+32) for l in celcius]\n",
    "farenhite"
   ]
  },
  {
   "cell_type": "code",
   "execution_count": 5,
   "id": "8c09164b",
   "metadata": {},
   "outputs": [
    {
     "data": {
      "text/plain": [
       "['odd', 2, 'odd', 4, 'odd', 6, 'odd', 8, 'odd', 10]"
      ]
     },
     "execution_count": 5,
     "metadata": {},
     "output_type": "execute_result"
    }
   ],
   "source": [
    "results=[x if x%2==0 else 'odd' for x in range(1,11)]\n",
    "results"
   ]
  },
  {
   "cell_type": "code",
   "execution_count": 5,
   "id": "616a6655",
   "metadata": {},
   "outputs": [],
   "source": [
    "results=[x  for x in range(1,11) if x%2==0]\n"
   ]
  },
  {
   "cell_type": "code",
   "execution_count": null,
   "id": "6b1f7de2",
   "metadata": {},
   "outputs": [],
   "source": [
    "results=[x if x%2==0 else 'odd' for x in range(1,11)]\n"
   ]
  },
  {
   "cell_type": "code",
   "execution_count": 57,
   "id": "99e916e2",
   "metadata": {},
   "outputs": [
    {
     "data": {
      "text/plain": [
       "[2, 20, 200, 3, 30, 300, 4, 40, 400]"
      ]
     },
     "execution_count": 57,
     "metadata": {},
     "output_type": "execute_result"
    }
   ],
   "source": [
    "#mylist1=[]\n",
    "#for x in [2,3,4]:\n",
    "#    for y in[1,10,100]:\n",
    "#        mylist1.append(x*y)\n",
    "#mylist1\n",
    "#instead of that we can do\n",
    "mylist1=[x*y for x in [2,3,4] for y in [1,10,100]]\n",
    "mylist1"
   ]
  },
  {
   "cell_type": "code",
   "execution_count": 1,
   "id": "6b9ee7f1",
   "metadata": {},
   "outputs": [],
   "source": [
    "                     #python test"
   ]
  },
  {
   "cell_type": "code",
   "execution_count": 2,
   "id": "17f2b4ed",
   "metadata": {},
   "outputs": [
    {
     "name": "stdout",
     "output_type": "stream",
     "text": [
      "start\n",
      "s\n",
      "sentence\n"
     ]
    }
   ],
   "source": [
    "st = 'Print only the words that start with s in this sentence'\n",
    "st=st.split()\n",
    "for i in st:\n",
    "    if i[0]=='s':\n",
    "        print(i)"
   ]
  },
  {
   "cell_type": "code",
   "execution_count": 4,
   "id": "c913f3fa",
   "metadata": {},
   "outputs": [
    {
     "data": {
      "text/plain": [
       "[0, 1, 2, 3, 4, 5, 6, 7, 8, 9, 10]"
      ]
     },
     "execution_count": 4,
     "metadata": {},
     "output_type": "execute_result"
    }
   ],
   "source": [
    "a=[l for l in range(0,11)]\n",
    "a"
   ]
  },
  {
   "cell_type": "code",
   "execution_count": 6,
   "id": "c31b9a35",
   "metadata": {},
   "outputs": [
    {
     "data": {
      "text/plain": [
       "[0, 3, 6, 9, 12, 15, 18, 21, 24, 27, 30, 33, 36, 39, 42, 45, 48]"
      ]
     },
     "execution_count": 6,
     "metadata": {},
     "output_type": "execute_result"
    }
   ],
   "source": [
    "a=[l for l in range(0,51) if l%3==0]\n",
    "a"
   ]
  },
  {
   "cell_type": "code",
   "execution_count": 7,
   "id": "3998668f",
   "metadata": {},
   "outputs": [
    {
     "name": "stdout",
     "output_type": "stream",
     "text": [
      "word\n",
      "in\n",
      "this\n",
      "sentence\n",
      "that\n",
      "an\n",
      "even\n",
      "number\n",
      "of\n"
     ]
    }
   ],
   "source": [
    "st = 'Print every word in this sentence that has an even number of letters'\n",
    "st=st.split()\n",
    "for i in st:\n",
    "    if len(i)%2==0:\n",
    "        print(i)"
   ]
  },
  {
   "cell_type": "code",
   "execution_count": 11,
   "id": "599057b5",
   "metadata": {},
   "outputs": [
    {
     "name": "stdout",
     "output_type": "stream",
     "text": [
      "1\n",
      "2\n",
      "Fizz\n",
      "4\n",
      "Buzz\n",
      "Fizz\n",
      "7\n",
      "8\n",
      "Fizz\n",
      "Buzz\n",
      "11\n",
      "Fizz\n",
      "13\n",
      "14\n",
      "Fizzbuzz\n",
      "16\n",
      "17\n",
      "Fizz\n",
      "19\n",
      "Buzz\n",
      "Fizz\n",
      "22\n",
      "23\n",
      "Fizz\n",
      "Buzz\n",
      "26\n",
      "Fizz\n",
      "28\n",
      "29\n",
      "Fizzbuzz\n",
      "31\n",
      "32\n",
      "Fizz\n",
      "34\n",
      "Buzz\n",
      "Fizz\n",
      "37\n",
      "38\n",
      "Fizz\n",
      "Buzz\n",
      "41\n",
      "Fizz\n",
      "43\n",
      "44\n",
      "Fizzbuzz\n",
      "46\n",
      "47\n",
      "Fizz\n",
      "49\n",
      "Buzz\n",
      "Fizz\n",
      "52\n",
      "53\n",
      "Fizz\n",
      "Buzz\n",
      "56\n",
      "Fizz\n",
      "58\n",
      "59\n",
      "Fizzbuzz\n",
      "61\n",
      "62\n",
      "Fizz\n",
      "64\n",
      "Buzz\n",
      "Fizz\n",
      "67\n",
      "68\n",
      "Fizz\n",
      "Buzz\n",
      "71\n",
      "Fizz\n",
      "73\n",
      "74\n",
      "Fizzbuzz\n",
      "76\n",
      "77\n",
      "Fizz\n",
      "79\n",
      "Buzz\n",
      "Fizz\n",
      "82\n",
      "83\n",
      "Fizz\n",
      "Buzz\n",
      "86\n",
      "Fizz\n",
      "88\n",
      "89\n",
      "Fizzbuzz\n",
      "91\n",
      "92\n",
      "Fizz\n",
      "94\n",
      "Buzz\n",
      "Fizz\n",
      "97\n",
      "98\n",
      "Fizz\n",
      "Buzz\n"
     ]
    }
   ],
   "source": [
    "for i in range(1,101):\n",
    "    if i%3==0 and i%5==0:\n",
    "        print('Fizzbuzz')\n",
    "    elif i%5==0:\n",
    "        print('Buzz')\n",
    "    elif i%3==0 :\n",
    "        print('Fizz')\n",
    "    else:\n",
    "        print(i)\n",
    "        \n",
    "        "
   ]
  },
  {
   "cell_type": "code",
   "execution_count": null,
   "id": "834eece7",
   "metadata": {},
   "outputs": [],
   "source": [
    "st = 'Create a list of the first letters of every word in this string'\n",
    "a=[i[0] for i in st.split()]\n",
    "a"
   ]
  },
  {
   "cell_type": "raw",
   "id": "63564cce",
   "metadata": {},
   "source": [
    "                                                   \n",
    "                                                   \n",
    "                                                   \n",
    "                                                   \n",
    "                                                   \n",
    "                                                   \n",
    "                                                                                                                                                       \n",
    "                                                  \n",
    "                                                                                                                                                     #FUNCTIONS\n",
    "                                  \n",
    "                                  \n",
    "                                  \n",
    "                                  \n",
    "                                  \n",
    "                                  \n",
    "                                  \n",
    "                                  \n",
    "                                  "
   ]
  },
  {
   "cell_type": "code",
   "execution_count": 20,
   "id": "71cbc35a",
   "metadata": {},
   "outputs": [],
   "source": [
    "#def keyword is used to make functions \n",
    "#doing basic funtions\n"
   ]
  },
  {
   "cell_type": "code",
   "execution_count": 24,
   "id": "46e4b0de",
   "metadata": {},
   "outputs": [
    {
     "name": "stdout",
     "output_type": "stream",
     "text": [
      "hello zaynul\n"
     ]
    }
   ],
   "source": [
    "def say_hello(lols):\n",
    "    print(f'hello {lols}')\n",
    "say_hello('zaynul')\n",
    "    "
   ]
  },
  {
   "cell_type": "code",
   "execution_count": null,
   "id": "1512d5c5",
   "metadata": {},
   "outputs": [],
   "source": [
    "def"
   ]
  }
 ],
 "metadata": {
  "kernelspec": {
   "display_name": "Python 3",
   "language": "python",
   "name": "python3"
  },
  "language_info": {
   "codemirror_mode": {
    "name": "ipython",
    "version": 3
   },
   "file_extension": ".py",
   "mimetype": "text/x-python",
   "name": "python",
   "nbconvert_exporter": "python",
   "pygments_lexer": "ipython3",
   "version": "3.11.9"
  }
 },
 "nbformat": 4,
 "nbformat_minor": 5
}
