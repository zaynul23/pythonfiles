{
 "cells": [
  {
   "cell_type": "code",
   "execution_count": null,
   "id": "8f5d5a6e",
   "metadata": {},
   "outputs": [],
   "source": [
    "def board(symbols):\n",
    "    print('\\n'*100)\n",
    "    print('           |           |           \\n'\n",
    "        '           |           |           \\n'\n",
    "        f'     {symbols[1]}     |     {symbols[2]}     |     {symbols[3]}      \\n'\n",
    "        '           |           |           \\n'\n",
    "        '           |           |           \\n'\n",
    "        '-----------|-----------|-----------\\n'\n",
    "        '           |           |           \\n'\n",
    "        '           |           |           \\n'             \n",
    "        f'     {symbols[4]}     |     {symbols[5]}     |     {symbols[6]}      \\n'\n",
    "        '           |           |           \\n'\n",
    "        '           |           |           \\n'\n",
    "        '-----------|-----------|-----------\\n'\n",
    "        '           |           |           \\n'\n",
    "        '           |           |           \\n'             \n",
    "        f'     {symbols[7]}     |     {symbols[8]}     |     {symbols[9]}      \\n'\n",
    "        '           |           |           \\n'\n",
    "        '           |           |           ')"
   ]
  },
  {
   "cell_type": "code",
   "execution_count": 1,
   "id": "7cb8311c",
   "metadata": {},
   "outputs": [
    {
     "data": {
      "text/plain": [
       "[[' ', ' ', ' '], [' ', ' ', ' '], [' ', ' ', ' ']]"
      ]
     },
     "execution_count": 1,
     "metadata": {},
     "output_type": "execute_result"
    }
   ],
   "source": [
    "dll=[[' ']*3]*3\n",
    "dll"
   ]
  },
  {
   "cell_type": "code",
   "execution_count": null,
   "id": "4e382bd8",
   "metadata": {},
   "outputs": [],
   "source": []
  }
 ],
 "metadata": {
  "kernelspec": {
   "display_name": "base",
   "language": "python",
   "name": "python3"
  },
  "language_info": {
   "codemirror_mode": {
    "name": "ipython",
    "version": 3
   },
   "file_extension": ".py",
   "mimetype": "text/x-python",
   "name": "python",
   "nbconvert_exporter": "python",
   "pygments_lexer": "ipython3",
   "version": "3.12.7"
  }
 },
 "nbformat": 4,
 "nbformat_minor": 5
}
