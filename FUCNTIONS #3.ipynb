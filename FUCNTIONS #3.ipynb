{
 "cells": [
  {
   "cell_type": "markdown",
   "id": "65bb74c4",
   "metadata": {},
   "source": [
    "                                                  Functions "
   ]
  },
  {
   "cell_type": "code",
   "execution_count": null,
   "id": "479f9da0",
   "metadata": {},
   "outputs": [],
   "source": [
    "def sayname():\n",
    "    return 'hello'\n",
    "sayname()\n"
   ]
  },
  {
   "cell_type": "code",
   "execution_count": null,
   "id": "dbf4edfb",
   "metadata": {},
   "outputs": [],
   "source": [
    "def add_num(num1,num2):\n",
    "    return num1+num2\n",
    "result=add_num(1,2)"
   ]
  },
  {
   "cell_type": "code",
   "execution_count": null,
   "id": "36ed059a",
   "metadata": {},
   "outputs": [],
   "source": [
    "#chcek if num is even\n",
    "def iseven(a):\n",
    "    if a%2==0:\n",
    "        print(f'{a} is even')\n",
    "    else:\n",
    "        print(f'{a} is odd')\n",
    "iseven(3)"
   ]
  },
  {
   "cell_type": "code",
   "execution_count": null,
   "id": "3415db40",
   "metadata": {},
   "outputs": [],
   "source": [
    "def iseven1(a):\n",
    "    return a%2==0\n",
    "iseven1(3)\n",
    "    "
   ]
  },
  {
   "cell_type": "code",
   "execution_count": null,
   "id": "fcc71dd7",
   "metadata": {},
   "outputs": [],
   "source": [
    "#funtion to see if an even num is in the list\n",
    "def eveninlist(a):\n",
    "    for i in a:\n",
    "        if i%2==0:\n",
    "            return True\n",
    "        else:\n",
    "            pass\n",
    "    return False\n",
    "'''when return is used it immedietly ends the function so if the first num is odd \n",
    "but the sec ond is even it wass pass flase anyways causde it cuts off after the first odd numebr\n",
    "so we return after the list is finsished and no even is passed thru '''"
   ]
  },
  {
   "cell_type": "code",
   "execution_count": 1,
   "id": "524045fc",
   "metadata": {},
   "outputs": [
    {
     "data": {
      "text/plain": [
       "[34, 4, 6, 76, 8, 90]"
      ]
     },
     "execution_count": 1,
     "metadata": {},
     "output_type": "execute_result"
    }
   ],
   "source": [
    "#in the case of returning all even nums of the list \n",
    "def even_number_return(a):\n",
    "    evennums=[i for i in a if i % 2 == 0]\n",
    "    return evennums\n",
    "even_number_return([1,23,34,4,5,6,76,7,8,90])\n",
    "        "
   ]
  },
  {
   "cell_type": "code",
   "execution_count": null,
   "id": "6d1458e8",
   "metadata": {},
   "outputs": [],
   "source": [
    "                                             #tuple unpacking with functions "
   ]
  },
  {
   "cell_type": "code",
   "execution_count": 1,
   "id": "ebd5b494",
   "metadata": {},
   "outputs": [],
   "source": [
    "#checking employ of the month\n",
    "workhours=[('zaynul',122),('sakddn',13324),('lokesh',900)]\n",
    "def employee_of_month(c):\n",
    "    \n",
    "    \n",
    "    max=0\n",
    "    \n",
    "    employee1=''\n",
    "    \n",
    "    for employee,hours in c:\n",
    "        if hours>max:\n",
    "            max=hours\n",
    "            employee_of_the_month=employee\n",
    "        else:\n",
    "            pass\n",
    "    return (employee_of_the_month,max)\n",
    "name,hoursworked=employee_of_month(workhours)"
   ]
  },
  {
   "cell_type": "code",
   "execution_count": 2,
   "id": "07b1358e",
   "metadata": {},
   "outputs": [
    {
     "data": {
      "text/plain": [
       "13324"
      ]
     },
     "execution_count": 2,
     "metadata": {},
     "output_type": "execute_result"
    }
   ],
   "source": [
    "hoursworked\n",
    "\n",
    "    "
   ]
  },
  {
   "cell_type": "code",
   "execution_count": null,
   "id": "a100bdec",
   "metadata": {},
   "outputs": [],
   "source": [
    "cups=[1,2,3,'ball',5,6,7]"
   ]
  },
  {
   "cell_type": "code",
   "execution_count": null,
   "id": "fb805e36",
   "metadata": {},
   "outputs": [],
   "source": [
    "#python suffling item in list and guessing the location\n",
    "from random import shuffle\n",
    "def shuffle_list(mylist):\n",
    "    shuffle(mylist)\n",
    "    return mylist\n"
   ]
  },
  {
   "cell_type": "code",
   "execution_count": null,
   "id": "49a751e4",
   "metadata": {},
   "outputs": [],
   "source": [
    "shuffled_list=shuffle_list(cups)"
   ]
  },
  {
   "cell_type": "code",
   "execution_count": null,
   "id": "54e63dc3",
   "metadata": {},
   "outputs": [],
   "source": [
    "shuffled_list"
   ]
  },
  {
   "cell_type": "code",
   "execution_count": null,
   "id": "502fd487",
   "metadata": {},
   "outputs": [],
   "source": [
    "def playerguessinput():\n",
    "    shuffled_list=shuffle_list(cups)\n",
    "    guess=int(input('guess where the ball is '))\n",
    "    while guess> len(shuffled_list)-1:\n",
    "        guess=int(input('input a value thats correct'))\n",
    "    return guess\n",
    "    "
   ]
  },
  {
   "cell_type": "code",
   "execution_count": null,
   "id": "962a5c9b",
   "metadata": {},
   "outputs": [],
   "source": [
    "def check_guess(shuffled,guess):\n",
    "    if shuffled[guess-1]=='ball':\n",
    "        return \"u guessed right\"\n",
    "    else:\n",
    "        print(\"u guessed wrong\")\n",
    "        print(shuffled)\n",
    "    "
   ]
  },
  {
   "cell_type": "code",
   "execution_count": 18,
   "id": "b10e943b",
   "metadata": {},
   "outputs": [
    {
     "name": "stdout",
     "output_type": "stream",
     "text": [
      "guess where the ball is 1\n",
      "u guessed right\n",
      "['ball', 2, 3, 5, 7, 6, 1]\n"
     ]
    }
   ],
   "source": [
    "cups=[1,2,3,'ball',5,6,7]\n",
    "from random import shuffle\n",
    "def shuffle_list(mylist):\n",
    "    shuffle(mylist)\n",
    "    return mylist\n",
    "\n",
    "def playerguessinput():\n",
    "    shuffled_list=shuffle_list(cups)\n",
    "    guess=int(input('guess where the ball is '))\n",
    "    while guess> len(shuffled_list):\n",
    "        guess=int(input('input a value thats correct'))\n",
    "    return guess\n",
    "\n",
    "\n",
    "def check_guess(shuffled,guess):\n",
    "    if shuffled[guess-1]=='ball':\n",
    "        print(\"u guessed right\")\n",
    "        print(shuffled)\n",
    "    else:\n",
    "        print(\"u guessed wrong\")\n",
    "        print(shuffled)\n",
    "        \n",
    "shuffled_list=shuffle_list(cups)\n",
    "guessinput=playerguessinput()\n",
    "check_guess(shuffled_list,guessinput)"
   ]
  },
  {
   "cell_type": "code",
   "execution_count": null,
   "id": "3c2957c8",
   "metadata": {},
   "outputs": [],
   "source": [
    "                        #*args and **kwargs"
   ]
  },
  {
   "cell_type": "code",
   "execution_count": null,
   "id": "8645c9c6",
   "metadata": {},
   "outputs": [],
   "source": [
    "#*args is a parameter u can fill in functions and it turns all the positional parameters as a tuple and u can put as man as u want"
   ]
  },
  {
   "cell_type": "code",
   "execution_count": 19,
   "id": "3fafb198",
   "metadata": {},
   "outputs": [
    {
     "data": {
      "text/plain": [
       "239"
      ]
     },
     "execution_count": 19,
     "metadata": {},
     "output_type": "execute_result"
    }
   ],
   "source": [
    "#args is inot necessarrily the word that has to be used but is conventional\n",
    "\n",
    "def sumfunc(*args):\n",
    "    return sum(args)\n",
    "sumfunc(12,34,5,6,87,9,86)\n",
    "    "
   ]
  },
  {
   "cell_type": "code",
   "execution_count": null,
   "id": "052ceef2",
   "metadata": {},
   "outputs": [],
   "source": [
    "sum()"
   ]
  },
  {
   "cell_type": "code",
   "execution_count": 20,
   "id": "03afd9be",
   "metadata": {},
   "outputs": [
    {
     "name": "stdout",
     "output_type": "stream",
     "text": [
      "1\n",
      "2\n",
      "3\n",
      "4\n",
      "5\n",
      "6\n",
      "7\n",
      "89\n",
      "23\n"
     ]
    }
   ],
   "source": [
    "def iterate_args(*args):\n",
    "    for i in args:\n",
    "        print(i)\n",
    "iterate_args(1,2,3,4,5,6,7,89,23)"
   ]
  },
  {
   "cell_type": "code",
   "execution_count": 35,
   "id": "f9e08d35",
   "metadata": {},
   "outputs": [
    {
     "name": "stdout",
     "output_type": "stream",
     "text": [
      "my language of choice is python\n"
     ]
    }
   ],
   "source": [
    "#**kwargs bulds a dictionary \n",
    "def myfunc(**kwargs):\n",
    "        print('my language of choice is {}'.format(kwargs['language']))\n",
    "    \n",
    "myfunc(language='python',food='spicy',hieght=6) "
   ]
  },
  {
   "cell_type": "code",
   "execution_count": 3,
   "id": "465554f5",
   "metadata": {},
   "outputs": [
    {
     "name": "stdout",
     "output_type": "stream",
     "text": [
      "['food', 'tpye', 'genre']\n"
     ]
    }
   ],
   "source": [
    "def kwargss(**kwargs):\n",
    "    print(list(kwargs.keys()))\n",
    "kwargss(food='potato',tpye='spicy',genre='fastfood')"
   ]
  },
  {
   "cell_type": "code",
   "execution_count": 4,
   "id": "d6521087",
   "metadata": {},
   "outputs": [
    {
     "name": "stdout",
     "output_type": "stream",
     "text": [
      "(1, 2, 3, 4, 5, 6)\n",
      "{'food': 'potato'}\n",
      "i would like to 1 potato\n"
     ]
    }
   ],
   "source": [
    "def myfunc(*args,**kwargs):\n",
    "    print(args)\n",
    "    print(kwargs)\n",
    "    print('i would like to {a} {k}'.format(a=args[0],k=kwargs['food']))\n",
    "myfunc(1,2,3,4,5,6,food='potato')"
   ]
  },
  {
   "cell_type": "code",
   "execution_count": null,
   "id": "9d5fe094",
   "metadata": {},
   "outputs": [],
   "source": [
    "                           #functions worksheet\n"
   ]
  },
  {
   "cell_type": "code",
   "execution_count": null,
   "id": "b35375c5",
   "metadata": {},
   "outputs": [],
   "source": [
    "def lesser_of_two_evens(*args):\n",
    "    for i in args:\n",
    "        if i%2==0:\n",
    "            pass\n",
    "        else:\n",
    "            return max(args)\n",
    "    return min(args)"
   ]
  },
  {
   "cell_type": "code",
   "execution_count": null,
   "id": "67fe9743",
   "metadata": {},
   "outputs": [],
   "source": [
    "def animal_crackers(text):\n",
    "    if text.split()[0][0].lower==text.split()[1][0].lower:\n",
    "        return True\n",
    "    else:\n",
    "        return False"
   ]
  },
  {
   "cell_type": "code",
   "execution_count": null,
   "id": "644c9b29",
   "metadata": {},
   "outputs": [],
   "source": [
    "animal_crackers('Crazy Kangaroo')"
   ]
  },
  {
   "cell_type": "code",
   "execution_count": null,
   "id": "ccef115f",
   "metadata": {},
   "outputs": [],
   "source": [
    "def makes_twenty(n1,n2):\n",
    "    if n1+n2==20 or n1==20 or n2==20:\n",
    "        return True\n",
    "    else:\n",
    "        return False"
   ]
  },
  {
   "cell_type": "code",
   "execution_count": null,
   "id": "e7fa36cf",
   "metadata": {},
   "outputs": [],
   "source": [
    "makes_twenty(20,10)\n"
   ]
  },
  {
   "cell_type": "code",
   "execution_count": null,
   "id": "f6bc11cb",
   "metadata": {},
   "outputs": [],
   "source": [
    "def old_macdonald(name):\n",
    "    out=''\n",
    "    for i in range(len(name)):\n",
    "        if i==0 or i==3:\n",
    "            out+=name[i].upper()\n",
    "        else:\n",
    "            out+=name[i]\n",
    "    return out"
   ]
  },
  {
   "cell_type": "code",
   "execution_count": null,
   "id": "18eb3f9b",
   "metadata": {},
   "outputs": [],
   "source": [
    "old_macdonald('macdonald')\n"
   ]
  },
  {
   "cell_type": "code",
   "execution_count": null,
   "id": "4b4c41dc",
   "metadata": {},
   "outputs": [],
   "source": [
    "def master_yoda(text):\n",
    "    out=''\n",
    "    for i in text.split()[::-1]:\n",
    "        out+=i+' '\n",
    "    return out"
   ]
  },
  {
   "cell_type": "code",
   "execution_count": null,
   "id": "46e414c2",
   "metadata": {},
   "outputs": [],
   "source": [
    "master_yoda('I am home')\n"
   ]
  },
  {
   "cell_type": "code",
   "execution_count": null,
   "id": "4235ec5e",
   "metadata": {},
   "outputs": [],
   "source": [
    "def almost_there(n):\n",
    "    if (n-100) in range(90,111):\n",
    "        return True\n",
    "    elif (200-n) in range(190,211):\n",
    "        return True \n",
    "    else:\n",
    "        return False"
   ]
  },
  {
   "cell_type": "code",
   "execution_count": null,
   "id": "9c46e884",
   "metadata": {},
   "outputs": [],
   "source": [
    "almost_there(209)\n"
   ]
  },
  {
   "cell_type": "code",
   "execution_count": null,
   "id": "5f5a59da",
   "metadata": {},
   "outputs": [],
   "source": [
    "def has_33(nums):\n",
    "    for i in range(len(nums)-1):\n",
    "        if nums[i:i+2]==[3,3]:\n",
    "            return True"
   ]
  },
  {
   "cell_type": "code",
   "execution_count": null,
   "id": "28e184e1",
   "metadata": {},
   "outputs": [],
   "source": [
    "has_33([1, 3, 3])\n"
   ]
  },
  {
   "cell_type": "code",
   "execution_count": 6,
   "id": "4248c24c",
   "metadata": {},
   "outputs": [],
   "source": [
    "def paper_doll(text):\n",
    "    out=''\n",
    "    for i in text.split():\n",
    "        for q in range(len(i)):\n",
    "            out+=i[q]*3\n",
    "        out+=' '\n",
    "    return out"
   ]
  },
  {
   "cell_type": "code",
   "execution_count": 7,
   "id": "fe1a43f9",
   "metadata": {},
   "outputs": [
    {
     "data": {
      "text/plain": [
       "'HHHeeellllllooo '"
      ]
     },
     "execution_count": 7,
     "metadata": {},
     "output_type": "execute_result"
    }
   ],
   "source": [
    "paper_doll('Hello')\n"
   ]
  },
  {
   "cell_type": "code",
   "execution_count": null,
   "id": "2dd5461e",
   "metadata": {},
   "outputs": [],
   "source": [
    "'HHHeeellllllooo'=='HHHeeellllllooo'"
   ]
  },
  {
   "cell_type": "code",
   "execution_count": null,
   "id": "c3e7a919",
   "metadata": {},
   "outputs": [],
   "source": [
    "def blackjack(a,b,c):\n",
    "    if (a+b+c)<=21:\n",
    "        return(f'your sum is {(a+b+c)}')\n",
    "    elif 11 in (a,b,c):\n",
    "               if (a+b+c)-10<=21:\n",
    "                   return (f'your sum is {(a+b+c)-10}')\n",
    "    elif 11 in (a,b,c):\n",
    "               if (a+b+c)-10>21:\n",
    "                return 'bust'\n",
    "    else:\n",
    "        return 'bust'\n",
    "\n",
    "                \n"
   ]
  },
  {
   "cell_type": "code",
   "execution_count": null,
   "id": "ba890cb7",
   "metadata": {},
   "outputs": [],
   "source": [
    "blackjack(9,9,11)\n"
   ]
  },
  {
   "cell_type": "code",
   "execution_count": null,
   "id": "5013c833",
   "metadata": {},
   "outputs": [],
   "source": [
    "def summer_69(arr):\n",
    "    sum1=0\n",
    "    add=True\n",
    "    for i in arr:        \n",
    "        while add:\n",
    "            if i!=6:\n",
    "                sum1+=i\n",
    "                break\n",
    "            else:\n",
    "                add=False\n",
    "        while not add:\n",
    "            if i!=9:\n",
    "                break\n",
    "            else:\n",
    "                add=True\n",
    "    return  sum1\n",
    "                    \n",
    "                \n",
    "            "
   ]
  },
  {
   "cell_type": "code",
   "execution_count": null,
   "id": "3ee598b9",
   "metadata": {},
   "outputs": [],
   "source": [
    "summer_69([2, 1, 6, 9, 11])\n"
   ]
  },
  {
   "cell_type": "code",
   "execution_count": null,
   "id": "dd288d10",
   "metadata": {},
   "outputs": [],
   "source": [
    "def spy_game(nums):\n",
    "    code=''\n",
    "    for i in nums:\n",
    "        if i==0 or i==7:\n",
    "            code+=str(i)\n",
    "    if '007' in code:\n",
    "        return True\n",
    "    else:\n",
    "        return False\n",
    "        "
   ]
  },
  {
   "cell_type": "code",
   "execution_count": null,
   "id": "7e36e405",
   "metadata": {},
   "outputs": [],
   "source": [
    "spy_game([1,2,4,0,0,7,5])\n"
   ]
  },
  {
   "cell_type": "code",
   "execution_count": null,
   "id": "565f6dc9",
   "metadata": {},
   "outputs": [],
   "source": [
    "spy_game([1,0,2,4,0,5,7])\n"
   ]
  },
  {
   "cell_type": "code",
   "execution_count": null,
   "id": "dbec509a",
   "metadata": {},
   "outputs": [],
   "source": [
    "spy_game([1,7,2,0,4,5,0])\n"
   ]
  },
  {
   "cell_type": "code",
   "execution_count": null,
   "id": "17e6e986",
   "metadata": {},
   "outputs": [],
   "source": [
    "#prime nums until inputed number\n",
    "a=[i for i in range(3,7,2)]\n",
    "a"
   ]
  },
  {
   "cell_type": "code",
   "execution_count": 8,
   "id": "cbbb4753",
   "metadata": {},
   "outputs": [],
   "source": [
    "def count_primes(num):\n",
    "    primes = [2]\n",
    "    x = 3\n",
    "    if num < 2:  # for the case of num = 0 or 1\n",
    "        return 0\n",
    "    while x <= num:\n",
    "        for y in range(3,x,2):  # test all odd factors up to x-1\n",
    "            if x%y == 0:\n",
    "                x += 2\n",
    "                break\n",
    "        else:\n",
    "            primes.append(x)\n",
    "            x += 2\n",
    "    print(primes)\n",
    "    return len(primes)"
   ]
  },
  {
   "cell_type": "code",
   "execution_count": 9,
   "id": "7360e569",
   "metadata": {},
   "outputs": [
    {
     "name": "stdout",
     "output_type": "stream",
     "text": [
      "[2, 3, 5, 7, 11, 13, 17, 19, 23, 29, 31, 37, 41, 43, 47, 53, 59, 61, 67, 71, 73, 79, 83, 89, 97]\n"
     ]
    },
    {
     "data": {
      "text/plain": [
       "25"
      ]
     },
     "execution_count": 9,
     "metadata": {},
     "output_type": "execute_result"
    }
   ],
   "source": [
    "count_primes(100)\n"
   ]
  },
  {
   "cell_type": "code",
   "execution_count": null,
   "id": "20a235b0",
   "metadata": {},
   "outputs": [],
   "source": [
    "#worksheet done"
   ]
  },
  {
   "cell_type": "code",
   "execution_count": null,
   "id": "0285a0d2",
   "metadata": {},
   "outputs": [],
   "source": [
    "                                    #Lambda functions map and filter "
   ]
  },
  {
   "cell_type": "code",
   "execution_count": 11,
   "id": "b28a4d4c",
   "metadata": {},
   "outputs": [],
   "source": [
    "def squaring(q):\n",
    "    return q**2"
   ]
  },
  {
   "cell_type": "code",
   "execution_count": 12,
   "id": "c435597d",
   "metadata": {},
   "outputs": [],
   "source": [
    "my_nums=[1,2,3,4,5,6,7]"
   ]
  },
  {
   "cell_type": "code",
   "execution_count": 3,
   "id": "fc03f8b8",
   "metadata": {},
   "outputs": [
    {
     "data": {
      "text/plain": [
       "<map at 0x1c58b9a5790>"
      ]
     },
     "execution_count": 3,
     "metadata": {},
     "output_type": "execute_result"
    }
   ],
   "source": [
    "map(squaring,my_nums)"
   ]
  },
  {
   "cell_type": "code",
   "execution_count": 4,
   "id": "17b4c4e0",
   "metadata": {},
   "outputs": [
    {
     "name": "stdout",
     "output_type": "stream",
     "text": [
      "1\n",
      "4\n",
      "9\n",
      "16\n",
      "25\n",
      "36\n",
      "49\n"
     ]
    }
   ],
   "source": [
    "for i in map(squaring,my_nums):\n",
    "    print(i)"
   ]
  },
  {
   "cell_type": "code",
   "execution_count": 13,
   "id": "e4576fc2",
   "metadata": {},
   "outputs": [
    {
     "data": {
      "text/plain": [
       "[1, 4, 9, 16, 25, 36, 49]"
      ]
     },
     "execution_count": 13,
     "metadata": {},
     "output_type": "execute_result"
    }
   ],
   "source": [
    "list(map(squaring,my_nums))"
   ]
  },
  {
   "cell_type": "code",
   "execution_count": 1,
   "id": "0a53c806",
   "metadata": {},
   "outputs": [],
   "source": [
    "def splicer(stri):\n",
    "    if len(stri)%2==0:\n",
    "        return 'EVEN'\n",
    "    else:\n",
    "        return 'ODD'"
   ]
  },
  {
   "cell_type": "code",
   "execution_count": 15,
   "id": "b940a80b",
   "metadata": {},
   "outputs": [],
   "source": [
    "names=['zauynul','aryan','suryansh','ishan']"
   ]
  },
  {
   "cell_type": "code",
   "execution_count": 3,
   "id": "e0443ff4",
   "metadata": {},
   "outputs": [
    {
     "data": {
      "text/plain": [
       "['ODD', 'ODD', 'EVEN', 'ODD']"
      ]
     },
     "execution_count": 3,
     "metadata": {},
     "output_type": "execute_result"
    }
   ],
   "source": [
    "list(map(splicer,names))"
   ]
  },
  {
   "cell_type": "code",
   "execution_count": null,
   "id": "eba4565e",
   "metadata": {},
   "outputs": [],
   "source": [
    "#filter puts in a zip every number that returns True in func"
   ]
  },
  {
   "cell_type": "code",
   "execution_count": 2,
   "id": "a087ca5d",
   "metadata": {},
   "outputs": [],
   "source": [
    "def check(a):\n",
    "    return a%2==0"
   ]
  },
  {
   "cell_type": "code",
   "execution_count": 3,
   "id": "0d92353b",
   "metadata": {},
   "outputs": [
    {
     "data": {
      "text/plain": [
       "[0, 2, 4, 6, 8]"
      ]
     },
     "execution_count": 3,
     "metadata": {},
     "output_type": "execute_result"
    }
   ],
   "source": [
    "list(filter(check,range(10)))"
   ]
  },
  {
   "cell_type": "code",
   "execution_count": null,
   "id": "d456de61",
   "metadata": {},
   "outputs": [],
   "source": [
    "#LAMBDA FUNCS"
   ]
  },
  {
   "cell_type": "code",
   "execution_count": null,
   "id": "30bfe333",
   "metadata": {},
   "outputs": [],
   "source": [
    "#def squaring(q):   is same as     def squaring(q): return q**2\n",
    "#    return q**2"
   ]
  },
  {
   "cell_type": "code",
   "execution_count": null,
   "id": "7e874cc9",
   "metadata": {},
   "outputs": [
    {
     "name": "stdout",
     "output_type": "stream",
     "text": [
      "[(1, 2), (1, 2), (1, 2), (1, 2, 3)]\n"
     ]
    }
   ],
   "source": [
    "# squaring(2)\n",
    "l={}\n",
    "k=[ ]\n",
    "d1={l[i:}\n"
   ]
  },
  {
   "cell_type": "code",
   "execution_count": null,
   "id": "9075132a",
   "metadata": {},
   "outputs": [],
   "source": [
    "squaring=lambda q: q**2 "
   ]
  },
  {
   "cell_type": "code",
   "execution_count": null,
   "id": "80cd74d2",
   "metadata": {},
   "outputs": [],
   "source": [
    "list(map(lambda q: q**2,my_nums))"
   ]
  },
  {
   "cell_type": "code",
   "execution_count": null,
   "id": "7b9bbf0a",
   "metadata": {},
   "outputs": [],
   "source": [
    "list(filter(lambda num: num%2==0,my_nums))"
   ]
  },
  {
   "cell_type": "code",
   "execution_count": 16,
   "id": "4cdffbb3",
   "metadata": {},
   "outputs": [
    {
     "data": {
      "text/plain": [
       "['z', 'a', 's', 'i']"
      ]
     },
     "execution_count": 16,
     "metadata": {},
     "output_type": "execute_result"
    }
   ],
   "source": [
    "list(map(lambda str1: str1[0],names))"
   ]
  },
  {
   "cell_type": "code",
   "execution_count": null,
   "id": "eae43aa2",
   "metadata": {},
   "outputs": [],
   "source": [
    "                                #nested statements  and scope "
   ]
  },
  {
   "cell_type": "code",
   "execution_count": null,
   "id": "707041c1",
   "metadata": {},
   "outputs": [],
   "source": [
    "x=25"
   ]
  },
  {
   "cell_type": "code",
   "execution_count": null,
   "id": "277223aa",
   "metadata": {},
   "outputs": [],
   "source": [
    "def printer():\n",
    "    x=50\n",
    "    return x"
   ]
  },
  {
   "cell_type": "code",
   "execution_count": null,
   "id": "644c99a7",
   "metadata": {},
   "outputs": [],
   "source": [
    "print(printer())"
   ]
  },
  {
   "cell_type": "code",
   "execution_count": null,
   "id": "7ca4385d",
   "metadata": {},
   "outputs": [],
   "source": [
    "x"
   ]
  },
  {
   "cell_type": "code",
   "execution_count": null,
   "id": "36e6e05c",
   "metadata": {},
   "outputs": [],
   "source": [
    " #python uses LEGB rule"
   ]
  },
  {
   "cell_type": "code",
   "execution_count": null,
   "id": "b78c870e",
   "metadata": {},
   "outputs": [],
   "source": [
    "#LEGB is the order python looks for variables \n",
    "#L: Local — Names assigned in any way within a function (def or lambda), and not declared global in that function.\n",
    "\n",
    "#E: Enclosing function locals — Names in the local scope of any and all enclosing functions (def or lambda), from inner to outer.\n",
    "\n",
    "#G: Global (module) — Names assigned at the top-level of a module file, or declared global in a def within the file.\n",
    "\n",
    "#B: Built-in (Python) — Names preassigned in the built-in names module : open, range, SyntaxError,..."
   ]
  },
  {
   "cell_type": "code",
   "execution_count": null,
   "id": "d6d93487",
   "metadata": {},
   "outputs": [],
   "source": [
    "#lambda num: num+2\n",
    "#here num is local"
   ]
  },
  {
   "cell_type": "code",
   "execution_count": null,
   "id": "10c14118",
   "metadata": {},
   "outputs": [],
   "source": [
    "name='this is a global string'\n",
    "def greet():\n",
    "    name='enclosing'\n",
    "    def helllo():\n",
    "        name='locally'\n",
    "        print('hello '+name)\n",
    "    helllo()\n",
    "\n",
    "greet()"
   ]
  },
  {
   "cell_type": "code",
   "execution_count": 5,
   "id": "5ae81d26",
   "metadata": {},
   "outputs": [],
   "source": [
    "\n",
    "def global1(x):\n",
    "    print(f'x is{x} globally')\n",
    "    x=2122\n",
    "    print(f'x is {x}')"
   ]
  },
  {
   "cell_type": "code",
   "execution_count": 13,
   "id": "99aef248",
   "metadata": {},
   "outputs": [
    {
     "name": "stdout",
     "output_type": "stream",
     "text": [
      "x is50 globally\n",
      "x is 2122 changed applicable to global\n"
     ]
    }
   ],
   "source": [
    "global1()"
   ]
  },
  {
   "cell_type": "code",
   "execution_count": 4,
   "id": "b1e67c6c",
   "metadata": {},
   "outputs": [],
   "source": [
    "x=50\n"
   ]
  },
  {
   "cell_type": "code",
   "execution_count": 11,
   "id": "adb8cc82",
   "metadata": {},
   "outputs": [],
   "source": [
    "\n",
    "def global1():\n",
    "    global x  #declaring the usage of global x\n",
    "    print(f'x is{x} globally')\n",
    "    x=2122\n",
    "    print(f'x is {x} changed applicable to global')"
   ]
  },
  {
   "cell_type": "code",
   "execution_count": 14,
   "id": "a766b4b1",
   "metadata": {},
   "outputs": [
    {
     "data": {
      "text/plain": [
       "2122"
      ]
     },
     "execution_count": 14,
     "metadata": {},
     "output_type": "execute_result"
    }
   ],
   "source": [
    "x"
   ]
  },
  {
   "cell_type": "code",
   "execution_count": null,
   "id": "61ee132f",
   "metadata": {},
   "outputs": [],
   "source": [
    "                                #methonds and functions homework"
   ]
  },
  {
   "cell_type": "code",
   "execution_count": null,
   "id": "d19812df",
   "metadata": {},
   "outputs": [],
   "source": [
    "def vol(r):\n",
    "    return (f'the volume is {(22/7)*(4/3)*(r**3)}')\n",
    "vol(2)\n"
   ]
  },
  {
   "cell_type": "code",
   "execution_count": null,
   "id": "268c5a4a",
   "metadata": {},
   "outputs": [],
   "source": [
    "def ran_check(num,low,high):\n",
    "    return num in range(low,high+1)\n",
    "ran_check(5,2,7)\n"
   ]
  },
  {
   "cell_type": "code",
   "execution_count": 9,
   "id": "ff579fe6",
   "metadata": {},
   "outputs": [],
   "source": [
    "def up_low(s):\n",
    "    upper=0\n",
    "    lower=0\n",
    "    for i in s:\n",
    "        if i.isupper():\n",
    "            upper+=1\n",
    "        elif i.islower():\n",
    "            lower+=1\n",
    "    return (f\"in '{s}' there are {upper} upper  case letters and {lower} lower  case letters \")\n"
   ]
  },
  {
   "cell_type": "code",
   "execution_count": 10,
   "id": "61b45612",
   "metadata": {},
   "outputs": [
    {
     "data": {
      "text/plain": [
       "\"in 'Hello Mr. Rogers, how are you this fine Tuesday?' there are 4 upper  case letters and 33 lower  case letters \""
      ]
     },
     "execution_count": 10,
     "metadata": {},
     "output_type": "execute_result"
    }
   ],
   "source": [
    "s = 'Hello Mr. Rogers, how are you this fine Tuesday?'\n",
    "up_low(s)"
   ]
  },
  {
   "cell_type": "code",
   "execution_count": 11,
   "id": "caf9b77c",
   "metadata": {},
   "outputs": [],
   "source": [
    "def unique_list(lst):\n",
    "    newlst=[]\n",
    "    for i in lst:\n",
    "        if i in newlst:\n",
    "            pass\n",
    "        else:\n",
    "            newlst.append(i)\n",
    "    return newlst"
   ]
  },
  {
   "cell_type": "code",
   "execution_count": 12,
   "id": "16de1fa4",
   "metadata": {},
   "outputs": [
    {
     "data": {
      "text/plain": [
       "[1, 2, 3, 4, 5]"
      ]
     },
     "execution_count": 12,
     "metadata": {},
     "output_type": "execute_result"
    }
   ],
   "source": [
    "unique_list([1,1,1,1,2,2,3,3,3,3,4,5])\n"
   ]
  },
  {
   "cell_type": "code",
   "execution_count": 15,
   "id": "f7a99ce7",
   "metadata": {},
   "outputs": [],
   "source": [
    "def multiply(numbers):  \n",
    "    sum1=1\n",
    "    for i in numbers:\n",
    "        sum1*=i\n",
    "    return sum1"
   ]
  },
  {
   "cell_type": "code",
   "execution_count": 16,
   "id": "307fc5c5",
   "metadata": {},
   "outputs": [
    {
     "data": {
      "text/plain": [
       "-24"
      ]
     },
     "execution_count": 16,
     "metadata": {},
     "output_type": "execute_result"
    }
   ],
   "source": [
    "multiply([1,2,3,-4])\n"
   ]
  },
  {
   "cell_type": "code",
   "execution_count": 19,
   "id": "e0558a03",
   "metadata": {},
   "outputs": [
    {
     "data": {
      "text/plain": [
       "True"
      ]
     },
     "execution_count": 19,
     "metadata": {},
     "output_type": "execute_result"
    }
   ],
   "source": [
    "def palindrome(s):\n",
    "    return s.lower()==s.lower()[::-1]\n",
    "palindrome('helleh')\n",
    "\n"
   ]
  },
  {
   "cell_type": "code",
   "execution_count": null,
   "id": "0ae76f3c",
   "metadata": {},
   "outputs": [],
   "source": []
  },
  {
   "cell_type": "code",
   "execution_count": null,
   "id": "508bbaf8",
   "metadata": {},
   "outputs": [
    {
     "data": {
      "text/plain": [
       "[10, 9, 8, 7, 6, 5, 4, 3, 2, 1]"
      ]
     },
     "execution_count": 19,
     "metadata": {},
     "output_type": "execute_result"
    }
   ],
   "source": [
    "# sorted func\n",
    "\n",
    "# sorted(l,key=func)\n",
    "sorted(list(range(10,0,-1)),key=lambda a  : 1/a)\n",
    "# func passed in key must return a value  and for what ever value each element passes the list is sorted based on that"
   ]
  },
  {
   "cell_type": "code",
   "execution_count": 26,
   "id": "fb083236",
   "metadata": {},
   "outputs": [
    {
     "name": "stdout",
     "output_type": "stream",
     "text": [
      "[(10, 1.0), (9, 1.1111111111111112), (8, 1.25), (7, 1.4285714285714286), (6, 1.6666666666666667), (5, 2.0), (4, 2.5), (3, 3.3333333333333335), (2, 5.0), (1, 10.0)]\n"
     ]
    }
   ],
   "source": [
    "d={i:i**2 for i in range(1,6)}\n",
    "l=[(i,10/i) for i in range(1,11)]\n",
    "print(sorted(l,key=lambda a:a[1]))"
   ]
  },
  {
   "cell_type": "code",
   "execution_count": null,
   "id": "85bc79bf",
   "metadata": {},
   "outputs": [],
   "source": [
    "    "
   ]
  }
 ],
 "metadata": {
  "kernelspec": {
   "display_name": "Python 3",
   "language": "python",
   "name": "python3"
  },
  "language_info": {
   "codemirror_mode": {
    "name": "ipython",
    "version": 3
   },
   "file_extension": ".py",
   "mimetype": "text/x-python",
   "name": "python",
   "nbconvert_exporter": "python",
   "pygments_lexer": "ipython3",
   "version": "3.11.9"
  }
 },
 "nbformat": 4,
 "nbformat_minor": 5
}
