{
 "cells": [
  {
   "cell_type": "markdown",
   "id": "14f75cd5",
   "metadata": {},
   "source": [
    "#int:whole nums\n",
    "\n",
    "\n",
    "\n",
    "\n",
    "#float:nums with decimals\n",
    "\n",
    "\n",
    "\n",
    "#str: chain of characters\n",
    "\n",
    "#lists:a sequence of items [a,' hello ',12]\n",
    "\n",
    "\n",
    "\n",
    "#dict: unorderedkey:value pairs{\"my key\":'value','name':'frankie'}\n",
    "\n",
    "\n",
    "\n",
    "\n",
    "#tup:ordered seq of objects(immutable)\n",
    "\n",
    "\n",
    "\n",
    "\n",
    "#sets:unordered collection unique objects{'a','bye bye'}\n",
    "\n",
    "\n",
    "\n",
    "\n",
    "#boolean:logical value indicating true or false"
   ]
  },
  {
   "cell_type": "code",
   "execution_count": 5,
   "id": "7a22df3d",
   "metadata": {},
   "outputs": [
    {
     "name": "stdout",
     "output_type": "stream",
     "text": [
      "1\n",
      "4\n",
      "1.0\n",
      "3\n",
      "0\n",
      "8\n",
      "144\n",
      "144\n",
      "10.0\n"
     ]
    }
   ],
   "source": [
    "print(2-1)\n",
    "print(2*2)\n",
    "print(2/2)\n",
    "print(7%4) \n",
    "print(50%5)\n",
    "print(2**3)\n",
    "print((2+10)*(10+2))\n",
    "print((2+10)**2)\n",
    "print(100**0.5)"
   ]
  },
  {
   "cell_type": "code",
   "execution_count": 1,
   "id": "ce7f86a7",
   "metadata": {},
   "outputs": [
    {
     "name": "stdout",
     "output_type": "stream",
     "text": [
      "5\n",
      "10\n"
     ]
    },
    {
     "data": {
      "text/plain": [
       "int"
      ]
     },
     "execution_count": 1,
     "metadata": {},
     "output_type": "execute_result"
    }
   ],
   "source": [
    "#cannot start with a num,no spaces\n",
    "number=5\n",
    "print(number)\n",
    "number=number+number\n",
    "print(number)\n",
    "type(number)\n"
   ]
  },
  {
   "cell_type": "markdown",
   "id": "7081a93b",
   "metadata": {},
   "source": [
    "                                 STRINGS:15"
   ]
  },
  {
   "cell_type": "code",
   "execution_count": 6,
   "id": "a9166615",
   "metadata": {},
   "outputs": [
    {
     "name": "stdout",
     "output_type": "stream",
     "text": [
      "hello there\n",
      "hello \n",
      "there\n",
      "hello \t there\n"
     ]
    }
   ],
   "source": [
    "print(\"hello there\")\n",
    "print(\"hello \\nthere\")\n",
    "print(\"hello \\t there\")\n",
    "\n",
    "  "
   ]
  },
  {
   "cell_type": "code",
   "execution_count": 1,
   "id": "c189c65c",
   "metadata": {},
   "outputs": [
    {
     "data": {
      "text/plain": [
       "11"
      ]
     },
     "execution_count": 1,
     "metadata": {},
     "output_type": "execute_result"
    }
   ],
   "source": [
    "a='Hello World'\n",
    "len(a)"
   ]
  },
  {
   "cell_type": "code",
   "execution_count": 2,
   "id": "7116c1a8",
   "metadata": {},
   "outputs": [
    {
     "name": "stdout",
     "output_type": "stream",
     "text": [
      "d l\n"
     ]
    }
   ],
   "source": [
    "print(a[-1], a[2])\n",
    "\n"
   ]
  },
  {
   "cell_type": "code",
   "execution_count": null,
   "id": "414eda26",
   "metadata": {},
   "outputs": [],
   "source": [
    "print(a[0:])\n",
    "print(a[0:-2])\n",
    "print(a[1:-3])\n",
    "print(a[0::2])\n",
    "print(a[::2])\n",
    "print(a[::-2])\n",
    "\n",
    "a=[]\n",
    "\n"
   ]
  },
  {
   "cell_type": "code",
   "execution_count": null,
   "id": "92af10ae",
   "metadata": {},
   "outputs": [],
   "source": [
    "    "
   ]
  },
  {
   "cell_type": "markdown",
   "id": "60cea53b",
   "metadata": {},
   "source": [
    "a[2]= \"c\" will not work cause str are immutable"
   ]
  },
  {
   "cell_type": "code",
   "execution_count": 2,
   "id": "c3945009",
   "metadata": {},
   "outputs": [
    {
     "name": "stdout",
     "output_type": "stream",
     "text": [
      "ZAY\n",
      "NUL\n",
      "NULZAY!\n"
     ]
    }
   ],
   "source": [
    "name='ZAYNUL'\n",
    "firstletters=name[:3]\n",
    "lastletters=name[3:]\n",
    "print(firstletters)\n",
    "print(lastletters)\n",
    "#string cattenation\n",
    "print(lastletters+firstletters+'!')\n",
    "firstletters='a'+firstletters[1:]"
   ]
  },
  {
   "cell_type": "code",
   "execution_count": 3,
   "id": "738614de",
   "metadata": {},
   "outputs": [
    {
     "data": {
      "text/plain": [
       "'ZAYNULZAYNULZAYNUL'"
      ]
     },
     "execution_count": 3,
     "metadata": {},
     "output_type": "execute_result"
    }
   ],
   "source": [
    "name*3"
   ]
  },
  {
   "cell_type": "code",
   "execution_count": 5,
   "id": "910d1f06",
   "metadata": {},
   "outputs": [
    {
     "data": {
      "text/plain": [
       "'HEALLO'"
      ]
     },
     "execution_count": 5,
     "metadata": {},
     "output_type": "execute_result"
    }
   ],
   "source": [
    "a=\"heallo\"\n",
    "a.upper()\n"
   ]
  },
  {
   "cell_type": "code",
   "execution_count": 7,
   "id": "ddb27318",
   "metadata": {},
   "outputs": [
    {
     "data": {
      "text/plain": [
       "'zaynul'"
      ]
     },
     "execution_count": 7,
     "metadata": {},
     "output_type": "execute_result"
    }
   ],
   "source": [
    "name.lower()\n"
   ]
  },
  {
   "cell_type": "code",
   "execution_count": 8,
   "id": "729737f5",
   "metadata": {},
   "outputs": [
    {
     "data": {
      "text/plain": [
       "['Hello', 'World']"
      ]
     },
     "execution_count": 8,
     "metadata": {},
     "output_type": "execute_result"
    }
   ],
   "source": [
    "a.split()"
   ]
  },
  {
   "cell_type": "code",
   "execution_count": 9,
   "id": "791d6b34",
   "metadata": {},
   "outputs": [
    {
     "data": {
      "text/plain": [
       "['He', '', 'o Wor', 'd']"
      ]
     },
     "execution_count": 9,
     "metadata": {},
     "output_type": "execute_result"
    }
   ],
   "source": [
    "a.split('l')"
   ]
  },
  {
   "cell_type": "code",
   "execution_count": 11,
   "id": "68ed53cc",
   "metadata": {},
   "outputs": [
    {
     "data": {
      "text/plain": [
       "('He', 'l', 'lo World')"
      ]
     },
     "execution_count": 11,
     "metadata": {},
     "output_type": "execute_result"
    }
   ],
   "source": [
    "a.partition('l')"
   ]
  },
  {
   "cell_type": "markdown",
   "id": "8dd59070",
   "metadata": {},
   "source": [
    "\n",
    "\n",
    "\n",
    "\n",
    "\n",
    "\n",
    "                                  .FORMAT\n",
    "    \n",
    "    \n",
    "    \n",
    "    \n",
    "    \n",
    "    \n",
    "    \n",
    "    "
   ]
  },
  {
   "cell_type": "code",
   "execution_count": 10,
   "id": "dc01d910",
   "metadata": {},
   "outputs": [
    {
     "name": "stdout",
     "output_type": "stream",
     "text": [
      "this is a eee FORMATED string\n"
     ]
    }
   ],
   "source": [
    "print('this is a {1} {0} string'.format('FORMATED','eee'))"
   ]
  },
  {
   "cell_type": "code",
   "execution_count": 11,
   "id": "6d2f0e40",
   "metadata": {},
   "outputs": [
    {
     "name": "stdout",
     "output_type": "stream",
     "text": [
      "this is a STRING FORMATED TWICE \n",
      "this is a TWICE FORMATED STRING \n",
      "this is a STRING TWICE , STRING STRING \n",
      "this is a STRING TWICE , STRING STRING \n"
     ]
    }
   ],
   "source": [
    "print('this is a {2} {0} {1} '.format('FORMATED','TWICE','STRING'))\n",
    "print('this is a {1} {0} {2} '.format('FORMATED','TWICE','STRING'))\n",
    "print('this is a {2} {1} , {2} {2} '.format('FORMATED','TWICE','STRING'))\n",
    "print('this is a {s} {t} , {s} {s} '.format(f='FORMATED',t='TWICE',s='STRING'))"
   ]
  },
  {
   "cell_type": "code",
   "execution_count": 20,
   "id": "43d8c24c",
   "metadata": {},
   "outputs": [],
   "source": [
    "result=12000"
   ]
  },
  {
   "cell_type": "code",
   "execution_count": 21,
   "id": "ac06f668",
   "metadata": {},
   "outputs": [
    {
     "name": "stdout",
     "output_type": "stream",
     "text": [
      "the result was 12_000.0000000000000000\n"
     ]
    }
   ],
   "source": [
    "print('the result was {r:_.16f}'.format(r=result))"
   ]
  },
  {
   "cell_type": "code",
   "execution_count": 10,
   "id": "384812f9",
   "metadata": {},
   "outputs": [
    {
     "name": "stdout",
     "output_type": "stream",
     "text": [
      "the result was 1200.345200000\n"
     ]
    }
   ],
   "source": [
    "print('the result was {r:12.9f}'.format(r=result))"
   ]
  },
  {
   "cell_type": "code",
   "execution_count": 21,
   "id": "cc0f2ca1",
   "metadata": {},
   "outputs": [
    {
     "name": "stdout",
     "output_type": "stream",
     "text": [
      "the result was 12.3452      \n"
     ]
    }
   ],
   "source": [
    "print('the result was {r:<13.4f}'.format(r=result))\n",
    "#the left asrrow pushes the nums to left most while keeping the width of 13"
   ]
  },
  {
   "cell_type": "code",
   "execution_count": 22,
   "id": "11bb1ac6",
   "metadata": {},
   "outputs": [
    {
     "name": "stdout",
     "output_type": "stream",
     "text": [
      "the result was       12.3452\n"
     ]
    }
   ],
   "source": [
    "print('the result was {r:>13.4f}'.format(r=result))\n",
    "#the right asrrow pushes the nums to right  most while keeping the width of 13"
   ]
  },
  {
   "cell_type": "code",
   "execution_count": 28,
   "id": "e6cb17ac",
   "metadata": {},
   "outputs": [
    {
     "name": "stdout",
     "output_type": "stream",
     "text": [
      "the result was  12.3452  \n"
     ]
    }
   ],
   "source": [
    "print('the result was {r:^10.4f}'.format(r=result))\n",
    "#the up arrow centrelizes the nums with the width"
   ]
  },
  {
   "cell_type": "code",
   "execution_count": 4,
   "id": "00f1180e",
   "metadata": {},
   "outputs": [
    {
     "name": "stdout",
     "output_type": "stream",
     "text": [
      "the result was -1200.3452\n"
     ]
    }
   ],
   "source": [
    "print('the result was {r:+9.4f}'.format(r=result))\n",
    "#any positvie num is prceded by + symbol while negatives are precded by -"
   ]
  },
  {
   "cell_type": "code",
   "execution_count": 35,
   "id": "e056e56d",
   "metadata": {},
   "outputs": [
    {
     "name": "stdout",
     "output_type": "stream",
     "text": [
      "the result was 1,200.3452\n"
     ]
    }
   ],
   "source": [
    "print('the result was {r:,.4f}'.format(r=result))\n",
    "#adds commas at the thousands places u cannot add a length decider when using comma"
   ]
  },
  {
   "cell_type": "code",
   "execution_count": 36,
   "id": "100e9558",
   "metadata": {},
   "outputs": [
    {
     "name": "stdout",
     "output_type": "stream",
     "text": [
      "the result was +1,200.3452\n"
     ]
    }
   ],
   "source": [
    "print('the result was {r:+,.4f}'.format(r=result))\n",
    "#both can be used in conjunction"
   ]
  },
  {
   "cell_type": "code",
   "execution_count": 21,
   "id": "68ff1a07",
   "metadata": {},
   "outputs": [
    {
     "name": "stdout",
     "output_type": "stream",
     "text": [
      "the result was      -1200.3452     \n"
     ]
    }
   ],
   "source": [
    "print('the result was {r: ^20.4f}'.format(r=result))\n",
    "#the thing before ther centrealiser or what ever wil fil blanks before the length is auto filling blank spaces"
   ]
  },
  {
   "cell_type": "code",
   "execution_count": null,
   "id": "30696b1d",
   "metadata": {},
   "outputs": [],
   "source": []
  },
  {
   "cell_type": "markdown",
   "id": "c47626c1",
   "metadata": {},
   "source": [
    "\n",
    "\n",
    "\n",
    "\n",
    "\n",
    "\n",
    "\n",
    "\n",
    "\n",
    "\n",
    "\n",
    "\n",
    "                                 F STRINGS\n",
    "\n",
    "\n",
    "\n"
   ]
  },
  {
   "cell_type": "code",
   "execution_count": null,
   "id": "a98c7448",
   "metadata": {},
   "outputs": [],
   "source": [
    "print('hello my name is {}'.format(name))"
   ]
  },
  {
   "cell_type": "code",
   "execution_count": null,
   "id": "a30a9cd1",
   "metadata": {},
   "outputs": [],
   "source": [
    "print(f'hello my name is {name}')"
   ]
  },
  {
   "cell_type": "code",
   "execution_count": null,
   "id": "24ed7070",
   "metadata": {},
   "outputs": [],
   "source": [
    "s='STRING'\n",
    "f='FORMATED'\n",
    "t='TWICE'\n",
    "print(f'this is a {s} {f} {t}')"
   ]
  },
  {
   "cell_type": "code",
   "execution_count": null,
   "id": "591d850a",
   "metadata": {},
   "outputs": [],
   "source": []
  },
  {
   "cell_type": "markdown",
   "id": "486e61c8",
   "metadata": {},
   "source": [
    "\n",
    "\n",
    "\n",
    "\n",
    "\n",
    "\n",
    "\n",
    "\n",
    "                                                      LISTS:21\n",
    "    \n",
    "    \n",
    "    \n",
    "    \n",
    "    \n",
    "    \n",
    "    \n",
    "    "
   ]
  },
  {
   "cell_type": "code",
   "execution_count": 23,
   "id": "5b385dba",
   "metadata": {},
   "outputs": [],
   "source": [
    "mylist=['one','two','three','4']\n"
   ]
  },
  {
   "cell_type": "code",
   "execution_count": 24,
   "id": "52362859",
   "metadata": {},
   "outputs": [],
   "source": [
    "list1=['hello']"
   ]
  },
  {
   "cell_type": "code",
   "execution_count": 25,
   "id": "ddfffea1",
   "metadata": {},
   "outputs": [
    {
     "data": {
      "text/plain": [
       "str"
      ]
     },
     "execution_count": 25,
     "metadata": {},
     "output_type": "execute_result"
    }
   ],
   "source": [
    "type(list1[0])"
   ]
  },
  {
   "cell_type": "code",
   "execution_count": 26,
   "id": "1393f8bf",
   "metadata": {},
   "outputs": [
    {
     "data": {
      "text/plain": [
       "list"
      ]
     },
     "execution_count": 26,
     "metadata": {},
     "output_type": "execute_result"
    }
   ],
   "source": [
    "type(list1)"
   ]
  },
  {
   "cell_type": "code",
   "execution_count": 27,
   "id": "7e540a55",
   "metadata": {},
   "outputs": [],
   "source": [
    "list2=['there','world']"
   ]
  },
  {
   "cell_type": "code",
   "execution_count": 28,
   "id": "af0fdab4",
   "metadata": {},
   "outputs": [
    {
     "name": "stdout",
     "output_type": "stream",
     "text": [
      "['hello', 'there', 'world']\n"
     ]
    }
   ],
   "source": [
    "print(list1+list2)"
   ]
  },
  {
   "cell_type": "code",
   "execution_count": 30,
   "id": "1e2c159c",
   "metadata": {},
   "outputs": [],
   "source": [
    "combined_list=(list1+list2) "
   ]
  },
  {
   "cell_type": "code",
   "execution_count": 36,
   "id": "c7df2509",
   "metadata": {},
   "outputs": [
    {
     "name": "stdout",
     "output_type": "stream",
     "text": [
      "['hello', 'there', 'world', 'hello', ['hello']]\n"
     ]
    }
   ],
   "source": [
    "print(combined_list)"
   ]
  },
  {
   "cell_type": "code",
   "execution_count": 32,
   "id": "419c0a98",
   "metadata": {},
   "outputs": [
    {
     "data": {
      "text/plain": [
       "['hello']"
      ]
     },
     "execution_count": 32,
     "metadata": {},
     "output_type": "execute_result"
    }
   ],
   "source": [
    "list1"
   ]
  },
  {
   "cell_type": "code",
   "execution_count": 35,
   "id": "e47ea980",
   "metadata": {},
   "outputs": [],
   "source": [
    "combined_list.append(list1)"
   ]
  },
  {
   "cell_type": "code",
   "execution_count": 37,
   "id": "3ca87f2f",
   "metadata": {},
   "outputs": [],
   "source": [
    "mylist=['one','two','three','4']"
   ]
  },
  {
   "cell_type": "code",
   "execution_count": 38,
   "id": "3373021f",
   "metadata": {},
   "outputs": [],
   "source": [
    "mylist[-1]='fourth'"
   ]
  },
  {
   "cell_type": "code",
   "execution_count": 39,
   "id": "dc2bdaf5",
   "metadata": {},
   "outputs": [
    {
     "data": {
      "text/plain": [
       "['one', 'two', 'three', 'fourth']"
      ]
     },
     "execution_count": 39,
     "metadata": {},
     "output_type": "execute_result"
    }
   ],
   "source": [
    "mylist"
   ]
  },
  {
   "cell_type": "code",
   "execution_count": 40,
   "id": "f577004a",
   "metadata": {},
   "outputs": [],
   "source": [
    "mylist.append('fifth')"
   ]
  },
  {
   "cell_type": "code",
   "execution_count": 41,
   "id": "8b2e92bd",
   "metadata": {},
   "outputs": [
    {
     "data": {
      "text/plain": [
       "['one', 'two', 'three', 'fourth', 'fifth']"
      ]
     },
     "execution_count": 41,
     "metadata": {},
     "output_type": "execute_result"
    }
   ],
   "source": [
    "mylist"
   ]
  },
  {
   "cell_type": "code",
   "execution_count": 42,
   "id": "cd22e96e",
   "metadata": {},
   "outputs": [
    {
     "data": {
      "text/plain": [
       "'fifth'"
      ]
     },
     "execution_count": 42,
     "metadata": {},
     "output_type": "execute_result"
    }
   ],
   "source": [
    "mylist.pop(-1)"
   ]
  },
  {
   "cell_type": "code",
   "execution_count": null,
   "id": "61f8bfd8",
   "metadata": {},
   "outputs": [],
   "source": [
    "mylist"
   ]
  },
  {
   "cell_type": "code",
   "execution_count": 43,
   "id": "ee33a7c5",
   "metadata": {},
   "outputs": [],
   "source": [
    "popped_from_mylist=mylist.pop()"
   ]
  },
  {
   "cell_type": "code",
   "execution_count": 44,
   "id": "82d7e83d",
   "metadata": {},
   "outputs": [
    {
     "name": "stdout",
     "output_type": "stream",
     "text": [
      "fourth\n"
     ]
    }
   ],
   "source": [
    "print(popped_from_mylist)"
   ]
  },
  {
   "cell_type": "code",
   "execution_count": 45,
   "id": "91570c7f",
   "metadata": {},
   "outputs": [
    {
     "data": {
      "text/plain": [
       "['one', 'two', 'three']"
      ]
     },
     "execution_count": 45,
     "metadata": {},
     "output_type": "execute_result"
    }
   ],
   "source": [
    "mylist"
   ]
  },
  {
   "cell_type": "code",
   "execution_count": 46,
   "id": "b3171de1",
   "metadata": {},
   "outputs": [],
   "source": [
    "newlist=[0,1,3,5,6,7,9,2,4,8]"
   ]
  },
  {
   "cell_type": "code",
   "execution_count": 47,
   "id": "839e1923",
   "metadata": {},
   "outputs": [],
   "source": [
    "newlist.sort()"
   ]
  },
  {
   "cell_type": "code",
   "execution_count": 48,
   "id": "e584740d",
   "metadata": {},
   "outputs": [
    {
     "data": {
      "text/plain": [
       "[0, 1, 2, 3, 4, 5, 6, 7, 8, 9]"
      ]
     },
     "execution_count": 48,
     "metadata": {},
     "output_type": "execute_result"
    }
   ],
   "source": [
    "newlist"
   ]
  },
  {
   "cell_type": "code",
   "execution_count": null,
   "id": "0e6d574a",
   "metadata": {},
   "outputs": [
    {
     "name": "stdout",
     "output_type": "stream",
     "text": [
      "None\n"
     ]
    }
   ],
   "source": [
    "print(newlist.reverse())\n",
    "newlist\n",
    "\n",
    "# def ()"
   ]
  },
  {
   "cell_type": "code",
   "execution_count": 52,
   "id": "1eb87956",
   "metadata": {},
   "outputs": [],
   "source": [
    "a=1\n",
    "def temp():\n",
    "    global a\n",
    "    a=20"
   ]
  },
  {
   "cell_type": "code",
   "execution_count": 54,
   "id": "9c11f394",
   "metadata": {},
   "outputs": [
    {
     "name": "stdout",
     "output_type": "stream",
     "text": [
      "None\n"
     ]
    }
   ],
   "source": [
    "print(temp())"
   ]
  },
  {
   "cell_type": "code",
   "execution_count": null,
   "id": "a42b1c0c",
   "metadata": {},
   "outputs": [],
   "source": [
    "newlist[2:9]"
   ]
  },
  {
   "cell_type": "markdown",
   "id": "b7732666",
   "metadata": {},
   "source": [
    "    \n",
    "    \n",
    "    \n",
    "    \n",
    "    \n",
    "    \n",
    "    \n",
    "    \n",
    "    \n",
    "    \n",
    "    \n",
    "                               DICTS:23\n",
    "    \n",
    "    \n",
    "    \n",
    "    \n",
    "    \n",
    "    \n",
    "                            "
   ]
  },
  {
   "cell_type": "code",
   "execution_count": 56,
   "id": "204cd1c6",
   "metadata": {},
   "outputs": [],
   "source": [
    "cost={'cost_of_water':30,'cost_of_fries':120}"
   ]
  },
  {
   "cell_type": "code",
   "execution_count": 57,
   "id": "52f7f9a0",
   "metadata": {},
   "outputs": [
    {
     "data": {
      "text/plain": [
       "30"
      ]
     },
     "execution_count": 57,
     "metadata": {},
     "output_type": "execute_result"
    }
   ],
   "source": [
    "cost[\"cost_of_water\"]"
   ]
  },
  {
   "cell_type": "code",
   "execution_count": 59,
   "id": "c9206091",
   "metadata": {},
   "outputs": [],
   "source": [
    "dict={'list in dict':[1,'str in list in dict',1.3],'person':{'name':'zaynul'}}"
   ]
  },
  {
   "cell_type": "code",
   "execution_count": 61,
   "id": "71dd6d71",
   "metadata": {},
   "outputs": [
    {
     "data": {
      "text/plain": [
       "'ZAYNUL'"
      ]
     },
     "execution_count": 61,
     "metadata": {},
     "output_type": "execute_result"
    }
   ],
   "source": [
    "dict['person']['name'].upper()"
   ]
  },
  {
   "cell_type": "code",
   "execution_count": 63,
   "id": "e09ed93f",
   "metadata": {},
   "outputs": [],
   "source": [
    "dict['list in dict'].append(1)"
   ]
  },
  {
   "cell_type": "code",
   "execution_count": 68,
   "id": "c4c4c60a",
   "metadata": {},
   "outputs": [
    {
     "data": {
      "text/plain": [
       "{'cost_of_water': 20, 'cost_of_fries': 120, 'cost of burger': 300}"
      ]
     },
     "execution_count": 68,
     "metadata": {},
     "output_type": "execute_result"
    }
   ],
   "source": [
    "cost"
   ]
  },
  {
   "cell_type": "code",
   "execution_count": 65,
   "id": "a25a08c3",
   "metadata": {},
   "outputs": [],
   "source": [
    "cost['cost of burger']=300      #appedning value in a dict"
   ]
  },
  {
   "cell_type": "code",
   "execution_count": 67,
   "id": "62ab3360",
   "metadata": {},
   "outputs": [],
   "source": [
    "cost['cost_of_water']=20        #replacing a value in dict"
   ]
  },
  {
   "cell_type": "code",
   "execution_count": 70,
   "id": "0efa9d0d",
   "metadata": {},
   "outputs": [
    {
     "name": "stdout",
     "output_type": "stream",
     "text": [
      "dict_keys(['cost_of_water', 'cost_of_fries', 'cost of burger'])\n",
      "[('cost_of_water', 20), ('cost_of_fries', 120), ('cost of burger', 300)]\n",
      "dict_values([20, 120, 300])\n",
      "{'c': None, 'o': None, 's': None, 't': None}\n"
     ]
    }
   ],
   "source": [
    "print(cost.keys())\n",
    "print([i for i in cost.items()])\n",
    "print(cost.values())\n",
    "print(cost.fromkeys('cost'))\n"
   ]
  },
  {
   "cell_type": "code",
   "execution_count": 71,
   "id": "dbeeed15",
   "metadata": {},
   "outputs": [
    {
     "data": {
      "text/plain": [
       "{'name1': 'a', 'name2': 'a', 'name3': 'a', 'name4': 'a'}"
      ]
     },
     "execution_count": 71,
     "metadata": {},
     "output_type": "execute_result"
    }
   ],
   "source": [
    "l='name1 name2 name3 name4'.split()\n",
    "D={}.fromkeys(l,'a')\n",
    "D"
   ]
  },
  {
   "cell_type": "code",
   "execution_count": 72,
   "id": "f7636bef",
   "metadata": {},
   "outputs": [
    {
     "name": "stdout",
     "output_type": "stream",
     "text": [
      "[20, 120, 300]\n"
     ]
    }
   ],
   "source": [
    "print(list(cost.values()))"
   ]
  },
  {
   "cell_type": "code",
   "execution_count": null,
   "id": "cfd914ce",
   "metadata": {},
   "outputs": [
    {
     "data": {
      "text/plain": [
       "dict_items([('cost_of_water', 30), ('cost_of_fries', 120)])"
      ]
     },
     "execution_count": 3,
     "metadata": {},
     "output_type": "execute_result"
    }
   ],
   "source": [
    "cost.items()\n"
   ]
  },
  {
   "cell_type": "code",
   "execution_count": null,
   "id": "d752e836",
   "metadata": {},
   "outputs": [],
   "source": []
  },
  {
   "cell_type": "markdown",
   "id": "b401d0f5",
   "metadata": {},
   "source": [
    "\n",
    "\n",
    "\n",
    "\n",
    "\n",
    "\n",
    "\n",
    "\n",
    "\n",
    "\n",
    "                                 \n",
    "                                 \n",
    "                                 \n",
    "                                 \n",
    "                                 \n",
    "                                 \n",
    "                                 \n",
    "                                 \n",
    "                                 \n",
    "                                 \n",
    "                                 \n",
    "                                 TUPlES\n",
    "                                 \n",
    "                                 \n",
    "                                 \n",
    "                                 \n",
    "                                 \n",
    "                                 \n",
    "                                 \n",
    "                                 \n",
    "                                 \n",
    "                                 \n",
    "                                 \n",
    "                                 \n",
    "                                 \n",
    "                                 \n",
    "                                 \n",
    "                                 \n",
    "                                 "
   ]
  },
  {
   "cell_type": "code",
   "execution_count": null,
   "id": "278d1cdf",
   "metadata": {},
   "outputs": [],
   "source": [
    "#tuples are immutable"
   ]
  },
  {
   "cell_type": "code",
   "execution_count": 73,
   "id": "d2b065e9",
   "metadata": {},
   "outputs": [
    {
     "data": {
      "text/plain": [
       "dict"
      ]
     },
     "execution_count": 73,
     "metadata": {},
     "output_type": "execute_result"
    }
   ],
   "source": [
    "a=(3,2,31,1,1,1,1,11)\n",
    "t =(1,'hello',{'gretting':'hello'})\n",
    "type(a)\n",
    "type(t[2])\n"
   ]
  },
  {
   "cell_type": "code",
   "execution_count": 22,
   "id": "2cdff1b3",
   "metadata": {},
   "outputs": [
    {
     "name": "stdout",
     "output_type": "stream",
     "text": [
      "4\n",
      "3\n"
     ]
    }
   ],
   "source": [
    "print(a.count(1))\n",
    "print(a.index(1))"
   ]
  },
  {
   "cell_type": "code",
   "execution_count": null,
   "id": "0f27d8f6",
   "metadata": {},
   "outputs": [],
   "source": [
    "\n",
    "\n",
    "\n",
    "\n",
    "                                #SETS\n",
    "\n",
    "\n",
    "\n",
    "\n",
    "\n"
   ]
  },
  {
   "cell_type": "code",
   "execution_count": null,
   "id": "2eaca794",
   "metadata": {},
   "outputs": [
    {
     "data": {
      "text/plain": [
       "set()"
      ]
     },
     "execution_count": 74,
     "metadata": {},
     "output_type": "execute_result"
    }
   ],
   "source": [
    "set1= set()\n",
    "set1\n"
   ]
  },
  {
   "cell_type": "code",
   "execution_count": 26,
   "id": "e090cffa",
   "metadata": {},
   "outputs": [
    {
     "data": {
      "text/plain": [
       "{1, 2, 3}"
      ]
     },
     "execution_count": 26,
     "metadata": {},
     "output_type": "execute_result"
    }
   ],
   "source": [
    "set1.add(1)\n",
    "set1.add(2)\n",
    "set1.add(3)\n",
    "set1"
   ]
  },
  {
   "cell_type": "code",
   "execution_count": 2,
   "id": "eb22415b",
   "metadata": {},
   "outputs": [],
   "source": [
    "a={1,1,1,1,2,2,2,2,2,2,3,3,3,3,3}"
   ]
  },
  {
   "cell_type": "code",
   "execution_count": 3,
   "id": "30b4d4d6",
   "metadata": {},
   "outputs": [
    {
     "data": {
      "text/plain": [
       "{1, 2, 3}"
      ]
     },
     "execution_count": 3,
     "metadata": {},
     "output_type": "execute_result"
    }
   ],
   "source": [
    "set1= set(a)\n",
    "set1"
   ]
  },
  {
   "cell_type": "code",
   "execution_count": 4,
   "id": "05c9d6c0",
   "metadata": {},
   "outputs": [
    {
     "data": {
      "text/plain": [
       "{'i', 'm', 'p', 's'}"
      ]
     },
     "execution_count": 4,
     "metadata": {},
     "output_type": "execute_result"
    }
   ],
   "source": [
    "set2=set('mississippi')\n",
    "set2"
   ]
  },
  {
   "cell_type": "code",
   "execution_count": 5,
   "id": "893eba41",
   "metadata": {},
   "outputs": [
    {
     "data": {
      "text/plain": [
       "{'1', '2', '3', '4', '5'}"
      ]
     },
     "execution_count": 5,
     "metadata": {},
     "output_type": "execute_result"
    }
   ],
   "source": [
    "set3=set('12324435452')\n",
    "set3"
   ]
  },
  {
   "cell_type": "code",
   "execution_count": 1,
   "id": "b75ee38a",
   "metadata": {},
   "outputs": [
    {
     "name": "stdout",
     "output_type": "stream",
     "text": [
      "{1, 2, 3, 4}\n",
      "{1, 2, 3, 4, 7}\n"
     ]
    }
   ],
   "source": [
    "#add\n",
    "s={1,2,3,4}\n",
    "print(s)\n",
    "s.add(7)\n",
    "print(s)"
   ]
  },
  {
   "cell_type": "code",
   "execution_count": 3,
   "id": "a10523e1",
   "metadata": {},
   "outputs": [
    {
     "name": "stdout",
     "output_type": "stream",
     "text": [
      "{1, 4, 23}\n",
      "set()\n"
     ]
    }
   ],
   "source": [
    "s={1,23,4}\n",
    "print(s)\n",
    "s.clear()\n",
    "print(s)"
   ]
  },
  {
   "cell_type": "code",
   "execution_count": 9,
   "id": "6834b245",
   "metadata": {},
   "outputs": [
    {
     "name": "stdout",
     "output_type": "stream",
     "text": [
      "{1, 2, 3}\n"
     ]
    }
   ],
   "source": [
    "s={1,2,3,4,5}\n",
    "s1={4,5,6,7}\n",
    "\n",
    "print(s.difference(s1))\n",
    "# print(s.difference_update(s1))"
   ]
  },
  {
   "cell_type": "code",
   "execution_count": 7,
   "id": "7dadb13c",
   "metadata": {},
   "outputs": [
    {
     "name": "stdout",
     "output_type": "stream",
     "text": [
      "None\n",
      "{1, 2, 3}\n"
     ]
    }
   ],
   "source": [
    "s={1,2,3,4,5}\n",
    "s1={4,5,6,7}\n",
    "\n",
    "print(s.difference_update(s1))\n",
    "print(s)"
   ]
  },
  {
   "cell_type": "code",
   "execution_count": 11,
   "id": "d30b5ee2",
   "metadata": {},
   "outputs": [
    {
     "name": "stdout",
     "output_type": "stream",
     "text": [
      "{1, 2, 3, 4, 5}\n",
      "None\n",
      "{1, 3, 4, 5}\n"
     ]
    }
   ],
   "source": [
    "s={1,2,3,4,5}\n",
    "s1={4,5,6,7}\n",
    "print(s)\n",
    "print(s.discard(2))\n",
    "print(s)"
   ]
  },
  {
   "cell_type": "code",
   "execution_count": null,
   "id": "0bb7a716",
   "metadata": {},
   "outputs": [
    {
     "name": "stdout",
     "output_type": "stream",
     "text": [
      "{4, 5}\n"
     ]
    }
   ],
   "source": [
    "s={1,2,3,4,5}\n",
    "s1={4,5,6,7}\n",
    "print(s.intersection(s1))\n",
    "s.intersection_update(s1)"
   ]
  },
  {
   "cell_type": "code",
   "execution_count": 22,
   "id": "38194560",
   "metadata": {},
   "outputs": [
    {
     "name": "stdout",
     "output_type": "stream",
     "text": [
      "False\n",
      "\n"
     ]
    }
   ],
   "source": [
    "s={1,2,3,4,5}\n",
    "s1={4,5,6,7}\n",
    "print(s.isdisjoint({5,}))\n",
    "print()"
   ]
  },
  {
   "cell_type": "code",
   "execution_count": 27,
   "id": "3e834221",
   "metadata": {},
   "outputs": [
    {
     "name": "stdout",
     "output_type": "stream",
     "text": [
      "{1, 2, 3, 4, 5}\n",
      "True\n",
      "False\n"
     ]
    }
   ],
   "source": [
    "print(s)\n",
    "print(s.issuperset({3}))\n",
    "print(s.issubset({3}))"
   ]
  },
  {
   "cell_type": "code",
   "execution_count": 32,
   "id": "5bc0a35a",
   "metadata": {},
   "outputs": [
    {
     "name": "stdout",
     "output_type": "stream",
     "text": [
      "{1, 2, 3, 4, 5}\n",
      "{1, 3, 4, 5}\n"
     ]
    }
   ],
   "source": [
    "s={1,2,3,5,4}\n",
    "print(s)\n",
    "s.remove(2)\n",
    "print(s)"
   ]
  },
  {
   "cell_type": "code",
   "execution_count": 35,
   "id": "3d817ef0",
   "metadata": {},
   "outputs": [
    {
     "name": "stdout",
     "output_type": "stream",
     "text": [
      "{1, 2, 3, 6, 7}\n"
     ]
    }
   ],
   "source": [
    "s={1,2,3,4,5}\n",
    "s1={4,5,6,7}\n",
    "\n",
    "print(s.symmetric_difference(s1))"
   ]
  },
  {
   "cell_type": "code",
   "execution_count": 36,
   "id": "9934f264",
   "metadata": {},
   "outputs": [
    {
     "name": "stdout",
     "output_type": "stream",
     "text": [
      "{1, 2, 3, 4, 5, 6, 7}\n"
     ]
    }
   ],
   "source": [
    "s3=s.union(s1)\n",
    "print(s3)"
   ]
  },
  {
   "cell_type": "code",
   "execution_count": null,
   "id": "4bd75894",
   "metadata": {},
   "outputs": [],
   "source": [
    " \n",
    "    \n",
    "    \n",
    "    \n",
    "    \n",
    "                            #boolean\n",
    "    \n",
    "    \n",
    "    "
   ]
  },
  {
   "cell_type": "code",
   "execution_count": null,
   "id": "5e2c32b2",
   "metadata": {},
   "outputs": [],
   "source": [
    "#True,False and None are caps sensitive "
   ]
  },
  {
   "cell_type": "code",
   "execution_count": 33,
   "id": "9839fb84",
   "metadata": {},
   "outputs": [
    {
     "name": "stdout",
     "output_type": "stream",
     "text": [
      "<class 'bool'>\n",
      "<class 'bool'>\n"
     ]
    }
   ],
   "source": [
    "print(type(False))\n",
    "print(type(True))"
   ]
  },
  {
   "cell_type": "code",
   "execution_count": null,
   "id": "73d42295",
   "metadata": {},
   "outputs": [],
   "source": [
    "1 > 2\n"
   ]
  },
  {
   "cell_type": "code",
   "execution_count": null,
   "id": "693e2267",
   "metadata": {},
   "outputs": [
    {
     "data": {
      "text/plain": [
       "'abhi19'"
      ]
     },
     "execution_count": 81,
     "metadata": {},
     "output_type": "execute_result"
    }
   ],
   "source": [
    "class person:\n",
    "    def __init__(self,name,age):\n",
    "        self.name=name\n",
    "        self.age=age\n",
    "        self.passw=None\n",
    "        \n",
    "        \n",
    "    def passmaker(self):\n",
    "        self.passw=self.name+str(self.age)\n",
    "        \n",
    "\n",
    "obj=person('abhi',19)\n",
    "\n",
    "\n",
    "\n",
    "\n",
    "\n",
    "\n",
    "\n",
    "\n",
    "\n",
    "\n",
    "obj.passmaker()\n",
    "\n",
    "obj.passw\n",
    "        \n",
    "\n",
    "\n",
    "\n",
    "        "
   ]
  },
  {
   "cell_type": "code",
   "execution_count": null,
   "id": "66ea45b1",
   "metadata": {},
   "outputs": [],
   "source": [
    "strict name{\n",
    "    \n",
    "   int  pro1=1\n",
    "    propp2=\n",
    "}"
   ]
  },
  {
   "cell_type": "code",
   "execution_count": 34,
   "id": "ee893537",
   "metadata": {},
   "outputs": [
    {
     "data": {
      "text/plain": [
       "NoneType"
      ]
     },
     "execution_count": 34,
     "metadata": {},
     "output_type": "execute_result"
    }
   ],
   "source": [
    "b =None\n",
    "b\n",
    "type(b)"
   ]
  },
  {
   "cell_type": "code",
   "execution_count": null,
   "id": "57a49dd5",
   "metadata": {},
   "outputs": [],
   "source": [
    "\n",
    "\n",
    "\n",
    "\n",
    "\n",
    "\n",
    "                                #Files\n",
    "\n",
    "\n",
    "\n"
   ]
  },
  {
   "cell_type": "code",
   "execution_count": null,
   "id": "2617189a",
   "metadata": {},
   "outputs": [],
   "source": []
  },
  {
   "cell_type": "code",
   "execution_count": null,
   "id": "0e2152ad",
   "metadata": {},
   "outputs": [],
   "source": [
    "#this only works in jupyter notebook"
   ]
  },
  {
   "cell_type": "code",
   "execution_count": null,
   "id": "7e8fbb39",
   "metadata": {},
   "outputs": [],
   "source": [
    "%%writefile myfile.txt\n",
    "hello this is a test file\n",
    "wee woo"
   ]
  },
  {
   "cell_type": "code",
   "execution_count": 35,
   "id": "9b9bd1fe",
   "metadata": {},
   "outputs": [
    {
     "data": {
      "text/plain": [
       "'C:\\\\Users\\\\91830'"
      ]
     },
     "execution_count": 35,
     "metadata": {},
     "output_type": "execute_result"
    }
   ],
   "source": [
    "pwd"
   ]
  },
  {
   "cell_type": "code",
   "execution_count": 2,
   "id": "ee0fee54",
   "metadata": {},
   "outputs": [],
   "source": [
    "myfile = open('myfile.txt','r')"
   ]
  },
  {
   "cell_type": "code",
   "execution_count": 6,
   "id": "7bc20b00",
   "metadata": {},
   "outputs": [
    {
     "data": {
      "text/plain": [
       "'hello world my name is zaynul \\n this is a test file\\nwith multiple lines'"
      ]
     },
     "execution_count": 6,
     "metadata": {},
     "output_type": "execute_result"
    }
   ],
   "source": [
    "myfile.read()"
   ]
  },
  {
   "cell_type": "code",
   "execution_count": 7,
   "id": "19e74de2",
   "metadata": {},
   "outputs": [
    {
     "ename": "SyntaxError",
     "evalue": "invalid syntax (2341783175.py, line 1)",
     "output_type": "error",
     "traceback": [
      "\u001b[1;36m  Input \u001b[1;32mIn [7]\u001b[1;36m\u001b[0m\n\u001b[1;33m    Q!^myfile.read()\u001b[0m\n\u001b[1;37m     ^\u001b[0m\n\u001b[1;31mSyntaxError\u001b[0m\u001b[1;31m:\u001b[0m invalid syntax\n"
     ]
    }
   ],
   "source": [
    "21211111111111111111111111111111111111111111111111111111111111111111111111111111111111111111111111111111111111111111111111111111111 211111111111111111111111111111111111111111111111111111111111111111111111111111111111111111111 2111111111111111 31111111111111111111111111111 wqqqqqqqqqqqqqqqqqqqqqqqqqqqqqqqqqqqwqqqqqqqqqqqqqqqqqwwwwwwwwwwwwwqqqqqqqqqqqqqqqqqqqqqqqqq eqqqqqqqqqqqqqqqqqqqqqqq rqqqqqqqqqqqqqqqq cA!!!!!!!!!!!!!!!!!!!!!!!!!!!!!!!!!!!!!!!!!!!!!!!!!!!!!!!!!!! FFDSA!!!!! !!!!!QL444444444444444444444444444444444444444444"
   ]
  },
  {
   "cell_type": "code",
   "execution_count": 13,
   "id": "18d39438",
   "metadata": {},
   "outputs": [
    {
     "data": {
      "text/plain": [
       "0"
      ]
     },
     "execution_count": 13,
     "metadata": {},
     "output_type": "execute_result"
    }
   ],
   "source": [
    "myfile.seek(0)"
   ]
  },
  {
   "cell_type": "code",
   "execution_count": 9,
   "id": "53f1e529",
   "metadata": {},
   "outputs": [
    {
     "data": {
      "text/plain": [
       "'hello world my name is zaynul \\n this is a test file\\nwith multiple lines'"
      ]
     },
     "execution_count": 9,
     "metadata": {},
     "output_type": "execute_result"
    }
   ],
   "source": [
    "myfile.read()"
   ]
  },
  {
   "cell_type": "code",
   "execution_count": null,
   "id": "6e1787dc",
   "metadata": {},
   "outputs": [],
   "source": [
    "contents= myfile.read()\n",
    "contents"
   ]
  },
  {
   "cell_type": "code",
   "execution_count": 12,
   "id": "e0353a06",
   "metadata": {},
   "outputs": [
    {
     "data": {
      "text/plain": [
       "[]"
      ]
     },
     "execution_count": 12,
     "metadata": {},
     "output_type": "execute_result"
    }
   ],
   "source": [
    "myfile.readlines()"
   ]
  },
  {
   "cell_type": "code",
   "execution_count": 15,
   "id": "0ad5d40c",
   "metadata": {},
   "outputs": [],
   "source": [
    "myfile.close()"
   ]
  },
  {
   "cell_type": "code",
   "execution_count": null,
   "id": "733fe2aa",
   "metadata": {},
   "outputs": [],
   "source": [
    "#with this i dont need to worry abt closing the file"
   ]
  },
  {
   "cell_type": "code",
   "execution_count": null,
   "id": "2bbc647b",
   "metadata": {},
   "outputs": [],
   "source": [
    "with open('myfile.txt') as my_temporary_file:\n",
    "    contents= my_temporary_file.read()"
   ]
  },
  {
   "cell_type": "code",
   "execution_count": null,
   "id": "b7cbf07f",
   "metadata": {},
   "outputs": [],
   "source": [
    "contents"
   ]
  },
  {
   "cell_type": "code",
   "execution_count": 16,
   "id": "543a7613",
   "metadata": {},
   "outputs": [
    {
     "ename": "UnsupportedOperation",
     "evalue": "not readable",
     "output_type": "error",
     "traceback": [
      "\u001b[1;31m---------------------------------------------------------------------------\u001b[0m",
      "\u001b[1;31mUnsupportedOperation\u001b[0m                      Traceback (most recent call last)",
      "Input \u001b[1;32mIn [16]\u001b[0m, in \u001b[0;36m<cell line: 1>\u001b[1;34m()\u001b[0m\n\u001b[0;32m      1\u001b[0m \u001b[38;5;28;01mwith\u001b[39;00m \u001b[38;5;28mopen\u001b[39m(\u001b[38;5;124m'\u001b[39m\u001b[38;5;124mmyfile.txt\u001b[39m\u001b[38;5;124m'\u001b[39m,mode\u001b[38;5;241m=\u001b[39m\u001b[38;5;124m'\u001b[39m\u001b[38;5;124mw\u001b[39m\u001b[38;5;124m'\u001b[39m) \u001b[38;5;28;01mas\u001b[39;00m myfile:\n\u001b[1;32m----> 2\u001b[0m     contents\u001b[38;5;241m=\u001b[39m\u001b[43mmyfile\u001b[49m\u001b[38;5;241;43m.\u001b[39;49m\u001b[43mread\u001b[49m\u001b[43m(\u001b[49m\u001b[43m)\u001b[49m\n",
      "\u001b[1;31mUnsupportedOperation\u001b[0m: not readable"
     ]
    }
   ],
   "source": [
    "with open('myfile.txt',mode='w') as myfile:\n",
    "    contents=myfile.read()"
   ]
  },
  {
   "cell_type": "code",
   "execution_count": null,
   "id": "6e30c338",
   "metadata": {},
   "outputs": [],
   "source": [
    "contents"
   ]
  },
  {
   "cell_type": "code",
   "execution_count": null,
   "id": "d5078532",
   "metadata": {},
   "outputs": [],
   "source": [
    "#r use to read\n",
    "#w to write(will overwrite files or create new ones)\n",
    "#a to append(will ad to the files)\n",
    "#r+ is for reading and writing\n",
    "#w+ is for writting adn reading (overwrites existing file)"
   ]
  },
  {
   "cell_type": "code",
   "execution_count": 20,
   "id": "1bfa9066",
   "metadata": {},
   "outputs": [
    {
     "name": "stdout",
     "output_type": "stream",
     "text": [
      "Overwriting newfile1.text\n"
     ]
    }
   ],
   "source": [
    "%%writefile newfile1.text\n",
    "this is a experimental script\n",
    "this is for testing\n",
    "blah blah blah blah"
   ]
  },
  {
   "cell_type": "code",
   "execution_count": 21,
   "id": "a8e0f6bb",
   "metadata": {},
   "outputs": [],
   "source": [
    "newfile1 = open('newfile1.text')"
   ]
  },
  {
   "cell_type": "code",
   "execution_count": 22,
   "id": "325abb28",
   "metadata": {},
   "outputs": [],
   "source": [
    "newfile1.close()"
   ]
  },
  {
   "cell_type": "code",
   "execution_count": 23,
   "id": "4eec43ca",
   "metadata": {},
   "outputs": [
    {
     "name": "stdout",
     "output_type": "stream",
     "text": [
      "this is a experimental script\n",
      "this is for testing\n",
      "blah blah blah blah\n",
      "\n"
     ]
    }
   ],
   "source": [
    "with open('newfile1.text',mode='r') as f:\n",
    "    print(f.read())"
   ]
  },
  {
   "cell_type": "code",
   "execution_count": 24,
   "id": "60fdddf1",
   "metadata": {},
   "outputs": [
    {
     "name": "stdout",
     "output_type": "stream",
     "text": [
      "24\n"
     ]
    }
   ],
   "source": [
    "with open('newfile1.text',mode='a') as f:\n",
    "    print(f.write('this is an appended line'))"
   ]
  },
  {
   "cell_type": "code",
   "execution_count": 25,
   "id": "5b78356c",
   "metadata": {},
   "outputs": [
    {
     "name": "stdout",
     "output_type": "stream",
     "text": [
      "this is a experimental script\n",
      "this is for testing\n",
      "blah blah blah blah\n",
      "this is an appended line\n"
     ]
    }
   ],
   "source": [
    "with open('newfile1.text',mode='r') as f:\n",
    "    print(f.read())"
   ]
  },
  {
   "cell_type": "code",
   "execution_count": 30,
   "id": "0291f84d",
   "metadata": {},
   "outputs": [
    {
     "name": "stdout",
     "output_type": "stream",
     "text": [
      "32\n"
     ]
    }
   ],
   "source": [
    "with open('modewfile.txt',mode='w') as f:\n",
    "    print(f.write('i created this file using mode w'))"
   ]
  },
  {
   "cell_type": "code",
   "execution_count": 31,
   "id": "0deabbba",
   "metadata": {},
   "outputs": [
    {
     "name": "stdout",
     "output_type": "stream",
     "text": [
      "i created this file using mode w\n"
     ]
    }
   ],
   "source": [
    "with open('modewfile.txt',mode='r') as f:\n",
    "    print(f.read())"
   ]
  },
  {
   "cell_type": "code",
   "execution_count": 22,
   "id": "3c92117e",
   "metadata": {},
   "outputs": [
    {
     "name": "stdout",
     "output_type": "stream",
     "text": [
      "True False True False True True True True\n"
     ]
    }
   ],
   "source": [
    "#comparison operators\n",
    "print(2==2,'hello'=='bye',2.0==2,2.0!=2.0,2>1,1<3,3>=2,3<=3)\n",
    "\n",
    "\n",
    "\n",
    "\n",
    "\n",
    "\n",
    "\n",
    "\n",
    "\n",
    "\n",
    "\n"
   ]
  },
  {
   "cell_type": "code",
   "execution_count": 14,
   "id": "5e74545d",
   "metadata": {},
   "outputs": [
    {
     "data": {
      "text/plain": [
       "True"
      ]
     },
     "execution_count": 14,
     "metadata": {},
     "output_type": "execute_result"
    }
   ],
   "source": [
    "2 and 1 != 3"
   ]
  },
  {
   "cell_type": "code",
   "execution_count": 15,
   "id": "6334b7a4",
   "metadata": {},
   "outputs": [
    {
     "data": {
      "text/plain": [
       "False"
      ]
     },
     "execution_count": 15,
     "metadata": {},
     "output_type": "execute_result"
    }
   ],
   "source": [
    "1 < 2 > 3"
   ]
  },
  {
   "cell_type": "code",
   "execution_count": 16,
   "id": "fb016662",
   "metadata": {},
   "outputs": [
    {
     "data": {
      "text/plain": [
       "True"
      ]
     },
     "execution_count": 16,
     "metadata": {},
     "output_type": "execute_result"
    }
   ],
   "source": [
    "1<3 and 2>1"
   ]
  },
  {
   "cell_type": "code",
   "execution_count": 19,
   "id": "ced4c5bd",
   "metadata": {},
   "outputs": [
    {
     "data": {
      "text/plain": [
       "False"
      ]
     },
     "execution_count": 19,
     "metadata": {},
     "output_type": "execute_result"
    }
   ],
   "source": [
    "not (1<3 or 2<1)"
   ]
  },
  {
   "cell_type": "code",
   "execution_count": null,
   "id": "5adf09f6",
   "metadata": {},
   "outputs": [],
   "source": [
    "1<3 or 2<1"
   ]
  },
  {
   "cell_type": "code",
   "execution_count": null,
   "id": "b32baf38",
   "metadata": {},
   "outputs": [
    {
     "name": "stdout",
     "output_type": "stream",
     "text": [
      "{1, 2, 3, 4, 5, 6, 7, 8}\n",
      "{1}\n"
     ]
    }
   ],
   "source": [
    "# advanced data types quiz\n",
    "\n",
    "#num to binary\n",
    "# print(bin(1024))\n",
    "#num to hexadecimal\n",
    "# print(hex(1024))\n",
    "\n",
    "#rounding num\n",
    "#first parameter is num,second is how many places after decimal\n",
    "round(5.2345235155,2)\n",
    "\n",
    "# s=\"hello Mary how are you, are u feeling ok?\"\n",
    "# s.islower()\n",
    "\n",
    "# set1={1,2,3,5,6,8}\n",
    "# set2={3,1,7,5,6,8}\n",
    "# print(set1.difference(set2))#what set 1 has that set 2 doesnt\n",
    "\n",
    "# print(set1.union(set2))\n",
    "\n",
    "# d={x:x*3 for x in range(5)}\n",
    "# print(d)\n",
    "\n",
    "\n",
    "\n",
    "# l=[1,2,3,4]\n",
    "# print(l)\n",
    "# l.reverse()\n",
    "# print(l)\n",
    "\n",
    "# l1=[3,1,7,5,6,8]\n",
    "# l1.sort()\n",
    "# print(l1)\n",
    "\n",
    "#l2=l1.copy()#makes copy of array without poiinting to t\n",
    "l=list(range(1,11))\n",
    "d12={1:21,2:2,3:3,4:4,5:5,}\n",
    "# print(d12.pop(1))\n",
    "key=(5,6,7,8)\n",
    "# print(d12.fromkeys(key,0))\n",
    "# print(d12)\n",
    "# print(l[::1])\n",
    "s={1,2,3,4,5}\n",
    "s.update((6,7,8))\n",
    "print(s)\n",
    "s1={1,True}\n",
    "print(s1)\n",
    "# print(s.pop())\n",
    "\n",
    "\n"
   ]
  },
  {
   "cell_type": "code",
   "execution_count": 28,
   "id": "84fc15d2",
   "metadata": {},
   "outputs": [
    {
     "name": "stdout",
     "output_type": "stream",
     "text": [
      "(0, 1)\n",
      "(1, 2)\n",
      "(2, 3)\n",
      "(3, 4)\n",
      "(4, 5)\n",
      "(5, 6)\n",
      "(6, 7)\n",
      "(7, 8)\n",
      "(8, 9)\n",
      "(9, 10)\n",
      "<class 'range'>\n",
      "---------------\n",
      "3\n",
      "4\n",
      "5\n",
      "6\n",
      "7\n",
      "8\n",
      "9\n"
     ]
    }
   ],
   "source": [
    "a=[i for i in range(1,11)]\n",
    "\n",
    "for i in enumerate(a):\n",
    "    print(i)\n",
    "print(type(range(10)))\n",
    "\n",
    "def geny(n):\n",
    "    for i in range(1,n+1):\n",
    "        yield i**3\n",
    "print(\"-\"*15)\n",
    "\n",
    "r=iter(range(2,10))\n",
    "next(r)\n",
    "for i in r:\n",
    "    print(i)\n"
   ]
  },
  {
   "cell_type": "code",
   "execution_count": 3,
   "id": "5044583f",
   "metadata": {},
   "outputs": [
    {
     "name": "stdout",
     "output_type": "stream",
     "text": [
      "[2, 3, 4, 5]\n"
     ]
    }
   ],
   "source": [
    "l=[5,5,5,3,3,2,2,4,4]\n",
    "l=list(set(l))\n",
    "print(l)"
   ]
  },
  {
   "cell_type": "code",
   "execution_count": null,
   "id": "b469cf5d",
   "metadata": {},
   "outputs": [
    {
     "name": "stdout",
     "output_type": "stream",
     "text": [
      "[1, 2, 3, 4, 1, 2, 3, 4, 1, 2, 3, 4]\n",
      "True\n"
     ]
    }
   ],
   "source": [
    "print([1,2,3,4]*3)\n"
   ]
  },
  {
   "cell_type": "code",
   "execution_count": 9,
   "id": "b49cb2ef",
   "metadata": {},
   "outputs": [
    {
     "name": "stdout",
     "output_type": "stream",
     "text": [
      "{1: 21, 2: 2, 3: 3, 4: 4, 5: 5}\n",
      "{}\n",
      "{1: 21, 2: 2, 3: 3, 4: 4, 5: 5}\n",
      "{1: 21, 2: 2, 3: 3, 4: 'skibidi', 5: 'skibidi', 6: 'skibidi', 7: 'skibidi', 8: 'skibidi'}\n",
      "[(1, 21), (2, 2), (3, 3), (4, 'skibidi'), (5, 'skibidi'), (6, 'skibidi'), (7, 'skibidi'), (8, 'skibidi')]\n",
      "def\n",
      "{1: 21, 2: 2, 3: 3, 4: 'skibidi', 5: 'skibidi', 6: 'skibidi', 7: 'skibidi', 8: 'skibidi', 19: 'lol'}\n",
      "{2: 2, 3: 3, 4: 'skibidi', 5: 'skibidi', 6: 'skibidi', 7: 'skibidi', 8: 'skibidi'}\n",
      "{2: 2, 3: 3, 4: 'skibidi', 5: 'skibidi', 6: 'skibidi', 7: 'skibidi', 8: 'skibidi'}\n"
     ]
    }
   ],
   "source": [
    "\n",
    "d12={ 1:21, 2:2, 3:3, 4:4, 5:5,}\n",
    "print(d12)\n",
    "d12.clear()\n",
    "print(d12)\n",
    "d12={ 1:21, 2:2, 3:3, 4:4, 5:5,}\n",
    "print(d12)\n",
    "d12.update({})\n",
    "d12.update(d12.fromkeys([4,5,6,7,8],\"skibidi\"))\n",
    "print(d12)\n",
    "print(list(d12.items()))\n",
    "# d12.keys()l\n",
    "# d12.values()r\n",
    "print(d12.get(19,\"def\"))\n",
    "# print(d12)\n",
    "d12.setdefault(19,'lol')\n",
    "print(d12)\n",
    "d12.popitem()\n",
    "# d12.popitem()\n",
    "# d12.pop()\n",
    "d12.pop(1)\n",
    "print(d12)\n",
    "d12.update({})\n",
    "print(d12)\n"
   ]
  },
  {
   "cell_type": "code",
   "execution_count": 13,
   "id": "52a79171",
   "metadata": {},
   "outputs": [
    {
     "data": {
      "text/plain": [
       "{1}"
      ]
     },
     "execution_count": 13,
     "metadata": {},
     "output_type": "execute_result"
    }
   ],
   "source": [
    "s1={1,}\n",
    "s1"
   ]
  },
  {
   "cell_type": "code",
   "execution_count": null,
   "id": "4eb65897",
   "metadata": {},
   "outputs": [
    {
     "name": "stdout",
     "output_type": "stream",
     "text": [
      "(1,)\n"
     ]
    },
    {
     "ename": "NameError",
     "evalue": "name 'a' is not defined",
     "output_type": "error",
     "traceback": [
      "\u001b[31m---------------------------------------------------------------------------\u001b[39m",
      "\u001b[31mNameError\u001b[39m                                 Traceback (most recent call last)",
      "\u001b[36mCell\u001b[39m\u001b[36m \u001b[39m\u001b[32mIn[59]\u001b[39m\u001b[32m, line 4\u001b[39m\n\u001b[32m      2\u001b[39m \u001b[38;5;28mprint\u001b[39m(a)\n\u001b[32m      3\u001b[39m \u001b[38;5;28;01mdel\u001b[39;00m a\n\u001b[32m----> \u001b[39m\u001b[32m4\u001b[39m \u001b[38;5;28mprint\u001b[39m(\u001b[43ma\u001b[49m)\n",
      "\u001b[31mNameError\u001b[39m: name 'a' is not defined"
     ]
    }
   ],
   "source": [
    "a=(1,)\n",
    "print(a)\n",
    "del a\n",
    "# print(a)"
   ]
  },
  {
   "cell_type": "markdown",
   "id": "3a9231ca",
   "metadata": {},
   "source": []
  }
 ],
 "metadata": {
  "kernelspec": {
   "display_name": "base",
   "language": "python",
   "name": "python3"
  },
  "language_info": {
   "codemirror_mode": {
    "name": "ipython",
    "version": 3
   },
   "file_extension": ".py",
   "mimetype": "text/x-python",
   "name": "python",
   "nbconvert_exporter": "python",
   "pygments_lexer": "ipython3",
   "version": "3.12.7"
  }
 },
 "nbformat": 4,
 "nbformat_minor": 5
}
