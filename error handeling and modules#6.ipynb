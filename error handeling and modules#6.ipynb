{
 "cells": [
  {
   "cell_type": "code",
   "execution_count": null,
   "id": "516d9308",
   "metadata": {},
   "outputs": [],
   "source": [
    "'''\n",
    "try:the block of code to be run could run an error\n",
    "except:block of code will run if there is an error in try block\n",
    "finally:a block of code to be run regardles if error is raised \n",
    "'''  \n",
    "print('')\n"
   ]
  },
  {
   "cell_type": "code",
   "execution_count": null,
   "id": "00a8d876",
   "metadata": {},
   "outputs": [],
   "source": [
    "def add1(a,d):\n",
    "    print(a+d)\n"
   ]
  },
  {
   "cell_type": "markdown",
   "id": "c14d7970",
   "metadata": {},
   "source": [
    "a=12\n",
    "b=input('pleas enetr a number ')\n",
    "add1(a,b)\n",
    "print('hello there')\n",
    "#insetadof that do below syntax"
   ]
  },
  {
   "cell_type": "code",
   "execution_count": null,
   "id": "f25c313d",
   "metadata": {},
   "outputs": [],
   "source": [
    "try:\n",
    "    a=12\n",
    "    b=12\n",
    "    add1(a,b)\n",
    "except:\n",
    "    print('hey u need to make it an int')\n",
    "else:\n",
    "    print('add went correctly')"
   ]
  },
  {
   "cell_type": "code",
   "execution_count": null,
   "id": "a388f228",
   "metadata": {},
   "outputs": [],
   "source": [
    "#fianlly concept"
   ]
  },
  {
   "cell_type": "code",
   "execution_count": null,
   "id": "64289b53",
   "metadata": {},
   "outputs": [],
   "source": [
    "try:\n",
    "    f=open('experiment_file',mode='r')\n",
    "    f.write('write a test line')\n",
    "    f.close()\n",
    "except TypeError:\n",
    "    print('hey there was a type error')\n",
    "    f.close()\n",
    "\n",
    "except OSError:\n",
    "    print('hey u have Os eror')\n",
    "    f.close()\n",
    "finally:\n",
    "    print('hey i always run')\n",
    "    "
   ]
  },
  {
   "cell_type": "code",
   "execution_count": null,
   "id": "a8e19503",
   "metadata": {},
   "outputs": [],
   "source": [
    "def numasker():\n",
    "    while True :\n",
    "        try:\n",
    "            a=int(input('please enter a number'))\n",
    "        except:\n",
    "            print(\"whopps not a number\")\n",
    "        else:\n",
    "            break\n",
    "            print('yes thank you')\n",
    "        finally:\n",
    "            print('end of try/excpet finally')"
   ]
  },
  {
   "cell_type": "code",
   "execution_count": 1,
   "id": "fb2bc933",
   "metadata": {},
   "outputs": [
    {
     "ename": "NameError",
     "evalue": "name 'numasker' is not defined",
     "output_type": "error",
     "traceback": [
      "\u001b[1;31m---------------------------------------------------------------------------\u001b[0m",
      "\u001b[1;31mNameError\u001b[0m                                 Traceback (most recent call last)",
      "Input \u001b[1;32mIn [1]\u001b[0m, in \u001b[0;36m<cell line: 1>\u001b[1;34m()\u001b[0m\n\u001b[1;32m----> 1\u001b[0m \u001b[43mnumasker\u001b[49m()\n",
      "\u001b[1;31mNameError\u001b[0m: name 'numasker' is not defined"
     ]
    }
   ],
   "source": [
    "numasker()"
   ]
  },
  {
   "cell_type": "code",
   "execution_count": null,
   "id": "fc9ed433",
   "metadata": {},
   "outputs": [],
   "source": [
    "                                                        #homework"
   ]
  },
  {
   "cell_type": "code",
   "execution_count": null,
   "id": "a261808a",
   "metadata": {},
   "outputs": [],
   "source": [
    "try:\n",
    "    for i in ['a','b','c']:\n",
    "        print(i**2)\n",
    "except TypeError:\n",
    "    print('hey thats not the right data type')\n",
    "except:\n",
    "    print('whopps error occured')\n",
    "    "
   ]
  },
  {
   "cell_type": "code",
   "execution_count": null,
   "id": "690d60dd",
   "metadata": {},
   "outputs": [],
   "source": [
    "try:    \n",
    "    x = 5\n",
    "    y = 0\n",
    "\n",
    "    z = x/y\n",
    "except ZeroDivisionError:\n",
    "    print(\"hey u cannopt divide by 0\")\n",
    "finally:\n",
    "    print('all done')"
   ]
  },
  {
   "cell_type": "code",
   "execution_count": null,
   "id": "f79cc54c",
   "metadata": {},
   "outputs": [],
   "source": [
    "#pylint is something to insall thru pip that rates ur code\n",
    "#tels u the stats and where it went wrong and what are some sugeste changes"
   ]
  },
  {
   "cell_type": "code",
   "execution_count": null,
   "id": "3b400089",
   "metadata": {},
   "outputs": [],
   "source": [
    "def squared():\n",
    "    while True:\n",
    "        try: \n",
    "            squarednum=int(input('please enter number u want squared '))\n",
    "        except ValueError:\n",
    "            print(\"please enter integer value\")\n",
    "        except:\n",
    "            print('please enter corrrect vlaue') \n",
    "        else:\n",
    "            print('thanks for entering correct value')\n",
    "            return f\"the squared number is {squarednum**2}\""
   ]
  },
  {
   "cell_type": "code",
   "execution_count": null,
   "id": "a0199e7f",
   "metadata": {},
   "outputs": [],
   "source": [
    "squared()"
   ]
  },
  {
   "cell_type": "code",
   "execution_count": null,
   "id": "d7b1fa87",
   "metadata": {},
   "outputs": [],
   "source": []
  },
  {
   "cell_type": "code",
   "execution_count": null,
   "id": "5c3921ad",
   "metadata": {},
   "outputs": [],
   "source": []
  }
 ],
 "metadata": {
  "kernelspec": {
   "display_name": "Python 3 (ipykernel)",
   "language": "python",
   "name": "python3"
  },
  "language_info": {
   "codemirror_mode": {
    "name": "ipython",
    "version": 3
   },
   "file_extension": ".py",
   "mimetype": "text/x-python",
   "name": "python",
   "nbconvert_exporter": "python",
   "pygments_lexer": "ipython3",
   "version": "3.9.12"
  }
 },
 "nbformat": 4,
 "nbformat_minor": 5
}
