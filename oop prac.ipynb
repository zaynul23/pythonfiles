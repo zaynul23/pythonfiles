{
 "cells": [
  {
   "cell_type": "code",
   "execution_count": null,
   "metadata": {},
   "outputs": [
    {
     "name": "stdout",
     "output_type": "stream",
     "text": [
      "zaynul\n",
      "zaynul\n"
     ]
    }
   ],
   "source": [
    "class Newclass:\n",
    "    def __init__(self,name):\n",
    "        self.__name=name        \n",
    "       \n",
    "        \n",
    "    def meth(self):\n",
    "        return 1\n",
    "    \n",
    "    def greet(self):\n",
    "        return (self.__name)\n",
    "            \n",
    "            \n",
    "obj=Newclass(\"zaynul\")\n",
    "\n",
    "print(obj.greet())\n"
   ]
  },
  {
   "cell_type": "code",
   "execution_count": null,
   "metadata": {},
   "outputs": [],
   "source": []
  },
  {
   "cell_type": "code",
   "execution_count": null,
   "metadata": {},
   "outputs": [],
   "source": []
  }
 ],
 "metadata": {
  "kernelspec": {
   "display_name": "Python 3",
   "language": "python",
   "name": "python3"
  },
  "language_info": {
   "codemirror_mode": {
    "name": "ipython",
    "version": 3
   },
   "file_extension": ".py",
   "mimetype": "text/x-python",
   "name": "python",
   "nbconvert_exporter": "python",
   "pygments_lexer": "ipython3",
   "version": "3.11.9"
  }
 },
 "nbformat": 4,
 "nbformat_minor": 2
}
