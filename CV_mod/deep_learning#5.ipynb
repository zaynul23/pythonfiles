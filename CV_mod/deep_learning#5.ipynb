{
 "cells": [
  {
   "cell_type": "code",
   "execution_count": null,
   "id": "071ec48a",
   "metadata": {},
   "outputs": [
    {
     "ename": "",
     "evalue": "",
     "output_type": "error",
     "traceback": [
      "\u001b[1;31mThe kernel failed to start as the Python Environment 'Python 3.12.10' is no longer available. Consider selecting another kernel or refreshing the list of Python Environments."
     ]
    }
   ],
   "source": []
  },
  {
   "cell_type": "markdown",
   "id": "0fd7a96d",
   "metadata": {},
   "source": [
    "plot model func"
   ]
  },
  {
   "cell_type": "code",
   "execution_count": null,
   "id": "15c689ed",
   "metadata": {},
   "outputs": [],
   "source": []
  },
  {
   "cell_type": "code",
   "execution_count": null,
   "id": "d43931e3",
   "metadata": {},
   "outputs": [
    {
     "data": {
      "text/plain": [
       "'0b1111111111111111111111111111111111111111111111111111111111111111'"
      ]
     },
     "execution_count": 16,
     "metadata": {},
     "output_type": "execute_result"
    },
    {
     "data": {
      "text/plain": [
       "4"
      ]
     },
     "execution_count": 21,
     "metadata": {},
     "output_type": "execute_result"
    }
   ],
   "source": [
    "2**2"
   ]
  },
  {
   "cell_type": "markdown",
   "id": "35899120",
   "metadata": {},
   "source": [
    "gradient descent\n",
    "\n",
    "basically find the slope to find a way to maximise or minimise\n",
    "\n",
    "back propagation used to calculate error contribution of each neuron after a batch of data ir processed, needs a known desired output \n",
    "\n"
   ]
  },
  {
   "cell_type": "code",
   "execution_count": 22,
   "id": "e6efcbe3",
   "metadata": {},
   "outputs": [],
   "source": [
    "import numpy as np\n",
    "from numpy import genfromtxt"
   ]
  },
  {
   "cell_type": "code",
   "execution_count": 86,
   "id": "57e207b1",
   "metadata": {},
   "outputs": [
    {
     "name": "stdout",
     "output_type": "stream",
     "text": [
      "[[  3.6216    8.6661   -2.8073   -0.44699   0.     ]\n",
      " [  4.5459    8.1674   -2.4586   -1.4621    0.     ]\n",
      " [  3.866    -2.6383    1.9242    0.10645   0.     ]\n",
      " ...\n",
      " [ -3.7503  -13.4586   17.5932   -2.7771    1.     ]\n",
      " [ -3.5637   -8.3827   12.393    -1.2823    1.     ]\n",
      " [ -2.5419   -0.65804   2.6842    1.1952    1.     ]]\n"
     ]
    }
   ],
   "source": [
    "data= genfromtxt(r'D:\\zaynu\\Documents\\pythonfiles\\CV_mod\\Computer-Vision-with-Python\\DATA\\bank_note_data.txt',delimiter=',')\n",
    "print (data)"
   ]
  },
  {
   "cell_type": "markdown",
   "id": "9552cd6f",
   "metadata": {},
   "source": [
    "D:\\zaynu\\Documents\\pythonfiles\\CV_mod\\Computer-Vision-with-Python\\DATA\\bank_note_data.txt"
   ]
  },
  {
   "cell_type": "code",
   "execution_count": 87,
   "id": "c3d0b390",
   "metadata": {},
   "outputs": [],
   "source": [
    "labels=data[:,4]\n",
    "features=data[:,:4]\n"
   ]
  },
  {
   "cell_type": "code",
   "execution_count": 88,
   "id": "15caaaff",
   "metadata": {},
   "outputs": [],
   "source": [
    "from sklearn.model_selection import train_test_split\n",
    "X=features\n",
    "y=labels"
   ]
  },
  {
   "cell_type": "code",
   "execution_count": 89,
   "id": "39051afb",
   "metadata": {},
   "outputs": [],
   "source": [
    "X_train, X_test, y_train, y_test = train_test_split(X, y, test_size=0.33, random_state=42)\n",
    "#randomstate is kinda like the suffle seed , 42 is default cause of dumb joke\n"
   ]
  },
  {
   "cell_type": "code",
   "execution_count": 90,
   "id": "2953deb6",
   "metadata": {},
   "outputs": [
    {
     "name": "stdout",
     "output_type": "stream",
     "text": [
      "[0. 0. 0. 0. 0. 0. 0. 0. 0. 0. 1. 1. 0. 1. 0. 1. 1. 1. 1. 1. 0. 0. 1. 0.\n",
      " 1. 0. 0. 1. 0. 0. 1. 0. 0. 1. 1. 0. 1. 1. 1. 0. 0. 1. 1. 0. 1. 1. 1. 0.\n",
      " 0. 1. 0. 0. 0. 0. 0. 1. 0. 0. 0. 0. 1. 0. 1. 0. 0. 0. 0. 0. 0. 1. 1. 0.\n",
      " 1. 0. 1. 0. 0. 1. 1. 1. 1. 0. 1. 0. 0. 0. 0. 1. 1. 0. 0. 0. 1. 1. 0. 1.\n",
      " 1. 0. 0. 0. 1. 0. 0. 0. 1. 0. 0. 1. 1. 1. 1. 1. 0. 1. 1. 1. 0. 1. 1. 0.\n",
      " 1. 0. 1. 0. 1. 0. 1. 1. 0. 1. 1. 0. 0. 0. 0. 0. 1. 0. 0. 0. 0. 0. 1. 0.\n",
      " 1. 1. 1. 1. 1. 0. 1. 1. 1. 0. 1. 0. 1. 0. 0. 0. 1. 1. 1. 1. 1. 0. 1. 0.\n",
      " 0. 0. 0. 0. 0. 1. 0. 0. 1. 1. 0. 0. 0. 0. 1. 0. 1. 0. 1. 1. 0. 0. 1. 0.\n",
      " 0. 1. 1. 1. 1. 0. 0. 1. 1. 1. 0. 0. 1. 1. 1. 1. 0. 0. 0. 0. 0. 0. 0. 0.\n",
      " 0. 0. 1. 1. 1. 1. 1. 0. 1. 0. 0. 1. 1. 1. 1. 0. 1. 0. 1. 1. 1. 1. 0. 0.\n",
      " 0. 1. 0. 1. 1. 1. 0. 0. 0. 0. 0. 0. 1. 0. 1. 0. 0. 0. 1. 1. 0. 0. 0. 1.\n",
      " 1. 0. 1. 0. 1. 1. 1. 1. 0. 0. 0. 0. 0. 1. 0. 0. 1. 0. 1. 0. 0. 1. 0. 0.\n",
      " 0. 0. 0. 1. 1. 0. 1. 0. 1. 1. 0. 0. 0. 0. 0. 0. 0. 1. 1. 1. 0. 0. 1. 1.\n",
      " 0. 0. 0. 0. 0. 0. 1. 0. 1. 1. 1. 0. 0. 0. 0. 1. 0. 0. 0. 0. 0. 0. 0. 1.\n",
      " 0. 1. 1. 1. 1. 0. 1. 1. 0. 1. 1. 0. 0. 1. 0. 0. 1. 0. 1. 0. 1. 1. 0. 0.\n",
      " 1. 0. 0. 0. 0. 0. 0. 1. 0. 0. 1. 0. 0. 0. 0. 1. 1. 0. 1. 0. 1. 1. 1. 0.\n",
      " 1. 1. 0. 1. 1. 0. 1. 0. 0. 0. 1. 1. 1. 0. 0. 0. 0. 1. 0. 0. 1. 1. 1. 1.\n",
      " 0. 1. 0. 0. 1. 1. 0. 1. 0. 1. 0. 0. 0. 1. 1. 0. 0. 0. 1. 0. 0. 1. 0. 0.\n",
      " 0. 0. 1. 0. 1. 0. 0. 1. 0. 0. 0. 0. 0. 0. 1. 1. 0. 0. 0. 0. 0.]\n"
     ]
    }
   ],
   "source": [
    "print(y_test)"
   ]
  },
  {
   "cell_type": "code",
   "execution_count": 6,
   "id": "4d3b3630",
   "metadata": {},
   "outputs": [],
   "source": [
    "from sklearn.preprocessing import MinMaxScaler\n",
    "\n",
    "#minmax scaler usd when the values  of the min and max of the X test vals are VERY DIFF\n",
    "#eg since here max is 17 and min is -13 there isnt much difference  so no need"
   ]
  },
  {
   "cell_type": "code",
   "execution_count": 7,
   "id": "182bea13",
   "metadata": {},
   "outputs": [],
   "source": [
    "scaler_obj=MinMaxScaler()"
   ]
  },
  {
   "cell_type": "code",
   "execution_count": 8,
   "id": "e91d5cd1",
   "metadata": {},
   "outputs": [
    {
     "data": {
      "text/html": [
       "<style>#sk-container-id-1 {\n",
       "  /* Definition of color scheme common for light and dark mode */\n",
       "  --sklearn-color-text: black;\n",
       "  --sklearn-color-line: gray;\n",
       "  /* Definition of color scheme for unfitted estimators */\n",
       "  --sklearn-color-unfitted-level-0: #fff5e6;\n",
       "  --sklearn-color-unfitted-level-1: #f6e4d2;\n",
       "  --sklearn-color-unfitted-level-2: #ffe0b3;\n",
       "  --sklearn-color-unfitted-level-3: chocolate;\n",
       "  /* Definition of color scheme for fitted estimators */\n",
       "  --sklearn-color-fitted-level-0: #f0f8ff;\n",
       "  --sklearn-color-fitted-level-1: #d4ebff;\n",
       "  --sklearn-color-fitted-level-2: #b3dbfd;\n",
       "  --sklearn-color-fitted-level-3: cornflowerblue;\n",
       "\n",
       "  /* Specific color for light theme */\n",
       "  --sklearn-color-text-on-default-background: var(--sg-text-color, var(--theme-code-foreground, var(--jp-content-font-color1, black)));\n",
       "  --sklearn-color-background: var(--sg-background-color, var(--theme-background, var(--jp-layout-color0, white)));\n",
       "  --sklearn-color-border-box: var(--sg-text-color, var(--theme-code-foreground, var(--jp-content-font-color1, black)));\n",
       "  --sklearn-color-icon: #696969;\n",
       "\n",
       "  @media (prefers-color-scheme: dark) {\n",
       "    /* Redefinition of color scheme for dark theme */\n",
       "    --sklearn-color-text-on-default-background: var(--sg-text-color, var(--theme-code-foreground, var(--jp-content-font-color1, white)));\n",
       "    --sklearn-color-background: var(--sg-background-color, var(--theme-background, var(--jp-layout-color0, #111)));\n",
       "    --sklearn-color-border-box: var(--sg-text-color, var(--theme-code-foreground, var(--jp-content-font-color1, white)));\n",
       "    --sklearn-color-icon: #878787;\n",
       "  }\n",
       "}\n",
       "\n",
       "#sk-container-id-1 {\n",
       "  color: var(--sklearn-color-text);\n",
       "}\n",
       "\n",
       "#sk-container-id-1 pre {\n",
       "  padding: 0;\n",
       "}\n",
       "\n",
       "#sk-container-id-1 input.sk-hidden--visually {\n",
       "  border: 0;\n",
       "  clip: rect(1px 1px 1px 1px);\n",
       "  clip: rect(1px, 1px, 1px, 1px);\n",
       "  height: 1px;\n",
       "  margin: -1px;\n",
       "  overflow: hidden;\n",
       "  padding: 0;\n",
       "  position: absolute;\n",
       "  width: 1px;\n",
       "}\n",
       "\n",
       "#sk-container-id-1 div.sk-dashed-wrapped {\n",
       "  border: 1px dashed var(--sklearn-color-line);\n",
       "  margin: 0 0.4em 0.5em 0.4em;\n",
       "  box-sizing: border-box;\n",
       "  padding-bottom: 0.4em;\n",
       "  background-color: var(--sklearn-color-background);\n",
       "}\n",
       "\n",
       "#sk-container-id-1 div.sk-container {\n",
       "  /* jupyter's `normalize.less` sets `[hidden] { display: none; }`\n",
       "     but bootstrap.min.css set `[hidden] { display: none !important; }`\n",
       "     so we also need the `!important` here to be able to override the\n",
       "     default hidden behavior on the sphinx rendered scikit-learn.org.\n",
       "     See: https://github.com/scikit-learn/scikit-learn/issues/21755 */\n",
       "  display: inline-block !important;\n",
       "  position: relative;\n",
       "}\n",
       "\n",
       "#sk-container-id-1 div.sk-text-repr-fallback {\n",
       "  display: none;\n",
       "}\n",
       "\n",
       "div.sk-parallel-item,\n",
       "div.sk-serial,\n",
       "div.sk-item {\n",
       "  /* draw centered vertical line to link estimators */\n",
       "  background-image: linear-gradient(var(--sklearn-color-text-on-default-background), var(--sklearn-color-text-on-default-background));\n",
       "  background-size: 2px 100%;\n",
       "  background-repeat: no-repeat;\n",
       "  background-position: center center;\n",
       "}\n",
       "\n",
       "/* Parallel-specific style estimator block */\n",
       "\n",
       "#sk-container-id-1 div.sk-parallel-item::after {\n",
       "  content: \"\";\n",
       "  width: 100%;\n",
       "  border-bottom: 2px solid var(--sklearn-color-text-on-default-background);\n",
       "  flex-grow: 1;\n",
       "}\n",
       "\n",
       "#sk-container-id-1 div.sk-parallel {\n",
       "  display: flex;\n",
       "  align-items: stretch;\n",
       "  justify-content: center;\n",
       "  background-color: var(--sklearn-color-background);\n",
       "  position: relative;\n",
       "}\n",
       "\n",
       "#sk-container-id-1 div.sk-parallel-item {\n",
       "  display: flex;\n",
       "  flex-direction: column;\n",
       "}\n",
       "\n",
       "#sk-container-id-1 div.sk-parallel-item:first-child::after {\n",
       "  align-self: flex-end;\n",
       "  width: 50%;\n",
       "}\n",
       "\n",
       "#sk-container-id-1 div.sk-parallel-item:last-child::after {\n",
       "  align-self: flex-start;\n",
       "  width: 50%;\n",
       "}\n",
       "\n",
       "#sk-container-id-1 div.sk-parallel-item:only-child::after {\n",
       "  width: 0;\n",
       "}\n",
       "\n",
       "/* Serial-specific style estimator block */\n",
       "\n",
       "#sk-container-id-1 div.sk-serial {\n",
       "  display: flex;\n",
       "  flex-direction: column;\n",
       "  align-items: center;\n",
       "  background-color: var(--sklearn-color-background);\n",
       "  padding-right: 1em;\n",
       "  padding-left: 1em;\n",
       "}\n",
       "\n",
       "\n",
       "/* Toggleable style: style used for estimator/Pipeline/ColumnTransformer box that is\n",
       "clickable and can be expanded/collapsed.\n",
       "- Pipeline and ColumnTransformer use this feature and define the default style\n",
       "- Estimators will overwrite some part of the style using the `sk-estimator` class\n",
       "*/\n",
       "\n",
       "/* Pipeline and ColumnTransformer style (default) */\n",
       "\n",
       "#sk-container-id-1 div.sk-toggleable {\n",
       "  /* Default theme specific background. It is overwritten whether we have a\n",
       "  specific estimator or a Pipeline/ColumnTransformer */\n",
       "  background-color: var(--sklearn-color-background);\n",
       "}\n",
       "\n",
       "/* Toggleable label */\n",
       "#sk-container-id-1 label.sk-toggleable__label {\n",
       "  cursor: pointer;\n",
       "  display: block;\n",
       "  width: 100%;\n",
       "  margin-bottom: 0;\n",
       "  padding: 0.5em;\n",
       "  box-sizing: border-box;\n",
       "  text-align: center;\n",
       "}\n",
       "\n",
       "#sk-container-id-1 label.sk-toggleable__label-arrow:before {\n",
       "  /* Arrow on the left of the label */\n",
       "  content: \"▸\";\n",
       "  float: left;\n",
       "  margin-right: 0.25em;\n",
       "  color: var(--sklearn-color-icon);\n",
       "}\n",
       "\n",
       "#sk-container-id-1 label.sk-toggleable__label-arrow:hover:before {\n",
       "  color: var(--sklearn-color-text);\n",
       "}\n",
       "\n",
       "/* Toggleable content - dropdown */\n",
       "\n",
       "#sk-container-id-1 div.sk-toggleable__content {\n",
       "  max-height: 0;\n",
       "  max-width: 0;\n",
       "  overflow: hidden;\n",
       "  text-align: left;\n",
       "  /* unfitted */\n",
       "  background-color: var(--sklearn-color-unfitted-level-0);\n",
       "}\n",
       "\n",
       "#sk-container-id-1 div.sk-toggleable__content.fitted {\n",
       "  /* fitted */\n",
       "  background-color: var(--sklearn-color-fitted-level-0);\n",
       "}\n",
       "\n",
       "#sk-container-id-1 div.sk-toggleable__content pre {\n",
       "  margin: 0.2em;\n",
       "  border-radius: 0.25em;\n",
       "  color: var(--sklearn-color-text);\n",
       "  /* unfitted */\n",
       "  background-color: var(--sklearn-color-unfitted-level-0);\n",
       "}\n",
       "\n",
       "#sk-container-id-1 div.sk-toggleable__content.fitted pre {\n",
       "  /* unfitted */\n",
       "  background-color: var(--sklearn-color-fitted-level-0);\n",
       "}\n",
       "\n",
       "#sk-container-id-1 input.sk-toggleable__control:checked~div.sk-toggleable__content {\n",
       "  /* Expand drop-down */\n",
       "  max-height: 200px;\n",
       "  max-width: 100%;\n",
       "  overflow: auto;\n",
       "}\n",
       "\n",
       "#sk-container-id-1 input.sk-toggleable__control:checked~label.sk-toggleable__label-arrow:before {\n",
       "  content: \"▾\";\n",
       "}\n",
       "\n",
       "/* Pipeline/ColumnTransformer-specific style */\n",
       "\n",
       "#sk-container-id-1 div.sk-label input.sk-toggleable__control:checked~label.sk-toggleable__label {\n",
       "  color: var(--sklearn-color-text);\n",
       "  background-color: var(--sklearn-color-unfitted-level-2);\n",
       "}\n",
       "\n",
       "#sk-container-id-1 div.sk-label.fitted input.sk-toggleable__control:checked~label.sk-toggleable__label {\n",
       "  background-color: var(--sklearn-color-fitted-level-2);\n",
       "}\n",
       "\n",
       "/* Estimator-specific style */\n",
       "\n",
       "/* Colorize estimator box */\n",
       "#sk-container-id-1 div.sk-estimator input.sk-toggleable__control:checked~label.sk-toggleable__label {\n",
       "  /* unfitted */\n",
       "  background-color: var(--sklearn-color-unfitted-level-2);\n",
       "}\n",
       "\n",
       "#sk-container-id-1 div.sk-estimator.fitted input.sk-toggleable__control:checked~label.sk-toggleable__label {\n",
       "  /* fitted */\n",
       "  background-color: var(--sklearn-color-fitted-level-2);\n",
       "}\n",
       "\n",
       "#sk-container-id-1 div.sk-label label.sk-toggleable__label,\n",
       "#sk-container-id-1 div.sk-label label {\n",
       "  /* The background is the default theme color */\n",
       "  color: var(--sklearn-color-text-on-default-background);\n",
       "}\n",
       "\n",
       "/* On hover, darken the color of the background */\n",
       "#sk-container-id-1 div.sk-label:hover label.sk-toggleable__label {\n",
       "  color: var(--sklearn-color-text);\n",
       "  background-color: var(--sklearn-color-unfitted-level-2);\n",
       "}\n",
       "\n",
       "/* Label box, darken color on hover, fitted */\n",
       "#sk-container-id-1 div.sk-label.fitted:hover label.sk-toggleable__label.fitted {\n",
       "  color: var(--sklearn-color-text);\n",
       "  background-color: var(--sklearn-color-fitted-level-2);\n",
       "}\n",
       "\n",
       "/* Estimator label */\n",
       "\n",
       "#sk-container-id-1 div.sk-label label {\n",
       "  font-family: monospace;\n",
       "  font-weight: bold;\n",
       "  display: inline-block;\n",
       "  line-height: 1.2em;\n",
       "}\n",
       "\n",
       "#sk-container-id-1 div.sk-label-container {\n",
       "  text-align: center;\n",
       "}\n",
       "\n",
       "/* Estimator-specific */\n",
       "#sk-container-id-1 div.sk-estimator {\n",
       "  font-family: monospace;\n",
       "  border: 1px dotted var(--sklearn-color-border-box);\n",
       "  border-radius: 0.25em;\n",
       "  box-sizing: border-box;\n",
       "  margin-bottom: 0.5em;\n",
       "  /* unfitted */\n",
       "  background-color: var(--sklearn-color-unfitted-level-0);\n",
       "}\n",
       "\n",
       "#sk-container-id-1 div.sk-estimator.fitted {\n",
       "  /* fitted */\n",
       "  background-color: var(--sklearn-color-fitted-level-0);\n",
       "}\n",
       "\n",
       "/* on hover */\n",
       "#sk-container-id-1 div.sk-estimator:hover {\n",
       "  /* unfitted */\n",
       "  background-color: var(--sklearn-color-unfitted-level-2);\n",
       "}\n",
       "\n",
       "#sk-container-id-1 div.sk-estimator.fitted:hover {\n",
       "  /* fitted */\n",
       "  background-color: var(--sklearn-color-fitted-level-2);\n",
       "}\n",
       "\n",
       "/* Specification for estimator info (e.g. \"i\" and \"?\") */\n",
       "\n",
       "/* Common style for \"i\" and \"?\" */\n",
       "\n",
       ".sk-estimator-doc-link,\n",
       "a:link.sk-estimator-doc-link,\n",
       "a:visited.sk-estimator-doc-link {\n",
       "  float: right;\n",
       "  font-size: smaller;\n",
       "  line-height: 1em;\n",
       "  font-family: monospace;\n",
       "  background-color: var(--sklearn-color-background);\n",
       "  border-radius: 1em;\n",
       "  height: 1em;\n",
       "  width: 1em;\n",
       "  text-decoration: none !important;\n",
       "  margin-left: 1ex;\n",
       "  /* unfitted */\n",
       "  border: var(--sklearn-color-unfitted-level-1) 1pt solid;\n",
       "  color: var(--sklearn-color-unfitted-level-1);\n",
       "}\n",
       "\n",
       ".sk-estimator-doc-link.fitted,\n",
       "a:link.sk-estimator-doc-link.fitted,\n",
       "a:visited.sk-estimator-doc-link.fitted {\n",
       "  /* fitted */\n",
       "  border: var(--sklearn-color-fitted-level-1) 1pt solid;\n",
       "  color: var(--sklearn-color-fitted-level-1);\n",
       "}\n",
       "\n",
       "/* On hover */\n",
       "div.sk-estimator:hover .sk-estimator-doc-link:hover,\n",
       ".sk-estimator-doc-link:hover,\n",
       "div.sk-label-container:hover .sk-estimator-doc-link:hover,\n",
       ".sk-estimator-doc-link:hover {\n",
       "  /* unfitted */\n",
       "  background-color: var(--sklearn-color-unfitted-level-3);\n",
       "  color: var(--sklearn-color-background);\n",
       "  text-decoration: none;\n",
       "}\n",
       "\n",
       "div.sk-estimator.fitted:hover .sk-estimator-doc-link.fitted:hover,\n",
       ".sk-estimator-doc-link.fitted:hover,\n",
       "div.sk-label-container:hover .sk-estimator-doc-link.fitted:hover,\n",
       ".sk-estimator-doc-link.fitted:hover {\n",
       "  /* fitted */\n",
       "  background-color: var(--sklearn-color-fitted-level-3);\n",
       "  color: var(--sklearn-color-background);\n",
       "  text-decoration: none;\n",
       "}\n",
       "\n",
       "/* Span, style for the box shown on hovering the info icon */\n",
       ".sk-estimator-doc-link span {\n",
       "  display: none;\n",
       "  z-index: 9999;\n",
       "  position: relative;\n",
       "  font-weight: normal;\n",
       "  right: .2ex;\n",
       "  padding: .5ex;\n",
       "  margin: .5ex;\n",
       "  width: min-content;\n",
       "  min-width: 20ex;\n",
       "  max-width: 50ex;\n",
       "  color: var(--sklearn-color-text);\n",
       "  box-shadow: 2pt 2pt 4pt #999;\n",
       "  /* unfitted */\n",
       "  background: var(--sklearn-color-unfitted-level-0);\n",
       "  border: .5pt solid var(--sklearn-color-unfitted-level-3);\n",
       "}\n",
       "\n",
       ".sk-estimator-doc-link.fitted span {\n",
       "  /* fitted */\n",
       "  background: var(--sklearn-color-fitted-level-0);\n",
       "  border: var(--sklearn-color-fitted-level-3);\n",
       "}\n",
       "\n",
       ".sk-estimator-doc-link:hover span {\n",
       "  display: block;\n",
       "}\n",
       "\n",
       "/* \"?\"-specific style due to the `<a>` HTML tag */\n",
       "\n",
       "#sk-container-id-1 a.estimator_doc_link {\n",
       "  float: right;\n",
       "  font-size: 1rem;\n",
       "  line-height: 1em;\n",
       "  font-family: monospace;\n",
       "  background-color: var(--sklearn-color-background);\n",
       "  border-radius: 1rem;\n",
       "  height: 1rem;\n",
       "  width: 1rem;\n",
       "  text-decoration: none;\n",
       "  /* unfitted */\n",
       "  color: var(--sklearn-color-unfitted-level-1);\n",
       "  border: var(--sklearn-color-unfitted-level-1) 1pt solid;\n",
       "}\n",
       "\n",
       "#sk-container-id-1 a.estimator_doc_link.fitted {\n",
       "  /* fitted */\n",
       "  border: var(--sklearn-color-fitted-level-1) 1pt solid;\n",
       "  color: var(--sklearn-color-fitted-level-1);\n",
       "}\n",
       "\n",
       "/* On hover */\n",
       "#sk-container-id-1 a.estimator_doc_link:hover {\n",
       "  /* unfitted */\n",
       "  background-color: var(--sklearn-color-unfitted-level-3);\n",
       "  color: var(--sklearn-color-background);\n",
       "  text-decoration: none;\n",
       "}\n",
       "\n",
       "#sk-container-id-1 a.estimator_doc_link.fitted:hover {\n",
       "  /* fitted */\n",
       "  background-color: var(--sklearn-color-fitted-level-3);\n",
       "}\n",
       "</style><div id=\"sk-container-id-1\" class=\"sk-top-container\"><div class=\"sk-text-repr-fallback\"><pre>MinMaxScaler()</pre><b>In a Jupyter environment, please rerun this cell to show the HTML representation or trust the notebook. <br />On GitHub, the HTML representation is unable to render, please try loading this page with nbviewer.org.</b></div><div class=\"sk-container\" hidden><div class=\"sk-item\"><div class=\"sk-estimator fitted sk-toggleable\"><input class=\"sk-toggleable__control sk-hidden--visually\" id=\"sk-estimator-id-1\" type=\"checkbox\" checked><label for=\"sk-estimator-id-1\" class=\"sk-toggleable__label fitted sk-toggleable__label-arrow fitted\">&nbsp;&nbsp;MinMaxScaler<a class=\"sk-estimator-doc-link fitted\" rel=\"noreferrer\" target=\"_blank\" href=\"https://scikit-learn.org/1.5/modules/generated/sklearn.preprocessing.MinMaxScaler.html\">?<span>Documentation for MinMaxScaler</span></a><span class=\"sk-estimator-doc-link fitted\">i<span>Fitted</span></span></label><div class=\"sk-toggleable__content fitted\"><pre>MinMaxScaler()</pre></div> </div></div></div></div>"
      ],
      "text/plain": [
       "MinMaxScaler()"
      ]
     },
     "execution_count": 8,
     "metadata": {},
     "output_type": "execute_result"
    }
   ],
   "source": [
    "scaler_obj.fit(X_train)\n"
   ]
  },
  {
   "cell_type": "code",
   "execution_count": 9,
   "id": "b37522c9",
   "metadata": {},
   "outputs": [],
   "source": [
    "scaled_xtrain=scaler_obj.transform(X_train)\n",
    "scaled_xtest=scaler_obj.transform(X_test)"
   ]
  },
  {
   "cell_type": "code",
   "execution_count": 10,
   "id": "b5caf9c8",
   "metadata": {},
   "outputs": [
    {
     "data": {
      "text/plain": [
       "1.0000000000000002"
      ]
     },
     "execution_count": 10,
     "metadata": {},
     "output_type": "execute_result"
    }
   ],
   "source": [
    "scaled_xtrain.max()"
   ]
  },
  {
   "cell_type": "code",
   "execution_count": 11,
   "id": "208d62f1",
   "metadata": {},
   "outputs": [
    {
     "data": {
      "text/plain": [
       "0.0"
      ]
     },
     "execution_count": 11,
     "metadata": {},
     "output_type": "execute_result"
    }
   ],
   "source": [
    "scaled_xtrain.min()"
   ]
  },
  {
   "cell_type": "code",
   "execution_count": 12,
   "id": "f45d5127",
   "metadata": {},
   "outputs": [],
   "source": [
    "from keras.models import Sequential\n",
    "from keras.layers import Dense\n"
   ]
  },
  {
   "cell_type": "code",
   "execution_count": 13,
   "id": "9fa0821c",
   "metadata": {},
   "outputs": [
    {
     "name": "stderr",
     "output_type": "stream",
     "text": [
      "c:\\Users\\zaynu\\anaconda3\\Lib\\site-packages\\keras\\src\\layers\\core\\dense.py:93: UserWarning: Do not pass an `input_shape`/`input_dim` argument to a layer. When using Sequential models, prefer using an `Input(shape)` object as the first layer in the model instead.\n",
      "  super().__init__(activity_regularizer=activity_regularizer, **kwargs)\n"
     ]
    }
   ],
   "source": [
    "model= Sequential()\n",
    "model.add(Dense(4,input_dim=4,activation='relu'))\n",
    "model.add(Dense(8,activation='relu'))\n",
    "model.add(Dense(1,activation='sigmoid'))"
   ]
  },
  {
   "cell_type": "code",
   "execution_count": 14,
   "id": "f26ef139",
   "metadata": {},
   "outputs": [],
   "source": [
    "model.compile(loss='binary_crossentropy',optimizer='adam',metrics=['accuracy'])"
   ]
  },
  {
   "cell_type": "code",
   "execution_count": 22,
   "id": "30d812a8",
   "metadata": {},
   "outputs": [
    {
     "name": "stdout",
     "output_type": "stream",
     "text": [
      "Epoch 1/150\n",
      "29/29 - 0s - 4ms/step - accuracy: 0.9880 - loss: 0.0254\n",
      "Epoch 2/150\n",
      "29/29 - 0s - 4ms/step - accuracy: 0.9913 - loss: 0.0246\n",
      "Epoch 3/150\n",
      "29/29 - 0s - 4ms/step - accuracy: 0.9869 - loss: 0.0248\n",
      "Epoch 4/150\n",
      "29/29 - 0s - 4ms/step - accuracy: 0.9902 - loss: 0.0249\n",
      "Epoch 5/150\n",
      "29/29 - 0s - 4ms/step - accuracy: 0.9869 - loss: 0.0268\n",
      "Epoch 6/150\n",
      "29/29 - 0s - 4ms/step - accuracy: 0.9902 - loss: 0.0249\n",
      "Epoch 7/150\n",
      "29/29 - 0s - 4ms/step - accuracy: 0.9913 - loss: 0.0244\n",
      "Epoch 8/150\n",
      "29/29 - 0s - 4ms/step - accuracy: 0.9913 - loss: 0.0248\n",
      "Epoch 9/150\n",
      "29/29 - 0s - 4ms/step - accuracy: 0.9880 - loss: 0.0243\n",
      "Epoch 10/150\n",
      "29/29 - 0s - 4ms/step - accuracy: 0.9902 - loss: 0.0248\n",
      "Epoch 11/150\n",
      "29/29 - 0s - 4ms/step - accuracy: 0.9869 - loss: 0.0253\n",
      "Epoch 12/150\n",
      "29/29 - 0s - 4ms/step - accuracy: 0.9902 - loss: 0.0261\n",
      "Epoch 13/150\n",
      "29/29 - 0s - 4ms/step - accuracy: 0.9869 - loss: 0.0242\n",
      "Epoch 14/150\n",
      "29/29 - 0s - 4ms/step - accuracy: 0.9913 - loss: 0.0246\n",
      "Epoch 15/150\n",
      "29/29 - 0s - 4ms/step - accuracy: 0.9891 - loss: 0.0262\n",
      "Epoch 16/150\n",
      "29/29 - 0s - 5ms/step - accuracy: 0.9902 - loss: 0.0262\n",
      "Epoch 17/150\n",
      "29/29 - 0s - 4ms/step - accuracy: 0.9891 - loss: 0.0243\n",
      "Epoch 18/150\n",
      "29/29 - 0s - 4ms/step - accuracy: 0.9859 - loss: 0.0271\n",
      "Epoch 19/150\n",
      "29/29 - 0s - 4ms/step - accuracy: 0.9891 - loss: 0.0243\n",
      "Epoch 20/150\n",
      "29/29 - 0s - 4ms/step - accuracy: 0.9913 - loss: 0.0240\n",
      "Epoch 21/150\n",
      "29/29 - 0s - 4ms/step - accuracy: 0.9880 - loss: 0.0241\n",
      "Epoch 22/150\n",
      "29/29 - 0s - 4ms/step - accuracy: 0.9902 - loss: 0.0245\n",
      "Epoch 23/150\n",
      "29/29 - 0s - 4ms/step - accuracy: 0.9869 - loss: 0.0243\n",
      "Epoch 24/150\n",
      "29/29 - 0s - 4ms/step - accuracy: 0.9891 - loss: 0.0250\n",
      "Epoch 25/150\n",
      "29/29 - 0s - 4ms/step - accuracy: 0.9891 - loss: 0.0258\n",
      "Epoch 26/150\n",
      "29/29 - 0s - 4ms/step - accuracy: 0.9891 - loss: 0.0243\n",
      "Epoch 27/150\n",
      "29/29 - 0s - 4ms/step - accuracy: 0.9902 - loss: 0.0243\n",
      "Epoch 28/150\n",
      "29/29 - 0s - 4ms/step - accuracy: 0.9913 - loss: 0.0245\n",
      "Epoch 29/150\n",
      "29/29 - 0s - 4ms/step - accuracy: 0.9902 - loss: 0.0238\n",
      "Epoch 30/150\n",
      "29/29 - 0s - 4ms/step - accuracy: 0.9880 - loss: 0.0241\n",
      "Epoch 31/150\n",
      "29/29 - 0s - 4ms/step - accuracy: 0.9891 - loss: 0.0240\n",
      "Epoch 32/150\n",
      "29/29 - 0s - 4ms/step - accuracy: 0.9891 - loss: 0.0251\n",
      "Epoch 33/150\n",
      "29/29 - 0s - 4ms/step - accuracy: 0.9880 - loss: 0.0253\n",
      "Epoch 34/150\n",
      "29/29 - 0s - 4ms/step - accuracy: 0.9880 - loss: 0.0237\n",
      "Epoch 35/150\n",
      "29/29 - 0s - 4ms/step - accuracy: 0.9880 - loss: 0.0239\n",
      "Epoch 36/150\n",
      "29/29 - 0s - 4ms/step - accuracy: 0.9880 - loss: 0.0245\n",
      "Epoch 37/150\n",
      "29/29 - 0s - 4ms/step - accuracy: 0.9891 - loss: 0.0246\n",
      "Epoch 38/150\n",
      "29/29 - 0s - 4ms/step - accuracy: 0.9869 - loss: 0.0239\n",
      "Epoch 39/150\n",
      "29/29 - 0s - 4ms/step - accuracy: 0.9880 - loss: 0.0243\n",
      "Epoch 40/150\n",
      "29/29 - 0s - 4ms/step - accuracy: 0.9902 - loss: 0.0237\n",
      "Epoch 41/150\n",
      "29/29 - 0s - 4ms/step - accuracy: 0.9902 - loss: 0.0241\n",
      "Epoch 42/150\n",
      "29/29 - 0s - 4ms/step - accuracy: 0.9880 - loss: 0.0242\n",
      "Epoch 43/150\n",
      "29/29 - 0s - 4ms/step - accuracy: 0.9891 - loss: 0.0238\n",
      "Epoch 44/150\n",
      "29/29 - 0s - 4ms/step - accuracy: 0.9902 - loss: 0.0239\n",
      "Epoch 45/150\n",
      "29/29 - 0s - 4ms/step - accuracy: 0.9880 - loss: 0.0239\n",
      "Epoch 46/150\n",
      "29/29 - 0s - 4ms/step - accuracy: 0.9902 - loss: 0.0236\n",
      "Epoch 47/150\n",
      "29/29 - 0s - 4ms/step - accuracy: 0.9891 - loss: 0.0247\n",
      "Epoch 48/150\n",
      "29/29 - 0s - 4ms/step - accuracy: 0.9880 - loss: 0.0233\n",
      "Epoch 49/150\n",
      "29/29 - 0s - 4ms/step - accuracy: 0.9913 - loss: 0.0238\n",
      "Epoch 50/150\n",
      "29/29 - 0s - 4ms/step - accuracy: 0.9913 - loss: 0.0240\n",
      "Epoch 51/150\n",
      "29/29 - 0s - 4ms/step - accuracy: 0.9902 - loss: 0.0249\n",
      "Epoch 52/150\n",
      "29/29 - 0s - 5ms/step - accuracy: 0.9902 - loss: 0.0237\n",
      "Epoch 53/150\n",
      "29/29 - 0s - 4ms/step - accuracy: 0.9880 - loss: 0.0232\n",
      "Epoch 54/150\n",
      "29/29 - 0s - 4ms/step - accuracy: 0.9913 - loss: 0.0235\n",
      "Epoch 55/150\n",
      "29/29 - 0s - 4ms/step - accuracy: 0.9891 - loss: 0.0235\n",
      "Epoch 56/150\n",
      "29/29 - 0s - 4ms/step - accuracy: 0.9902 - loss: 0.0238\n",
      "Epoch 57/150\n",
      "29/29 - 0s - 4ms/step - accuracy: 0.9891 - loss: 0.0237\n",
      "Epoch 58/150\n",
      "29/29 - 0s - 4ms/step - accuracy: 0.9913 - loss: 0.0233\n",
      "Epoch 59/150\n",
      "29/29 - 0s - 4ms/step - accuracy: 0.9869 - loss: 0.0237\n",
      "Epoch 60/150\n",
      "29/29 - 0s - 4ms/step - accuracy: 0.9902 - loss: 0.0237\n",
      "Epoch 61/150\n",
      "29/29 - 0s - 4ms/step - accuracy: 0.9891 - loss: 0.0250\n",
      "Epoch 62/150\n",
      "29/29 - 0s - 4ms/step - accuracy: 0.9869 - loss: 0.0237\n",
      "Epoch 63/150\n",
      "29/29 - 0s - 4ms/step - accuracy: 0.9859 - loss: 0.0250\n",
      "Epoch 64/150\n",
      "29/29 - 0s - 4ms/step - accuracy: 0.9869 - loss: 0.0278\n",
      "Epoch 65/150\n",
      "29/29 - 0s - 4ms/step - accuracy: 0.9891 - loss: 0.0229\n",
      "Epoch 66/150\n",
      "29/29 - 0s - 4ms/step - accuracy: 0.9880 - loss: 0.0228\n",
      "Epoch 67/150\n",
      "29/29 - 0s - 4ms/step - accuracy: 0.9880 - loss: 0.0243\n",
      "Epoch 68/150\n",
      "29/29 - 0s - 4ms/step - accuracy: 0.9902 - loss: 0.0241\n",
      "Epoch 69/150\n",
      "29/29 - 0s - 4ms/step - accuracy: 0.9902 - loss: 0.0232\n",
      "Epoch 70/150\n",
      "29/29 - 0s - 4ms/step - accuracy: 0.9891 - loss: 0.0230\n",
      "Epoch 71/150\n",
      "29/29 - 0s - 4ms/step - accuracy: 0.9880 - loss: 0.0228\n",
      "Epoch 72/150\n",
      "29/29 - 0s - 4ms/step - accuracy: 0.9902 - loss: 0.0227\n",
      "Epoch 73/150\n",
      "29/29 - 0s - 4ms/step - accuracy: 0.9902 - loss: 0.0228\n",
      "Epoch 74/150\n",
      "29/29 - 0s - 4ms/step - accuracy: 0.9913 - loss: 0.0237\n",
      "Epoch 75/150\n",
      "29/29 - 0s - 4ms/step - accuracy: 0.9880 - loss: 0.0232\n",
      "Epoch 76/150\n",
      "29/29 - 0s - 4ms/step - accuracy: 0.9891 - loss: 0.0237\n",
      "Epoch 77/150\n",
      "29/29 - 0s - 4ms/step - accuracy: 0.9902 - loss: 0.0228\n",
      "Epoch 78/150\n",
      "29/29 - 0s - 4ms/step - accuracy: 0.9880 - loss: 0.0226\n",
      "Epoch 79/150\n",
      "29/29 - 0s - 4ms/step - accuracy: 0.9880 - loss: 0.0229\n",
      "Epoch 80/150\n",
      "29/29 - 0s - 4ms/step - accuracy: 0.9913 - loss: 0.0225\n",
      "Epoch 81/150\n",
      "29/29 - 0s - 4ms/step - accuracy: 0.9869 - loss: 0.0233\n",
      "Epoch 82/150\n",
      "29/29 - 0s - 4ms/step - accuracy: 0.9869 - loss: 0.0256\n",
      "Epoch 83/150\n",
      "29/29 - 0s - 4ms/step - accuracy: 0.9880 - loss: 0.0243\n",
      "Epoch 84/150\n",
      "29/29 - 0s - 4ms/step - accuracy: 0.9891 - loss: 0.0226\n",
      "Epoch 85/150\n",
      "29/29 - 0s - 4ms/step - accuracy: 0.9880 - loss: 0.0232\n",
      "Epoch 86/150\n",
      "29/29 - 0s - 4ms/step - accuracy: 0.9902 - loss: 0.0231\n",
      "Epoch 87/150\n",
      "29/29 - 0s - 4ms/step - accuracy: 0.9880 - loss: 0.0233\n",
      "Epoch 88/150\n",
      "29/29 - 0s - 4ms/step - accuracy: 0.9891 - loss: 0.0232\n",
      "Epoch 89/150\n",
      "29/29 - 0s - 4ms/step - accuracy: 0.9891 - loss: 0.0224\n",
      "Epoch 90/150\n",
      "29/29 - 0s - 4ms/step - accuracy: 0.9891 - loss: 0.0225\n",
      "Epoch 91/150\n",
      "29/29 - 0s - 4ms/step - accuracy: 0.9869 - loss: 0.0231\n",
      "Epoch 92/150\n",
      "29/29 - 0s - 4ms/step - accuracy: 0.9880 - loss: 0.0230\n",
      "Epoch 93/150\n",
      "29/29 - 0s - 4ms/step - accuracy: 0.9880 - loss: 0.0228\n",
      "Epoch 94/150\n",
      "29/29 - 0s - 4ms/step - accuracy: 0.9891 - loss: 0.0223\n",
      "Epoch 95/150\n",
      "29/29 - 0s - 4ms/step - accuracy: 0.9902 - loss: 0.0224\n",
      "Epoch 96/150\n",
      "29/29 - 0s - 4ms/step - accuracy: 0.9880 - loss: 0.0226\n",
      "Epoch 97/150\n",
      "29/29 - 0s - 4ms/step - accuracy: 0.9913 - loss: 0.0224\n",
      "Epoch 98/150\n",
      "29/29 - 0s - 4ms/step - accuracy: 0.9869 - loss: 0.0235\n",
      "Epoch 99/150\n",
      "29/29 - 0s - 4ms/step - accuracy: 0.9902 - loss: 0.0232\n",
      "Epoch 100/150\n",
      "29/29 - 0s - 4ms/step - accuracy: 0.9891 - loss: 0.0221\n",
      "Epoch 101/150\n",
      "29/29 - 0s - 4ms/step - accuracy: 0.9913 - loss: 0.0235\n",
      "Epoch 102/150\n",
      "29/29 - 0s - 4ms/step - accuracy: 0.9880 - loss: 0.0227\n",
      "Epoch 103/150\n",
      "29/29 - 0s - 4ms/step - accuracy: 0.9891 - loss: 0.0222\n",
      "Epoch 104/150\n",
      "29/29 - 0s - 4ms/step - accuracy: 0.9880 - loss: 0.0227\n",
      "Epoch 105/150\n",
      "29/29 - 0s - 4ms/step - accuracy: 0.9880 - loss: 0.0224\n",
      "Epoch 106/150\n",
      "29/29 - 0s - 4ms/step - accuracy: 0.9869 - loss: 0.0224\n",
      "Epoch 107/150\n",
      "29/29 - 0s - 4ms/step - accuracy: 0.9891 - loss: 0.0231\n",
      "Epoch 108/150\n",
      "29/29 - 0s - 4ms/step - accuracy: 0.9891 - loss: 0.0224\n",
      "Epoch 109/150\n",
      "29/29 - 0s - 4ms/step - accuracy: 0.9902 - loss: 0.0224\n",
      "Epoch 110/150\n",
      "29/29 - 0s - 4ms/step - accuracy: 0.9869 - loss: 0.0230\n",
      "Epoch 111/150\n",
      "29/29 - 0s - 4ms/step - accuracy: 0.9902 - loss: 0.0235\n",
      "Epoch 112/150\n",
      "29/29 - 0s - 4ms/step - accuracy: 0.9902 - loss: 0.0223\n",
      "Epoch 113/150\n",
      "29/29 - 0s - 4ms/step - accuracy: 0.9880 - loss: 0.0227\n",
      "Epoch 114/150\n",
      "29/29 - 0s - 4ms/step - accuracy: 0.9880 - loss: 0.0223\n",
      "Epoch 115/150\n",
      "29/29 - 0s - 4ms/step - accuracy: 0.9880 - loss: 0.0226\n",
      "Epoch 116/150\n",
      "29/29 - 0s - 4ms/step - accuracy: 0.9880 - loss: 0.0222\n",
      "Epoch 117/150\n",
      "29/29 - 0s - 4ms/step - accuracy: 0.9913 - loss: 0.0218\n",
      "Epoch 118/150\n",
      "29/29 - 0s - 4ms/step - accuracy: 0.9891 - loss: 0.0229\n",
      "Epoch 119/150\n",
      "29/29 - 0s - 4ms/step - accuracy: 0.9880 - loss: 0.0226\n",
      "Epoch 120/150\n",
      "29/29 - 0s - 4ms/step - accuracy: 0.9902 - loss: 0.0219\n",
      "Epoch 121/150\n",
      "29/29 - 0s - 4ms/step - accuracy: 0.9902 - loss: 0.0219\n",
      "Epoch 122/150\n",
      "29/29 - 0s - 4ms/step - accuracy: 0.9880 - loss: 0.0226\n",
      "Epoch 123/150\n",
      "29/29 - 0s - 4ms/step - accuracy: 0.9902 - loss: 0.0229\n",
      "Epoch 124/150\n",
      "29/29 - 0s - 4ms/step - accuracy: 0.9880 - loss: 0.0222\n",
      "Epoch 125/150\n",
      "29/29 - 0s - 4ms/step - accuracy: 0.9869 - loss: 0.0230\n",
      "Epoch 126/150\n",
      "29/29 - 0s - 4ms/step - accuracy: 0.9891 - loss: 0.0215\n",
      "Epoch 127/150\n",
      "29/29 - 0s - 4ms/step - accuracy: 0.9891 - loss: 0.0226\n",
      "Epoch 128/150\n",
      "29/29 - 0s - 4ms/step - accuracy: 0.9891 - loss: 0.0221\n",
      "Epoch 129/150\n",
      "29/29 - 0s - 4ms/step - accuracy: 0.9891 - loss: 0.0224\n",
      "Epoch 130/150\n",
      "29/29 - 0s - 4ms/step - accuracy: 0.9891 - loss: 0.0223\n",
      "Epoch 131/150\n",
      "29/29 - 0s - 4ms/step - accuracy: 0.9902 - loss: 0.0215\n",
      "Epoch 132/150\n",
      "29/29 - 0s - 4ms/step - accuracy: 0.9869 - loss: 0.0225\n",
      "Epoch 133/150\n",
      "29/29 - 0s - 4ms/step - accuracy: 0.9902 - loss: 0.0223\n",
      "Epoch 134/150\n",
      "29/29 - 0s - 4ms/step - accuracy: 0.9869 - loss: 0.0233\n",
      "Epoch 135/150\n",
      "29/29 - 0s - 4ms/step - accuracy: 0.9869 - loss: 0.0236\n",
      "Epoch 136/150\n",
      "29/29 - 0s - 4ms/step - accuracy: 0.9891 - loss: 0.0215\n",
      "Epoch 137/150\n",
      "29/29 - 0s - 4ms/step - accuracy: 0.9891 - loss: 0.0219\n",
      "Epoch 138/150\n",
      "29/29 - 0s - 4ms/step - accuracy: 0.9891 - loss: 0.0219\n",
      "Epoch 139/150\n",
      "29/29 - 0s - 4ms/step - accuracy: 0.9869 - loss: 0.0221\n",
      "Epoch 140/150\n",
      "29/29 - 0s - 4ms/step - accuracy: 0.9869 - loss: 0.0218\n",
      "Epoch 141/150\n",
      "29/29 - 0s - 4ms/step - accuracy: 0.9891 - loss: 0.0216\n",
      "Epoch 142/150\n",
      "29/29 - 0s - 4ms/step - accuracy: 0.9880 - loss: 0.0220\n",
      "Epoch 143/150\n",
      "29/29 - 0s - 4ms/step - accuracy: 0.9902 - loss: 0.0215\n",
      "Epoch 144/150\n",
      "29/29 - 0s - 4ms/step - accuracy: 0.9869 - loss: 0.0222\n",
      "Epoch 145/150\n",
      "29/29 - 0s - 4ms/step - accuracy: 0.9869 - loss: 0.0213\n",
      "Epoch 146/150\n",
      "29/29 - 0s - 4ms/step - accuracy: 0.9891 - loss: 0.0238\n",
      "Epoch 147/150\n",
      "29/29 - 0s - 4ms/step - accuracy: 0.9891 - loss: 0.0215\n",
      "Epoch 148/150\n",
      "29/29 - 0s - 4ms/step - accuracy: 0.9880 - loss: 0.0221\n",
      "Epoch 149/150\n",
      "29/29 - 0s - 4ms/step - accuracy: 0.9902 - loss: 0.0213\n",
      "Epoch 150/150\n",
      "29/29 - 0s - 4ms/step - accuracy: 0.9880 - loss: 0.0218\n"
     ]
    },
    {
     "data": {
      "text/plain": [
       "<keras.src.callbacks.history.History at 0x1da59aa3440>"
      ]
     },
     "execution_count": 22,
     "metadata": {},
     "output_type": "execute_result"
    }
   ],
   "source": [
    "model.fit(scaled_xtrain,y_train,epochs=150,verbose=2)\n"
   ]
  },
  {
   "cell_type": "code",
   "execution_count": 26,
   "id": "7cbb2d4a",
   "metadata": {},
   "outputs": [
    {
     "name": "stdout",
     "output_type": "stream",
     "text": [
      "\u001b[1m29/29\u001b[0m \u001b[32m━━━━━━━━━━━━━━━━━━━━\u001b[0m\u001b[37m\u001b[0m \u001b[1m0s\u001b[0m 2ms/step \n"
     ]
    }
   ],
   "source": [
    "predictions=model.predict(scaled_xtrain)"
   ]
  },
  {
   "cell_type": "code",
   "execution_count": 18,
   "id": "24514d32",
   "metadata": {},
   "outputs": [],
   "source": [
    "# print(len(precictions))\n",
    "# print(np.int32((precictions>0.5)))"
   ]
  },
  {
   "cell_type": "code",
   "execution_count": 17,
   "id": "0c4be97d",
   "metadata": {},
   "outputs": [],
   "source": [
    "from sklearn.metrics import confusion_matrix,classification_report"
   ]
  },
  {
   "cell_type": "code",
   "execution_count": 82,
   "id": "b0dd62c4",
   "metadata": {},
   "outputs": [
    {
     "name": "stdout",
     "output_type": "stream",
     "text": [
      "[7 2 1 ... 4 5 6]\n"
     ]
    }
   ],
   "source": [
    "print(y_test)"
   ]
  },
  {
   "cell_type": "code",
   "execution_count": 29,
   "id": "7c3cb724",
   "metadata": {},
   "outputs": [
    {
     "data": {
      "text/plain": [
       "array([[498,   7],\n",
       "       [  5, 409]], dtype=int64)"
      ]
     },
     "execution_count": 29,
     "metadata": {},
     "output_type": "execute_result"
    }
   ],
   "source": [
    "confusion_matrix(y_train,np.int32((predictions>0.5)))\n"
   ]
  },
  {
   "cell_type": "code",
   "execution_count": 25,
   "id": "cdb6d1d4",
   "metadata": {},
   "outputs": [
    {
     "name": "stdout",
     "output_type": "stream",
     "text": [
      "              precision    recall  f1-score   support\n",
      "\n",
      "         0.0       0.99      0.99      0.99       257\n",
      "         1.0       0.98      0.99      0.99       196\n",
      "\n",
      "    accuracy                           0.99       453\n",
      "   macro avg       0.99      0.99      0.99       453\n",
      "weighted avg       0.99      0.99      0.99       453\n",
      "\n"
     ]
    }
   ],
   "source": [
    "print(classification_report(y_test,np.int32((predictions>0.5))))"
   ]
  },
  {
   "cell_type": "code",
   "execution_count": 24,
   "id": "4ddd4762",
   "metadata": {},
   "outputs": [],
   "source": [
    "from keras import saving\n",
    "# model.save(r\"D:\\zaynu\\Documents\\pythonfiles\\CV_mod\\mlmodels\\moneymodel.h5\")\n",
    "saving.save_model(model, r\"D:\\zaynu\\Documents\\pythonfiles\\CV_mod\\mlmodels\\moneymodel.keras\")\n"
   ]
  },
  {
   "cell_type": "code",
   "execution_count": 25,
   "id": "152a6585",
   "metadata": {},
   "outputs": [
    {
     "name": "stderr",
     "output_type": "stream",
     "text": [
      "c:\\Users\\zaynu\\anaconda3\\Lib\\site-packages\\keras\\src\\saving\\saving_lib.py:802: UserWarning: Skipping variable loading for optimizer 'rmsprop', because it has 8 variables whereas the saved optimizer has 14 variables. \n",
      "  saveable.load_own_variables(weights_store.get(inner_path))\n"
     ]
    }
   ],
   "source": [
    "from keras.models import load_model\n",
    "newmodel=load_model( r\"D:\\zaynu\\Documents\\pythonfiles\\CV_mod\\mlmodels\\moneymodel.keras\")\n"
   ]
  },
  {
   "cell_type": "code",
   "execution_count": null,
   "id": "f2924a40",
   "metadata": {},
   "outputs": [
    {
     "name": "stdout",
     "output_type": "stream",
     "text": [
      "\u001b[1m15/15\u001b[0m \u001b[32m━━━━━━━━━━━━━━━━━━━━\u001b[0m\u001b[37m\u001b[0m \u001b[1m0s\u001b[0m 3ms/step \n"
     ]
    },
    {
     "data": {
      "text/plain": [
       "array([[251,   6],\n",
       "       [ 10, 186]], dtype=int64)"
      ]
     },
     "execution_count": 26,
     "metadata": {},
     "output_type": "execute_result"
    }
   ],
   "source": [
    "predictions=newmodel.predict(scaled_xtest)\n",
    "print()\n",
    "confusion_matrix(y_test,(predictions>0.5))"
   ]
  },
  {
   "cell_type": "markdown",
   "id": "99f3615e",
   "metadata": {},
   "source": []
  },
  {
   "cell_type": "code",
   "execution_count": 35,
   "id": "dbf66304",
   "metadata": {},
   "outputs": [],
   "source": [
    "import matplotlib.pyplot as plt\n",
    "%matplotlib inline\n"
   ]
  },
  {
   "cell_type": "markdown",
   "id": "056ea377",
   "metadata": {},
   "source": [
    "                                                                        MNST\n",
    "\n",
    "has images of  handwritten nmbers \n",
    "each image is normalised aznd grey so the values are from 0-1 instead of 0-255\n",
    "\n",
    "think of the group of images as a 4d array\n",
    "shape is (60000 ,28,28,1)\n",
    "\n",
    "it has onehot encoding\n",
    "if origninal labels of images are \n",
    "[ 1 ,2 ,3, 7, 8]\n",
    "\n",
    "convert to one hot\n",
    "eg\n",
    "[0,1,0,0,0,0,0,0,0] is 1\n",
    "\n",
    "hence ytrain shape is (60_000,10)"
   ]
  },
  {
   "cell_type": "markdown",
   "id": "9f684fe5",
   "metadata": {},
   "source": [
    "Convlutional neural netwroks \n",
    "\n",
    "each neuron only looks and intracts wit local neurons\n",
    "\n",
    "filers : no possible outputs sorta? no possible things to filter into eg filter 2 is 1 or 0   \n",
    "filter size: no of weights\n",
    "stride: evry how many neuron is filter\n",
    "\n",
    "1 x L is 1D convoolution filtwer is a tensor whic his filter count x no of units"
   ]
  },
  {
   "cell_type": "markdown",
   "id": "5b3803de",
   "metadata": {},
   "source": [
    "2D convolutoon is inoput is H,W \n",
    "tensor is nofilter * no of units for width * no of units for height\n",
    "\n",
    "local area of the input image relates to a local area to the tensor"
   ]
  },
  {
   "cell_type": "markdown",
   "id": "10218362",
   "metadata": {},
   "source": [
    "pooling layers will subsample the input reducin memoryusage\n",
    "and computer usage\n",
    "\n",
    "make a pool of pixels and only the max val goes thru and hencethe max value represents the pool\n",
    "then u move over by a \"stride\"\n",
    "\n",
    "pooling layer removes a lot of info\n",
    "\n"
   ]
  },
  {
   "cell_type": "markdown",
   "id": "39feff2a",
   "metadata": {},
   "source": [
    "another thinf done is dropping to avoid overfitting and over acustomisation \n",
    "\n",
    " "
   ]
  },
  {
   "cell_type": "code",
   "execution_count": 91,
   "id": "34305a11",
   "metadata": {},
   "outputs": [],
   "source": [
    "from keras.datasets import mnist\n"
   ]
  },
  {
   "cell_type": "code",
   "execution_count": 92,
   "id": "df7044d8",
   "metadata": {},
   "outputs": [],
   "source": [
    "(X_train,y_train),(X_test,y_test )=mnist.load_data()"
   ]
  },
  {
   "cell_type": "code",
   "execution_count": 93,
   "id": "35e84e2e",
   "metadata": {},
   "outputs": [
    {
     "data": {
      "text/plain": [
       "(60000, 28, 28)"
      ]
     },
     "execution_count": 93,
     "metadata": {},
     "output_type": "execute_result"
    }
   ],
   "source": [
    "X_train.shape\n"
   ]
  },
  {
   "cell_type": "code",
   "execution_count": 94,
   "id": "36ff3b7e",
   "metadata": {},
   "outputs": [],
   "source": [
    "Si=X_train[0]\n"
   ]
  },
  {
   "cell_type": "code",
   "execution_count": 95,
   "id": "f9a23c9f",
   "metadata": {},
   "outputs": [
    {
     "ename": "NameError",
     "evalue": "name 'plt' is not defined",
     "output_type": "error",
     "traceback": [
      "\u001b[1;31m---------------------------------------------------------------------------\u001b[0m",
      "\u001b[1;31mNameError\u001b[0m                                 Traceback (most recent call last)",
      "Cell \u001b[1;32mIn[95], line 4\u001b[0m\n\u001b[0;32m      2\u001b[0m     plt\u001b[38;5;241m.\u001b[39mimshow(img,cmap\u001b[38;5;241m=\u001b[39m\u001b[38;5;124m'\u001b[39m\u001b[38;5;124mgray_r\u001b[39m\u001b[38;5;124m'\u001b[39m)\n\u001b[0;32m      3\u001b[0m     plt\u001b[38;5;241m.\u001b[39mshow()\n\u001b[1;32m----> 4\u001b[0m showimg(Si)\n",
      "Cell \u001b[1;32mIn[95], line 2\u001b[0m, in \u001b[0;36mshowimg\u001b[1;34m(img)\u001b[0m\n\u001b[0;32m      1\u001b[0m \u001b[38;5;28;01mdef\u001b[39;00m \u001b[38;5;21mshowimg\u001b[39m(img):\n\u001b[1;32m----> 2\u001b[0m     plt\u001b[38;5;241m.\u001b[39mimshow(img,cmap\u001b[38;5;241m=\u001b[39m\u001b[38;5;124m'\u001b[39m\u001b[38;5;124mgray_r\u001b[39m\u001b[38;5;124m'\u001b[39m)\n\u001b[0;32m      3\u001b[0m     plt\u001b[38;5;241m.\u001b[39mshow()\n",
      "\u001b[1;31mNameError\u001b[0m: name 'plt' is not defined"
     ]
    }
   ],
   "source": [
    "def showimg(img):\n",
    "    plt.imshow(img,cmap='gray_r')\n",
    "    plt.show()\n",
    "showimg(Si)"
   ]
  },
  {
   "cell_type": "code",
   "execution_count": 96,
   "id": "91f71f3b",
   "metadata": {},
   "outputs": [
    {
     "data": {
      "text/plain": [
       "array([5, 0, 4, ..., 5, 6, 8], dtype=uint8)"
      ]
     },
     "execution_count": 96,
     "metadata": {},
     "output_type": "execute_result"
    }
   ],
   "source": [
    "y_train"
   ]
  },
  {
   "cell_type": "code",
   "execution_count": 97,
   "id": "efe79916",
   "metadata": {},
   "outputs": [],
   "source": [
    "from keras.utils import to_categorical"
   ]
  },
  {
   "cell_type": "code",
   "execution_count": 98,
   "id": "d620566c",
   "metadata": {},
   "outputs": [],
   "source": [
    "y_cat_test=to_categorical(y_test,10)\n",
    "y_cat_train=to_categorical(y_train,10)"
   ]
  },
  {
   "cell_type": "code",
   "execution_count": 99,
   "id": "dd44b7f6",
   "metadata": {},
   "outputs": [
    {
     "data": {
      "text/plain": [
       "array([0., 0., 0., 0., 0., 1., 0., 0., 0., 0.])"
      ]
     },
     "execution_count": 99,
     "metadata": {},
     "output_type": "execute_result"
    }
   ],
   "source": [
    "y_cat_train[0] "
   ]
  },
  {
   "cell_type": "code",
   "execution_count": 100,
   "id": "20fe26c6",
   "metadata": {},
   "outputs": [],
   "source": [
    "#normalising the train dat\n",
    "X_train= X_train/255\n"
   ]
  },
  {
   "cell_type": "code",
   "execution_count": 101,
   "id": "dbb97f3a",
   "metadata": {},
   "outputs": [],
   "source": [
    "X_test= X_test/255\n"
   ]
  },
  {
   "cell_type": "code",
   "execution_count": 102,
   "id": "a7c9807d",
   "metadata": {},
   "outputs": [
    {
     "name": "stdout",
     "output_type": "stream",
     "text": [
      "[[0.         0.         0.         0.         0.         0.\n",
      "  0.         0.         0.         0.         0.         0.\n",
      "  0.         0.         0.         0.         0.         0.\n",
      "  0.         0.         0.         0.         0.         0.\n",
      "  0.         0.         0.         0.        ]\n",
      " [0.         0.         0.         0.         0.         0.\n",
      "  0.         0.         0.         0.         0.         0.\n",
      "  0.         0.         0.         0.         0.         0.\n",
      "  0.         0.         0.         0.         0.         0.\n",
      "  0.         0.         0.         0.        ]\n",
      " [0.         0.         0.         0.         0.         0.\n",
      "  0.         0.         0.         0.         0.         0.\n",
      "  0.         0.         0.         0.         0.         0.\n",
      "  0.         0.         0.         0.         0.         0.\n",
      "  0.         0.         0.         0.        ]\n",
      " [0.         0.         0.         0.         0.         0.\n",
      "  0.         0.         0.         0.         0.         0.\n",
      "  0.         0.         0.         0.         0.         0.\n",
      "  0.         0.         0.         0.         0.         0.\n",
      "  0.         0.         0.         0.        ]\n",
      " [0.         0.         0.         0.         0.         0.\n",
      "  0.         0.         0.         0.         0.         0.\n",
      "  0.         0.         0.         0.         0.         0.\n",
      "  0.         0.         0.         0.         0.         0.\n",
      "  0.         0.         0.         0.        ]\n",
      " [0.         0.         0.         0.         0.         0.\n",
      "  0.         0.         0.         0.         0.         0.\n",
      "  0.01176471 0.07058824 0.07058824 0.07058824 0.49411765 0.53333333\n",
      "  0.68627451 0.10196078 0.65098039 1.         0.96862745 0.49803922\n",
      "  0.         0.         0.         0.        ]\n",
      " [0.         0.         0.         0.         0.         0.\n",
      "  0.         0.         0.11764706 0.14117647 0.36862745 0.60392157\n",
      "  0.66666667 0.99215686 0.99215686 0.99215686 0.99215686 0.99215686\n",
      "  0.88235294 0.6745098  0.99215686 0.94901961 0.76470588 0.25098039\n",
      "  0.         0.         0.         0.        ]\n",
      " [0.         0.         0.         0.         0.         0.\n",
      "  0.         0.19215686 0.93333333 0.99215686 0.99215686 0.99215686\n",
      "  0.99215686 0.99215686 0.99215686 0.99215686 0.99215686 0.98431373\n",
      "  0.36470588 0.32156863 0.32156863 0.21960784 0.15294118 0.\n",
      "  0.         0.         0.         0.        ]\n",
      " [0.         0.         0.         0.         0.         0.\n",
      "  0.         0.07058824 0.85882353 0.99215686 0.99215686 0.99215686\n",
      "  0.99215686 0.99215686 0.77647059 0.71372549 0.96862745 0.94509804\n",
      "  0.         0.         0.         0.         0.         0.\n",
      "  0.         0.         0.         0.        ]\n",
      " [0.         0.         0.         0.         0.         0.\n",
      "  0.         0.         0.31372549 0.61176471 0.41960784 0.99215686\n",
      "  0.99215686 0.80392157 0.04313725 0.         0.16862745 0.60392157\n",
      "  0.         0.         0.         0.         0.         0.\n",
      "  0.         0.         0.         0.        ]\n",
      " [0.         0.         0.         0.         0.         0.\n",
      "  0.         0.         0.         0.05490196 0.00392157 0.60392157\n",
      "  0.99215686 0.35294118 0.         0.         0.         0.\n",
      "  0.         0.         0.         0.         0.         0.\n",
      "  0.         0.         0.         0.        ]\n",
      " [0.         0.         0.         0.         0.         0.\n",
      "  0.         0.         0.         0.         0.         0.54509804\n",
      "  0.99215686 0.74509804 0.00784314 0.         0.         0.\n",
      "  0.         0.         0.         0.         0.         0.\n",
      "  0.         0.         0.         0.        ]\n",
      " [0.         0.         0.         0.         0.         0.\n",
      "  0.         0.         0.         0.         0.         0.04313725\n",
      "  0.74509804 0.99215686 0.2745098  0.         0.         0.\n",
      "  0.         0.         0.         0.         0.         0.\n",
      "  0.         0.         0.         0.        ]\n",
      " [0.         0.         0.         0.         0.         0.\n",
      "  0.         0.         0.         0.         0.         0.\n",
      "  0.1372549  0.94509804 0.88235294 0.62745098 0.42352941 0.00392157\n",
      "  0.         0.         0.         0.         0.         0.\n",
      "  0.         0.         0.         0.        ]\n",
      " [0.         0.         0.         0.         0.         0.\n",
      "  0.         0.         0.         0.         0.         0.\n",
      "  0.         0.31764706 0.94117647 0.99215686 0.99215686 0.46666667\n",
      "  0.09803922 0.         0.         0.         0.         0.\n",
      "  0.         0.         0.         0.        ]\n",
      " [0.         0.         0.         0.         0.         0.\n",
      "  0.         0.         0.         0.         0.         0.\n",
      "  0.         0.         0.17647059 0.72941176 0.99215686 0.99215686\n",
      "  0.58823529 0.10588235 0.         0.         0.         0.\n",
      "  0.         0.         0.         0.        ]\n",
      " [0.         0.         0.         0.         0.         0.\n",
      "  0.         0.         0.         0.         0.         0.\n",
      "  0.         0.         0.         0.0627451  0.36470588 0.98823529\n",
      "  0.99215686 0.73333333 0.         0.         0.         0.\n",
      "  0.         0.         0.         0.        ]\n",
      " [0.         0.         0.         0.         0.         0.\n",
      "  0.         0.         0.         0.         0.         0.\n",
      "  0.         0.         0.         0.         0.         0.97647059\n",
      "  0.99215686 0.97647059 0.25098039 0.         0.         0.\n",
      "  0.         0.         0.         0.        ]\n",
      " [0.         0.         0.         0.         0.         0.\n",
      "  0.         0.         0.         0.         0.         0.\n",
      "  0.         0.         0.18039216 0.50980392 0.71764706 0.99215686\n",
      "  0.99215686 0.81176471 0.00784314 0.         0.         0.\n",
      "  0.         0.         0.         0.        ]\n",
      " [0.         0.         0.         0.         0.         0.\n",
      "  0.         0.         0.         0.         0.         0.\n",
      "  0.15294118 0.58039216 0.89803922 0.99215686 0.99215686 0.99215686\n",
      "  0.98039216 0.71372549 0.         0.         0.         0.\n",
      "  0.         0.         0.         0.        ]\n",
      " [0.         0.         0.         0.         0.         0.\n",
      "  0.         0.         0.         0.         0.09411765 0.44705882\n",
      "  0.86666667 0.99215686 0.99215686 0.99215686 0.99215686 0.78823529\n",
      "  0.30588235 0.         0.         0.         0.         0.\n",
      "  0.         0.         0.         0.        ]\n",
      " [0.         0.         0.         0.         0.         0.\n",
      "  0.         0.         0.09019608 0.25882353 0.83529412 0.99215686\n",
      "  0.99215686 0.99215686 0.99215686 0.77647059 0.31764706 0.00784314\n",
      "  0.         0.         0.         0.         0.         0.\n",
      "  0.         0.         0.         0.        ]\n",
      " [0.         0.         0.         0.         0.         0.\n",
      "  0.07058824 0.67058824 0.85882353 0.99215686 0.99215686 0.99215686\n",
      "  0.99215686 0.76470588 0.31372549 0.03529412 0.         0.\n",
      "  0.         0.         0.         0.         0.         0.\n",
      "  0.         0.         0.         0.        ]\n",
      " [0.         0.         0.         0.         0.21568627 0.6745098\n",
      "  0.88627451 0.99215686 0.99215686 0.99215686 0.99215686 0.95686275\n",
      "  0.52156863 0.04313725 0.         0.         0.         0.\n",
      "  0.         0.         0.         0.         0.         0.\n",
      "  0.         0.         0.         0.        ]\n",
      " [0.         0.         0.         0.         0.53333333 0.99215686\n",
      "  0.99215686 0.99215686 0.83137255 0.52941176 0.51764706 0.0627451\n",
      "  0.         0.         0.         0.         0.         0.\n",
      "  0.         0.         0.         0.         0.         0.\n",
      "  0.         0.         0.         0.        ]\n",
      " [0.         0.         0.         0.         0.         0.\n",
      "  0.         0.         0.         0.         0.         0.\n",
      "  0.         0.         0.         0.         0.         0.\n",
      "  0.         0.         0.         0.         0.         0.\n",
      "  0.         0.         0.         0.        ]\n",
      " [0.         0.         0.         0.         0.         0.\n",
      "  0.         0.         0.         0.         0.         0.\n",
      "  0.         0.         0.         0.         0.         0.\n",
      "  0.         0.         0.         0.         0.         0.\n",
      "  0.         0.         0.         0.        ]\n",
      " [0.         0.         0.         0.         0.         0.\n",
      "  0.         0.         0.         0.         0.         0.\n",
      "  0.         0.         0.         0.         0.         0.\n",
      "  0.         0.         0.         0.         0.         0.\n",
      "  0.         0.         0.         0.        ]]\n"
     ]
    }
   ],
   "source": [
    "scaledimg=X_train[0]\n",
    "print(scaledimg)"
   ]
  },
  {
   "cell_type": "code",
   "execution_count": 103,
   "id": "5e35ab02",
   "metadata": {},
   "outputs": [],
   "source": [
    "X_train=X_train.reshape(60000,28,28,1)\n",
    "X_test=X_test.reshape(10000,28,28,1)\n"
   ]
  },
  {
   "cell_type": "code",
   "execution_count": 104,
   "id": "e34bd47f",
   "metadata": {},
   "outputs": [],
   "source": [
    "from keras import Sequential\n",
    "from keras.layers import Dense,Conv2D,MaxPool2D,Flatten,Input"
   ]
  },
  {
   "cell_type": "code",
   "execution_count": 105,
   "id": "34f284fc",
   "metadata": {},
   "outputs": [],
   "source": [
    "model=Sequential()\n",
    "model.add(Input(shape=(28,28,1)))\n",
    "model.add(Conv2D(filters=32,kernel_size=(4,4),activation='relu' ))\n",
    "# model.add(Conv2D(filters=32,kernel_size=(4,4),input_shape=(28,28,1),activation='relu' ))\n",
    "#pooling\n",
    "model.add(MaxPool2D(pool_size=(2,2)))\n",
    "\n",
    "model.add(Flatten())\n",
    "model.add(Dense(256,activation='relu'))\n",
    "model.add(Dense(10,activation='softmax'))\n",
    "\n",
    "model.compile(loss='categorical_crossentropy',optimizer='rmsprop',metrics=['accuracy'])\n"
   ]
  },
  {
   "cell_type": "code",
   "execution_count": 50,
   "id": "4ada39cf",
   "metadata": {},
   "outputs": [],
   "source": [
    "# import numpy as np\n",
    "# X_train=np.vstack((X_train,X_train[0:2]))\n",
    "\n",
    "# y_cat_train=np.vstack((y_cat_train,y_cat_train[0:2]))\n",
    "# # print(X_train.shape)\n",
    "# print(y_cat_train.shape)\n",
    "\n"
   ]
  },
  {
   "cell_type": "code",
   "execution_count": 106,
   "id": "89a5c5f0",
   "metadata": {},
   "outputs": [
    {
     "data": {
      "text/html": [
       "<pre style=\"white-space:pre;overflow-x:auto;line-height:normal;font-family:Menlo,'DejaVu Sans Mono',consolas,'Courier New',monospace\"><span style=\"font-weight: bold\">Model: \"sequential_6\"</span>\n",
       "</pre>\n"
      ],
      "text/plain": [
       "\u001b[1mModel: \"sequential_6\"\u001b[0m\n"
      ]
     },
     "metadata": {},
     "output_type": "display_data"
    },
    {
     "data": {
      "text/html": [
       "<pre style=\"white-space:pre;overflow-x:auto;line-height:normal;font-family:Menlo,'DejaVu Sans Mono',consolas,'Courier New',monospace\">┏━━━━━━━━━━━━━━━━━━━━━━━━━━━━━━━━━┳━━━━━━━━━━━━━━━━━━━━━━━━┳━━━━━━━━━━━━━━━┓\n",
       "┃<span style=\"font-weight: bold\"> Layer (type)                    </span>┃<span style=\"font-weight: bold\"> Output Shape           </span>┃<span style=\"font-weight: bold\">       Param # </span>┃\n",
       "┡━━━━━━━━━━━━━━━━━━━━━━━━━━━━━━━━━╇━━━━━━━━━━━━━━━━━━━━━━━━╇━━━━━━━━━━━━━━━┩\n",
       "│ conv2d_6 (<span style=\"color: #0087ff; text-decoration-color: #0087ff\">Conv2D</span>)               │ (<span style=\"color: #00d7ff; text-decoration-color: #00d7ff\">None</span>, <span style=\"color: #00af00; text-decoration-color: #00af00\">25</span>, <span style=\"color: #00af00; text-decoration-color: #00af00\">25</span>, <span style=\"color: #00af00; text-decoration-color: #00af00\">32</span>)     │           <span style=\"color: #00af00; text-decoration-color: #00af00\">544</span> │\n",
       "├─────────────────────────────────┼────────────────────────┼───────────────┤\n",
       "│ max_pooling2d_6 (<span style=\"color: #0087ff; text-decoration-color: #0087ff\">MaxPooling2D</span>)  │ (<span style=\"color: #00d7ff; text-decoration-color: #00d7ff\">None</span>, <span style=\"color: #00af00; text-decoration-color: #00af00\">12</span>, <span style=\"color: #00af00; text-decoration-color: #00af00\">12</span>, <span style=\"color: #00af00; text-decoration-color: #00af00\">32</span>)     │             <span style=\"color: #00af00; text-decoration-color: #00af00\">0</span> │\n",
       "├─────────────────────────────────┼────────────────────────┼───────────────┤\n",
       "│ flatten_6 (<span style=\"color: #0087ff; text-decoration-color: #0087ff\">Flatten</span>)             │ (<span style=\"color: #00d7ff; text-decoration-color: #00d7ff\">None</span>, <span style=\"color: #00af00; text-decoration-color: #00af00\">4608</span>)           │             <span style=\"color: #00af00; text-decoration-color: #00af00\">0</span> │\n",
       "├─────────────────────────────────┼────────────────────────┼───────────────┤\n",
       "│ dense_12 (<span style=\"color: #0087ff; text-decoration-color: #0087ff\">Dense</span>)                │ (<span style=\"color: #00d7ff; text-decoration-color: #00d7ff\">None</span>, <span style=\"color: #00af00; text-decoration-color: #00af00\">256</span>)            │     <span style=\"color: #00af00; text-decoration-color: #00af00\">1,179,904</span> │\n",
       "├─────────────────────────────────┼────────────────────────┼───────────────┤\n",
       "│ dense_13 (<span style=\"color: #0087ff; text-decoration-color: #0087ff\">Dense</span>)                │ (<span style=\"color: #00d7ff; text-decoration-color: #00d7ff\">None</span>, <span style=\"color: #00af00; text-decoration-color: #00af00\">10</span>)             │         <span style=\"color: #00af00; text-decoration-color: #00af00\">2,570</span> │\n",
       "└─────────────────────────────────┴────────────────────────┴───────────────┘\n",
       "</pre>\n"
      ],
      "text/plain": [
       "┏━━━━━━━━━━━━━━━━━━━━━━━━━━━━━━━━━┳━━━━━━━━━━━━━━━━━━━━━━━━┳━━━━━━━━━━━━━━━┓\n",
       "┃\u001b[1m \u001b[0m\u001b[1mLayer (type)                   \u001b[0m\u001b[1m \u001b[0m┃\u001b[1m \u001b[0m\u001b[1mOutput Shape          \u001b[0m\u001b[1m \u001b[0m┃\u001b[1m \u001b[0m\u001b[1m      Param #\u001b[0m\u001b[1m \u001b[0m┃\n",
       "┡━━━━━━━━━━━━━━━━━━━━━━━━━━━━━━━━━╇━━━━━━━━━━━━━━━━━━━━━━━━╇━━━━━━━━━━━━━━━┩\n",
       "│ conv2d_6 (\u001b[38;5;33mConv2D\u001b[0m)               │ (\u001b[38;5;45mNone\u001b[0m, \u001b[38;5;34m25\u001b[0m, \u001b[38;5;34m25\u001b[0m, \u001b[38;5;34m32\u001b[0m)     │           \u001b[38;5;34m544\u001b[0m │\n",
       "├─────────────────────────────────┼────────────────────────┼───────────────┤\n",
       "│ max_pooling2d_6 (\u001b[38;5;33mMaxPooling2D\u001b[0m)  │ (\u001b[38;5;45mNone\u001b[0m, \u001b[38;5;34m12\u001b[0m, \u001b[38;5;34m12\u001b[0m, \u001b[38;5;34m32\u001b[0m)     │             \u001b[38;5;34m0\u001b[0m │\n",
       "├─────────────────────────────────┼────────────────────────┼───────────────┤\n",
       "│ flatten_6 (\u001b[38;5;33mFlatten\u001b[0m)             │ (\u001b[38;5;45mNone\u001b[0m, \u001b[38;5;34m4608\u001b[0m)           │             \u001b[38;5;34m0\u001b[0m │\n",
       "├─────────────────────────────────┼────────────────────────┼───────────────┤\n",
       "│ dense_12 (\u001b[38;5;33mDense\u001b[0m)                │ (\u001b[38;5;45mNone\u001b[0m, \u001b[38;5;34m256\u001b[0m)            │     \u001b[38;5;34m1,179,904\u001b[0m │\n",
       "├─────────────────────────────────┼────────────────────────┼───────────────┤\n",
       "│ dense_13 (\u001b[38;5;33mDense\u001b[0m)                │ (\u001b[38;5;45mNone\u001b[0m, \u001b[38;5;34m10\u001b[0m)             │         \u001b[38;5;34m2,570\u001b[0m │\n",
       "└─────────────────────────────────┴────────────────────────┴───────────────┘\n"
      ]
     },
     "metadata": {},
     "output_type": "display_data"
    },
    {
     "data": {
      "text/html": [
       "<pre style=\"white-space:pre;overflow-x:auto;line-height:normal;font-family:Menlo,'DejaVu Sans Mono',consolas,'Courier New',monospace\"><span style=\"font-weight: bold\"> Total params: </span><span style=\"color: #00af00; text-decoration-color: #00af00\">1,183,018</span> (4.51 MB)\n",
       "</pre>\n"
      ],
      "text/plain": [
       "\u001b[1m Total params: \u001b[0m\u001b[38;5;34m1,183,018\u001b[0m (4.51 MB)\n"
      ]
     },
     "metadata": {},
     "output_type": "display_data"
    },
    {
     "data": {
      "text/html": [
       "<pre style=\"white-space:pre;overflow-x:auto;line-height:normal;font-family:Menlo,'DejaVu Sans Mono',consolas,'Courier New',monospace\"><span style=\"font-weight: bold\"> Trainable params: </span><span style=\"color: #00af00; text-decoration-color: #00af00\">1,183,018</span> (4.51 MB)\n",
       "</pre>\n"
      ],
      "text/plain": [
       "\u001b[1m Trainable params: \u001b[0m\u001b[38;5;34m1,183,018\u001b[0m (4.51 MB)\n"
      ]
     },
     "metadata": {},
     "output_type": "display_data"
    },
    {
     "data": {
      "text/html": [
       "<pre style=\"white-space:pre;overflow-x:auto;line-height:normal;font-family:Menlo,'DejaVu Sans Mono',consolas,'Courier New',monospace\"><span style=\"font-weight: bold\"> Non-trainable params: </span><span style=\"color: #00af00; text-decoration-color: #00af00\">0</span> (0.00 B)\n",
       "</pre>\n"
      ],
      "text/plain": [
       "\u001b[1m Non-trainable params: \u001b[0m\u001b[38;5;34m0\u001b[0m (0.00 B)\n"
      ]
     },
     "metadata": {},
     "output_type": "display_data"
    }
   ],
   "source": [
    "model.summary()"
   ]
  },
  {
   "cell_type": "code",
   "execution_count": 107,
   "id": "392e5218",
   "metadata": {},
   "outputs": [
    {
     "name": "stdout",
     "output_type": "stream",
     "text": [
      "Epoch 1/2\n",
      "\u001b[1m1875/1875\u001b[0m \u001b[32m━━━━━━━━━━━━━━━━━━━━\u001b[0m\u001b[37m\u001b[0m \u001b[1m21s\u001b[0m 11ms/step - accuracy: 0.9201 - loss: 0.2604\n",
      "Epoch 2/2\n",
      "\u001b[1m1875/1875\u001b[0m \u001b[32m━━━━━━━━━━━━━━━━━━━━\u001b[0m\u001b[37m\u001b[0m \u001b[1m21s\u001b[0m 11ms/step - accuracy: 0.9853 - loss: 0.0473\n"
     ]
    },
    {
     "data": {
      "text/plain": [
       "<keras.src.callbacks.history.History at 0x2aea19c2150>"
      ]
     },
     "execution_count": 107,
     "metadata": {},
     "output_type": "execute_result"
    }
   ],
   "source": [
    "# model.fit(X_train[0:len(X_train)//2],y_cat_train[0:len(y_cat_train)//2],epochs=2)\n",
    "model.fit(X_train,y_cat_train,epochs=2)\n",
    "#1875"
   ]
  },
  {
   "cell_type": "code",
   "execution_count": 30,
   "id": "4e79d50e",
   "metadata": {},
   "outputs": [
    {
     "name": "stdout",
     "output_type": "stream",
     "text": [
      "(60000, 28, 28, 1)\n",
      "(2, 28, 28, 1)\n"
     ]
    }
   ],
   "source": [
    "print(X_train.shape)\n",
    "print(X_train[0:2].shape)\n",
    "# y_cat_train.shape\n"
   ]
  },
  {
   "cell_type": "code",
   "execution_count": 37,
   "id": "13048f54",
   "metadata": {},
   "outputs": [
    {
     "name": "stdout",
     "output_type": "stream",
     "text": [
      "(2, 2) (2,)\n",
      "[[1 2]\n",
      " [3 4]\n",
      " [1 2]]\n"
     ]
    }
   ],
   "source": [
    "m1=np.arange(1,5).reshape(2,2)\n",
    "m2=np.arange(5,9).reshape(2,2)\n",
    "print(m1.shape,m1[0].shape)\n",
    "m3=np.vstack([m1,m1[0]])\n",
    "print(m3)"
   ]
  },
  {
   "cell_type": "code",
   "execution_count": 53,
   "id": "79ae9108",
   "metadata": {},
   "outputs": [
    {
     "name": "stdout",
     "output_type": "stream",
     "text": [
      "\u001b[1m313/313\u001b[0m \u001b[32m━━━━━━━━━━━━━━━━━━━━\u001b[0m\u001b[37m\u001b[0m \u001b[1m1s\u001b[0m 2ms/step - accuracy: 0.9837 - loss: 0.0453\n"
     ]
    },
    {
     "data": {
      "text/plain": [
       "[0.03703990951180458, 0.9873999953269958]"
      ]
     },
     "execution_count": 53,
     "metadata": {},
     "output_type": "execute_result"
    }
   ],
   "source": [
    "model.evaluate(X_test,y_cat_test)"
   ]
  },
  {
   "cell_type": "code",
   "execution_count": 131,
   "id": "8f067121",
   "metadata": {},
   "outputs": [
    {
     "name": "stdout",
     "output_type": "stream",
     "text": [
      "0.99999629999999994912\n"
     ]
    }
   ],
   "source": [
    "n=9.9999630e-01\n",
    "print(f\"{n:.20f}\")"
   ]
  },
  {
   "cell_type": "code",
   "execution_count": 142,
   "id": "9aad9817",
   "metadata": {},
   "outputs": [
    {
     "name": "stdout",
     "output_type": "stream",
     "text": [
      "\u001b[1m313/313\u001b[0m \u001b[32m━━━━━━━━━━━━━━━━━━━━\u001b[0m\u001b[37m\u001b[0m \u001b[1m1s\u001b[0m 2ms/step\n"
     ]
    }
   ],
   "source": [
    "from sklearn.metrics import classification_report\n",
    "predictions=model.predict(X_test)\n",
    "OH_predicts=np.int32(predictions>0.3)\n",
    "OH_predicts[0]\n",
    "mainpredicts=np.array([i.argmax() for i in predictions])"
   ]
  },
  {
   "cell_type": "code",
   "execution_count": 143,
   "id": "7a0c7a99",
   "metadata": {},
   "outputs": [
    {
     "name": "stdout",
     "output_type": "stream",
     "text": [
      "              precision    recall  f1-score   support\n",
      "\n",
      "           0       0.99      0.99      0.99       980\n",
      "           1       0.99      0.99      0.99      1135\n",
      "           2       0.98      0.99      0.98      1032\n",
      "           3       0.98      0.99      0.99      1010\n",
      "           4       0.99      0.98      0.99       982\n",
      "           5       0.99      0.99      0.99       892\n",
      "           6       0.99      0.99      0.99       958\n",
      "           7       0.98      0.98      0.98      1028\n",
      "           8       0.99      0.97      0.98       974\n",
      "           9       0.98      0.98      0.98      1009\n",
      "\n",
      "    accuracy                           0.99     10000\n",
      "   macro avg       0.99      0.99      0.99     10000\n",
      "weighted avg       0.99      0.99      0.99     10000\n",
      "\n"
     ]
    }
   ],
   "source": [
    "len(y_test)\n",
    "print(classification_report(y_test,mainpredicts))\n",
    "\n",
    "# np.int32(predictions>0.5) \n",
    "#"
   ]
  },
  {
   "cell_type": "code",
   "execution_count": 1,
   "id": "264a2649",
   "metadata": {},
   "outputs": [],
   "source": [
    "#CIFAR\n",
    "from keras.datasets import cifar10"
   ]
  },
  {
   "cell_type": "code",
   "execution_count": 2,
   "id": "57c2c462",
   "metadata": {},
   "outputs": [
    {
     "name": "stdout",
     "output_type": "stream",
     "text": [
      "Downloading data from https://www.cs.toronto.edu/~kriz/cifar-10-python.tar.gz\n",
      "\u001b[1m170498071/170498071\u001b[0m \u001b[32m━━━━━━━━━━━━━━━━━━━━\u001b[0m\u001b[37m\u001b[0m \u001b[1m554s\u001b[0m 3us/step\n"
     ]
    }
   ],
   "source": [
    "(x_train,y_train),(x_test,y_test)=cifar10.load_data()"
   ]
  },
  {
   "cell_type": "code",
   "execution_count": 3,
   "id": "8a365811",
   "metadata": {},
   "outputs": [],
   "source": [
    "x_train=x_train/255\n",
    "x_test=x_test/255"
   ]
  },
  {
   "cell_type": "code",
   "execution_count": 4,
   "id": "c4840b10",
   "metadata": {},
   "outputs": [],
   "source": [
    "from keras.utils import to_categorical\n",
    "y_cat_train=to_categorical(y_train,10)\n",
    "y_cat_test=to_categorical(y_test,10)"
   ]
  },
  {
   "cell_type": "code",
   "execution_count": 1,
   "id": "e545730b",
   "metadata": {},
   "outputs": [],
   "source": [
    "from keras.models import Sequential\n",
    "from keras.layers import Dense,Conv2D,MaxPool2D,Flatten,Input"
   ]
  },
  {
   "cell_type": "code",
   "execution_count": 2,
   "id": "106c4d7b",
   "metadata": {},
   "outputs": [],
   "source": [
    "# netkmit@456#"
   ]
  },
  {
   "cell_type": "code",
   "execution_count": 3,
   "id": "b4ca049f",
   "metadata": {},
   "outputs": [],
   "source": [
    "model=Sequential()\n",
    "model.add(Input(shape=(32,32,3)))\n",
    "model.add(Conv2D(filters=32,kernel_size=(4,4),activation='relu'))\n",
    "model.add(MaxPool2D(pool_size=(2,2)))\n",
    "model.add(Conv2D(filters=32,kernel_size=(4,4),activation='relu'))\n",
    "model.add(MaxPool2D(pool_size=(2,2)))\n",
    "model.add(Flatten())\n",
    "model.add(Dense(256,activation='relu'))\n",
    "model.add(Dense(10,activation='softmax'))\n",
    "model.compile(loss='categorical_crossentropy',optimizer='rmsprop',metrics=['accuracy'])"
   ]
  },
  {
   "cell_type": "code",
   "execution_count": null,
   "id": "7d94d0ce",
   "metadata": {},
   "outputs": [
    {
     "data": {
      "text/html": [
       "<pre style=\"white-space:pre;overflow-x:auto;line-height:normal;font-family:Menlo,'DejaVu Sans Mono',consolas,'Courier New',monospace\"><span style=\"font-weight: bold\">Model: \"sequential\"</span>\n",
       "</pre>\n"
      ],
      "text/plain": [
       "\u001b[1mModel: \"sequential\"\u001b[0m\n"
      ]
     },
     "metadata": {},
     "output_type": "display_data"
    },
    {
     "data": {
      "text/html": [
       "<pre style=\"white-space:pre;overflow-x:auto;line-height:normal;font-family:Menlo,'DejaVu Sans Mono',consolas,'Courier New',monospace\">┏━━━━━━━━━━━━━━━━━━━━━━━━━━━━━━━━━┳━━━━━━━━━━━━━━━━━━━━━━━━┳━━━━━━━━━━━━━━━┓\n",
       "┃<span style=\"font-weight: bold\"> Layer (type)                    </span>┃<span style=\"font-weight: bold\"> Output Shape           </span>┃<span style=\"font-weight: bold\">       Param # </span>┃\n",
       "┡━━━━━━━━━━━━━━━━━━━━━━━━━━━━━━━━━╇━━━━━━━━━━━━━━━━━━━━━━━━╇━━━━━━━━━━━━━━━┩\n",
       "│ conv2d (<span style=\"color: #0087ff; text-decoration-color: #0087ff\">Conv2D</span>)                 │ (<span style=\"color: #00d7ff; text-decoration-color: #00d7ff\">None</span>, <span style=\"color: #00af00; text-decoration-color: #00af00\">29</span>, <span style=\"color: #00af00; text-decoration-color: #00af00\">29</span>, <span style=\"color: #00af00; text-decoration-color: #00af00\">32</span>)     │         <span style=\"color: #00af00; text-decoration-color: #00af00\">1,568</span> │\n",
       "├─────────────────────────────────┼────────────────────────┼───────────────┤\n",
       "│ max_pooling2d (<span style=\"color: #0087ff; text-decoration-color: #0087ff\">MaxPooling2D</span>)    │ (<span style=\"color: #00d7ff; text-decoration-color: #00d7ff\">None</span>, <span style=\"color: #00af00; text-decoration-color: #00af00\">14</span>, <span style=\"color: #00af00; text-decoration-color: #00af00\">14</span>, <span style=\"color: #00af00; text-decoration-color: #00af00\">32</span>)     │             <span style=\"color: #00af00; text-decoration-color: #00af00\">0</span> │\n",
       "├─────────────────────────────────┼────────────────────────┼───────────────┤\n",
       "│ conv2d_1 (<span style=\"color: #0087ff; text-decoration-color: #0087ff\">Conv2D</span>)               │ (<span style=\"color: #00d7ff; text-decoration-color: #00d7ff\">None</span>, <span style=\"color: #00af00; text-decoration-color: #00af00\">11</span>, <span style=\"color: #00af00; text-decoration-color: #00af00\">11</span>, <span style=\"color: #00af00; text-decoration-color: #00af00\">32</span>)     │        <span style=\"color: #00af00; text-decoration-color: #00af00\">16,416</span> │\n",
       "├─────────────────────────────────┼────────────────────────┼───────────────┤\n",
       "│ max_pooling2d_1 (<span style=\"color: #0087ff; text-decoration-color: #0087ff\">MaxPooling2D</span>)  │ (<span style=\"color: #00d7ff; text-decoration-color: #00d7ff\">None</span>, <span style=\"color: #00af00; text-decoration-color: #00af00\">5</span>, <span style=\"color: #00af00; text-decoration-color: #00af00\">5</span>, <span style=\"color: #00af00; text-decoration-color: #00af00\">32</span>)       │             <span style=\"color: #00af00; text-decoration-color: #00af00\">0</span> │\n",
       "├─────────────────────────────────┼────────────────────────┼───────────────┤\n",
       "│ flatten (<span style=\"color: #0087ff; text-decoration-color: #0087ff\">Flatten</span>)               │ (<span style=\"color: #00d7ff; text-decoration-color: #00d7ff\">None</span>, <span style=\"color: #00af00; text-decoration-color: #00af00\">800</span>)            │             <span style=\"color: #00af00; text-decoration-color: #00af00\">0</span> │\n",
       "├─────────────────────────────────┼────────────────────────┼───────────────┤\n",
       "│ dense (<span style=\"color: #0087ff; text-decoration-color: #0087ff\">Dense</span>)                   │ (<span style=\"color: #00d7ff; text-decoration-color: #00d7ff\">None</span>, <span style=\"color: #00af00; text-decoration-color: #00af00\">256</span>)            │       <span style=\"color: #00af00; text-decoration-color: #00af00\">205,056</span> │\n",
       "├─────────────────────────────────┼────────────────────────┼───────────────┤\n",
       "│ dense_1 (<span style=\"color: #0087ff; text-decoration-color: #0087ff\">Dense</span>)                 │ (<span style=\"color: #00d7ff; text-decoration-color: #00d7ff\">None</span>, <span style=\"color: #00af00; text-decoration-color: #00af00\">10</span>)             │         <span style=\"color: #00af00; text-decoration-color: #00af00\">2,570</span> │\n",
       "└─────────────────────────────────┴────────────────────────┴───────────────┘\n",
       "</pre>\n"
      ],
      "text/plain": [
       "┏━━━━━━━━━━━━━━━━━━━━━━━━━━━━━━━━━┳━━━━━━━━━━━━━━━━━━━━━━━━┳━━━━━━━━━━━━━━━┓\n",
       "┃\u001b[1m \u001b[0m\u001b[1mLayer (type)                   \u001b[0m\u001b[1m \u001b[0m┃\u001b[1m \u001b[0m\u001b[1mOutput Shape          \u001b[0m\u001b[1m \u001b[0m┃\u001b[1m \u001b[0m\u001b[1m      Param #\u001b[0m\u001b[1m \u001b[0m┃\n",
       "┡━━━━━━━━━━━━━━━━━━━━━━━━━━━━━━━━━╇━━━━━━━━━━━━━━━━━━━━━━━━╇━━━━━━━━━━━━━━━┩\n",
       "│ conv2d (\u001b[38;5;33mConv2D\u001b[0m)                 │ (\u001b[38;5;45mNone\u001b[0m, \u001b[38;5;34m29\u001b[0m, \u001b[38;5;34m29\u001b[0m, \u001b[38;5;34m32\u001b[0m)     │         \u001b[38;5;34m1,568\u001b[0m │\n",
       "├─────────────────────────────────┼────────────────────────┼───────────────┤\n",
       "│ max_pooling2d (\u001b[38;5;33mMaxPooling2D\u001b[0m)    │ (\u001b[38;5;45mNone\u001b[0m, \u001b[38;5;34m14\u001b[0m, \u001b[38;5;34m14\u001b[0m, \u001b[38;5;34m32\u001b[0m)     │             \u001b[38;5;34m0\u001b[0m │\n",
       "├─────────────────────────────────┼────────────────────────┼───────────────┤\n",
       "│ conv2d_1 (\u001b[38;5;33mConv2D\u001b[0m)               │ (\u001b[38;5;45mNone\u001b[0m, \u001b[38;5;34m11\u001b[0m, \u001b[38;5;34m11\u001b[0m, \u001b[38;5;34m32\u001b[0m)     │        \u001b[38;5;34m16,416\u001b[0m │\n",
       "├─────────────────────────────────┼────────────────────────┼───────────────┤\n",
       "│ max_pooling2d_1 (\u001b[38;5;33mMaxPooling2D\u001b[0m)  │ (\u001b[38;5;45mNone\u001b[0m, \u001b[38;5;34m5\u001b[0m, \u001b[38;5;34m5\u001b[0m, \u001b[38;5;34m32\u001b[0m)       │             \u001b[38;5;34m0\u001b[0m │\n",
       "├─────────────────────────────────┼────────────────────────┼───────────────┤\n",
       "│ flatten (\u001b[38;5;33mFlatten\u001b[0m)               │ (\u001b[38;5;45mNone\u001b[0m, \u001b[38;5;34m800\u001b[0m)            │             \u001b[38;5;34m0\u001b[0m │\n",
       "├─────────────────────────────────┼────────────────────────┼───────────────┤\n",
       "│ dense (\u001b[38;5;33mDense\u001b[0m)                   │ (\u001b[38;5;45mNone\u001b[0m, \u001b[38;5;34m256\u001b[0m)            │       \u001b[38;5;34m205,056\u001b[0m │\n",
       "├─────────────────────────────────┼────────────────────────┼───────────────┤\n",
       "│ dense_1 (\u001b[38;5;33mDense\u001b[0m)                 │ (\u001b[38;5;45mNone\u001b[0m, \u001b[38;5;34m10\u001b[0m)             │         \u001b[38;5;34m2,570\u001b[0m │\n",
       "└─────────────────────────────────┴────────────────────────┴───────────────┘\n"
      ]
     },
     "metadata": {},
     "output_type": "display_data"
    },
    {
     "data": {
      "text/html": [
       "<pre style=\"white-space:pre;overflow-x:auto;line-height:normal;font-family:Menlo,'DejaVu Sans Mono',consolas,'Courier New',monospace\"><span style=\"font-weight: bold\"> Total params: </span><span style=\"color: #00af00; text-decoration-color: #00af00\">225,610</span> (881.29 KB)\n",
       "</pre>\n"
      ],
      "text/plain": [
       "\u001b[1m Total params: \u001b[0m\u001b[38;5;34m225,610\u001b[0m (881.29 KB)\n"
      ]
     },
     "metadata": {},
     "output_type": "display_data"
    },
    {
     "data": {
      "text/html": [
       "<pre style=\"white-space:pre;overflow-x:auto;line-height:normal;font-family:Menlo,'DejaVu Sans Mono',consolas,'Courier New',monospace\"><span style=\"font-weight: bold\"> Trainable params: </span><span style=\"color: #00af00; text-decoration-color: #00af00\">225,610</span> (881.29 KB)\n",
       "</pre>\n"
      ],
      "text/plain": [
       "\u001b[1m Trainable params: \u001b[0m\u001b[38;5;34m225,610\u001b[0m (881.29 KB)\n"
      ]
     },
     "metadata": {},
     "output_type": "display_data"
    },
    {
     "data": {
      "text/html": [
       "<pre style=\"white-space:pre;overflow-x:auto;line-height:normal;font-family:Menlo,'DejaVu Sans Mono',consolas,'Courier New',monospace\"><span style=\"font-weight: bold\"> Non-trainable params: </span><span style=\"color: #00af00; text-decoration-color: #00af00\">0</span> (0.00 B)\n",
       "</pre>\n"
      ],
      "text/plain": [
       "\u001b[1m Non-trainable params: \u001b[0m\u001b[38;5;34m0\u001b[0m (0.00 B)\n"
      ]
     },
     "metadata": {},
     "output_type": "display_data"
    }
   ],
   "source": [
    "\n",
    "\n",
    "model.summary()"
   ]
  },
  {
   "cell_type": "code",
   "execution_count": null,
   "id": "05a8c2e2",
   "metadata": {},
   "outputs": [],
   "source": []
  },
  {
   "cell_type": "code",
   "execution_count": 5,
   "id": "109c429b",
   "metadata": {},
   "outputs": [
    {
     "name": "stdout",
     "output_type": "stream",
     "text": [
      "You must install graphviz (see instructions at https://graphviz.gitlab.io/download/) for `plot_model` to work.\n"
     ]
    }
   ],
   "source": [
    "from keras.utils import plot_model\n",
    "import matplotlib.pyplot as plt\n",
    "%matplotlib inline\n",
    "plot_model(model,show_shapes=True,show_layer_names=True,to_file=r'D:\\zaynu\\Documents\\pythonfiles\\CV_mod\\mlmodels\\cifar_model.jpg')"
   ]
  },
  {
   "cell_type": "code",
   "execution_count": null,
   "id": "a2f9fc6b",
   "metadata": {},
   "outputs": [
    {
     "name": "stdout",
     "output_type": "stream",
     "text": [
      "Epoch 1/10\n",
      "\u001b[1m1563/1563\u001b[0m \u001b[32m━━━━━━━━━━━━━━━━━━━━\u001b[0m\u001b[37m\u001b[0m \u001b[1m13s\u001b[0m 7ms/step - accuracy: 0.3590 - loss: 1.7695\n",
      "Epoch 2/10\n",
      "\u001b[1m1563/1563\u001b[0m \u001b[32m━━━━━━━━━━━━━━━━━━━━\u001b[0m\u001b[37m\u001b[0m \u001b[1m11s\u001b[0m 7ms/step - accuracy: 0.5695 - loss: 1.2258\n",
      "Epoch 3/10\n",
      "\u001b[1m1563/1563\u001b[0m \u001b[32m━━━━━━━━━━━━━━━━━━━━\u001b[0m\u001b[37m\u001b[0m \u001b[1m12s\u001b[0m 7ms/step - accuracy: 0.6342 - loss: 1.0438\n",
      "Epoch 4/10\n",
      "\u001b[1m1563/1563\u001b[0m \u001b[32m━━━━━━━━━━━━━━━━━━━━\u001b[0m\u001b[37m\u001b[0m \u001b[1m11s\u001b[0m 7ms/step - accuracy: 0.6837 - loss: 0.9160\n",
      "Epoch 5/10\n",
      "\u001b[1m1563/1563\u001b[0m \u001b[32m━━━━━━━━━━━━━━━━━━━━\u001b[0m\u001b[37m\u001b[0m \u001b[1m11s\u001b[0m 7ms/step - accuracy: 0.7189 - loss: 0.8147\n",
      "Epoch 6/10\n",
      "\u001b[1m1563/1563\u001b[0m \u001b[32m━━━━━━━━━━━━━━━━━━━━\u001b[0m\u001b[37m\u001b[0m \u001b[1m13s\u001b[0m 8ms/step - accuracy: 0.7484 - loss: 0.7358\n",
      "Epoch 7/10\n",
      "\u001b[1m1563/1563\u001b[0m \u001b[32m━━━━━━━━━━━━━━━━━━━━\u001b[0m\u001b[37m\u001b[0m \u001b[1m12s\u001b[0m 7ms/step - accuracy: 0.7680 - loss: 0.6713\n",
      "Epoch 8/10\n",
      "\u001b[1m1563/1563\u001b[0m \u001b[32m━━━━━━━━━━━━━━━━━━━━\u001b[0m\u001b[37m\u001b[0m \u001b[1m12s\u001b[0m 8ms/step - accuracy: 0.7874 - loss: 0.6194\n",
      "Epoch 9/10\n",
      "\u001b[1m1563/1563\u001b[0m \u001b[32m━━━━━━━━━━━━━━━━━━━━\u001b[0m\u001b[37m\u001b[0m \u001b[1m11s\u001b[0m 7ms/step - accuracy: 0.7999 - loss: 0.5870\n",
      "Epoch 10/10\n",
      "\u001b[1m1563/1563\u001b[0m \u001b[32m━━━━━━━━━━━━━━━━━━━━\u001b[0m\u001b[37m\u001b[0m \u001b[1m12s\u001b[0m 7ms/step - accuracy: 0.8163 - loss: 0.5457\n"
     ]
    },
    {
     "data": {
      "text/plain": [
       "<keras.src.callbacks.history.History at 0x1c40d32ad80>"
      ]
     },
     "execution_count": 10,
     "metadata": {},
     "output_type": "execute_result"
    }
   ],
   "source": [
    "model.fit(x_train,y_cat_train,verbose=1,epochs=10)\n"
   ]
  },
  {
   "cell_type": "code",
   "execution_count": 11,
   "id": "6b23a5eb",
   "metadata": {},
   "outputs": [
    {
     "name": "stdout",
     "output_type": "stream",
     "text": [
      "\u001b[1m313/313\u001b[0m \u001b[32m━━━━━━━━━━━━━━━━━━━━\u001b[0m\u001b[37m\u001b[0m \u001b[1m2s\u001b[0m 5ms/step - accuracy: 0.6759 - loss: 1.1847\n"
     ]
    },
    {
     "data": {
      "text/plain": [
       "[1.2126041650772095, 0.671999990940094]"
      ]
     },
     "execution_count": 11,
     "metadata": {},
     "output_type": "execute_result"
    }
   ],
   "source": [
    "model.evaluate(x_test,y_cat_test)"
   ]
  },
  {
   "cell_type": "code",
   "execution_count": 12,
   "id": "2c6d63fb",
   "metadata": {},
   "outputs": [
    {
     "name": "stdout",
     "output_type": "stream",
     "text": [
      "\u001b[1m313/313\u001b[0m \u001b[32m━━━━━━━━━━━━━━━━━━━━\u001b[0m\u001b[37m\u001b[0m \u001b[1m1s\u001b[0m 3ms/step\n"
     ]
    }
   ],
   "source": [
    "from sklearn.metrics import classification_report\n",
    "predictions=model.predict(x_test)\n"
   ]
  },
  {
   "cell_type": "code",
   "execution_count": 21,
   "id": "23df21b3",
   "metadata": {},
   "outputs": [
    {
     "name": "stdout",
     "output_type": "stream",
     "text": [
      "[3, 0, 8, 0, 4, 6, 0, 6, 3, 1, 0, 9, 3, 7, 9, 8, 5, 7, 0, 6, 7, 2, 4, 9, 4, 4, 4, 2, 1, 6, 6, 5, 2, 3, 9, 3, 4, 1, 9, 5, 4, 6, 3, 6, 0, 9, 2, 0, 7, 6, 7, 8, 2, 3, 8, 0, 3, 0, 5, 3, 7, 5, 6, 3, 6, 2, 1, 2, 3, 7, 0, 6, 8, 8, 0, 2, 2, 3, 3, 8, 8, 1, 1, 7, 2, 7, 2, 0, 0, 9, 0, 0, 8, 6, 4, 6, 6, 0, 0, 7, 0, 7, 6, 3, 1, 1, 3, 6, 3, 7, 0, 0, 2, 2, 0, 3, 0, 4, 3, 5, 8, 3, 1, 2, 8, 2, 0, 3, 3, 0, 4, 1, 8, 9, 1, 2, 9, 7, 2, 0, 3, 5, 6, 3, 8, 0, 6, 0, 3, 2, 0, 0, 6, 0, 0, 3, 2, 9, 3, 4, 3, 1, 0, 6, 0, 4, 8, 6, 7, 8, 9, 6, 0, 0, 1, 9, 3, 7, 3, 0, 0, 5, 2, 3, 5, 8, 6, 3, 3, 8, 4, 8, 7, 0, 4, 0, 8, 8, 3, 3, 3, 0, 8, 7, 1, 3, 0, 5, 7, 9, 0, 4, 3, 9, 8, 0, 4, 9, 8, 2, 7, 0, 9, 3, 3, 1, 2, 2, 3, 6, 5, 1, 3, 1, 8, 0, 4, 2, 3, 3, 1, 1, 8, 3, 0, 2, 1, 8, 2, 3, 5, 3, 9, 9, 0, 0, 6, 0, 8, 9, 8, 1, 3, 3, 8, 8, 0, 4, 7, 0, 0, 5, 6, 3, 8, 3, 0, 3, 2, 7, 0, 8, 3, 1, 0, 9, 1, 8, 7, 9, 1, 2, 6, 9, 3, 2, 6, 0, 0, 6, 6, 6, 3, 0, 2, 8, 3, 2, 9, 4, 8, 6, 0, 0, 0, 3, 2, 7, 5, 5, 3, 3, 0, 2, 7, 0, 7, 5, 4, 6, 1, 9, 0, 6, 6, 9, 3, 8, 0, 7, 4, 6, 2, 5, 0, 5, 4, 6, 8, 9, 9, 1, 0, 2, 0, 3, 5, 2, 1, 0, 0, 5, 8, 0, 9, 4, 0, 0, 2, 1, 0, 7, 9, 4, 2, 7, 0, 0, 2, 6, 6, 2, 0, 0, 5, 0, 7, 2, 2, 5, 1, 0, 6, 5, 3, 6, 3, 0, 0, 8, 9, 8, 7, 8, 8, 6, 0, 1, 8, 3, 7, 8, 5, 6, 1, 9, 3, 7, 0, 7, 4, 0, 8, 3, 2, 0, 3, 4, 0, 6, 3, 3, 3, 3, 3, 7, 3, 2, 5, 3, 1, 2, 9, 8, 5, 7, 5, 0, 2, 2, 2, 9, 7, 3, 0, 4, 2, 5, 0, 2, 2, 0, 1, 0, 0, 4, 4, 3, 5, 8, 3, 7, 8, 0, 3, 7, 2, 0, 5, 3, 0, 6, 8, 0, 5, 8, 9, 9, 5, 8, 1, 4, 8, 1, 1, 8, 0, 2, 2, 0, 4, 6, 3, 4, 9, 4, 7, 9, 0, 4, 5, 6, 6, 1, 5, 3, 8, 9, 3, 8, 5, 7, 0, 7, 0, 3, 0, 0, 0, 6, 0, 3, 6, 5, 6, 6, 6, 6, 8, 0, 1, 5, 6, 7, 5, 9, 1, 6, 2, 5, 5, 3, 8, 3, 9, 0, 3, 4, 3, 2, 0, 7, 6, 0, 0, 5, 9, 3, 6, 6, 6, 7, 1, 3, 6, 6, 8, 8, 7, 2, 4, 8, 8, 2, 0, 8, 3, 4, 8, 9, 6, 1, 2, 6, 1, 0, 7, 3, 3, 3, 0, 5, 8, 2, 1, 6, 4, 3, 3, 9, 6, 0, 8, 8, 5, 3, 6, 6, 3, 1, 7, 0, 1, 2, 7, 9, 1, 4, 7, 1, 0, 3, 6, 3, 4, 6, 8, 3, 0, 5, 3, 3, 0, 7, 9, 1, 3, 2, 2, 2, 3, 1, 3, 6, 9, 4, 1, 5, 4, 1, 2, 4, 7, 2, 3, 0, 9, 0, 1, 3, 6, 7, 0, 3, 2, 8, 4, 0, 3, 3, 1, 6, 2, 8, 4, 4, 0, 1, 6, 3, 3, 2, 2, 7, 8, 3, 0, 3, 7, 5, 7, 2, 5, 8, 4, 4, 0, 3, 0, 8, 6, 0, 8, 7, 3, 3, 3, 8, 7, 8, 6, 8, 8, 1, 8, 0, 1, 3, 6, 5, 0, 0, 7, 1, 1, 2, 1, 0, 1, 7, 0, 4, 0, 7, 2, 7, 0, 6, 2, 3, 9, 0, 1, 1, 2, 2, 6, 8, 2, 1, 3, 0, 0, 0, 1, 2, 3, 8, 3, 4, 3, 9, 6, 4, 0, 2, 3, 6, 0, 6, 9, 1, 7, 6, 7, 8, 3, 0, 2, 8, 0, 0, 0, 3, 7, 7, 3, 4, 7, 2, 7, 1, 2, 7, 4, 0, 8, 6, 7, 2, 2, 3, 7, 2, 1, 8, 9, 3, 9, 3, 6, 2, 0, 8, 7, 3, 0, 6, 4, 3, 0, 3, 2, 5, 0, 4, 0, 3, 3, 2, 7, 0, 7, 2, 1, 2, 2, 0, 2, 4, 3, 9, 8, 1, 0, 7, 7, 0, 7, 8, 4, 6, 0, 3, 0, 1, 8, 5, 0, 1, 3, 1, 3, 2, 3, 8, 4, 2, 0, 7, 8, 4, 0, 0, 0, 0, 0, 1, 0, 4, 4, 6, 7, 5, 1, 1, 3, 7, 3, 5, 0, 6, 6, 3, 8, 0, 1, 6, 8, 8, 5, 3, 3, 4, 0, 1, 2, 8, 8, 0, 6, 9, 4, 0, 5, 3, 8, 0, 0, 0, 4, 2, 3, 3, 7, 2, 2, 5, 0, 8, 9, 7, 7, 4, 0, 3, 0, 1, 4, 8, 2, 9, 4, 0, 7, 7, 0, 6, 7, 8, 8, 0, 1, 6, 2, 6, 6, 0, 1, 9, 9, 4, 2, 1, 0, 0, 6, 0, 1, 9, 6, 1, 7, 4, 7, 8, 7, 1, 2, 0, 1, 3, 0, 7, 3, 5, 8, 1, 3, 8, 5, 0, 8, 4, 8, 1, 1, 0, 9, 6, 0, 8, 6, 1, 3, 6, 1, 6, 0, 3, 1, 0, 0, 0, 0, 5, 0, 0, 6, 6, 3, 3, 2, 3, 3, 6, 4, 7, 2, 0, 2, 5, 2, 0, 8, 3, 2, 0, 1, 4, 3, 6, 0, 5, 1, 2, 3, 0, 3, 8, 9, 1, 0, 4, 0, 0, 1, 0, 9, 6, 3, 6, 8, 7, 3, 8, 0, 0, 0, 6, 6, 6, 8, 2, 5, 4, 4, 6, 4, 6, 8, 8, 6, 3, 3, 2, 7, 7, 1, 2, 8, 8, 8, 0, 9, 3, 9, 7, 2, 1, 2, 8, 2, 8, 9, 1, 3, 5, 7, 7, 5, 3, 8, 3, 0, 6, 0, 0, 3, 0, 0, 1, 3, 4, 1, 6, 9, 0, 3, 8, 6, 1, 8, 6, 1, 0, 4, 0, 2, 7, 7, 2, 0, 8, 6, 9, 0, 7, 1, 8, 8, 0, 7, 3, 8, 0, 3, 3, 3, 4, 7, 9, 2, 3, 1, 9, 1, 9, 2, 3, 3, 3, 1, 0, 6, 0, 4, 1, 0, 0, 1, 1, 6, 5, 4, 6, 2, 0, 7, 0, 8, 7, 2, 8, 6, 8, 1, 4, 3, 4, 0, 0, 1, 8, 5, 7, 8, 4, 8, 3, 3, 7, 1, 0, 0, 0, 6, 3, 0, 1, 3, 9, 1, 4, 1, 5, 5, 0, 1, 3, 2, 0, 0, 8, 3, 6, 7, 2, 0, 4, 7, 3, 3, 1, 2, 4, 0, 2, 6, 8, 1, 0, 0, 8, 8, 1, 8, 4, 3, 3, 1, 8, 0, 6, 3, 3, 0, 2, 2, 0, 3, 8, 9, 5, 8, 9, 0, 9, 1, 6, 5, 9, 4, 7, 0, 0, 3, 0, 9, 0, 3, 1, 6, 4, 8, 9, 1, 0, 4, 6, 0, 8, 6, 1, 9, 0, 5, 9, 3, 0, 7, 3, 0, 8, 4, 2, 6, 6, 3, 0, 3, 8, 1, 0, 2, 1, 4, 5, 6, 3, 1, 4, 7, 0, 0, 0, 0, 8, 2, 8, 0, 7, 0, 0, 1, 3, 0, 9, 8, 9, 7, 9, 5, 1, 4, 0, 8, 2, 5, 8, 9, 1, 9, 3, 2, 4, 9, 0, 1, 7, 0, 6, 0, 8, 8, 5, 3, 9, 3, 4, 6, 2, 2, 3, 3, 3, 1, 0, 0, 0, 3, 4, 7, 0, 1, 1, 9, 8, 1, 0, 1, 4, 1, 1, 1, 7, 3, 8, 6, 8, 7, 6, 8, 4, 9, 3, 7, 1, 7, 3, 7, 0, 9, 7, 0, 1, 6, 1, 0, 1, 0, 0, 5, 0, 1, 3, 0, 8, 4, 6, 2, 2, 6, 4, 3, 6, 0, 1, 1, 0, 6, 0, 2, 0, 1, 1, 7, 1, 3, 3, 7, 8, 7, 7, 7, 9, 7, 4, 7, 0, 1, 2, 0, 6, 2, 0, 7, 9, 8, 6, 8, 4, 0, 1, 7, 0, 2, 8, 3, 8, 1, 3, 2, 2, 0, 2, 4, 0, 8, 0, 8, 1, 8, 0, 0, 2, 4, 1, 3, 6, 4, 4, 4, 4, 3, 8, 4, 0, 2, 7, 9, 7, 8, 4, 4, 3, 3, 7, 3, 2, 8, 4, 3, 3, 4, 9, 4, 2, 0, 1, 6, 4, 3, 4, 0, 0, 8, 8, 4, 0, 7, 3, 6, 9, 1, 6, 7, 2, 0, 1, 5, 3, 8, 0, 0, 2, 3, 3, 6, 8, 0, 5, 9, 8, 7, 7, 5, 2, 0, 6, 2, 1, 2, 3, 0, 3, 0, 3, 5, 5, 8, 9, 0, 3, 1, 7, 2, 3, 4, 4, 3, 3, 3, 1, 1, 7, 7, 0, 0, 4, 3, 1, 4, 0, 4, 3, 0, 9, 4, 0, 0, 1, 0, 8, 6, 7, 5, 3, 0, 9, 3, 6, 5, 9, 2, 4, 0, 7, 8, 2, 5, 0, 0, 8, 9, 8, 4, 5, 4, 8, 4, 6, 0, 6, 0, 6, 6, 6, 1, 6, 4, 8, 0, 6, 4, 7, 8, 1, 2, 7, 0, 0, 7, 0, 8, 6, 0, 0, 6, 3, 2, 8, 9, 8, 0, 9, 4, 9, 5, 7, 3, 5, 8, 5, 0, 0, 1, 9, 0, 2, 4, 1, 0, 1, 0, 5, 1, 7, 8, 0, 4, 0, 6, 3, 4, 0, 0, 9, 0, 8, 4, 3, 6, 3, 9, 0, 3, 0, 5, 0, 0, 3, 8, 1, 0, 5, 0, 1, 0, 2, 8, 1, 0, 6, 7, 5, 7, 6, 2, 3, 0, 1, 4, 0, 4, 2, 0, 0, 2, 1, 0, 2, 2, 3, 0, 3, 0, 4, 8, 3, 0, 6, 3, 8, 1, 0, 1, 0, 6, 0, 7, 4, 9, 0, 3, 0, 8, 1, 6, 4, 8, 4, 2, 3, 3, 8, 1, 3, 1, 8, 1, 1, 7, 3, 9, 7, 0, 6, 5, 0, 0, 4, 0, 3, 9, 2, 8, 4, 7, 1, 0, 0, 8, 8, 9, 4, 4, 6, 0, 7, 4, 1, 4, 8, 9, 7, 2, 5, 3, 7, 3, 0, 2, 9, 5, 5, 8, 5, 4, 0, 8, 3, 4, 0, 7, 7, 8, 0, 7, 0, 2, 3, 5, 6, 8, 0, 0, 3, 7, 0, 1, 9, 1, 6, 0, 5, 3, 3, 1, 9, 0, 8, 6, 9, 3, 8, 8, 8, 3, 7, 8, 5, 0, 0, 1, 0, 3, 1, 3, 3, 4, 0, 0, 9, 9, 9, 2, 8, 2, 2, 2, 2, 5, 1, 6, 1, 1, 9, 4, 4, 1, 6, 8, 5, 2, 3, 3, 0, 0, 0, 3, 0, 2, 8, 4, 7, 8, 1, 5, 0, 5, 7, 4, 4, 0, 2, 7, 2, 6, 0, 2, 7, 6, 0, 3, 0, 7, 7, 8, 0, 1, 3, 0, 0, 6, 6, 3, 4, 6, 6, 9, 3, 6, 2, 7, 6, 4, 0, 5, 0, 4, 1, 6, 3, 0, 2, 5, 0, 1, 5, 6, 3, 2, 0, 7, 3, 7, 8, 9, 0, 3, 3, 5, 0, 8, 4, 4, 3, 2, 3, 9, 8, 3, 3, 6, 4, 3, 3, 2, 3, 4, 1, 4, 4, 4, 6, 0, 3, 3, 1, 0, 0, 1, 8, 3, 1, 3, 5, 8, 3, 8, 3, 8, 0, 3, 5, 5, 5, 0, 8, 3, 0, 7, 1, 8, 0, 4, 4, 0, 4, 2, 9, 6, 2, 2, 7, 3, 0, 0, 0, 9, 3, 2, 0, 7, 2, 0, 2, 7, 7, 2, 0, 1, 6, 5, 0, 4, 2, 8, 1, 2, 6, 8, 0, 6, 3, 3, 3, 3, 0, 0, 1, 1, 0, 2, 3, 9, 7, 8, 6, 8, 0, 0, 2, 0, 1, 1, 3, 6, 9, 0, 3, 2, 3, 4, 8, 8, 2, 6, 8, 3, 7, 1, 9, 3, 4, 2, 2, 9, 6, 9, 5, 7, 0, 5, 8, 8, 0, 9, 4, 0, 0, 8, 7, 1, 2, 0, 7, 5, 8, 2, 5, 0, 3, 9, 5, 1, 9, 6, 1, 4, 3, 4, 2, 9, 0, 8, 3, 9, 2, 9, 0, 0, 0, 8, 3, 8, 6, 8, 2, 0, 5, 9, 2, 9, 5, 1, 3, 4, 0, 2, 7, 2, 0, 6, 0, 5, 8, 4, 2, 1, 2, 6, 8, 1, 7, 6, 0, 7, 4, 3, 3, 1, 0, 7, 2, 5, 6, 1, 7, 9, 0, 0, 3, 9, 8, 7, 5, 0, 0, 2, 2, 3, 0, 8, 8, 2, 0, 1, 3, 4, 3, 2, 6, 0, 8, 8, 3, 3, 3, 5, 8, 7, 3, 1, 6, 1, 5, 9, 3, 4, 5, 9, 0, 0, 0, 5, 2, 2, 1, 9, 5, 3, 1, 0, 8, 9, 7, 0, 3, 3, 2, 0, 2, 6, 2, 3, 9, 1, 6, 5, 7, 2, 6, 3, 2, 2, 5, 2, 7, 0, 3, 2, 8, 0, 2, 7, 1, 7, 4, 0, 7, 2, 6, 1, 3, 9, 7, 6, 2, 7, 0, 0, 6, 0, 1, 1, 8, 4, 5, 5, 9, 0, 0, 8, 0, 8, 1, 3, 0, 7, 0, 3, 0, 6, 7, 1, 2, 2, 1, 0, 4, 5, 0, 8, 8, 7, 6, 1, 8, 8, 5, 9, 0, 0, 4, 7, 8, 0, 6, 1, 2, 5, 1, 6, 7, 3, 5, 8, 8, 0, 3, 9, 3, 0, 6, 4, 0, 0, 4, 3, 0, 6, 6, 0, 6, 2, 7, 8, 4, 3, 8, 0, 2, 8, 0, 2, 3, 6, 8, 7, 8, 0, 9, 0, 6, 6, 8, 0, 1, 7, 4, 4, 0, 3, 6, 9, 8, 2, 5, 1, 8, 2, 4, 0, 3, 8, 6, 0, 5, 5, 0, 1, 0, 2, 0, 2, 9, 0, 9, 7, 8, 5, 0, 6, 6, 8, 1, 6, 5, 8, 0, 9, 3, 1, 6, 4, 3, 6, 3, 1, 0, 8, 9, 5, 8, 0, 8, 3, 3, 0, 4, 8, 8, 1, 7, 3, 0, 6, 6, 4, 0, 2, 2, 9, 3, 3, 2, 7, 4, 1, 5, 1, 3, 0, 0, 2, 8, 8, 5, 6, 3, 1, 3, 8, 6, 3, 1, 0, 0, 2, 1, 8, 4, 2, 3, 8, 0, 0, 6, 4, 2, 9, 0, 7, 0, 6, 3, 4, 3, 7, 6, 0, 2, 2, 0, 2, 3, 4, 0, 0, 3, 4, 0, 8, 0, 3, 4, 8, 0, 6, 4, 0, 7, 6, 5, 2, 1, 0, 0, 3, 8, 0, 8, 0, 4, 1, 2, 3, 3, 8, 1, 6, 2, 8, 4, 3, 1, 2, 3, 2, 4, 3, 6, 0, 7, 1, 3, 3, 3, 1, 8, 0, 0, 8, 2, 7, 7, 0, 0, 2, 4, 3, 2, 3, 3, 1, 6, 3, 6, 7, 4, 3, 0, 8, 1, 3, 0, 3, 6, 2, 0, 7, 4, 5, 0, 7, 2, 7, 2, 3, 5, 6, 7, 0, 1, 6, 1, 2, 6, 3, 0, 4, 3, 0, 0, 0, 7, 0, 0, 0, 0, 7, 5, 3, 3, 7, 8, 5, 3, 1, 2, 8, 9, 1, 0, 2, 0, 3, 0, 9, 8, 6, 0, 8, 8, 3, 6, 0, 6, 7, 5, 1, 8, 8, 0, 0, 0, 2, 3, 3, 6, 3, 0, 0, 8, 5, 9, 8, 3, 6, 7, 7, 7, 7, 2, 0, 0, 3, 2, 1, 6, 3, 3, 9, 8, 2, 5, 1, 0, 5, 2, 3, 7, 0, 4, 0, 1, 9, 3, 2, 7, 2, 4, 1, 9, 4, 3, 5, 1, 0, 7, 6, 3, 0, 3, 7, 3, 4, 3, 7, 7, 0, 0, 1, 3, 4, 3, 3, 9, 8, 7, 0, 9, 8, 3, 7, 6, 3, 8, 4, 5, 6, 5, 0, 4, 2, 9, 0, 0, 9, 2, 0, 1, 9, 3, 0, 9, 0, 1, 6, 0, 0, 4, 7, 2, 4, 5, 2, 6, 6, 3, 3, 0, 0, 2, 0, 8, 0, 3, 3, 2, 7, 5, 3, 3, 6, 0, 6, 6, 5, 0, 2, 9, 3, 3, 2, 0, 7, 7, 0, 5, 0, 6, 5, 6, 9, 0, 0, 4, 8, 3, 1, 0, 8, 1, 0, 0, 7, 8, 4, 7, 7, 2, 0, 5, 6, 9, 5, 5, 3, 3, 0, 8, 6, 0, 8, 3, 0, 2, 2, 2, 0, 2, 7, 4, 1, 9, 7, 0, 2, 1, 5, 0, 0, 5, 1, 4, 2, 8, 2, 8, 3, 7, 1, 4, 9, 0, 1, 1, 3, 9, 9, 4, 3, 8, 5, 3, 2, 2, 7, 5, 5, 1, 9, 7, 9, 1, 0, 4, 1, 0, 3, 8, 0, 5, 0, 0, 0, 0, 0, 4, 8, 0, 0, 7, 0, 7, 0, 5, 3, 4, 0, 0, 0, 0, 0, 6, 0, 0, 8, 3, 4, 5, 2, 0, 8, 3, 3, 6, 4, 3, 8, 0, 8, 2, 8, 3, 5, 6, 5, 1, 7, 2, 4, 2, 0, 6, 8, 7, 6, 3, 1, 3, 3, 6, 2, 5, 5, 2, 1, 8, 7, 2, 0, 0, 4, 1, 1, 1, 6, 0, 1, 1, 2, 3, 0, 8, 2, 1, 7, 4, 3, 8, 4, 5, 8, 6, 0, 3, 0, 3, 2, 3, 8, 9, 4, 6, 1, 0, 7, 3, 9, 2, 1, 0, 0, 4, 0, 0, 0, 7, 1, 5, 1, 3, 2, 0, 8, 8, 2, 9, 7, 3, 3, 0, 0, 0, 6, 8, 3, 0, 7, 2, 0, 3, 7, 0, 4, 9, 0, 7, 0, 6, 7, 4, 8, 3, 0, 8, 5, 8, 4, 6, 8, 2, 7, 0, 6, 6, 0, 9, 1, 8, 6, 3, 9, 4, 0, 3, 3, 7, 5, 7, 7, 5, 4, 5, 8, 0, 8, 9, 5, 3, 1, 2, 0, 2, 0, 8, 9, 8, 1, 1, 0, 8, 9, 9, 0, 2, 0, 9, 1, 3, 2, 1, 1, 2, 0, 9, 9, 2, 0, 9, 2, 1, 7, 0, 7, 6, 0, 9, 8, 3, 0, 3, 4, 7, 4, 8, 3, 0, 4, 0, 3, 3, 7, 6, 6, 6, 5, 6, 3, 4, 3, 8, 8, 3, 9, 5, 9, 1, 6, 9, 6, 1, 3, 7, 7, 0, 0, 5, 4, 7, 6, 9, 0, 2, 3, 4, 5, 3, 0, 8, 3, 5, 0, 1, 6, 1, 0, 7, 4, 8, 7, 7, 2, 3, 0, 3, 2, 3, 4, 0, 3, 5, 4, 7, 0, 3, 7, 0, 0, 0, 8, 8, 7, 3, 5, 7, 8, 0, 7, 8, 1, 3, 7, 7, 0, 8, 0, 2, 9, 2, 0, 1, 6, 7, 0, 8, 5, 5, 4, 1, 0, 9, 4, 0, 3, 2, 4, 8, 0, 8, 2, 9, 0, 8, 7, 4, 6, 7, 2, 2, 0, 3, 7, 7, 8, 3, 7, 0, 2, 5, 6, 8, 4, 7, 2, 3, 7, 8, 4, 2, 5, 0, 0, 7, 0, 9, 6, 1, 0, 7, 9, 7, 0, 8, 1, 2, 8, 1, 2, 3, 0, 6, 2, 3, 9, 2, 4, 3, 1, 1, 0, 1, 2, 7, 9, 3, 1, 2, 1, 2, 6, 4, 3, 7, 4, 3, 8, 3, 4, 8, 7, 8, 2, 0, 6, 1, 3, 3, 1, 3, 1, 9, 0, 6, 2, 0, 6, 2, 4, 8, 5, 7, 6, 1, 6, 9, 4, 2, 0, 3, 3, 7, 3, 0, 1, 4, 3, 0, 3, 8, 5, 0, 0, 6, 2, 0, 8, 4, 5, 0, 0, 6, 2, 7, 9, 6, 3, 0, 3, 2, 2, 0, 3, 4, 6, 1, 1, 5, 3, 2, 2, 6, 3, 0, 5, 0, 1, 3, 2, 3, 9, 6, 5, 0, 2, 0, 7, 1, 7, 2, 2, 0, 8, 6, 4, 3, 2, 0, 7, 0, 4, 1, 6, 5, 0, 3, 0, 0, 9, 0, 0, 5, 0, 0, 3, 0, 9, 9, 3, 0, 9, 4, 2, 2, 3, 3, 4, 0, 4, 3, 5, 8, 9, 8, 5, 8, 1, 8, 2, 0, 4, 2, 4, 1, 1, 6, 6, 8, 5, 0, 0, 5, 0, 8, 2, 3, 6, 2, 9, 6, 0, 4, 5, 9, 0, 1, 4, 0, 8, 1, 1, 6, 6, 0, 5, 4, 9, 7, 8, 6, 7, 1, 7, 6, 0, 6, 3, 0, 3, 2, 3, 0, 5, 1, 2, 1, 6, 4, 6, 1, 3, 8, 8, 5, 6, 7, 7, 6, 7, 2, 3, 2, 4, 6, 2, 7, 3, 0, 3, 3, 2, 0, 3, 2, 0, 9, 2, 1, 1, 5, 3, 5, 4, 3, 2, 1, 0, 4, 3, 5, 4, 8, 9, 3, 3, 0, 8, 0, 1, 3, 3, 4, 0, 6, 9, 7, 6, 8, 1, 8, 1, 9, 3, 1, 7, 3, 0, 0, 2, 8, 3, 3, 0, 3, 4, 6, 8, 1, 6, 1, 6, 7, 5, 5, 2, 5, 9, 4, 0, 8, 3, 4, 0, 3, 1, 0, 8, 2, 3, 0, 3, 2, 8, 0, 3, 7, 1, 1, 4, 8, 3, 8, 2, 3, 8, 9, 3, 1, 1, 6, 0, 8, 4, 6, 4, 5, 2, 4, 4, 2, 3, 0, 3, 6, 8, 5, 2, 0, 7, 1, 0, 2, 0, 9, 2, 8, 1, 6, 9, 2, 5, 0, 3, 2, 9, 7, 0, 2, 9, 3, 4, 1, 6, 9, 5, 8, 0, 7, 0, 0, 4, 5, 7, 2, 3, 4, 7, 0, 1, 8, 1, 0, 9, 6, 1, 3, 9, 0, 1, 5, 3, 6, 9, 7, 0, 0, 4, 0, 0, 3, 5, 2, 7, 4, 7, 3, 4, 2, 8, 6, 1, 7, 5, 6, 5, 7, 9, 2, 7, 8, 3, 9, 0, 8, 0, 4, 3, 7, 9, 8, 1, 2, 4, 8, 9, 3, 2, 0, 4, 0, 0, 0, 1, 3, 4, 8, 5, 3, 0, 9, 8, 3, 7, 9, 1, 3, 3, 9, 8, 7, 2, 0, 9, 0, 8, 2, 9, 6, 2, 3, 8, 1, 1, 8, 0, 0, 7, 6, 4, 2, 3, 7, 0, 3, 2, 8, 8, 8, 0, 0, 6, 3, 7, 4, 3, 0, 6, 7, 1, 5, 3, 3, 8, 3, 6, 6, 0, 1, 0, 7, 7, 0, 0, 0, 1, 6, 3, 3, 9, 0, 1, 2, 0, 2, 2, 5, 2, 9, 8, 7, 4, 4, 1, 0, 6, 7, 0, 1, 2, 0, 2, 8, 9, 0, 0, 3, 1, 5, 0, 6, 3, 4, 6, 8, 8, 9, 3, 6, 1, 0, 7, 3, 8, 4, 3, 0, 8, 1, 4, 5, 3, 0, 3, 8, 0, 5, 0, 1, 0, 1, 8, 0, 4, 4, 8, 2, 7, 0, 7, 4, 0, 7, 1, 6, 3, 1, 0, 0, 9, 5, 6, 7, 0, 1, 1, 2, 4, 2, 0, 6, 8, 0, 6, 2, 0, 1, 0, 2, 7, 0, 2, 0, 8, 6, 8, 2, 7, 7, 0, 0, 8, 1, 3, 0, 9, 7, 8, 9, 6, 3, 8, 1, 9, 4, 0, 0, 1, 4, 3, 6, 2, 2, 0, 0, 9, 7, 0, 7, 3, 3, 2, 7, 7, 4, 0, 4, 3, 3, 5, 4, 0, 1, 0, 7, 0, 1, 6, 5, 0, 0, 7, 4, 0, 1, 8, 5, 8, 0, 5, 6, 2, 2, 2, 5, 5, 8, 1, 0, 6, 8, 7, 3, 8, 5, 7, 0, 0, 9, 7, 3, 5, 8, 0, 6, 0, 0, 7, 2, 0, 0, 0, 7, 0, 0, 2, 5, 2, 4, 5, 0, 4, 8, 0, 0, 2, 3, 4, 3, 6, 0, 1, 2, 4, 6, 1, 1, 3, 9, 4, 3, 1, 2, 2, 0, 4, 0, 3, 8, 8, 5, 1, 8, 0, 7, 3, 9, 6, 6, 0, 0, 7, 3, 3, 2, 2, 4, 5, 6, 0, 6, 1, 0, 2, 6, 9, 3, 1, 8, 5, 4, 2, 2, 3, 6, 7, 6, 0, 0, 5, 7, 4, 4, 7, 4, 6, 1, 2, 9, 9, 0, 0, 3, 8, 4, 0, 8, 0, 1, 0, 4, 6, 4, 1, 1, 2, 7, 1, 7, 1, 4, 7, 1, 0, 2, 9, 0, 0, 2, 8, 0, 5, 0, 0, 4, 0, 8, 3, 2, 5, 9, 2, 9, 1, 1, 3, 4, 7, 4, 8, 6, 0, 1, 5, 3, 5, 4, 6, 8, 9, 9, 8, 0, 8, 6, 8, 5, 8, 9, 4, 6, 4, 0, 3, 7, 4, 0, 0, 1, 7, 5, 1, 3, 1, 3, 1, 0, 8, 2, 3, 6, 9, 0, 0, 0, 1, 0, 2, 0, 1, 9, 2, 0, 1, 9, 1, 8, 8, 4, 3, 7, 7, 0, 3, 0, 0, 4, 4, 7, 5, 3, 1, 0, 8, 8, 1, 2, 0, 3, 4, 5, 9, 6, 3, 1, 0, 6, 9, 0, 7, 7, 0, 8, 9, 1, 9, 7, 0, 1, 3, 5, 4, 2, 3, 8, 8, 0, 4, 8, 0, 6, 3, 3, 0, 3, 3, 2, 6, 8, 4, 9, 9, 9, 3, 0, 2, 2, 8, 1, 1, 8, 0, 4, 2, 4, 1, 1, 9, 0, 7, 0, 7, 8, 2, 0, 2, 8, 5, 2, 3, 3, 5, 7, 9, 8, 3, 4, 3, 1, 6, 8, 0, 6, 5, 3, 0, 8, 9, 5, 7, 6, 2, 0, 6, 9, 9, 0, 5, 5, 3, 3, 1, 1, 0, 2, 8, 2, 0, 1, 2, 5, 2, 3, 4, 1, 2, 0, 0, 1, 1, 4, 8, 9, 8, 8, 0, 0, 0, 0, 2, 0, 6, 8, 7, 3, 3, 8, 9, 0, 5, 7, 3, 6, 1, 3, 8, 5, 0, 3, 0, 4, 0, 8, 3, 3, 1, 7, 9, 1, 6, 2, 4, 7, 1, 3, 4, 7, 0, 0, 8, 4, 8, 0, 8, 8, 8, 4, 0, 5, 7, 3, 5, 4, 1, 3, 3, 7, 0, 6, 8, 3, 3, 0, 1, 0, 9, 0, 3, 0, 2, 0, 4, 0, 3, 3, 0, 0, 0, 1, 1, 0, 2, 2, 0, 3, 7, 8, 9, 2, 2, 1, 7, 2, 2, 5, 0, 1, 4, 0, 3, 3, 4, 3, 2, 0, 0, 3, 1, 3, 3, 7, 4, 5, 8, 0, 8, 9, 3, 2, 2, 4, 3, 6, 4, 2, 4, 0, 6, 7, 0, 7, 0, 8, 0, 5, 0, 0, 2, 0, 7, 3, 1, 9, 7, 0, 1, 1, 4, 2, 1, 0, 4, 0, 3, 1, 4, 8, 3, 1, 0, 1, 4, 3, 4, 3, 3, 8, 0, 8, 0, 3, 0, 4, 3, 4, 5, 7, 3, 5, 3, 1, 5, 7, 8, 5, 6, 2, 2, 5, 2, 2, 0, 3, 0, 1, 6, 8, 6, 8, 3, 2, 7, 3, 9, 7, 1, 4, 2, 3, 6, 1, 7, 3, 0, 0, 6, 0, 8, 6, 6, 0, 3, 4, 2, 4, 9, 4, 9, 1, 3, 4, 1, 4, 0, 2, 7, 1, 6, 2, 8, 4, 7, 8, 3, 3, 6, 2, 0, 0, 6, 4, 9, 3, 2, 0, 3, 0, 3, 9, 3, 1, 6, 1, 0, 0, 3, 9, 0, 0, 3, 9, 5, 9, 0, 9, 7, 3, 4, 4, 0, 6, 4, 8, 1, 9, 5, 6, 3, 1, 8, 6, 6, 0, 6, 7, 1, 2, 2, 6, 1, 2, 0, 1, 6, 4, 0, 0, 2, 9, 1, 0, 5, 4, 1, 6, 9, 8, 6, 0, 6, 1, 6, 0, 3, 5, 6, 9, 0, 7, 2, 0, 0, 3, 3, 8, 2, 9, 1, 0, 0, 6, 2, 3, 2, 5, 0, 0, 9, 7, 0, 7, 3, 3, 1, 8, 3, 0, 5, 0, 8, 8, 3, 9, 6, 0, 3, 5, 3, 4, 1, 4, 0, 3, 2, 9, 0, 3, 3, 1, 0, 4, 3, 9, 9, 7, 1, 7, 0, 1, 2, 0, 3, 3, 8, 0, 1, 5, 1, 9, 0, 7, 0, 1, 7, 6, 2, 6, 5, 0, 2, 1, 3, 8, 9, 0, 0, 8, 0, 4, 9, 2, 9, 1, 3, 6, 7, 6, 0, 8, 6, 2, 4, 2, 3, 3, 3, 3, 1, 6, 0, 1, 6, 1, 0, 1, 2, 2, 3, 0, 0, 0, 9, 7, 3, 3, 2, 0, 9, 8, 1, 1, 3, 5, 6, 2, 3, 8, 7, 3, 0, 7, 7, 5, 5, 1, 9, 0, 1, 1, 7, 3, 5, 5, 3, 0, 2, 0, 6, 3, 2, 0, 8, 1, 0, 6, 1, 1, 2, 2, 1, 0, 0, 8, 2, 2, 4, 7, 0, 8, 8, 3, 2, 0, 0, 7, 0, 1, 2, 9, 2, 9, 3, 3, 5, 9, 1, 9, 1, 0, 3, 6, 3, 2, 2, 6, 5, 6, 7, 0, 1, 3, 7, 3, 5, 3, 5, 1, 7, 6, 0, 4, 4, 5, 0, 3, 4, 2, 7, 5, 6, 0, 7, 2, 0, 0, 4, 1, 8, 0, 2, 6, 1, 5, 4, 0, 1, 6, 0, 4, 2, 3, 0, 5, 0, 0, 4, 6, 3, 1, 3, 0, 2, 7, 5, 5, 1, 7, 3, 1, 6, 3, 9, 0, 1, 2, 1, 4, 6, 0, 3, 0, 5, 0, 4, 1, 0, 0, 3, 0, 2, 8, 0, 3, 3, 0, 8, 1, 7, 5, 6, 9, 7, 2, 3, 1, 7, 6, 8, 0, 9, 8, 9, 8, 0, 7, 1, 3, 3, 5, 2, 0, 8, 7, 5, 9, 1, 0, 8, 6, 3, 6, 7, 7, 0, 7, 2, 0, 9, 6, 6, 7, 0, 5, 0, 8, 4, 2, 0, 6, 1, 2, 6, 1, 9, 0, 8, 6, 8, 1, 8, 9, 1, 4, 2, 3, 3, 6, 4, 8, 0, 2, 0, 5, 5, 6, 3, 6, 0, 3, 3, 3, 0, 2, 0, 2, 7, 2, 9, 2, 4, 0, 0, 6, 3, 4, 5, 3, 0, 1, 1, 3, 6, 0, 2, 4, 8, 0, 0, 3, 1, 0, 0, 4, 2, 0, 1, 6, 3, 1, 1, 3, 6, 8, 0, 8, 4, 7, 3, 0, 5, 3, 0, 4, 6, 1, 0, 2, 0, 0, 5, 0, 0, 8, 1, 2, 3, 3, 0, 4, 3, 0, 5, 0, 0, 4, 0, 0, 1, 0, 0, 1, 2, 1, 4, 7, 9, 8, 7, 3, 4, 0, 9, 0, 0, 8, 2, 0, 0, 0, 4, 8, 6, 2, 4, 6, 3, 5, 1, 5, 3, 0, 2, 2, 9, 0, 0, 8, 8, 0, 4, 4, 6, 1, 6, 0, 4, 4, 2, 9, 4, 0, 0, 8, 4, 3, 0, 7, 9, 7, 0, 5, 7, 7, 3, 1, 0, 3, 0, 3, 5, 3, 0, 9, 0, 4, 0, 7, 3, 1, 4, 1, 3, 8, 7, 8, 0, 4, 0, 2, 3, 7, 4, 1, 3, 5, 0, 8, 4, 0, 0, 2, 0, 4, 0, 1, 1, 0, 9, 7, 3, 1, 0, 8, 4, 0, 1, 6, 9, 3, 2, 4, 0, 1, 3, 2, 3, 2, 6, 7, 8, 2, 0, 1, 5, 3, 3, 3, 1, 3, 0, 8, 6, 3, 1, 3, 0, 4, 1, 1, 1, 0, 1, 8, 1, 9, 2, 3, 0, 0, 4, 7, 4, 0, 7, 7, 0, 1, 7, 6, 6, 3, 4, 4, 1, 5, 8, 2, 6, 6, 1, 6, 0, 0, 3, 8, 0, 6, 7, 1, 1, 7, 0, 4, 3, 0, 4, 1, 0, 3, 5, 6, 7, 7, 3, 5, 9, 1, 3, 6, 0, 2, 0, 0, 1, 8, 3, 0, 3, 3, 3, 3, 7, 7, 8, 0, 3, 3, 1, 6, 1, 5, 1, 0, 6, 0, 3, 2, 1, 2, 0, 1, 9, 8, 3, 2, 3, 2, 3, 0, 2, 3, 9, 7, 4, 3, 1, 3, 8, 6, 6, 8, 0, 4, 4, 6, 4, 7, 3, 6, 7, 6, 2, 3, 0, 0, 5, 6, 3, 9, 2, 6, 0, 7, 8, 7, 3, 0, 8, 8, 3, 2, 2, 0, 6, 3, 0, 3, 5, 7, 9, 0, 0, 6, 7, 4, 0, 5, 0, 5, 3, 3, 8, 0, 0, 3, 5, 2, 3, 6, 0, 1, 6, 3, 1, 6, 7, 0, 5, 7, 1, 3, 7, 3, 3, 2, 3, 5, 3, 3, 3, 0, 0, 0, 8, 0, 3, 2, 0, 5, 3, 0, 8, 6, 9, 8, 1, 2, 4, 7, 4, 4, 1, 3, 7, 0, 9, 0, 8, 4, 8, 5, 8, 5, 6, 7, 0, 8, 2, 0, 1, 8, 1, 5, 2, 0, 1, 3, 3, 6, 3, 4, 5, 7, 4, 7, 4, 2, 3, 2, 4, 5, 3, 5, 8, 3, 8, 3, 7, 4, 0, 5, 7, 3, 2, 2, 4, 0, 9, 7, 0, 8, 6, 2, 6, 1, 7, 0, 3, 3, 8, 7, 8, 7, 0, 7, 1, 0, 3, 3, 7, 6, 7, 1, 6, 2, 8, 3, 0, 2, 5, 7, 3, 7, 7, 1, 3, 4, 3, 3, 4, 0, 4, 2, 7, 0, 2, 7, 2, 6, 2, 5, 6, 6, 0, 8, 1, 5, 9, 0, 0, 1, 5, 3, 1, 6, 7, 8, 2, 6, 3, 3, 6, 0, 0, 9, 2, 6, 6, 8, 3, 6, 2, 3, 7, 8, 8, 3, 6, 0, 0, 2, 3, 4, 0, 4, 8, 9, 2, 6, 0, 7, 7, 9, 8, 7, 7, 3, 8, 2, 9, 3, 5, 7, 5, 8, 7, 3, 7, 0, 7, 1, 6, 2, 0, 1, 0, 2, 9, 4, 0, 8, 0, 4, 3, 6, 0, 1, 0, 9, 0, 1, 0, 1, 0, 6, 5, 2, 5, 7, 3, 0, 0, 3, 3, 3, 7, 0, 5, 8, 3, 5, 7, 0, 7, 2, 3, 4, 0, 6, 8, 2, 5, 0, 1, 4, 1, 2, 2, 6, 7, 6, 0, 5, 5, 8, 3, 3, 6, 1, 2, 5, 0, 5, 3, 8, 7, 0, 0, 1, 0, 4, 1, 0, 4, 3, 0, 2, 0, 6, 7, 0, 3, 1, 6, 9, 3, 8, 0, 0, 1, 0, 4, 4, 0, 1, 0, 0, 0, 2, 8, 0, 7, 6, 9, 4, 8, 1, 3, 6, 0, 4, 7, 1, 4, 7, 2, 1, 0, 6, 4, 7, 1, 3, 9, 2, 1, 0, 8, 7, 7, 1, 2, 3, 0, 6, 7, 7, 2, 4, 0, 4, 7, 6, 6, 1, 0, 1, 0, 9, 4, 3, 2, 0, 8, 5, 0, 6, 9, 0, 0, 7, 8, 0, 2, 6, 9, 8, 2, 6, 6, 9, 1, 7, 9, 9, 0, 3, 1, 1, 0, 6, 9, 9, 5, 6, 5, 0, 9, 7, 9, 4, 5, 4, 0, 0, 9, 8, 0, 5, 7, 8, 0, 0, 2, 0, 4, 2, 8, 0, 2, 0, 7, 4, 3, 6, 0, 3, 2, 5, 2, 4, 0, 8, 0, 2, 5, 6, 6, 0, 0, 3, 0, 6, 3, 3, 8, 0, 1, 3, 4, 2, 9, 3, 0, 3, 3, 8, 3, 3, 6, 2, 0, 8, 2, 0, 1, 8, 4, 4, 8, 4, 2, 0, 4, 0, 1, 9, 3, 0, 0, 3, 3, 2, 6, 8, 3, 0, 8, 4, 3, 2, 4, 6, 4, 2, 2, 3, 1, 0, 0, 0, 1, 2, 1, 4, 6, 7, 1, 0, 3, 6, 3, 8, 2, 5, 6, 7, 1, 1, 7, 6, 1, 0, 2, 9, 0, 2, 9, 2, 1, 2, 9, 8, 2, 1, 0, 1, 5, 2, 3, 6, 0, 0, 3, 2, 0, 4, 1, 3, 7, 0, 2, 3, 3, 2, 2, 9, 9, 0, 3, 1, 7, 3, 0, 1, 4, 7, 0, 0, 6, 0, 4, 8, 9, 0, 0, 1, 2, 0, 7, 3, 2, 0, 1, 3, 7, 0, 2, 4, 3, 1, 5, 3, 9, 7, 0, 0, 0, 8, 1, 3, 1, 3, 9, 0, 1, 2, 4, 0, 6, 9, 0, 1, 3, 3, 9, 5, 2, 3, 2, 3, 4, 1, 3, 9, 8, 7, 2, 8, 7, 2, 5, 2, 0, 8, 6, 0, 5, 0, 0, 7, 3, 3, 3, 5, 7, 6, 2, 0, 2, 7, 7, 3, 1, 5, 8, 6, 2, 0, 0, 3, 8, 5, 4, 0, 2, 5, 3, 0, 2, 4, 4, 6, 8, 2, 0, 5, 2, 0, 8, 2, 4, 4, 7, 9, 5, 7, 6, 6, 5, 0, 9, 0, 7, 4, 0, 1, 5, 1, 6, 3, 0, 0, 9, 5, 6, 9, 9, 9, 2, 3, 0, 8, 8, 5, 5, 4, 1, 1, 0, 0, 0, 0, 0, 4, 4, 6, 5, 3, 2, 9, 6, 3, 7, 0, 7, 4, 0, 8, 7, 2, 7, 7, 4, 4, 0, 3, 6, 0, 5, 3, 3, 2, 4, 9, 7, 0, 3, 0, 8, 8, 3, 3, 8, 0, 8, 2, 0, 0, 2, 2, 7, 0, 7, 4, 7, 3, 3, 0, 4, 0, 0, 7, 8, 3, 7, 6, 3, 1, 1, 6, 9, 3, 8, 9, 7, 8, 2, 1, 3, 0, 6, 5, 5, 4, 3, 3, 7, 2, 6, 3, 8, 8, 6, 3, 3, 1, 8, 2, 0, 4, 7, 9, 0, 2, 0, 9, 1, 8, 0, 6, 4, 1, 7, 1, 0, 8, 7, 4, 3, 4, 0, 1, 1, 2, 6, 1, 1, 1, 8, 8, 8, 8, 0, 4, 4, 3, 0, 3, 6, 6, 3, 1, 0, 4, 7, 8, 0, 1, 0, 8, 4, 6, 2, 2, 2, 6, 0, 4, 0, 8, 1, 7, 0, 3, 8, 1, 1, 6, 1, 0, 8, 3, 0, 0, 3, 4, 0, 0, 7, 6, 8, 9, 8, 6, 8, 0, 9, 5, 1, 1, 2, 7, 5, 2, 4, 0, 0, 2, 6, 6, 4, 4, 3, 3, 0, 9, 4, 5, 2, 5, 2, 2, 2, 3, 6, 2, 6, 4, 1, 6, 8, 3, 8, 5, 5, 2, 3, 4, 3, 2, 7, 3, 1, 5, 0, 7, 8, 8, 0, 3, 0, 8, 2, 0, 0, 8, 1, 0, 1, 3, 3, 1, 8, 9, 3, 4, 6, 9, 5, 6, 3, 9, 1, 4, 2, 9, 1, 3, 4, 5, 8, 3, 3, 0, 0, 9, 1, 0, 4, 0, 2, 1, 6, 3, 8, 2, 7, 3, 5, 3, 0, 7, 3, 2, 4, 6, 7, 0, 8, 3, 2, 0, 4, 9, 5, 0, 8, 8, 5, 8, 0, 7, 4, 4, 0, 0, 0, 8, 4, 0, 4, 0, 2, 6, 4, 0, 7, 3, 7, 0, 4, 3, 2, 0, 1, 1, 3, 8, 0, 1, 0, 6, 4, 3, 0, 9, 0, 6, 2, 2, 4, 1, 3, 7, 3, 1, 0, 4, 0, 0, 0, 0, 2, 0, 6, 4, 3, 0, 9, 0, 3, 2, 0, 5, 3, 2, 3, 0, 4, 5, 0, 2, 8, 3, 0, 8, 5, 8, 6, 3, 0, 4, 0, 2, 7, 2, 6, 1, 8, 2, 1, 4, 5, 2, 2, 3, 1, 5, 0, 2, 1, 6, 8, 0, 8, 3, 2, 7, 3, 7, 9, 8, 3, 6, 1, 5, 2, 6, 4, 5, 8, 0, 4, 0, 0, 0, 0, 0, 1, 8, 3, 7, 5, 8, 2, 9, 3, 8, 9, 3, 8, 9, 5, 4, 8, 9, 5, 5, 7, 2, 5, 8, 8, 1, 2, 3, 1, 3, 8, 2, 7, 0, 8, 0, 2, 1, 7, 0, 5, 6, 9, 3, 0, 3, 1, 1, 0, 7, 0, 3, 8, 1, 6, 0, 8, 0, 2, 6, 4, 6, 0, 1, 1, 7, 0, 6, 8, 9, 0, 0, 1, 0, 1, 1, 7, 0, 1, 3, 3, 3, 0, 3, 6, 0, 3, 8, 1, 8, 1, 3, 1, 3, 3, 5, 1, 8, 9, 1, 3, 1, 7, 2, 9, 8, 0, 0, 5, 0, 0, 0, 2, 4, 6, 3, 1, 1, 0, 8, 3, 6, 0, 3, 0, 6, 1, 0, 7, 1, 2, 3, 6, 5, 3, 8, 5, 1, 2, 0, 9, 4, 0, 0, 1, 4, 2, 3, 5, 9, 6, 3, 6, 2, 6, 8, 3, 0, 0, 2, 4, 2, 1, 2, 0, 6, 4, 4, 7, 6, 0, 6, 2, 0, 4, 6, 4, 4, 4, 6, 6, 0, 3, 3, 3, 3, 0, 5, 0, 3, 0, 4, 6, 7, 4, 8, 3, 2, 1, 0, 3, 4, 3, 5, 6, 8, 4, 0, 0, 4, 2, 0, 7, 7, 6, 6, 7, 3, 0, 8, 5, 9, 5, 2, 0, 4, 0, 3, 3, 9, 1, 3, 1, 1, 0, 7, 4, 4, 0, 2, 8, 1, 1, 8, 0, 8, 0, 7, 3, 0, 4, 3, 3, 1, 0, 3, 8, 8, 0, 1, 0, 7, 0, 1, 6, 1, 1, 3, 0, 7, 7, 1, 0, 1, 3, 0, 0, 2, 7, 1, 2, 3, 3, 6, 0, 3, 1, 0, 8, 0, 0, 8, 0, 9, 3, 3, 0, 4, 0, 8, 0, 6, 3, 3, 9, 8, 2, 2, 0, 3, 1, 1, 2, 8, 2, 6, 9, 6, 8, 0, 4, 1, 5, 0, 3, 0, 0, 0, 7, 1, 8, 3, 5, 9, 9, 0, 7, 7, 3, 2, 0, 3, 4, 3, 7, 4, 8, 7, 5, 2, 2, 2, 4, 0, 0, 3, 1, 3, 3, 6, 0, 0, 2, 3, 0, 0, 2, 4, 3, 5, 0, 0, 1, 0, 0, 0, 5, 0, 7, 0, 9, 6, 2, 3, 8, 8, 3, 1, 6, 6, 2, 1, 4, 4, 1, 2, 8, 0, 4, 3, 8, 2, 8, 3, 0, 5, 0, 3, 5, 1, 3, 0, 0, 0, 1, 3, 7, 6, 5, 4, 0, 6, 0, 0, 1, 7, 3, 1, 1, 2, 0, 6, 6, 7, 8, 4, 0, 9, 6, 2, 0, 2, 0, 8, 7, 7, 7, 0, 2, 7, 7, 8, 8, 2, 0, 0, 8, 1, 3, 2, 5, 7, 4, 6, 2, 3, 1, 0, 3, 3, 2, 2, 5, 1, 2, 3, 0, 7, 0, 3, 8, 4, 0, 1, 7, 3, 8, 2, 3, 8, 1, 3, 9, 2, 0, 7, 4, 4, 0, 0, 0, 3, 5, 4, 0, 8, 4, 9, 8, 7, 0, 3, 3, 3, 4, 4, 3, 4, 0, 8, 3, 5, 4, 5, 4, 2, 3, 7, 7, 4, 1, 4, 9, 3, 1, 6, 3, 5, 8, 5, 1, 7, 0, 1, 2, 7, 7, 0, 3, 3, 3, 7, 5, 3, 8, 1, 2, 6, 3, 6, 6, 8, 2, 6, 4, 8, 4, 1, 5, 1, 2, 3, 0, 0, 1, 6, 2, 2, 8, 2, 4, 3, 8, 4, 4, 4, 4, 1, 0, 5, 7, 6, 3, 4, 5, 6, 5, 6, 2, 4, 7, 5, 0, 6, 3, 0, 2, 3, 9, 1, 3, 8, 0, 7, 0, 6, 8, 1, 7, 8, 9, 1, 3, 4, 2, 3, 5, 5, 8, 6, 5, 0, 3, 0, 1, 3, 3, 7, 7, 4, 0, 4, 3, 9, 3, 1, 7, 6, 0, 4, 8, 4, 1, 5, 8, 6, 3, 3, 3, 3, 0, 3, 8, 7, 2, 9, 3, 8, 3, 4, 9, 0, 0, 3, 0, 6, 8, 0, 4, 7, 3, 6, 9, 2, 7, 0, 0, 3, 2, 1, 7, 5, 0, 7, 8, 3, 5, 3, 3, 8, 7, 0, 1, 6, 0, 0, 1, 3, 1, 1, 4, 0, 0, 1, 0, 2, 5, 8, 5, 9, 8, 2, 8, 0, 6, 6, 8, 6, 9, 3, 1, 1, 5, 3, 3, 0, 3, 6, 1, 4, 0, 1, 1, 8, 1, 1, 2, 0, 4, 0, 9, 5, 2, 7, 3, 5, 6, 9, 6, 9, 0, 8, 6, 0, 4, 0, 4, 5, 8, 0, 9, 0, 7, 8, 1, 3, 4, 8, 0, 2, 0, 0, 0, 8, 8, 2, 5, 0, 2, 3, 1, 0, 6, 1, 3, 0, 5, 2, 5, 0, 8, 9, 0, 0, 7, 9, 6, 5, 4, 6, 4, 8, 5, 1, 3, 7, 2, 8, 2, 0, 0, 0, 8, 1, 0, 7, 5, 0, 1, 2, 9, 2, 3, 2, 8, 1, 1, 5, 8, 9, 5, 1, 1, 6, 2, 7, 3, 6, 0, 4, 8, 6, 6, 8, 4, 9, 0, 0, 2, 8, 0, 9, 1, 2, 6, 0, 5, 6, 7, 2, 3, 9, 4, 5, 0, 2, 3, 5, 9, 8, 0, 1, 2, 7, 1, 3, 3, 6, 9, 1, 0, 7, 1, 9, 7, 8, 1, 9, 8, 0, 9, 8, 3, 3, 2, 6, 0, 3, 2, 4, 0, 8, 4, 8, 1, 0, 7, 0, 4, 1, 5, 6, 2, 3, 4, 6, 5, 4, 4, 5, 6, 0, 0, 3, 2, 6, 8, 6, 5, 0, 1, 0, 2, 1, 0, 0, 8, 0, 6, 6, 0, 5, 9, 8, 0, 0, 0, 8, 6, 0, 4, 7, 1, 7, 8, 0, 2, 0, 9, 3, 5, 5, 3, 1, 3, 0, 0, 2, 3, 2, 6, 0, 8, 4, 7, 6, 0, 6, 4, 1, 7, 0, 3, 0, 3, 0, 2, 9, 2, 3, 0, 3, 3, 7, 0, 7, 0, 1, 6, 4, 9, 0, 8, 7, 3, 6, 7, 1, 7, 3, 7, 3, 6, 8, 4, 9, 8, 4, 9, 2, 3, 4, 0, 2, 5, 6, 3, 5, 0, 0, 8, 5, 2, 0, 9, 5, 6, 3, 8, 3, 1, 8, 0, 2, 8, 4, 3, 3, 0, 4, 3, 0, 0, 0, 8, 0, 8, 4, 6, 0, 3, 0, 7, 1, 4, 6, 9, 1, 0, 1, 2, 7, 9, 3, 1, 5, 5, 0, 7, 2, 8, 8, 5, 0, 0, 7, 0, 0, 1, 2, 4, 0, 9, 2, 6, 3, 4, 0, 0, 0, 7, 3, 3, 5, 6, 3, 2, 7, 8, 0, 0, 0, 1, 3, 6, 0, 8, 0, 6, 0, 9, 1, 6, 3, 1, 0, 1, 3, 0, 4, 7, 9, 0, 3, 7, 5, 7, 1, 6, 6, 9, 8, 1, 4, 0, 0, 1, 7, 2, 1, 2, 1, 1, 3, 4, 6, 3, 0, 3, 2, 0, 6, 7, 3, 6, 6, 3, 2, 2, 0, 8, 3, 3, 0, 3, 0, 2, 2, 0, 6, 0, 3, 8, 3, 1, 1, 2, 2, 2, 2, 1, 0, 2, 4, 1, 3, 1, 1, 9, 2, 3, 1, 1, 9, 3, 4, 3, 0, 3, 3, 0, 7, 1, 7, 7, 0, 8, 6, 3, 5, 0, 1, 2, 2, 4, 8, 2, 3, 3, 5, 9, 8, 0, 3, 0, 0, 6, 3, 0, 9, 6, 2, 0, 8, 4, 1, 2, 6, 9, 1, 6, 3, 7, 1, 0, 0, 0, 6, 0, 8, 3, 8, 2, 0, 4, 0, 8, 3, 3, 1, 0, 3, 0, 6, 0, 4, 1, 5, 2, 0, 1, 3, 0, 1, 6, 1, 6, 1, 2, 3, 7, 0, 9, 3, 0, 4, 0, 1, 7, 9, 7, 1, 9, 2, 1, 1, 0, 3, 6, 0, 2, 0, 0, 9, 0, 0, 8, 0, 5, 3, 3, 0, 7, 8, 7, 5, 3, 0, 4, 6, 3, 7, 3, 2, 8, 3, 7, 9, 6, 7, 0, 4, 1, 8, 3, 1, 0, 3, 2, 8, 4, 0, 7, 0, 8, 1, 5, 6, 3, 5, 3, 6, 3, 3, 9, 8, 4, 2, 9, 0, 3, 9, 7, 8, 3, 9, 2, 2, 3, 3, 8, 8, 6, 7, 3, 0, 9, 1, 3, 3, 2, 3, 9, 9, 0, 5, 9, 9, 6, 8, 8, 0, 8, 1, 0, 1, 8, 8, 6, 3, 9, 0, 6, 1, 0, 6, 0, 0, 5, 6, 3, 3, 3, 3, 3, 9, 1, 4, 2, 3, 8, 3, 6, 0, 8, 5, 7, 0, 4, 2, 5, 5, 1, 8, 0, 0, 4, 4, 3, 3, 2, 3, 3, 2, 7, 7, 3, 0, 0, 5, 0, 6, 1, 1, 3, 9, 6, 6, 0, 7, 8, 8, 3, 0, 8, 7, 8, 1, 0, 3, 5, 3, 0, 7, 0, 7, 1, 8, 7, 3, 0, 4, 4, 5, 8, 6, 1, 8, 2, 3, 2, 2, 8, 9, 8, 3, 2, 1, 1, 0, 3, 5, 2, 0, 5, 4, 0, 0, 6, 3, 1, 6, 6, 0, 0, 7, 8, 3, 3, 3, 1, 0, 2, 9, 2, 8, 5, 5, 8, 7, 6, 0, 8, 2, 3, 1, 3, 3, 5, 7, 3, 0, 0, 3, 2, 4, 0, 0, 3, 8, 9, 6, 0, 6, 5, 3, 2, 7, 0, 4, 6, 9, 3, 8, 5, 7, 7, 8, 5, 2, 3, 3, 6, 2, 3, 3, 3, 8, 3, 5, 1, 3, 0, 0, 3, 1, 0, 4, 0, 2, 0, 7, 4, 9, 1, 4, 0, 0, 7, 8, 3, 5, 9, 6, 1, 6, 6, 4, 6, 3, 8, 8, 4, 4, 6, 8, 3, 8, 0, 3, 3, 2, 0, 8, 3, 0, 1, 1, 1, 1, 6, 8, 0, 1, 3, 0, 0, 4, 0, 5, 0, 6, 2, 0, 0, 8, 6, 8, 3, 8, 2, 9, 6, 0, 7, 1, 8, 2, 2, 3, 2, 6, 2, 2, 9, 2, 3, 4, 9, 8, 5, 3, 9, 1, 5, 4, 1, 8, 3, 8, 6, 2, 3, 1, 3, 4, 3, 1, 0, 2, 4, 8, 2, 1, 4, 3, 5, 9, 8, 7, 2, 3, 6, 1, 0, 3, 6, 1, 8, 8, 2, 3, 4, 4, 4, 5, 5, 4, 2, 0, 1, 0, 1, 0, 4, 3, 9, 0, 7, 0, 1, 0, 0, 1, 0, 4, 1, 0, 4, 8, 1, 0, 1, 5, 9, 8, 1, 6, 7, 0, 9, 9, 0, 8, 0, 1, 0, 7, 8, 8, 1, 6, 0, 0, 3, 1, 3, 8, 8, 8, 3, 6, 6, 0, 9, 0, 7, 6, 0, 8, 6, 0, 6, 3, 8, 6, 6, 9, 1, 0, 6, 0, 2, 5, 4, 3, 2, 1, 7, 8, 6, 3, 8, 7, 0, 8, 7, 6, 0, 7, 0, 3, 4, 9, 5, 6, 2, 1, 5, 4, 6, 8, 1, 9, 6, 7, 6, 3, 0, 0, 0, 1, 3, 8, 1, 7, 3, 0, 3, 3, 8, 1, 0, 6, 0, 8, 8, 6, 3, 7, 4, 0, 8, 3, 6, 0, 3, 7, 3, 1, 4, 1, 7, 5, 3, 7, 0, 3, 5, 2, 0, 2, 5, 6, 6, 5, 0, 0, 1, 5, 6, 0, 3, 1, 7, 4, 1, 2, 3, 4, 0, 3, 3, 8, 7, 6, 0, 4, 7, 3, 3, 8, 3, 3, 0, 4, 0, 3, 3, 3, 3, 9, 1, 7, 8, 3, 1, 1, 6, 0, 5, 7, 3, 7, 9, 6, 8, 6, 8, 2, 3, 9, 8, 4, 8, 5, 4, 3, 3, 8, 0, 4, 8, 6, 4, 2, 0, 1, 7, 2, 1, 0, 4, 2, 2, 8, 7, 0, 0, 0, 3, 7, 6, 8, 0, 0, 3, 5, 2, 9, 1, 7, 2, 2, 3, 7, 4, 3, 2, 2, 7, 0, 1, 3, 3, 2, 6, 0, 9, 0, 5, 4, 3, 6, 2, 3, 9, 7, 8, 0, 8, 1, 1, 4, 5, 3, 2, 0, 3, 6, 1, 2, 3, 0, 3, 0, 0, 7, 0, 6, 5, 0, 4, 8, 0, 2, 5, 5, 0, 0, 6, 7, 3, 0, 9, 9, 3, 1, 0, 0, 6, 3, 2, 9, 3, 6, 6, 3, 3, 1, 0, 1, 9, 2, 7, 4, 3, 0, 0, 7, 6, 4, 3, 0, 8, 0, 0, 0, 9, 6, 6, 3, 8, 7, 2, 1, 8, 1, 0, 2, 4, 8, 3, 2, 6, 4, 3, 0, 8, 0, 7, 2, 0, 4, 0, 0, 6, 4, 2, 0, 0, 4, 9, 7, 1, 8, 6, 3, 5, 9, 8, 5, 0, 8, 0, 1, 8, 0, 1, 6, 3, 1, 0, 3, 0, 7, 8, 4, 8, 1, 0, 6, 0, 0, 8, 2, 0, 4, 6, 7, 6, 0, 5, 8, 4, 1, 0, 0, 1, 0, 0, 8, 4, 9, 6, 0, 0, 7, 6, 8, 3, 0, 2, 0, 4, 9, 0, 9, 6, 9, 2, 3, 7, 0, 8, 0, 0, 3, 5, 0, 6, 0, 7, 1, 1, 4, 6, 7, 9, 8, 6, 9, 4, 1, 1, 0, 6, 1, 0, 0, 3, 6, 8, 2, 3, 0, 8, 8, 0, 6, 3, 5, 2, 8, 7, 8, 6, 5, 8, 4, 2, 5, 6, 0, 6, 3, 2, 4, 1, 0, 5, 8, 8, 9, 7, 0, 9, 0, 8, 1, 4, 4, 7, 5, 2, 2, 0, 2, 5, 6, 8, 0, 5, 8, 1, 0, 0, 9, 7, 0, 3, 8, 0, 5, 0, 5, 8, 2, 2, 0, 0, 7, 0, 4, 4, 9, 2, 2, 5, 3, 1, 0, 2, 0, 0, 4, 0, 6, 3, 8, 0, 3, 8, 6, 4, 8, 3, 3, 1, 7, 8, 7, 3, 0, 2, 1, 0, 1, 2, 0, 9, 6, 4, 0, 6, 2, 4, 1, 0, 0, 0, 8, 5, 0, 0, 3, 3, 3, 2, 7, 4, 3, 2, 5, 9, 0, 5, 1, 2, 8, 2, 7, 4, 8, 4, 0, 2, 3, 1, 0, 4, 1, 8, 8, 4, 1, 4, 4, 3, 3, 0, 3, 0, 1, 0, 8, 2, 4, 8, 5, 3, 0, 5, 7, 6, 6, 5, 4, 7, 3, 3, 3, 0, 1, 5, 3, 5, 0, 6, 0, 0, 3, 2, 5, 6, 3, 8, 0, 3, 6, 0, 2, 5, 0, 6, 7, 2, 0, 0, 2, 0, 4, 9, 8, 0, 9, 1, 1, 5, 0, 0, 8, 4, 0, 7, 6, 5, 4, 3, 3, 2, 4, 6, 6, 0, 1, 3, 9, 8, 3, 7, 8, 8, 0, 8, 0, 0, 1, 7, 1, 6, 7, 3, 3, 2, 0, 7, 9, 0, 0, 0, 0, 6, 3, 3, 1, 3, 3, 7, 0, 1, 8, 2, 2, 9, 2, 9, 8, 8, 6, 7, 3, 7, 1, 3, 9, 0, 9, 3, 6, 7, 0, 7, 3, 0, 3, 0, 7, 5, 5, 3, 6, 3, 1, 8, 2, 7, 0, 9, 0, 0, 2, 0, 8, 4, 3, 7, 8, 0, 0, 0, 9, 7, 8, 7, 9, 0, 5, 4, 0, 7, 7, 3, 3, 3, 2, 1, 2, 3, 6, 4, 9, 2, 7, 0, 7, 3, 3, 4, 3, 9, 7, 6, 7, 0, 6, 4, 3, 9, 4, 2, 1, 0, 6, 0, 3, 6, 7, 2, 7, 9, 0, 7, 4, 5, 0, 6, 1, 1, 3, 6, 8, 3, 1, 5, 8, 2, 1, 6, 1, 8, 5, 0, 6, 0, 9, 0, 6, 5, 8, 3, 3, 5, 6, 2, 1, 1, 3, 9, 8, 7, 1, 7, 4, 2, 4, 9, 7, 3, 2, 0, 9, 4, 3, 2, 1, 3, 8, 7, 9, 3, 0, 0, 7, 0, 2, 1, 7, 6, 0, 0, 0, 3, 8, 3, 6, 6, 9, 5, 7, 8, 0, 3, 0, 7, 0, 8, 5, 5, 9, 3, 2, 2, 6, 0, 1, 7, 2, 6, 3, 1, 3, 3, 0, 3, 5, 7, 0, 8, 0, 0, 2, 7, 7, 5, 4, 0, 1, 0, 0, 2, 3, 0, 1, 6, 1, 7, 0, 3, 0, 2, 9, 4, 7, 8, 3, 3, 0, 9, 4, 8, 0, 8, 2, 8, 5, 7, 7, 2, 2, 0, 0, 7, 7, 4, 1, 6, 6, 8, 8, 9, 0, 9, 0, 1, 0, 0, 0, 3, 2, 6, 0, 6, 3, 2, 0, 8, 3, 1, 0, 2, 0, 0, 8, 9, 0, 1, 9, 1, 2, 4, 5, 4, 2, 9, 3, 0, 0, 6, 6, 8, 0, 4, 7, 3, 6, 8, 8, 5, 4, 0, 2, 2, 9, 6, 4, 3, 4, 6, 0, 1, 7, 7, 3, 6, 4, 0, 9, 3, 0, 3, 9, 9, 0, 9, 7, 8, 2, 7, 6, 8, 7, 4, 5, 3, 0, 3, 5, 1, 7, 5, 0, 3, 4, 3, 7, 1, 5, 8, 1, 1, 3, 2, 7, 5, 4, 9, 7, 8, 1, 0, 2, 8, 3, 3, 7, 0, 0, 4, 8, 7, 2, 6, 6, 4, 0, 1, 8, 7, 6, 7, 9, 2, 2, 1, 4, 9, 1, 6, 7, 2, 3, 1, 7, 6, 3, 5, 2, 5, 3, 0, 8, 8, 1, 0, 3, 3, 3, 8, 7, 0, 3, 3, 8, 8, 3, 3, 0, 6, 5, 1, 1, 0, 3, 3, 0, 4, 8, 1, 7, 7, 7, 9, 4, 3, 6, 3, 2, 8, 3, 5, 3, 7, 0, 2, 1, 5, 9, 2, 0, 0, 3, 1, 0, 1, 8, 7, 0, 0, 4, 7, 4, 0, 4, 0, 7, 9, 8, 0, 0, 5, 8, 1, 3, 7, 9, 1, 8, 0, 3, 3, 7, 0, 8, 9, 2, 2, 3, 3, 2, 9, 7, 7, 6, 8, 7, 0, 1, 6, 5, 9, 1, 3, 3, 0, 0, 3, 0, 3, 0, 7, 3, 9, 5, 4, 7, 6, 5, 0, 3, 6, 1, 2, 3, 0, 0, 7, 8, 2, 4, 0, 9, 0, 9, 2, 0, 3, 0, 0, 3, 6, 6, 8, 8, 6, 0, 1, 0, 8, 6, 0, 5, 0, 5, 9, 1, 5, 7, 1, 6, 0, 1, 5, 0, 8, 1, 8, 3, 5, 1, 3, 1, 8, 5, 1, 9, 0, 5, 8, 4, 0, 3, 1, 2, 0, 4, 9, 3, 1, 2, 0, 7, 8, 7, 0, 4, 7, 3, 7, 0, 4, 1, 2, 9, 8, 0, 2, 0, 4, 0, 8, 2, 1, 4, 5, 1, 2, 7, 0, 6, 3, 6, 0, 1, 0, 8, 9, 0, 2, 9, 8, 2, 0, 9, 0, 0, 2, 2, 3, 3, 1, 0, 9, 8, 4, 3, 0, 0, 0, 3, 3, 0, 1, 4, 4, 8, 0, 7, 8, 1, 1, 0, 0, 1, 1, 1, 8, 1, 4, 4, 0, 7, 8, 2, 1, 2, 6, 2, 6, 8, 0, 1, 0, 4, 2, 9, 5, 8, 3, 0, 8, 0, 4, 1, 8, 4, 9, 5, 3, 1, 7, 7, 7, 7, 0, 3, 0, 2, 4, 0, 5, 7, 0, 8, 0, 0, 9, 3, 0, 3, 0, 8, 4, 2, 6, 3, 5, 6, 2, 9, 4, 8, 1, 7, 5, 3, 4, 5, 0, 7, 6, 1, 7, 3, 0, 0, 8, 0, 5, 0, 3, 4, 3, 0, 3, 5, 1, 7]\n"
     ]
    }
   ],
   "source": [
    "import numpy as np\n",
    "numpredicts=[i.argmax() for i in np.int32(predictions>0.5)]\n",
    "print(numpredicts)\n"
   ]
  },
  {
   "cell_type": "code",
   "execution_count": 22,
   "id": "9295af3a",
   "metadata": {},
   "outputs": [
    {
     "name": "stdout",
     "output_type": "stream",
     "text": [
      "              precision    recall  f1-score   support\n",
      "\n",
      "           0       0.39      0.79      0.52      1000\n",
      "           1       0.81      0.80      0.81      1000\n",
      "           2       0.61      0.58      0.59      1000\n",
      "           3       0.43      0.62      0.51      1000\n",
      "           4       0.72      0.56      0.63      1000\n",
      "           5       0.71      0.42      0.53      1000\n",
      "           6       0.84      0.71      0.77      1000\n",
      "           7       0.81      0.67      0.73      1000\n",
      "           8       0.79      0.77      0.78      1000\n",
      "           9       0.93      0.54      0.68      1000\n",
      "\n",
      "    accuracy                           0.65     10000\n",
      "   macro avg       0.70      0.65      0.65     10000\n",
      "weighted avg       0.70      0.65      0.65     10000\n",
      "\n"
     ]
    }
   ],
   "source": [
    "print(classification_report(y_test,numpredicts))"
   ]
  },
  {
   "cell_type": "markdown",
   "id": "00243e1c",
   "metadata": {},
   "source": [
    "                            DEEP LEARNINIG ON CUSTOM IMAGES"
   ]
  },
  {
   "cell_type": "code",
   "execution_count": 1,
   "id": "606ee443",
   "metadata": {},
   "outputs": [],
   "source": [
    "import matplotlib.pyplot as plt\n",
    "import cv2\n",
    "%matplotlib inline"
   ]
  },
  {
   "cell_type": "code",
   "execution_count": null,
   "id": "675f7ed9",
   "metadata": {},
   "outputs": [],
   "source": []
  },
  {
   "cell_type": "code",
   "execution_count": 4,
   "id": "38ab26cc",
   "metadata": {},
   "outputs": [],
   "source": [
    "import tensorflow as tf\n",
    "from keras import layers\n",
    "\n",
    "\n",
    "# Define the augmentation pipeline\n",
    "def augment_dataset(dataset):\n",
    "    # Define data augmentation as a keras Sequential block\n",
    "    data_augmentation = tf.keras.Sequential([\n",
    "        layers.Rescaling(1./255),                     # Equivalent to rescale=1/255\n",
    "        layers.RandomFlip(\"horizontal\"),              # Equivalent to horizontal_flip=True\n",
    "        layers.RandomRotation(0.0833),                # 30 degrees / 360 = ~0.0833\n",
    "        layers.RandomTranslation(0.1, 0.1),           # width/height_shift_range=0.1\n",
    "        layers.RandomZoom(0.2),                       # zoom_range=0.2\n",
    "        layers.RandomShear(0.2, fill_mode='nearest')  # shear_range=0.2 (requires TensorFlow 2.14+)\n",
    "    ])\n",
    "\n",
    "    # Apply the augmentation to the dataset using map()\n",
    "    return dataset.map(lambda x, y: (data_augmentation(x, training=True), y), \n",
    "                       num_parallel_calls=tf.data.AUTOTUNE)"
   ]
  },
  {
   "cell_type": "code",
   "execution_count": null,
   "id": "536d310c",
   "metadata": {},
   "outputs": [
    {
     "data": {
      "image/png": "[encoded data removed]",
      "text/plain": [
       "<Figure size 640x480 with 1 Axes>"
      ]
     },
     "metadata": {},
     "output_type": "display_data"
    }
   ],
   "source": [
    "# import matplotlib.pyplot as plt\n",
    "# %matplotlib inline\n",
    "# data_augmentation = tf.keras.Sequential([\n",
    "#     layers.Rescaling(1./255),                     # Equivalent to rescale=1/255\n",
    "#     layers.RandomFlip(\"horizontal\"),              # Equivalent to horizontal_flip=True\n",
    "#     layers.RandomRotation(0.0833),                # 30 degrees / 360 = ~0.0833\n",
    "#     layers.RandomTranslation(0.1, 0.1),           # width/height_shift_range=0.1\n",
    "#     layers.RandomZoom(0.2),                       # zoom_range=0.2\n",
    "#     layers.RandomShear(0.2, fill_mode='nearest')  # shear_range=0.2 (requires TensorFlow 2.14+)\n",
    "# ])\n",
    "# c=cv2.imread(r'D:\\zaynu\\Documents\\pythonfiles\\CV_mod\\cats_and_dgos\\CATS_DOGS\\train\\CAT\\1.jpg')\n",
    "# c=cv2.cvtColor(c,cv2.COLOR_BGR2RGB)\n",
    "# plt.imshow(data_augmentation(c))\n",
    "# plt.show()"
   ]
  },
  {
   "cell_type": "code",
   "execution_count": null,
   "id": "aeff7d27",
   "metadata": {},
   "outputs": [],
   "source": [
    "# import matplotlib.pyplot as plt\n",
    "# import cv2\n",
    "# %matplotlib inline\n",
    "# train_ds = tf.keras.utils.image_dataset_from_directory(\n",
    "#     r\"D:\\zaynu\\Documents\\pythonfiles\\CV_mod\\cats_and_dgos\\CATS_DOGS\\train\",\n",
    "#     image_size=(224, 224),\n",
    "#     batch_size=32\n",
    "# )"
   ]
  },
  {
   "cell_type": "code",
   "execution_count": null,
   "id": "8adb5417",
   "metadata": {},
   "outputs": [],
   "source": [
    "import tensorflow as tf\n",
    "from keras import layers\n",
    "\n",
    "\n",
    "# Define the augmentation pipeline\n",
    "def augment_dataset(dataset):\n",
    "    # Define data augmentation as a keras Sequential block\n",
    "    data_augmentation = tf.keras.Sequential([\n",
    "        layers.Rescaling(1./255),                     # Equivalent to rescale=1/255\n",
    "        layers.RandomFlip(\"horizontal\"),              # Equivalent to horizontal_flip=True\n",
    "        layers.RandomRotation(0.0833),                # 30 degrees / 360 = ~0.0833\n",
    "        layers.RandomTranslation(0.1, 0.1),           # width/height_shift_range=0.1\n",
    "        layers.RandomZoom(0.2),                       # zoom_range=0.2\n",
    "        layers.RandomShear(0.2, fill_mode='nearest')  # shear_range=0.2 (requires TensorFlow 2.14+)\n",
    "    ])\n",
    "\n",
    "    # Apply the augmentation to the dataset using map()\n",
    "    return dataset.map(lambda x, y: (data_augmentation(x, training=True), y), \n",
    "                       num_parallel_calls=tf.data.AUTOTUNE)\n",
    "    \n",
    "    \n",
    "train_ds = tf.keras.utils.image_dataset_from_directory(\n",
    "    \"path_to_train\",\n",
    "    image_size=(224, 224),\n",
    "    batch_size=32\n",
    ")\n",
    "\n",
    "train_ds = augment_dataset(train_ds)"
   ]
  },
  {
   "cell_type": "code",
   "execution_count": 1,
   "id": "e8f1098d",
   "metadata": {},
   "outputs": [],
   "source": [
    "from keras import Sequential\n",
    "from keras.layers import Conv2D,Dense,MaxPooling2D,Flatten,Dropout,Input,Activation"
   ]
  },
  {
   "cell_type": "code",
   "execution_count": 2,
   "id": "312af329",
   "metadata": {},
   "outputs": [],
   "source": [
    "model=Sequential()\n",
    "model.add(Input(shape=(150,150,3)))\n",
    "model.add(Conv2D(filters=32,kernel_size=(3,3),activation='relu'))\n",
    "model.add(MaxPooling2D(pool_size=(2,2)))\n",
    "\n",
    "\n",
    "model.add(Conv2D(filters=64,kernel_size=(3,3),activation='relu'))\n",
    "model.add(MaxPooling2D(pool_size=(2,2)))\n",
    "\n",
    "model.add(Conv2D(filters=64,kernel_size=(3,3),activation='relu'))\n",
    "model.add(MaxPooling2D(pool_size=(2,2)))\n",
    "\n",
    "model.add(Flatten())\n",
    "\n",
    "model.add(Dense(128))\n",
    "model.add(Activation('relu'))\n",
    "\n",
    "model.add(Dropout(0.5))\n",
    "\n",
    "model.add(Dense(1))\n",
    "model.add(Activation('sigmoid'))\n",
    "\n",
    "model.compile(loss='binary_crossentropy',optimizer='adam',metrics=['accuracy'])"
   ]
  },
  {
   "cell_type": "code",
   "execution_count": 3,
   "id": "67f4537d",
   "metadata": {},
   "outputs": [
    {
     "data": {
      "text/html": [
       "<pre style=\"white-space:pre;overflow-x:auto;line-height:normal;font-family:Menlo,'DejaVu Sans Mono',consolas,'Courier New',monospace\"><span style=\"font-weight: bold\">Model: \"sequential\"</span>\n",
       "</pre>\n"
      ],
      "text/plain": [
       "\u001b[1mModel: \"sequential\"\u001b[0m\n"
      ]
     },
     "metadata": {},
     "output_type": "display_data"
    },
    {
     "data": {
      "text/html": [
       "<pre style=\"white-space:pre;overflow-x:auto;line-height:normal;font-family:Menlo,'DejaVu Sans Mono',consolas,'Courier New',monospace\">┏━━━━━━━━━━━━━━━━━━━━━━━━━━━━━━━━━┳━━━━━━━━━━━━━━━━━━━━━━━━┳━━━━━━━━━━━━━━━┓\n",
       "┃<span style=\"font-weight: bold\"> Layer (type)                    </span>┃<span style=\"font-weight: bold\"> Output Shape           </span>┃<span style=\"font-weight: bold\">       Param # </span>┃\n",
       "┡━━━━━━━━━━━━━━━━━━━━━━━━━━━━━━━━━╇━━━━━━━━━━━━━━━━━━━━━━━━╇━━━━━━━━━━━━━━━┩\n",
       "│ conv2d (<span style=\"color: #0087ff; text-decoration-color: #0087ff\">Conv2D</span>)                 │ (<span style=\"color: #00d7ff; text-decoration-color: #00d7ff\">None</span>, <span style=\"color: #00af00; text-decoration-color: #00af00\">148</span>, <span style=\"color: #00af00; text-decoration-color: #00af00\">148</span>, <span style=\"color: #00af00; text-decoration-color: #00af00\">32</span>)   │           <span style=\"color: #00af00; text-decoration-color: #00af00\">896</span> │\n",
       "├─────────────────────────────────┼────────────────────────┼───────────────┤\n",
       "│ max_pooling2d (<span style=\"color: #0087ff; text-decoration-color: #0087ff\">MaxPooling2D</span>)    │ (<span style=\"color: #00d7ff; text-decoration-color: #00d7ff\">None</span>, <span style=\"color: #00af00; text-decoration-color: #00af00\">74</span>, <span style=\"color: #00af00; text-decoration-color: #00af00\">74</span>, <span style=\"color: #00af00; text-decoration-color: #00af00\">32</span>)     │             <span style=\"color: #00af00; text-decoration-color: #00af00\">0</span> │\n",
       "├─────────────────────────────────┼────────────────────────┼───────────────┤\n",
       "│ conv2d_1 (<span style=\"color: #0087ff; text-decoration-color: #0087ff\">Conv2D</span>)               │ (<span style=\"color: #00d7ff; text-decoration-color: #00d7ff\">None</span>, <span style=\"color: #00af00; text-decoration-color: #00af00\">72</span>, <span style=\"color: #00af00; text-decoration-color: #00af00\">72</span>, <span style=\"color: #00af00; text-decoration-color: #00af00\">64</span>)     │        <span style=\"color: #00af00; text-decoration-color: #00af00\">18,496</span> │\n",
       "├─────────────────────────────────┼────────────────────────┼───────────────┤\n",
       "│ max_pooling2d_1 (<span style=\"color: #0087ff; text-decoration-color: #0087ff\">MaxPooling2D</span>)  │ (<span style=\"color: #00d7ff; text-decoration-color: #00d7ff\">None</span>, <span style=\"color: #00af00; text-decoration-color: #00af00\">36</span>, <span style=\"color: #00af00; text-decoration-color: #00af00\">36</span>, <span style=\"color: #00af00; text-decoration-color: #00af00\">64</span>)     │             <span style=\"color: #00af00; text-decoration-color: #00af00\">0</span> │\n",
       "├─────────────────────────────────┼────────────────────────┼───────────────┤\n",
       "│ conv2d_2 (<span style=\"color: #0087ff; text-decoration-color: #0087ff\">Conv2D</span>)               │ (<span style=\"color: #00d7ff; text-decoration-color: #00d7ff\">None</span>, <span style=\"color: #00af00; text-decoration-color: #00af00\">34</span>, <span style=\"color: #00af00; text-decoration-color: #00af00\">34</span>, <span style=\"color: #00af00; text-decoration-color: #00af00\">64</span>)     │        <span style=\"color: #00af00; text-decoration-color: #00af00\">36,928</span> │\n",
       "├─────────────────────────────────┼────────────────────────┼───────────────┤\n",
       "│ max_pooling2d_2 (<span style=\"color: #0087ff; text-decoration-color: #0087ff\">MaxPooling2D</span>)  │ (<span style=\"color: #00d7ff; text-decoration-color: #00d7ff\">None</span>, <span style=\"color: #00af00; text-decoration-color: #00af00\">17</span>, <span style=\"color: #00af00; text-decoration-color: #00af00\">17</span>, <span style=\"color: #00af00; text-decoration-color: #00af00\">64</span>)     │             <span style=\"color: #00af00; text-decoration-color: #00af00\">0</span> │\n",
       "├─────────────────────────────────┼────────────────────────┼───────────────┤\n",
       "│ flatten (<span style=\"color: #0087ff; text-decoration-color: #0087ff\">Flatten</span>)               │ (<span style=\"color: #00d7ff; text-decoration-color: #00d7ff\">None</span>, <span style=\"color: #00af00; text-decoration-color: #00af00\">18496</span>)          │             <span style=\"color: #00af00; text-decoration-color: #00af00\">0</span> │\n",
       "├─────────────────────────────────┼────────────────────────┼───────────────┤\n",
       "│ dense (<span style=\"color: #0087ff; text-decoration-color: #0087ff\">Dense</span>)                   │ (<span style=\"color: #00d7ff; text-decoration-color: #00d7ff\">None</span>, <span style=\"color: #00af00; text-decoration-color: #00af00\">128</span>)            │     <span style=\"color: #00af00; text-decoration-color: #00af00\">2,367,616</span> │\n",
       "├─────────────────────────────────┼────────────────────────┼───────────────┤\n",
       "│ activation (<span style=\"color: #0087ff; text-decoration-color: #0087ff\">Activation</span>)         │ (<span style=\"color: #00d7ff; text-decoration-color: #00d7ff\">None</span>, <span style=\"color: #00af00; text-decoration-color: #00af00\">128</span>)            │             <span style=\"color: #00af00; text-decoration-color: #00af00\">0</span> │\n",
       "├─────────────────────────────────┼────────────────────────┼───────────────┤\n",
       "│ dropout (<span style=\"color: #0087ff; text-decoration-color: #0087ff\">Dropout</span>)               │ (<span style=\"color: #00d7ff; text-decoration-color: #00d7ff\">None</span>, <span style=\"color: #00af00; text-decoration-color: #00af00\">128</span>)            │             <span style=\"color: #00af00; text-decoration-color: #00af00\">0</span> │\n",
       "├─────────────────────────────────┼────────────────────────┼───────────────┤\n",
       "│ dense_1 (<span style=\"color: #0087ff; text-decoration-color: #0087ff\">Dense</span>)                 │ (<span style=\"color: #00d7ff; text-decoration-color: #00d7ff\">None</span>, <span style=\"color: #00af00; text-decoration-color: #00af00\">1</span>)              │           <span style=\"color: #00af00; text-decoration-color: #00af00\">129</span> │\n",
       "├─────────────────────────────────┼────────────────────────┼───────────────┤\n",
       "│ activation_1 (<span style=\"color: #0087ff; text-decoration-color: #0087ff\">Activation</span>)       │ (<span style=\"color: #00d7ff; text-decoration-color: #00d7ff\">None</span>, <span style=\"color: #00af00; text-decoration-color: #00af00\">1</span>)              │             <span style=\"color: #00af00; text-decoration-color: #00af00\">0</span> │\n",
       "└─────────────────────────────────┴────────────────────────┴───────────────┘\n",
       "</pre>\n"
      ],
      "text/plain": [
       "┏━━━━━━━━━━━━━━━━━━━━━━━━━━━━━━━━━┳━━━━━━━━━━━━━━━━━━━━━━━━┳━━━━━━━━━━━━━━━┓\n",
       "┃\u001b[1m \u001b[0m\u001b[1mLayer (type)                   \u001b[0m\u001b[1m \u001b[0m┃\u001b[1m \u001b[0m\u001b[1mOutput Shape          \u001b[0m\u001b[1m \u001b[0m┃\u001b[1m \u001b[0m\u001b[1m      Param #\u001b[0m\u001b[1m \u001b[0m┃\n",
       "┡━━━━━━━━━━━━━━━━━━━━━━━━━━━━━━━━━╇━━━━━━━━━━━━━━━━━━━━━━━━╇━━━━━━━━━━━━━━━┩\n",
       "│ conv2d (\u001b[38;5;33mConv2D\u001b[0m)                 │ (\u001b[38;5;45mNone\u001b[0m, \u001b[38;5;34m148\u001b[0m, \u001b[38;5;34m148\u001b[0m, \u001b[38;5;34m32\u001b[0m)   │           \u001b[38;5;34m896\u001b[0m │\n",
       "├─────────────────────────────────┼────────────────────────┼───────────────┤\n",
       "│ max_pooling2d (\u001b[38;5;33mMaxPooling2D\u001b[0m)    │ (\u001b[38;5;45mNone\u001b[0m, \u001b[38;5;34m74\u001b[0m, \u001b[38;5;34m74\u001b[0m, \u001b[38;5;34m32\u001b[0m)     │             \u001b[38;5;34m0\u001b[0m │\n",
       "├─────────────────────────────────┼────────────────────────┼───────────────┤\n",
       "│ conv2d_1 (\u001b[38;5;33mConv2D\u001b[0m)               │ (\u001b[38;5;45mNone\u001b[0m, \u001b[38;5;34m72\u001b[0m, \u001b[38;5;34m72\u001b[0m, \u001b[38;5;34m64\u001b[0m)     │        \u001b[38;5;34m18,496\u001b[0m │\n",
       "├─────────────────────────────────┼────────────────────────┼───────────────┤\n",
       "│ max_pooling2d_1 (\u001b[38;5;33mMaxPooling2D\u001b[0m)  │ (\u001b[38;5;45mNone\u001b[0m, \u001b[38;5;34m36\u001b[0m, \u001b[38;5;34m36\u001b[0m, \u001b[38;5;34m64\u001b[0m)     │             \u001b[38;5;34m0\u001b[0m │\n",
       "├─────────────────────────────────┼────────────────────────┼───────────────┤\n",
       "│ conv2d_2 (\u001b[38;5;33mConv2D\u001b[0m)               │ (\u001b[38;5;45mNone\u001b[0m, \u001b[38;5;34m34\u001b[0m, \u001b[38;5;34m34\u001b[0m, \u001b[38;5;34m64\u001b[0m)     │        \u001b[38;5;34m36,928\u001b[0m │\n",
       "├─────────────────────────────────┼────────────────────────┼───────────────┤\n",
       "│ max_pooling2d_2 (\u001b[38;5;33mMaxPooling2D\u001b[0m)  │ (\u001b[38;5;45mNone\u001b[0m, \u001b[38;5;34m17\u001b[0m, \u001b[38;5;34m17\u001b[0m, \u001b[38;5;34m64\u001b[0m)     │             \u001b[38;5;34m0\u001b[0m │\n",
       "├─────────────────────────────────┼────────────────────────┼───────────────┤\n",
       "│ flatten (\u001b[38;5;33mFlatten\u001b[0m)               │ (\u001b[38;5;45mNone\u001b[0m, \u001b[38;5;34m18496\u001b[0m)          │             \u001b[38;5;34m0\u001b[0m │\n",
       "├─────────────────────────────────┼────────────────────────┼───────────────┤\n",
       "│ dense (\u001b[38;5;33mDense\u001b[0m)                   │ (\u001b[38;5;45mNone\u001b[0m, \u001b[38;5;34m128\u001b[0m)            │     \u001b[38;5;34m2,367,616\u001b[0m │\n",
       "├─────────────────────────────────┼────────────────────────┼───────────────┤\n",
       "│ activation (\u001b[38;5;33mActivation\u001b[0m)         │ (\u001b[38;5;45mNone\u001b[0m, \u001b[38;5;34m128\u001b[0m)            │             \u001b[38;5;34m0\u001b[0m │\n",
       "├─────────────────────────────────┼────────────────────────┼───────────────┤\n",
       "│ dropout (\u001b[38;5;33mDropout\u001b[0m)               │ (\u001b[38;5;45mNone\u001b[0m, \u001b[38;5;34m128\u001b[0m)            │             \u001b[38;5;34m0\u001b[0m │\n",
       "├─────────────────────────────────┼────────────────────────┼───────────────┤\n",
       "│ dense_1 (\u001b[38;5;33mDense\u001b[0m)                 │ (\u001b[38;5;45mNone\u001b[0m, \u001b[38;5;34m1\u001b[0m)              │           \u001b[38;5;34m129\u001b[0m │\n",
       "├─────────────────────────────────┼────────────────────────┼───────────────┤\n",
       "│ activation_1 (\u001b[38;5;33mActivation\u001b[0m)       │ (\u001b[38;5;45mNone\u001b[0m, \u001b[38;5;34m1\u001b[0m)              │             \u001b[38;5;34m0\u001b[0m │\n",
       "└─────────────────────────────────┴────────────────────────┴───────────────┘\n"
      ]
     },
     "metadata": {},
     "output_type": "display_data"
    },
    {
     "data": {
      "text/html": [
       "<pre style=\"white-space:pre;overflow-x:auto;line-height:normal;font-family:Menlo,'DejaVu Sans Mono',consolas,'Courier New',monospace\"><span style=\"font-weight: bold\"> Total params: </span><span style=\"color: #00af00; text-decoration-color: #00af00\">2,424,065</span> (9.25 MB)\n",
       "</pre>\n"
      ],
      "text/plain": [
       "\u001b[1m Total params: \u001b[0m\u001b[38;5;34m2,424,065\u001b[0m (9.25 MB)\n"
      ]
     },
     "metadata": {},
     "output_type": "display_data"
    },
    {
     "data": {
      "text/html": [
       "<pre style=\"white-space:pre;overflow-x:auto;line-height:normal;font-family:Menlo,'DejaVu Sans Mono',consolas,'Courier New',monospace\"><span style=\"font-weight: bold\"> Trainable params: </span><span style=\"color: #00af00; text-decoration-color: #00af00\">2,424,065</span> (9.25 MB)\n",
       "</pre>\n"
      ],
      "text/plain": [
       "\u001b[1m Trainable params: \u001b[0m\u001b[38;5;34m2,424,065\u001b[0m (9.25 MB)\n"
      ]
     },
     "metadata": {},
     "output_type": "display_data"
    },
    {
     "data": {
      "text/html": [
       "<pre style=\"white-space:pre;overflow-x:auto;line-height:normal;font-family:Menlo,'DejaVu Sans Mono',consolas,'Courier New',monospace\"><span style=\"font-weight: bold\"> Non-trainable params: </span><span style=\"color: #00af00; text-decoration-color: #00af00\">0</span> (0.00 B)\n",
       "</pre>\n"
      ],
      "text/plain": [
       "\u001b[1m Non-trainable params: \u001b[0m\u001b[38;5;34m0\u001b[0m (0.00 B)\n"
      ]
     },
     "metadata": {},
     "output_type": "display_data"
    }
   ],
   "source": [
    "model.summary()"
   ]
  },
  {
   "cell_type": "code",
   "execution_count": 4,
   "id": "702e0680",
   "metadata": {},
   "outputs": [
    {
     "name": "stdout",
     "output_type": "stream",
     "text": [
      "Found 18743 files belonging to 2 classes.\n",
      "Found 6251 files belonging to 2 classes.\n",
      "Epoch 1/15\n",
      "\u001b[1m150/150\u001b[0m \u001b[32m━━━━━━━━━━━━━━━━━━━━\u001b[0m\u001b[37m\u001b[0m \u001b[1m24s\u001b[0m 137ms/step - accuracy: 0.5212 - loss: 0.7065 - val_accuracy: 0.5156 - val_loss: 0.6913\n",
      "Epoch 2/15\n",
      "\u001b[1m150/150\u001b[0m \u001b[32m━━━━━━━━━━━━━━━━━━━━\u001b[0m\u001b[37m\u001b[0m \u001b[1m20s\u001b[0m 134ms/step - accuracy: 0.5124 - loss: 0.6932 - val_accuracy: 0.5104 - val_loss: 0.8370\n",
      "Epoch 3/15\n",
      "\u001b[1m150/150\u001b[0m \u001b[32m━━━━━━━━━━━━━━━━━━━━\u001b[0m\u001b[37m\u001b[0m \u001b[1m21s\u001b[0m 138ms/step - accuracy: 0.5075 - loss: 0.6907 - val_accuracy: 0.4896 - val_loss: 0.6962\n",
      "Epoch 4/15\n",
      "\u001b[1m 16/150\u001b[0m \u001b[32m━━\u001b[0m\u001b[37m━━━━━━━━━━━━━━━━━━\u001b[0m \u001b[1m20s\u001b[0m 153ms/step - accuracy: 0.5539 - loss: 0.6855"
     ]
    },
    {
     "ename": "InvalidArgumentError",
     "evalue": "Graph execution error:\n\nDetected at node decode_image/DecodeImage defined at (most recent call last):\n<stack traces unavailable>\nInput size should match (header_size + row_size * abs_height) but they differ by 2\n\t [[{{node decode_image/DecodeImage}}]]\n\t [[IteratorGetNext]] [Op:__inference_multi_step_on_iterator_2761]",
     "output_type": "error",
     "traceback": [
      "\u001b[1;31m---------------------------------------------------------------------------\u001b[0m",
      "\u001b[1;31mInvalidArgumentError\u001b[0m                      Traceback (most recent call last)",
      "Cell \u001b[1;32mIn[4], line 45\u001b[0m\n\u001b[0;32m     42\u001b[0m train_image_gen \u001b[38;5;241m=\u001b[39m train_image_gen\u001b[38;5;241m.\u001b[39mprefetch(buffer_size\u001b[38;5;241m=\u001b[39mtf\u001b[38;5;241m.\u001b[39mdata\u001b[38;5;241m.\u001b[39mAUTOTUNE)\n\u001b[0;32m     43\u001b[0m test_image_gen \u001b[38;5;241m=\u001b[39m test_image_gen\u001b[38;5;241m.\u001b[39mprefetch(buffer_size\u001b[38;5;241m=\u001b[39mtf\u001b[38;5;241m.\u001b[39mdata\u001b[38;5;241m.\u001b[39mAUTOTUNE)\n\u001b[1;32m---> 45\u001b[0m results\u001b[38;5;241m=\u001b[39mmodel\u001b[38;5;241m.\u001b[39mfit(\n\u001b[0;32m     46\u001b[0m train_image_gen,epochs\u001b[38;5;241m=\u001b[39m\u001b[38;5;241m15\u001b[39m,steps_per_epoch\u001b[38;5;241m=\u001b[39m\u001b[38;5;241m150\u001b[39m,validation_data\u001b[38;5;241m=\u001b[39mtest_image_gen,validation_steps\u001b[38;5;241m=\u001b[39m\u001b[38;5;241m12\u001b[39m)\n",
      "File \u001b[1;32mc:\\Users\\zaynu\\anaconda3\\Lib\\site-packages\\keras\\src\\utils\\traceback_utils.py:122\u001b[0m, in \u001b[0;36mfilter_traceback.<locals>.error_handler\u001b[1;34m(*args, **kwargs)\u001b[0m\n\u001b[0;32m    119\u001b[0m     filtered_tb \u001b[38;5;241m=\u001b[39m _process_traceback_frames(e\u001b[38;5;241m.\u001b[39m__traceback__)\n\u001b[0;32m    120\u001b[0m     \u001b[38;5;66;03m# To get the full stack trace, call:\u001b[39;00m\n\u001b[0;32m    121\u001b[0m     \u001b[38;5;66;03m# `keras.config.disable_traceback_filtering()`\u001b[39;00m\n\u001b[1;32m--> 122\u001b[0m     \u001b[38;5;28;01mraise\u001b[39;00m e\u001b[38;5;241m.\u001b[39mwith_traceback(filtered_tb) \u001b[38;5;28;01mfrom\u001b[39;00m \u001b[38;5;28;01mNone\u001b[39;00m\n\u001b[0;32m    123\u001b[0m \u001b[38;5;28;01mfinally\u001b[39;00m:\n\u001b[0;32m    124\u001b[0m     \u001b[38;5;28;01mdel\u001b[39;00m filtered_tb\n",
      "File \u001b[1;32mc:\\Users\\zaynu\\anaconda3\\Lib\\site-packages\\tensorflow\\python\\eager\\execute.py:53\u001b[0m, in \u001b[0;36mquick_execute\u001b[1;34m(op_name, num_outputs, inputs, attrs, ctx, name)\u001b[0m\n\u001b[0;32m     51\u001b[0m \u001b[38;5;28;01mtry\u001b[39;00m:\n\u001b[0;32m     52\u001b[0m   ctx\u001b[38;5;241m.\u001b[39mensure_initialized()\n\u001b[1;32m---> 53\u001b[0m   tensors \u001b[38;5;241m=\u001b[39m pywrap_tfe\u001b[38;5;241m.\u001b[39mTFE_Py_Execute(ctx\u001b[38;5;241m.\u001b[39m_handle, device_name, op_name,\n\u001b[0;32m     54\u001b[0m                                       inputs, attrs, num_outputs)\n\u001b[0;32m     55\u001b[0m \u001b[38;5;28;01mexcept\u001b[39;00m core\u001b[38;5;241m.\u001b[39m_NotOkStatusException \u001b[38;5;28;01mas\u001b[39;00m e:\n\u001b[0;32m     56\u001b[0m   \u001b[38;5;28;01mif\u001b[39;00m name \u001b[38;5;129;01mis\u001b[39;00m \u001b[38;5;129;01mnot\u001b[39;00m \u001b[38;5;28;01mNone\u001b[39;00m:\n",
      "\u001b[1;31mInvalidArgumentError\u001b[0m: Graph execution error:\n\nDetected at node decode_image/DecodeImage defined at (most recent call last):\n<stack traces unavailable>\nInput size should match (header_size + row_size * abs_height) but they differ by 2\n\t [[{{node decode_image/DecodeImage}}]]\n\t [[IteratorGetNext]] [Op:__inference_multi_step_on_iterator_2761]"
     ]
    }
   ],
   "source": [
    "batchsize=16\n",
    "import tensorflow as tf\n",
    "from keras import layers\n",
    "\n",
    "\n",
    "# Define the augmentation pipeline\n",
    "def augment_dataset(dataset):\n",
    "    # Define data augmentation as a keras Sequential block\n",
    "    data_augmentation = tf.keras.Sequential([\n",
    "        layers.Rescaling(1./255),                     # Equivalent to rescale=1/255\n",
    "        layers.RandomFlip(\"horizontal\"),              # Equivalent to horizontal_flip=True\n",
    "        layers.RandomRotation(0.0833),                # 30 degrees / 360 = ~0.0833\n",
    "        layers.RandomTranslation(0.1, 0.1),           # width/height_shift_range=0.1\n",
    "        layers.RandomZoom(0.2),                       # zoom_range=0.2\n",
    "        layers.RandomShear(0.2, fill_mode='nearest')  # shear_range=0.2 (requires TensorFlow 2.14+)\n",
    "    ])\n",
    "\n",
    "    # Apply the augmentation to the dataset using map()\n",
    "    return dataset.map(lambda x, y: (data_augmentation(x, training=True), y), \n",
    "                       num_parallel_calls=tf.data.AUTOTUNE)\n",
    "    \n",
    "    \n",
    "train_image_gen = tf.keras.utils.image_dataset_from_directory(\n",
    "    r\"D:\\zaynu\\Documents\\pythonfiles\\CV_mod\\cats_and_dgos\\CATS_DOGS\\train\",\n",
    "    label_mode='binary',\n",
    "    image_size=(150,150,3)[:2],\n",
    "    \n",
    "    batch_size=batchsize,\n",
    ")\n",
    "\n",
    "train_image_gen = augment_dataset(train_image_gen)\n",
    "\n",
    "test_image_gen = tf.keras.utils.image_dataset_from_directory(\n",
    "    r\"D:\\zaynu\\Documents\\pythonfiles\\CV_mod\\cats_and_dgos\\CATS_DOGS\\test\",\n",
    "    label_mode='binary',\n",
    "    image_size=(150,150,3)[:2],\n",
    "    batch_size=batchsize,\n",
    ")\n",
    "\n",
    "# test_image_gen = augment_dataset(test_image_gen)\n",
    "\n",
    "train_image_gen = train_image_gen.prefetch(buffer_size=tf.data.AUTOTUNE)\n",
    "test_image_gen = test_image_gen.prefetch(buffer_size=tf.data.AUTOTUNE)\n",
    "\n",
    "results=model.fit(\n",
    "train_image_gen,epochs=15,steps_per_epoch=150,validation_data=test_image_gen,validation_steps=12)\n"
   ]
  },
  {
   "cell_type": "code",
   "execution_count": null,
   "id": "440391d8",
   "metadata": {},
   "outputs": [
    {
     "name": "stdout",
     "output_type": "stream",
     "text": [
      "Found 6251 files belonging to 2 classes.\n"
     ]
    },
    {
     "ename": "",
     "evalue": "",
     "output_type": "error",
     "traceback": [
      "\u001b[1;31mThe Kernel crashed while executing code in the current cell or a previous cell. \n",
      "\u001b[1;31mPlease review the code in the cell(s) to identify a possible cause of the failure. \n",
      "\u001b[1;31mClick <a href='https://aka.ms/vscodeJupyterKernelCrash'>here</a> for more info. \n",
      "\u001b[1;31mView Jupyter <a href='command:jupyter.viewOutput'>log</a> for further details."
     ]
    }
   ],
   "source": [
    "test_image_gen = tf.keras.utils.image_dataset_from_directory(\n",
    "    r\"D:\\zaynu\\Documents\\pythonfiles\\CV_mod\\cats_and_dgos\\CATS_DOGS\\test\",\n",
    "    label_mode='binary',\n",
    "    image_size=(150,150,3)[:2],\n",
    "    batch_size=batchsize,\n",
    ")\n",
    "\n",
    "test_image_gen = augment_dataset(test_image_gen)\n",
    "\n",
    "results=model.fit(\n",
    "train_image_gen,epochs=15,steps_per_epoch=150,validation_data=test_image_gen,validation_steps=12)"
   ]
  },
  {
   "cell_type": "code",
   "execution_count": null,
   "id": "bdbb74e2",
   "metadata": {},
   "outputs": [
    {
     "name": "stdout",
     "output_type": "stream",
     "text": [
      "Epoch 1/15\n",
      "\u001b[1m150/150\u001b[0m \u001b[32m━━━━━━━━━━━━━━━━━━━━\u001b[0m\u001b[37m\u001b[0m \u001b[1m0s\u001b[0m 131ms/step - accuracy: 0.5001 - loss: 0.7315"
     ]
    },
    {
     "ename": "InvalidArgumentError",
     "evalue": "Graph execution error:\n\nDetected at node decode_image/DecodeImage defined at (most recent call last):\n<stack traces unavailable>\nNumber of channels inherent in the image must be 1, 3 or 4, was 2\n\t [[{{node decode_image/DecodeImage}}]]\n\t [[IteratorGetNext]] [Op:__inference_multi_step_on_iterator_33019]",
     "output_type": "error",
     "traceback": [
      "\u001b[1;31m---------------------------------------------------------------------------\u001b[0m",
      "\u001b[1;31mInvalidArgumentError\u001b[0m                      Traceback (most recent call last)",
      "Cell \u001b[1;32mIn[52], line 3\u001b[0m\n\u001b[0;32m      1\u001b[0m \u001b[38;5;28;01mimport\u001b[39;00m \u001b[38;5;21;01mwarnings\u001b[39;00m\n\u001b[0;32m      2\u001b[0m warnings\u001b[38;5;241m.\u001b[39mfilterwarnings(\u001b[38;5;124m'\u001b[39m\u001b[38;5;124mignore\u001b[39m\u001b[38;5;124m'\u001b[39m)\n\u001b[1;32m----> 3\u001b[0m results\u001b[38;5;241m=\u001b[39mmodel\u001b[38;5;241m.\u001b[39mfit(\n\u001b[0;32m      4\u001b[0m train_image_gen,epochs\u001b[38;5;241m=\u001b[39m\u001b[38;5;241m15\u001b[39m,steps_per_epoch\u001b[38;5;241m=\u001b[39m\u001b[38;5;241m150\u001b[39m,validation_data\u001b[38;5;241m=\u001b[39mtest_image_gen,validation_steps\u001b[38;5;241m=\u001b[39m\u001b[38;5;241m12\u001b[39m)\n",
      "File \u001b[1;32mc:\\Users\\zaynu\\anaconda3\\Lib\\site-packages\\keras\\src\\utils\\traceback_utils.py:122\u001b[0m, in \u001b[0;36mfilter_traceback.<locals>.error_handler\u001b[1;34m(*args, **kwargs)\u001b[0m\n\u001b[0;32m    119\u001b[0m     filtered_tb \u001b[38;5;241m=\u001b[39m _process_traceback_frames(e\u001b[38;5;241m.\u001b[39m__traceback__)\n\u001b[0;32m    120\u001b[0m     \u001b[38;5;66;03m# To get the full stack trace, call:\u001b[39;00m\n\u001b[0;32m    121\u001b[0m     \u001b[38;5;66;03m# `keras.config.disable_traceback_filtering()`\u001b[39;00m\n\u001b[1;32m--> 122\u001b[0m     \u001b[38;5;28;01mraise\u001b[39;00m e\u001b[38;5;241m.\u001b[39mwith_traceback(filtered_tb) \u001b[38;5;28;01mfrom\u001b[39;00m \u001b[38;5;28;01mNone\u001b[39;00m\n\u001b[0;32m    123\u001b[0m \u001b[38;5;28;01mfinally\u001b[39;00m:\n\u001b[0;32m    124\u001b[0m     \u001b[38;5;28;01mdel\u001b[39;00m filtered_tb\n",
      "File \u001b[1;32mc:\\Users\\zaynu\\anaconda3\\Lib\\site-packages\\tensorflow\\python\\eager\\execute.py:53\u001b[0m, in \u001b[0;36mquick_execute\u001b[1;34m(op_name, num_outputs, inputs, attrs, ctx, name)\u001b[0m\n\u001b[0;32m     51\u001b[0m \u001b[38;5;28;01mtry\u001b[39;00m:\n\u001b[0;32m     52\u001b[0m   ctx\u001b[38;5;241m.\u001b[39mensure_initialized()\n\u001b[1;32m---> 53\u001b[0m   tensors \u001b[38;5;241m=\u001b[39m pywrap_tfe\u001b[38;5;241m.\u001b[39mTFE_Py_Execute(ctx\u001b[38;5;241m.\u001b[39m_handle, device_name, op_name,\n\u001b[0;32m     54\u001b[0m                                       inputs, attrs, num_outputs)\n\u001b[0;32m     55\u001b[0m \u001b[38;5;28;01mexcept\u001b[39;00m core\u001b[38;5;241m.\u001b[39m_NotOkStatusException \u001b[38;5;28;01mas\u001b[39;00m e:\n\u001b[0;32m     56\u001b[0m   \u001b[38;5;28;01mif\u001b[39;00m name \u001b[38;5;129;01mis\u001b[39;00m \u001b[38;5;129;01mnot\u001b[39;00m \u001b[38;5;28;01mNone\u001b[39;00m:\n",
      "\u001b[1;31mInvalidArgumentError\u001b[0m: Graph execution error:\n\nDetected at node decode_image/DecodeImage defined at (most recent call last):\n<stack traces unavailable>\nNumber of channels inherent in the image must be 1, 3 or 4, was 2\n\t [[{{node decode_image/DecodeImage}}]]\n\t [[IteratorGetNext]] [Op:__inference_multi_step_on_iterator_33019]"
     ]
    }
   ],
   "source": [
    "results=model.fit(\n",
    "train_image_gen,epochs=15,steps_per_epoch=150,validation_data=test_image_gen,validation_steps=12)"
   ]
  },
  {
   "cell_type": "code",
   "execution_count": null,
   "id": "4a2812a1",
   "metadata": {},
   "outputs": [],
   "source": []
  }
 ],
 "metadata": {
  "kernelspec": {
   "display_name": "base",
   "language": "python",
   "name": "python3"
  },
  "language_info": {
   "codemirror_mode": {
    "name": "ipython",
    "version": 3
   },
   "file_extension": ".py",
   "mimetype": "text/x-python",
   "name": "python",
   "nbconvert_exporter": "python",
   "pygments_lexer": "ipython3",
   "version": "3.12.7"
  }
 },
 "nbformat": 4,
 "nbformat_minor": 5
}
