{
 "cells": [
  {
   "cell_type": "code",
   "execution_count": 2,
   "id": "96f7a7a7",
   "metadata": {},
   "outputs": [],
   "source": [
    "import cv2\n",
    "import numpy as np\n",
    "\n",
    "cap = cv2.VideoCapture(0)\n",
    "\n",
    "ret, frame = cap.read()\n",
    "avg = np.float32(frame)  # convert to float32 for accumulation\n",
    "\n",
    "while True:\n",
    "    ret, frame = cap.read()\n",
    "    if not ret:\n",
    "        break\n",
    "\n",
    "    # accumulate weighted average\n",
    "    cv2.accumulateWeighted(frame, avg, 0.1)\n",
    "\n",
    "    # convert avg to uint8 for display\n",
    "    res = cv2.convertScaleAbs(avg)\n",
    "\n",
    "    cv2.imshow(\"Running Average Background\", res)\n",
    "    cv2.imshow(\"Current Frame\", frame)\n",
    "\n",
    "    if cv2.waitKey(1) == 27:  # press ESC to exit\n",
    "        break\n",
    "\n",
    "cap.release()\n",
    "cv2.destroyAllWindows()\n"
   ]
  },
  {
   "cell_type": "code",
   "execution_count": null,
   "id": "0ddb6976",
   "metadata": {},
   "outputs": [],
   "source": []
  }
 ],
 "metadata": {
  "kernelspec": {
   "display_name": "base",
   "language": "python",
   "name": "python3"
  },
  "language_info": {
   "codemirror_mode": {
    "name": "ipython",
    "version": 3
   },
   "file_extension": ".py",
   "mimetype": "text/x-python",
   "name": "python",
   "nbconvert_exporter": "python",
   "pygments_lexer": "ipython3",
   "version": "3.12.7"
  }
 },
 "nbformat": 4,
 "nbformat_minor": 5
}
