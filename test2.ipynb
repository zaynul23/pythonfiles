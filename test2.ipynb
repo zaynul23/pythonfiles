{
 "cells": [
  {
   "cell_type": "code",
   "execution_count": 19,
   "metadata": {},
   "outputs": [
    {
     "name": "stdout",
     "output_type": "stream",
     "text": [
      "['name', 'class', 'section', 'age', 'rolno', 'sex']\n",
      "['zaynul', '12', 'A', '16', '1', 'm']\n",
      "['zubair', '12', 'D', '18', '2', 'm']\n"
     ]
    }
   ],
   "source": [
    "import csv\n",
    "f=open(\"newcsvfile.csv\",\"w\",newline='')\n",
    "objw=csv.writer(f)\n",
    "objw.writerow(['name','class','section','age','rolno','sex'])\n",
    "\n",
    "dat=[['zaynul','12','A',16,1,'m'],['zubair','12','D',18,2,'m']]\n",
    "objw.writerows(dat)\n",
    "f.close()\n",
    "f=open(\"newcsvfile.csv\",\"r\")\n",
    "\n",
    "objr=csv.reader(f)\n",
    "for i in objr:\n",
    "    print(i)\n",
    "f.close()\n",
    "\n"
   ]
  },
  {
   "cell_type": "markdown",
   "metadata": {},
   "source": []
  },
  {
   "cell_type": "code",
   "execution_count": null,
   "metadata": {},
   "outputs": [],
   "source": [
    "import csv\n",
    "def Add_book(dat):\n",
    "    f=open(\"book.csv\",\"w\",newline='')\n",
    "    objw=csv.writer(f)\n",
    "    objw.writerow(['bookno','name','author'])\n",
    "    objw.writerow(dat)    \n",
    "    f.close()\n",
    "\n",
    "def search_book(filename):\n",
    "    f=open(f\"{filename}\",\"r\",newline='')\n",
    "    read=csv.reader(f)\n",
    "    dat=[i for i in read]\n",
    "    authors=[i[2] for i in dat]\n",
    "    authors=set(authors)\n",
    "    authors=list(authors)\n",
    "    for i in authors:\n",
    "        print(f'books by {i} are:')\n",
    "        for j in dat:\n",
    "            if i in j:\n",
    "                print(f'\\t{j[1]}')\n",
    "    \n"
   ]
  },
  {
   "cell_type": "code",
   "execution_count": 6,
   "metadata": {},
   "outputs": [
    {
     "name": "stdout",
     "output_type": "stream",
     "text": [
      "9\n"
     ]
    }
   ],
   "source": [
    "import random\n",
    "a=random.randrange()\n",
    "print(a)"
   ]
  },
  {
   "cell_type": "code",
   "execution_count": 7,
   "metadata": {},
   "outputs": [
    {
     "name": "stdout",
     "output_type": "stream",
     "text": [
      "{'b': 3}\n"
     ]
    }
   ],
   "source": [
    "a={}\n",
    "a.update({'b':3})\n",
    "print(a)"
   ]
  },
  {
   "cell_type": "code",
   "execution_count": 8,
   "metadata": {},
   "outputs": [
    {
     "name": "stdout",
     "output_type": "stream",
     "text": [
      "0.8939966636005579\n"
     ]
    }
   ],
   "source": [
    "import math \n",
    "print(math.sin(90))\n",
    "math.sin()"
   ]
  },
  {
   "cell_type": "code",
   "execution_count": 2,
   "metadata": {},
   "outputs": [
    {
     "name": "stdout",
     "output_type": "stream",
     "text": [
      "3.141592653589793\n"
     ]
    }
   ],
   "source": [
    "print(math.pi)"
   ]
  },
  {
   "cell_type": "code",
   "execution_count": 13,
   "metadata": {},
   "outputs": [
    {
     "name": "stdout",
     "output_type": "stream",
     "text": [
      "<class 'dict_items'>\n"
     ]
    }
   ],
   "source": [
    "d={1:1,2:1,3:3,4:4,5:5}\n",
    "# for i in list(d.keys())[::-1]:\n",
    "#     print(i)\n",
    "print(type(d.items()))"
   ]
  },
  {
   "cell_type": "code",
   "execution_count": null,
   "metadata": {},
   "outputs": [],
   "source": []
  }
 ],
 "metadata": {
  "kernelspec": {
   "display_name": "Python 3",
   "language": "python",
   "name": "python3"
  },
  "language_info": {
   "codemirror_mode": {
    "name": "ipython",
    "version": 3
   },
   "file_extension": ".py",
   "mimetype": "text/x-python",
   "name": "python",
   "nbconvert_exporter": "python",
   "pygments_lexer": "ipython3",
   "version": "3.11.9"
  },
  "orig_nbformat": 4
 },
 "nbformat": 4,
 "nbformat_minor": 2
}
