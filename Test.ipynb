{
 "cells": [
  {
   "cell_type": "code",
   "execution_count": 5,
   "id": "108f2d61",
   "metadata": {},
   "outputs": [
    {
     "name": "stdout",
     "output_type": "stream",
     "text": [
      "1\n",
      "4\n",
      "9\n",
      "16\n",
      "25\n",
      "36\n"
     ]
    }
   ],
   "source": [
    "a=[1,2,3,4,5,6]\n",
    "l="
   ]
  },
  {
   "cell_type": "code",
   "execution_count": 2,
   "id": "06cf5468",
   "metadata": {},
   "outputs": [
    {
     "name": "stdout",
     "output_type": "stream",
     "text": [
      "2.0134328358208937 143.0 142.0\n"
     ]
    }
   ],
   "source": [
    "a=101\n",
    "b=100\n",
    "c=1\n",
    "for i in range(84):\n",
    "    c*=(a/b)\n",
    "    a+=0.5\n",
    "    b+=0.5\n",
    "print(c,a,b)"
   ]
  },
  {
   "cell_type": "code",
   "execution_count": 3,
   "id": "d1ef0580",
   "metadata": {},
   "outputs": [
    {
     "data": {
      "text/plain": [
       "1.9899999999999973"
      ]
     },
     "execution_count": 3,
     "metadata": {},
     "output_type": "execute_result"
    }
   ],
   "source": [
    "1.9899999999999973"
   ]
  },
  {
   "cell_type": "code",
   "execution_count": 4,
   "id": "6849353c",
   "metadata": {},
   "outputs": [
    {
     "data": {
      "text/plain": [
       "1099511627776"
      ]
     },
     "execution_count": 4,
     "metadata": {},
     "output_type": "execute_result"
    }
   ],
   "source": [
    "2**40\n"
   ]
  },
  {
   "cell_type": "code",
   "execution_count": 5,
   "id": "b021e734",
   "metadata": {},
   "outputs": [
    {
     "data": {
      "text/plain": [
       "115292150460684697600000000000000000000"
      ]
     },
     "execution_count": 5,
     "metadata": {},
     "output_type": "execute_result"
    }
   ],
   "source": [
    "80**20"
   ]
  },
  {
   "cell_type": "code",
   "execution_count": null,
   "id": "262652cd",
   "metadata": {},
   "outputs": [],
   "source": [
    "import random\n"
   ]
  },
  {
   "cell_type": "code",
   "execution_count": null,
   "id": "f1edf060",
   "metadata": {},
   "outputs": [],
   "source": [
    "def randintgiver():\n",
    "    return random.randint(1,9)"
   ]
  },
  {
   "cell_type": "code",
   "execution_count": null,
   "id": "1a24171a",
   "metadata": {},
   "outputs": [],
   "source": [
    "b=[]\n",
    "for i in range(16):\n",
    "    a=randintgiver()\n",
    "    b.append(a)"
   ]
  },
  {
   "cell_type": "code",
   "execution_count": null,
   "id": "3cf9c54d",
   "metadata": {},
   "outputs": [],
   "source": [
    "b=[randintgiver() for i in range(16)]"
   ]
  },
  {
   "cell_type": "code",
   "execution_count": null,
   "id": "f701391f",
   "metadata": {},
   "outputs": [],
   "source": [
    "b"
   ]
  },
  {
   "cell_type": "code",
   "execution_count": null,
   "id": "98c8f3b6",
   "metadata": {},
   "outputs": [],
   "source": [
    "c=b"
   ]
  },
  {
   "cell_type": "code",
   "execution_count": null,
   "id": "281728cf",
   "metadata": {},
   "outputs": [],
   "source": [
    "c=[3, 6, 4, 2, 7, 4, 7, 9, 1, 11, 4, 6, 1, 1, 2, 7, 9,1,2,3]\n"
   ]
  },
  {
   "cell_type": "code",
   "execution_count": null,
   "id": "97168997",
   "metadata": {},
   "outputs": [],
   "source": [
    "_=[]\n",
    "condition=False\n",
    "for i in c:\n",
    "    if i==6:\n",
    "        condition=True\n",
    "    if  i==9:\n",
    "        condition=False\n",
    "        continue\n",
    "    if condition:\n",
    "        continue\n",
    "    _.append(i)\n",
    "print(_)"
   ]
  },
  {
   "cell_type": "code",
   "execution_count": null,
   "id": "aa709909",
   "metadata": {},
   "outputs": [],
   "source": [
    "def greater_of_even(*args):\n",
    "    for i in args:\n",
    "        if i%2!=0:\n",
    "            return min(args)\n",
    "        else:\n",
    "            pass\n",
    "    return max(args)"
   ]
  },
  {
   "cell_type": "code",
   "execution_count": null,
   "id": "679493ae",
   "metadata": {},
   "outputs": [],
   "source": [
    "def paper_doll(text):\n",
    "    out=''\n",
    "    for i in text.split():\n",
    "        for q in i:\n",
    "            out+=q*3\n",
    "        out+=' '\n",
    "    return out"
   ]
  },
  {
   "cell_type": "code",
   "execution_count": null,
   "id": "bc8d631b",
   "metadata": {},
   "outputs": [],
   "source": [
    "paper_doll('Hello')\n"
   ]
  },
  {
   "cell_type": "code",
   "execution_count": null,
   "id": "6d6d09bf",
   "metadata": {},
   "outputs": [],
   "source": [
    "import pdb"
   ]
  },
  {
   "cell_type": "code",
   "execution_count": null,
   "id": "399fd6ad",
   "metadata": {},
   "outputs": [],
   "source": [
    "def prime_check(strt,end):\n",
    "    primes=[m for m in range(strt,end+1)]\n",
    "    for i in range(strt,end+1):\n",
    "        for _ in range(2,i):\n",
    "            if i%_==0:\n",
    "                #pdb.set_trace()\n",
    "                primes.remove(i)\n",
    "                break\n",
    "    return primes"
   ]
  },
  {
   "cell_type": "code",
   "execution_count": null,
   "id": "a03b73f7",
   "metadata": {},
   "outputs": [],
   "source": [
    "a=[1,2,3,4,56]\n",
    "a.index(3)"
   ]
  },
  {
   "cell_type": "code",
   "execution_count": null,
   "id": "72f5b665",
   "metadata": {},
   "outputs": [],
   "source": [
    "prime_check(1,30)"
   ]
  },
  {
   "cell_type": "code",
   "execution_count": null,
   "id": "0f825b6f",
   "metadata": {},
   "outputs": [],
   "source": [
    "a=[i for i in range(1,11)]"
   ]
  },
  {
   "cell_type": "code",
   "execution_count": null,
   "id": "21573e7c",
   "metadata": {},
   "outputs": [],
   "source": [
    "a\n"
   ]
  },
  {
   "cell_type": "code",
   "execution_count": null,
   "id": "d2bbf731",
   "metadata": {},
   "outputs": [],
   "source": [
    "def test(*args):\n",
    "    return sum(args)"
   ]
  },
  {
   "cell_type": "code",
   "execution_count": null,
   "id": "145f8d45",
   "metadata": {},
   "outputs": [],
   "source": []
  },
  {
   "cell_type": "code",
   "execution_count": null,
   "id": "9599a419",
   "metadata": {},
   "outputs": [],
   "source": [
    "a=[1,2,3,4,56]\n",
    "a.remove"
   ]
  },
  {
   "cell_type": "code",
   "execution_count": 5,
   "id": "6a3c67f2",
   "metadata": {},
   "outputs": [
    {
     "ename": "KeyboardInterrupt",
     "evalue": "",
     "output_type": "error",
     "traceback": [
      "\u001b[1;31m---------------------------------------------------------------------------\u001b[0m",
      "\u001b[1;31mKeyboardInterrupt\u001b[0m                         Traceback (most recent call last)",
      "Input \u001b[1;32mIn [5]\u001b[0m, in \u001b[0;36m<cell line: 2>\u001b[1;34m()\u001b[0m\n\u001b[0;32m      1\u001b[0m \u001b[38;5;28;01mwhile\u001b[39;00m \u001b[38;5;28;01mTrue\u001b[39;00m:\n\u001b[1;32m----> 2\u001b[0m     \u001b[38;5;28;01mfor\u001b[39;00m i \u001b[38;5;129;01min\u001b[39;00m \u001b[38;5;28mrange\u001b[39m((\u001b[38;5;241m2\u001b[39m\u001b[38;5;241m*\u001b[39m\u001b[38;5;241m*\u001b[39m\u001b[38;5;241m32\u001b[39m)):\n\u001b[0;32m      3\u001b[0m         \u001b[38;5;28;01mif\u001b[39;00m \u001b[38;5;241m1\u001b[39m\u001b[38;5;241m==\u001b[39m\u001b[38;5;241m2\u001b[39m:\n\u001b[0;32m      4\u001b[0m             \u001b[38;5;28mprint\u001b[39m(hi)\n",
      "\u001b[1;31mKeyboardInterrupt\u001b[0m: "
     ]
    }
   ],
   "source": [
    "while True:\n",
    "    for i in range((2**32)):\n",
    "        if 1==2:\n",
    "            print(hi)\n",
    "        else:\n",
    "            break\n",
    "        try:\n",
    "            pass\n",
    "        finally:\n",
    "            print('always')\n",
    "        "
   ]
  },
  {
   "cell_type": "code",
   "execution_count": 20,
   "id": "6b993964",
   "metadata": {},
   "outputs": [
    {
     "name": "stdout",
     "output_type": "stream",
     "text": [
      "7\n",
      "14\n"
     ]
    }
   ],
   "source": [
    "from random import randint as r\n",
    "a=r(1,10)\n",
    "print(a)\n",
    "b=a+a\n",
    "print(b)"
   ]
  },
  {
   "cell_type": "code",
   "execution_count": 3,
   "id": "7da2f84d",
   "metadata": {},
   "outputs": [
    {
     "name": "stdout",
     "output_type": "stream",
     "text": [
      "{'sf': [], 'DAN': [], 'UX': []}\n",
      "sf\n",
      "{'sf': ['n1'], 'DAN': [], 'UX': []}\n",
      "DAN\n",
      "{'sf': ['n1'], 'DAN': ['n2'], 'UX': []}\n",
      "UX\n",
      "{'sf': ['n1'], 'DAN': ['n2'], 'UX': ['n3']}\n",
      "sf\n",
      "{'sf': ['n4', 'n1'], 'DAN': ['n2'], 'UX': ['n3']}\n"
     ]
    }
   ],
   "source": [
    "dat=[{\"name\":\"n1\",\"job\":\"sf\"},{\"name\":\"n2\",\"job\":\"DAN\"},{\"name\":\"n3\",\"job\":\"UX\"},{\"name\":\"n4\",\"job\":\"sf\"}]\n",
    "joblists={}.fromkeys([i[\"job\"] for i in dat],[])\n",
    "# joblists={\"sf\":[],\"DAN\":[],\"UX\":[]}\n",
    "print(joblists)\n",
    "for i in dat:\n",
    "    print(i[\"job\"])\n",
    "    joblists[i[\"job\"]]=[i[\"name\"]]+joblists[i[\"job\"]]\n",
    "    print(joblists)\n",
    "    \n",
    "# print(joblists)"
   ]
  },
  {
   "cell_type": "code",
   "execution_count": null,
   "id": "098bce70",
   "metadata": {},
   "outputs": [],
   "source": [
    "a=[1]\n",
    "b=a\n",
    "b.append(2)\n"
   ]
  },
  {
   "cell_type": "code",
   "execution_count": null,
   "id": "a272f4c1",
   "metadata": {},
   "outputs": [],
   "source": [
    "dat=[{\"name\":\"n1\",\"job\":\"sf\"},{\"name\":\"n2\",\"job\":\"DAN\"},{\"name\":\"n3\",\"job\":\"UX\"},{\"name\":\"n4\",\"job\":\"sf\"}]\n",
    "joblists={}.fromkeys([i[\"job\"] for i in dat],[])\n",
    "# print(joblists)\n",
    "for i in dat:\n",
    "    print(i[\"job\"])\n",
    "    joblists[i[\"job\"]]=joblists[i[\"job\"]]+[i[\"name\"]]\n",
    "    # print(joblists[i[\"job\"]])\n",
    "    print(joblists)\n",
    "    \n",
    "# print(joblists)"
   ]
  },
  {
   "cell_type": "code",
   "execution_count": 10,
   "id": "ddea014c",
   "metadata": {},
   "outputs": [
    {
     "name": "stdout",
     "output_type": "stream",
     "text": [
      "[1]\n",
      "[1, 2]\n",
      "[1, 2, 3]\n"
     ]
    }
   ],
   "source": [
    "a=[]\n",
    "def f(b,d=[]):\n",
    "    # b=b.copy()\n",
    "    d.append(b)\n",
    "    return d\n",
    "c=f(1)\n",
    "print(c)\n",
    "c.append(2)\n",
    "print(c)\n",
    "f(3)\n",
    "print(c)\n"
   ]
  },
  {
   "cell_type": "code",
   "execution_count": null,
   "id": "7e9a7cf4",
   "metadata": {},
   "outputs": [],
   "source": []
  },
  {
   "cell_type": "code",
   "execution_count": null,
   "id": "c915feb1",
   "metadata": {},
   "outputs": [
    {
     "ename": "TypeError",
     "evalue": "Tes.add() missing 2 required positional arguments: 'a' and 'b'",
     "output_type": "error",
     "traceback": [
      "\u001b[1;31m---------------------------------------------------------------------------\u001b[0m",
      "\u001b[1;31mTypeError\u001b[0m                                 Traceback (most recent call last)",
      "Cell \u001b[1;32mIn[26], line 14\u001b[0m\n\u001b[0;32m     12\u001b[0m         \u001b[38;5;28;01mreturn\u001b[39;00m a\u001b[38;5;241m+\u001b[39mb\n\u001b[0;32m     13\u001b[0m a\u001b[38;5;241m=\u001b[39mTes()\n\u001b[1;32m---> 14\u001b[0m \u001b[43ma\u001b[49m\u001b[38;5;241;43m.\u001b[39;49m\u001b[43madd\u001b[49m\u001b[43m(\u001b[49m\u001b[43m)\u001b[49m\n",
      "\u001b[1;31mTypeError\u001b[0m: Tes.add() missing 2 required positional arguments: 'a' and 'b'"
     ]
    }
   ],
   "source": [
    "class Par:\n",
    "    def add():\n",
    "        return '99'\n",
    "class Tes:\n",
    "    \n",
    "    def __init__(self):\n",
    "        pass\n",
    "    \n",
    "    def add(self,a,b,c):\n",
    "        print('adding v2')\n",
    "        return a+b+c\n",
    "    def add(self,a,b):\n",
    "        print('adding v1')\n",
    "        return a+b\n",
    "a=Tes()\n",
    "a.add(1,2)"
   ]
  },
  {
   "cell_type": "code",
   "execution_count": null,
   "id": "d403d9bd",
   "metadata": {},
   "outputs": [],
   "source": []
  },
  {
   "cell_type": "code",
   "execution_count": null,
   "id": "e4ffb5bc",
   "metadata": {},
   "outputs": [
    {
     "ename": "TypeError",
     "evalue": "cannot create 'nt.DirEntry' instances",
     "output_type": "error",
     "traceback": [
      "\u001b[1;31m---------------------------------------------------------------------------\u001b[0m",
      "\u001b[1;31mTypeError\u001b[0m                                 Traceback (most recent call last)",
      "Cell \u001b[1;32mIn[4], line 2\u001b[0m\n\u001b[0;32m      1\u001b[0m \u001b[38;5;28;01mimport\u001b[39;00m \u001b[38;5;21;01mos\u001b[39;00m\n\u001b[1;32m----> 2\u001b[0m os\u001b[38;5;241m.\u001b[39mDirEntry()\n",
      "\u001b[1;31mTypeError\u001b[0m: cannot create 'nt.DirEntry' instances"
     ]
    }
   ],
   "source": [
    "import os\n"
   ]
  },
  {
   "cell_type": "code",
   "execution_count": null,
   "id": "ac0f9f4d",
   "metadata": {},
   "outputs": [
    {
     "ename": "ValueError",
     "evalue": "invalid literal for int() with base 2: 'f'",
     "output_type": "error",
     "traceback": [
      "\u001b[1;31m---------------------------------------------------------------------------\u001b[0m",
      "\u001b[1;31mValueError\u001b[0m                                Traceback (most recent call last)",
      "Cell \u001b[1;32mIn[12], line 1\u001b[0m\n\u001b[1;32m----> 1\u001b[0m \u001b[38;5;28mint\u001b[39m(\u001b[38;5;124m'\u001b[39m\u001b[38;5;124mf\u001b[39m\u001b[38;5;124m'\u001b[39m,base\u001b[38;5;241m=\u001b[39m\u001b[38;5;241m2\u001b[39m)\n",
      "\u001b[1;31mValueError\u001b[0m: invalid literal for int() with base 2: 'f'"
     ]
    }
   ],
   "source": [
    "int('',base=2)"
   ]
  },
  {
   "cell_type": "code",
   "execution_count": 60,
   "id": "3353a164",
   "metadata": {},
   "outputs": [],
   "source": [
    "a='hh'"
   ]
  },
  {
   "cell_type": "code",
   "execution_count": 66,
   "id": "ab1873e3",
   "metadata": {},
   "outputs": [],
   "source": [
    "l=[a]"
   ]
  },
  {
   "cell_type": "code",
   "execution_count": 54,
   "id": "c509bb77",
   "metadata": {},
   "outputs": [],
   "source": [
    "a+='1'"
   ]
  },
  {
   "cell_type": "code",
   "execution_count": 69,
   "id": "848ad104",
   "metadata": {},
   "outputs": [
    {
     "name": "stdout",
     "output_type": "stream",
     "text": [
      "2205182775232\n",
      "2205206632704\n"
     ]
    }
   ],
   "source": [
    "print(id(a))\n",
    "print(id(l))"
   ]
  },
  {
   "cell_type": "code",
   "execution_count": 30,
   "id": "c2a74bef",
   "metadata": {},
   "outputs": [
    {
     "data": {
      "text/plain": [
       "140714449578552"
      ]
     },
     "execution_count": 30,
     "metadata": {},
     "output_type": "execute_result"
    }
   ],
   "source": [
    "id(5)"
   ]
  },
  {
   "cell_type": "code",
   "execution_count": 76,
   "id": "0d4bd78d",
   "metadata": {},
   "outputs": [
    {
     "data": {
      "text/plain": [
       "'ski'"
      ]
     },
     "execution_count": 76,
     "metadata": {},
     "output_type": "execute_result"
    }
   ],
   "source": [
    "\n",
    "__name__\n"
   ]
  },
  {
   "cell_type": "code",
   "execution_count": 72,
   "id": "2a93d9bf",
   "metadata": {},
   "outputs": [],
   "source": [
    "import numpy"
   ]
  },
  {
   "cell_type": "code",
   "execution_count": 77,
   "id": "687814d2",
   "metadata": {},
   "outputs": [
    {
     "data": {
      "text/plain": [
       "'numpy'"
      ]
     },
     "execution_count": 77,
     "metadata": {},
     "output_type": "execute_result"
    }
   ],
   "source": [
    "numpy.__name__"
   ]
  },
  {
   "cell_type": "code",
   "execution_count": null,
   "id": "ebb002f0",
   "metadata": {},
   "outputs": [],
   "source": []
  }
 ],
 "metadata": {
  "kernelspec": {
   "display_name": "base",
   "language": "python",
   "name": "python3"
  },
  "language_info": {
   "codemirror_mode": {
    "name": "ipython",
    "version": 3
   },
   "file_extension": ".py",
   "mimetype": "text/x-python",
   "name": "python",
   "nbconvert_exporter": "python",
   "pygments_lexer": "ipython3",
   "version": "3.12.7"
  }
 },
 "nbformat": 4,
 "nbformat_minor": 5
}
