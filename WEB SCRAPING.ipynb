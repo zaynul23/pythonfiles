{
 "cells": [
  {
   "cell_type": "code",
   "execution_count": null,
   "id": "8433918d",
   "metadata": {},
   "outputs": [],
   "source": []
  },
  {
   "cell_type": "code",
   "execution_count": null,
   "id": "e39cc218",
   "metadata": {},
   "outputs": [],
   "source": [
    "'''\n",
    "<p> is a pragraph tag\n",
    "<h1> is heading one\n",
    "<title> is a title tag\n",
    "<image> is for images\n",
    "all sections of aa html doc have tags and to indicate it there are start and end tags\n",
    "exampel for title it is <title> as the starting one and </title> as the ending tag\n",
    "this applies for most tags \n",
    "'''\n"
   ]
  },
  {
   "cell_type": "code",
   "execution_count": null,
   "id": "ea8ccfc5",
   "metadata": {},
   "outputs": [],
   "source": [
    "import requests\n"
   ]
  },
  {
   "cell_type": "code",
   "execution_count": null,
   "id": "9e9925e1",
   "metadata": {},
   "outputs": [],
   "source": [
    "import bs4"
   ]
  },
  {
   "cell_type": "code",
   "execution_count": null,
   "id": "473f7d69",
   "metadata": {},
   "outputs": [],
   "source": [
    "result=requests.get(\"https://example.com\")"
   ]
  },
  {
   "cell_type": "code",
   "execution_count": null,
   "id": "d2101e03",
   "metadata": {},
   "outputs": [],
   "source": [
    "type(result)"
   ]
  },
  {
   "cell_type": "code",
   "execution_count": null,
   "id": "909ee06f",
   "metadata": {},
   "outputs": [],
   "source": [
    "soup=bs4.BeautifulSoup(result.text,'lxml')"
   ]
  },
  {
   "cell_type": "code",
   "execution_count": null,
   "id": "ef6faed7",
   "metadata": {},
   "outputs": [],
   "source": [
    "soup"
   ]
  },
  {
   "cell_type": "code",
   "execution_count": null,
   "id": "3f2391f8",
   "metadata": {},
   "outputs": [],
   "source": [
    "soup.select('body')"
   ]
  },
  {
   "cell_type": "code",
   "execution_count": null,
   "id": "93ac83dd",
   "metadata": {},
   "outputs": [],
   "source": [
    "soup.select('p')[0].getText()"
   ]
  },
  {
   "cell_type": "code",
   "execution_count": null,
   "id": "275d32c6",
   "metadata": {},
   "outputs": [],
   "source": [
    "                                            #grabbibg a class"
   ]
  },
  {
   "cell_type": "code",
   "execution_count": null,
   "id": "5044b897",
   "metadata": {},
   "outputs": [],
   "source": [
    "res=requests.get('https://en.wikipedia.org/wiki/Grace_Hopper')"
   ]
  },
  {
   "cell_type": "code",
   "execution_count": null,
   "id": "ede3cda9",
   "metadata": {},
   "outputs": [],
   "source": [
    "soup=bs4.BeautifulSoup(res.text,'lxml')"
   ]
  },
  {
   "cell_type": "code",
   "execution_count": null,
   "id": "f91fd9ab",
   "metadata": {},
   "outputs": [],
   "source": [
    "soup.select('.vector-toc-text')[2].text"
   ]
  },
  {
   "cell_type": "code",
   "execution_count": null,
   "id": "889228eb",
   "metadata": {},
   "outputs": [],
   "source": [
    "for i in soup.select('.vector-toc-text')[2:8]:\n",
    "    print(i.text)"
   ]
  },
  {
   "cell_type": "code",
   "execution_count": null,
   "id": "1b2f96d1",
   "metadata": {},
   "outputs": [],
   "source": [
    "                                    #grabbing an image thru web scrapping"
   ]
  },
  {
   "cell_type": "code",
   "execution_count": null,
   "id": "61fdc614",
   "metadata": {},
   "outputs": [],
   "source": [
    "res=requests.get('https://en.wikipedia.org/wiki/Isaac_Newton')"
   ]
  },
  {
   "cell_type": "code",
   "execution_count": null,
   "id": "1a7bb549",
   "metadata": {},
   "outputs": [],
   "source": [
    "soup=bs4.BeautifulSoup(res.text,'lxml')"
   ]
  },
  {
   "cell_type": "code",
   "execution_count": null,
   "id": "e7d0fd72",
   "metadata": {},
   "outputs": [],
   "source": [
    "potrait=soup.select('.thumbimage')[0]"
   ]
  },
  {
   "cell_type": "code",
   "execution_count": null,
   "id": "f4d40e17",
   "metadata": {},
   "outputs": [],
   "source": [
    "\n",
    "potrait"
   ]
  },
  {
   "cell_type": "code",
   "execution_count": null,
   "id": "43b50ec4",
   "metadata": {},
   "outputs": [],
   "source": [
    "potrait['src']"
   ]
  },
  {
   "cell_type": "markdown",
   "id": "5aab2215",
   "metadata": {},
   "source": [
    "<img\n",
    "src=//upload.wikimedia.org/wikipedia/commons/thumb/5/50/Sir_Isaac_Newton_by_Sir_Godfrey_Kneller%2C_Bt.jpg/170px-Sir_Isaac_Newton_by_Sir_Godfrey_Kneller%2C_Bt.jpg>"
   ]
  },
  {
   "cell_type": "code",
   "execution_count": null,
   "id": "37c3600d",
   "metadata": {},
   "outputs": [],
   "source": [
    "imagelinkk=requests.get('https://upload.wikimedia.org/wikipedia/commons/thumb/5/50/Sir_Isaac_Newton_by_Sir_Godfrey_Kneller%2C_Bt.jpg/170px-Sir_Isaac_Newton_by_Sir_Godfrey_Kneller%2C_Bt.jpg')"
   ]
  },
  {
   "cell_type": "code",
   "execution_count": null,
   "id": "ec8c7fdc",
   "metadata": {},
   "outputs": [],
   "source": [
    "imagelinkk.content"
   ]
  },
  {
   "cell_type": "code",
   "execution_count": null,
   "id": "16a4e731",
   "metadata": {},
   "outputs": [],
   "source": [
    "#wb in the mode signifies write binary\n",
    "f=open('isac_potrait.jpg','wb')\n",
    "    "
   ]
  },
  {
   "cell_type": "code",
   "execution_count": null,
   "id": "10cc25c6",
   "metadata": {},
   "outputs": [],
   "source": [
    "f.write(imagelinkk.content)"
   ]
  },
  {
   "cell_type": "code",
   "execution_count": null,
   "id": "87e3b3c2",
   "metadata": {},
   "outputs": [],
   "source": [
    "f.close()"
   ]
  },
  {
   "cell_type": "code",
   "execution_count": null,
   "id": "98e435b7",
   "metadata": {},
   "outputs": [],
   "source": [
    "                                            #practising in toscrape website\n"
   ]
  },
  {
   "cell_type": "code",
   "execution_count": null,
   "id": "4710c617",
   "metadata": {},
   "outputs": [],
   "source": [
    "#Goal is to pull every book with a 2 star rating"
   ]
  },
  {
   "cell_type": "code",
   "execution_count": null,
   "id": "784da4c9",
   "metadata": {},
   "outputs": [],
   "source": [
    "import requests\n",
    "import bs4"
   ]
  },
  {
   "cell_type": "code",
   "execution_count": null,
   "id": "a7e1df51",
   "metadata": {},
   "outputs": [],
   "source": [
    "baseurl='http://books.toscrape.com/catalogue/page-{}.html'"
   ]
  },
  {
   "cell_type": "code",
   "execution_count": null,
   "id": "61ac8458",
   "metadata": {},
   "outputs": [],
   "source": [
    "n=1\n",
    "res=requests.get(baseurl.format(n))"
   ]
  },
  {
   "cell_type": "code",
   "execution_count": null,
   "id": "a1f799f1",
   "metadata": {},
   "outputs": [],
   "source": [
    "soup=bs4.BeautifulSoup(res.text,'lxml')"
   ]
  },
  {
   "cell_type": "code",
   "execution_count": null,
   "id": "8c4c9532",
   "metadata": {},
   "outputs": [],
   "source": [
    "#len is 20 cause 20 books per page\n",
    "books_list=soup.select(\".product_pod\")\n"
   ]
  },
  {
   "cell_type": "code",
   "execution_count": null,
   "id": "631f34f4",
   "metadata": {},
   "outputs": [],
   "source": [
    "a=books_list[10]"
   ]
  },
  {
   "cell_type": "code",
   "execution_count": null,
   "id": "966c432f",
   "metadata": {},
   "outputs": [],
   "source": [
    "print(str(a))"
   ]
  },
  {
   "cell_type": "code",
   "execution_count": null,
   "id": "554c68df",
   "metadata": {
    "scrolled": true
   },
   "outputs": [],
   "source": [
    "twostar=[]\n",
    "for n in range(1,51):\n",
    "    res=requests.get(baseurl.format(n))\n",
    "    soup=bs4.BeautifulSoup(res.text,'lxml')\n",
    "    books_list=soup.select(\".product_pod\")\n",
    "    for i in books_list:\n",
    "        if len(i.select('.star-rating.Two')) !=0:\n",
    "            twostar.append(i.select('a')[1][\"title\"])\n",
    "       \n",
    "        "
   ]
  },
  {
   "cell_type": "code",
   "execution_count": null,
   "id": "e945fa3f",
   "metadata": {},
   "outputs": [],
   "source": [
    "twostar=[i.select('a')[1][\"title\"] for i in books_list if len(i.select('.star-rating.Two')) !=0]\n"
   ]
  },
  {
   "cell_type": "code",
   "execution_count": null,
   "id": "c7f9bc9e",
   "metadata": {
    "scrolled": true
   },
   "outputs": [],
   "source": [
    "for i in books_list:\n",
    "        if len(i.select('.star-rating.Two')) !=0:\n",
    "            i..select('a')[1][\"title\"]"
   ]
  },
  {
   "cell_type": "code",
   "execution_count": 2,
   "id": "cd812cd4",
   "metadata": {},
   "outputs": [],
   "source": [
    "import bs4\n",
    "import requests"
   ]
  },
  {
   "cell_type": "code",
   "execution_count": 3,
   "id": "3ddf4c8e",
   "metadata": {},
   "outputs": [],
   "source": [
    "res=requests.get('https://quotes.toscrape.com/page/1/')"
   ]
  },
  {
   "cell_type": "code",
   "execution_count": 28,
   "id": "3c1f0558",
   "metadata": {},
   "outputs": [],
   "source": [
    "#author names\n",
    "author_names=set()\n",
    "soup=bs4.BeautifulSoup(res.text,'lxml')\n",
    "author_soup=soup.select('.author')\n",
    "for i in author_soup:\n",
    "    author_names.add(i.text)\n",
    "    \n",
    "    \n"
   ]
  },
  {
   "cell_type": "code",
   "execution_count": 17,
   "id": "d625e600",
   "metadata": {},
   "outputs": [
    {
     "data": {
      "text/plain": [
       "'Albert Einstein'"
      ]
     },
     "execution_count": 17,
     "metadata": {},
     "output_type": "execute_result"
    }
   ],
   "source": [
    "soup.select('.author')[0].text\n"
   ]
  },
  {
   "cell_type": "code",
   "execution_count": 4,
   "id": "7ca6c289",
   "metadata": {},
   "outputs": [],
   "source": [
    "soup=bs4.BeautifulSoup(res.text,'lxml')\n"
   ]
  },
  {
   "cell_type": "code",
   "execution_count": 29,
   "id": "b36971d8",
   "metadata": {},
   "outputs": [
    {
     "data": {
      "text/plain": [
       "{'Albert Einstein',\n",
       " 'André Gide',\n",
       " 'Eleanor Roosevelt',\n",
       " 'J.K. Rowling',\n",
       " 'Jane Austen',\n",
       " 'Marilyn Monroe',\n",
       " 'Steve Martin',\n",
       " 'Thomas A. Edison'}"
      ]
     },
     "execution_count": 29,
     "metadata": {},
     "output_type": "execute_result"
    }
   ],
   "source": [
    "author_names"
   ]
  },
  {
   "cell_type": "code",
   "execution_count": 15,
   "id": "bf1bde8f",
   "metadata": {},
   "outputs": [
    {
     "data": {
      "text/plain": [
       "10"
      ]
     },
     "execution_count": 15,
     "metadata": {},
     "output_type": "execute_result"
    }
   ],
   "source": [
    "#all qoutes of first page\n",
    "soup=bs4.BeautifulSoup(res.text,'lxml')\n",
    "author_soup=soup.select('.author')\n",
    "qoutes=[i.text for i in soup.select('.text')]\n",
    "len(qoutes)"
   ]
  },
  {
   "cell_type": "code",
   "execution_count": 26,
   "id": "16198e30",
   "metadata": {},
   "outputs": [],
   "source": [
    "soup=bs4.BeautifulSoup(res.text,'lxml')\n",
    "author_soup=soup.select('.author')\n",
    "_=soup.select('.col-md-4.tags-box')[0].select('.tag-item')\n",
    "top_tags=[i.text for i in _]"
   ]
  },
  {
   "cell_type": "code",
   "execution_count": 30,
   "id": "5afc7170",
   "metadata": {},
   "outputs": [
    {
     "name": "stdout",
     "output_type": "stream",
     "text": [
      "\n",
      "love\n",
      "\n",
      "\n",
      "inspirational\n",
      "\n",
      "\n",
      "life\n",
      "\n",
      "\n",
      "humor\n",
      "\n",
      "\n",
      "books\n",
      "\n",
      "\n",
      "reading\n",
      "\n",
      "\n",
      "friendship\n",
      "\n",
      "\n",
      "friends\n",
      "\n",
      "\n",
      "truth\n",
      "\n",
      "\n",
      "simile\n",
      "\n"
     ]
    }
   ],
   "source": [
    "for i in top_tags:\n",
    "    print(i)"
   ]
  },
  {
   "cell_type": "code",
   "execution_count": 31,
   "id": "a04a8351",
   "metadata": {},
   "outputs": [],
   "source": [
    "baseurl='https://quotes.toscrape.com/page/{}/'"
   ]
  },
  {
   "cell_type": "code",
   "execution_count": 45,
   "id": "ec8095f1",
   "metadata": {},
   "outputs": [],
   "source": [
    "x=0"
   ]
  },
  {
   "cell_type": "code",
   "execution_count": 48,
   "id": "03b6b1bb",
   "metadata": {},
   "outputs": [],
   "source": [
    "author_names=set()\n",
    "for n in range(1,2**100):\n",
    "    res1=requests.get(baseurl.format(n))\n",
    "    soup=bs4.BeautifulSoup(res1.text,'lxml')\n",
    "    author_soup=soup.select('.author')\n",
    "    if len(author_soup) < 1:\n",
    "        break\n",
    "    for i in author_soup:\n",
    "        author_names.add(i.text)\n",
    "    \n",
    "    \n"
   ]
  },
  {
   "cell_type": "code",
   "execution_count": 50,
   "id": "d5371f9b",
   "metadata": {},
   "outputs": [
    {
     "data": {
      "text/plain": [
       "50"
      ]
     },
     "execution_count": 50,
     "metadata": {},
     "output_type": "execute_result"
    }
   ],
   "source": [
    "len(author_names)"
   ]
  },
  {
   "cell_type": "code",
   "execution_count": null,
   "id": "8ab35229",
   "metadata": {},
   "outputs": [],
   "source": []
  }
 ],
 "metadata": {
  "kernelspec": {
   "display_name": "Python 3 (ipykernel)",
   "language": "python",
   "name": "python3"
  },
  "language_info": {
   "codemirror_mode": {
    "name": "ipython",
    "version": 3
   },
   "file_extension": ".py",
   "mimetype": "text/x-python",
   "name": "python",
   "nbconvert_exporter": "python",
   "pygments_lexer": "ipython3",
   "version": "3.9.12"
  }
 },
 "nbformat": 4,
 "nbformat_minor": 5
}
